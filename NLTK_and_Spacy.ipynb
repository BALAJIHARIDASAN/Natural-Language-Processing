{
  "nbformat": 4,
  "nbformat_minor": 0,
  "metadata": {
    "colab": {
      "provenance": [],
      "authorship_tag": "ABX9TyPzMldDgjS26CyTrNnLw8jo",
      "include_colab_link": true
    },
    "kernelspec": {
      "name": "python3",
      "display_name": "Python 3"
    },
    "language_info": {
      "name": "python"
    }
  },
  "cells": [
    {
      "cell_type": "markdown",
      "metadata": {
        "id": "view-in-github",
        "colab_type": "text"
      },
      "source": [
        "<a href=\"https://colab.research.google.com/github/BALAJIHARIDASAN/Natural-Language-Processing/blob/main/NLTK_and_Spacy.ipynb\" target=\"_parent\"><img src=\"https://colab.research.google.com/assets/colab-badge.svg\" alt=\"Open In Colab\"/></a>"
      ]
    },
    {
      "cell_type": "code",
      "source": [
        "import pandas as pd"
      ],
      "metadata": {
        "id": "b4LKGrP1QDKm"
      },
      "execution_count": null,
      "outputs": []
    },
    {
      "cell_type": "code",
      "source": [
        "import numpy as np"
      ],
      "metadata": {
        "id": "g65KQ0qYQK6V"
      },
      "execution_count": null,
      "outputs": []
    },
    {
      "cell_type": "code",
      "source": [
        "import nltk"
      ],
      "metadata": {
        "id": "jyHriLIoQNHQ"
      },
      "execution_count": null,
      "outputs": []
    },
    {
      "cell_type": "code",
      "source": [
        "from  nltk.stem import PorterStemmer"
      ],
      "metadata": {
        "id": "Xw6mnTHtQZkA"
      },
      "execution_count": null,
      "outputs": []
    },
    {
      "cell_type": "code",
      "source": [
        "import spacy"
      ],
      "metadata": {
        "id": "6qy6k203QdRC"
      },
      "execution_count": null,
      "outputs": []
    },
    {
      "cell_type": "code",
      "source": [
        "model = spacy.load('en_core_web_sm')"
      ],
      "metadata": {
        "id": "eOOmhsKCxoW6"
      },
      "execution_count": null,
      "outputs": []
    },
    {
      "cell_type": "code",
      "source": [
        "doc = model('Dr.Strange loves pav bajji of mumbai . Hulk loves chaat of delhi')"
      ],
      "metadata": {
        "id": "k0sgDQb-x9T8"
      },
      "execution_count": null,
      "outputs": []
    },
    {
      "cell_type": "code",
      "source": [
        "for i in doc.sents: # sentence tokenizing\n",
        "  print(i)"
      ],
      "metadata": {
        "colab": {
          "base_uri": "https://localhost:8080/"
        },
        "id": "Hyu8lULmyKeB",
        "outputId": "da7d3f72-4b36-46c2-8264-4fff686b7525"
      },
      "execution_count": null,
      "outputs": [
        {
          "output_type": "stream",
          "name": "stdout",
          "text": [
            "Dr.Strange loves pav bajji of mumbai .\n",
            "Hulk loves chaat of delhi\n"
          ]
        }
      ]
    },
    {
      "cell_type": "code",
      "source": [
        "for i in doc.sents:\n",
        "  for word in i:\n",
        "    print(word)"
      ],
      "metadata": {
        "colab": {
          "base_uri": "https://localhost:8080/"
        },
        "id": "PSwvOR31yRJF",
        "outputId": "0e375491-78a2-4b94-888d-c76b73fce39c"
      },
      "execution_count": null,
      "outputs": [
        {
          "output_type": "stream",
          "name": "stdout",
          "text": [
            "Dr.\n",
            "Strange\n",
            "loves\n",
            "pav\n",
            "bajji\n",
            "of\n",
            "mumbai\n",
            ".\n",
            "Hulk\n",
            "loves\n",
            "chaat\n",
            "of\n",
            "delhi\n"
          ]
        }
      ]
    },
    {
      "cell_type": "code",
      "source": [
        "from nltk.tokenize import sent_tokenize\n",
        "nltk.download('punkt')"
      ],
      "metadata": {
        "colab": {
          "base_uri": "https://localhost:8080/"
        },
        "id": "5cQdn-W2ygOB",
        "outputId": "b4bb4e5b-53e3-4824-b786-37f0a1182bdf"
      },
      "execution_count": null,
      "outputs": [
        {
          "output_type": "stream",
          "name": "stderr",
          "text": [
            "[nltk_data] Downloading package punkt to /root/nltk_data...\n",
            "[nltk_data]   Package punkt is already up-to-date!\n"
          ]
        },
        {
          "output_type": "execute_result",
          "data": {
            "text/plain": [
              "True"
            ]
          },
          "metadata": {},
          "execution_count": 47
        }
      ]
    },
    {
      "cell_type": "code",
      "source": [
        "sent_tokenize('Dr.Strange loves pav bajji of mumbai. Hulk loves chaat of delhi')"
      ],
      "metadata": {
        "colab": {
          "base_uri": "https://localhost:8080/"
        },
        "id": "ZDMnnaYQyrzW",
        "outputId": "d656e907-fbd3-4c59-8d0a-f4789f70c37c"
      },
      "execution_count": null,
      "outputs": [
        {
          "output_type": "execute_result",
          "data": {
            "text/plain": [
              "['Dr.Strange loves pav bajji of mumbai.', 'Hulk loves chaat of delhi']"
            ]
          },
          "metadata": {},
          "execution_count": 48
        }
      ]
    },
    {
      "cell_type": "code",
      "source": [
        "from nltk.tokenize import word_tokenize"
      ],
      "metadata": {
        "id": "IeeqIQi7y6MF"
      },
      "execution_count": null,
      "outputs": []
    },
    {
      "cell_type": "code",
      "source": [
        "word_tokenize('Dr.Strange loves pav bajji of mumbai. Hulk loves chaat of delhi')"
      ],
      "metadata": {
        "colab": {
          "base_uri": "https://localhost:8080/"
        },
        "id": "4fEZRft9zIBR",
        "outputId": "c2d8dbdc-08ed-4f07-84af-e1364b0c08f1"
      },
      "execution_count": null,
      "outputs": [
        {
          "output_type": "execute_result",
          "data": {
            "text/plain": [
              "['Dr.Strange',\n",
              " 'loves',\n",
              " 'pav',\n",
              " 'bajji',\n",
              " 'of',\n",
              " 'mumbai',\n",
              " '.',\n",
              " 'Hulk',\n",
              " 'loves',\n",
              " 'chaat',\n",
              " 'of',\n",
              " 'delhi']"
            ]
          },
          "metadata": {},
          "execution_count": 50
        }
      ]
    },
    {
      "cell_type": "code",
      "source": [
        "nlp = spacy.blank('en') # tokenizer only"
      ],
      "metadata": {
        "id": "B2ey7XckzJGo"
      },
      "execution_count": null,
      "outputs": []
    },
    {
      "cell_type": "code",
      "source": [
        "nlp"
      ],
      "metadata": {
        "colab": {
          "base_uri": "https://localhost:8080/"
        },
        "id": "xkNCW4E4zmYA",
        "outputId": "7dfa90e8-6f26-4632-a860-62eb5f1a73da"
      },
      "execution_count": null,
      "outputs": [
        {
          "output_type": "execute_result",
          "data": {
            "text/plain": [
              "<spacy.lang.en.English at 0x78d97792b4c0>"
            ]
          },
          "metadata": {},
          "execution_count": 52
        }
      ]
    },
    {
      "cell_type": "code",
      "source": [
        "doc = nlp('Dr.Strange loves pav bajji of mumbai. Hulk loves chaat of delhi')"
      ],
      "metadata": {
        "id": "No1oblSV0H2c"
      },
      "execution_count": null,
      "outputs": []
    },
    {
      "cell_type": "code",
      "source": [
        "for i in doc:\n",
        "  print(i)"
      ],
      "metadata": {
        "colab": {
          "base_uri": "https://localhost:8080/"
        },
        "id": "OlsdpZ940QFd",
        "outputId": "924493bc-3c62-4cf8-9741-ae71924b391a"
      },
      "execution_count": null,
      "outputs": [
        {
          "output_type": "stream",
          "name": "stdout",
          "text": [
            "Dr.\n",
            "Strange\n",
            "loves\n",
            "pav\n",
            "bajji\n",
            "of\n",
            "mumbai\n",
            ".\n",
            "Hulk\n",
            "loves\n",
            "chaat\n",
            "of\n",
            "delhi\n"
          ]
        }
      ]
    },
    {
      "cell_type": "code",
      "source": [
        "doc[1]"
      ],
      "metadata": {
        "colab": {
          "base_uri": "https://localhost:8080/"
        },
        "id": "GyoxHTHe0Sec",
        "outputId": "b00c648e-6e6e-4341-d723-bde989e208b2"
      },
      "execution_count": null,
      "outputs": [
        {
          "output_type": "execute_result",
          "data": {
            "text/plain": [
              "Strange"
            ]
          },
          "metadata": {},
          "execution_count": 55
        }
      ]
    },
    {
      "cell_type": "code",
      "source": [
        "doc[2]"
      ],
      "metadata": {
        "colab": {
          "base_uri": "https://localhost:8080/"
        },
        "id": "ZHjgFciN0xTt",
        "outputId": "9d385cb5-8bcf-40b9-e8e2-993d780ec764"
      },
      "execution_count": null,
      "outputs": [
        {
          "output_type": "execute_result",
          "data": {
            "text/plain": [
              "loves"
            ]
          },
          "metadata": {},
          "execution_count": 56
        }
      ]
    },
    {
      "cell_type": "code",
      "source": [
        " doc = nlp('Dr.Strange loves pav bajji of mumbai as it costs only 2$ per plate')"
      ],
      "metadata": {
        "id": "xdHpybUO0x7D"
      },
      "execution_count": null,
      "outputs": []
    },
    {
      "cell_type": "code",
      "source": [
        "for i in doc:\n",
        "  print(i)"
      ],
      "metadata": {
        "colab": {
          "base_uri": "https://localhost:8080/"
        },
        "id": "tuQZD_ph07oJ",
        "outputId": "16fe586b-bb55-4750-8403-a83497f966d6"
      },
      "execution_count": null,
      "outputs": [
        {
          "output_type": "stream",
          "name": "stdout",
          "text": [
            "Dr.\n",
            "Strange\n",
            "loves\n",
            "pav\n",
            "bajji\n",
            "of\n",
            "mumbai\n",
            "as\n",
            "it\n",
            "costs\n",
            "only\n",
            "2\n",
            "$\n",
            "per\n",
            "plate\n"
          ]
        }
      ]
    },
    {
      "cell_type": "code",
      "source": [
        "# process --  text --> prefix --> exception --> suffix --> exception --> tokenize"
      ],
      "metadata": {
        "id": "K6ACXjfP093g"
      },
      "execution_count": null,
      "outputs": []
    },
    {
      "cell_type": "code",
      "source": [
        " doc = nlp('''\"Let's go to N.Y.!\"''' )"
      ],
      "metadata": {
        "id": "q6s01hf81aWg"
      },
      "execution_count": null,
      "outputs": []
    },
    {
      "cell_type": "code",
      "source": [
        "for i in doc:\n",
        "  print(i)"
      ],
      "metadata": {
        "colab": {
          "base_uri": "https://localhost:8080/"
        },
        "id": "fBS-1-Vo1mOe",
        "outputId": "57bd1941-f180-4631-eeb7-a790a6b8fb8b"
      },
      "execution_count": null,
      "outputs": [
        {
          "output_type": "stream",
          "name": "stdout",
          "text": [
            "\"\n",
            "Let\n",
            "'s\n",
            "go\n",
            "to\n",
            "N.Y.\n",
            "!\n",
            "\"\n"
          ]
        }
      ]
    },
    {
      "cell_type": "code",
      "source": [
        "token1 = doc[1]"
      ],
      "metadata": {
        "id": "Wh70NgtR1nrD"
      },
      "execution_count": null,
      "outputs": []
    },
    {
      "cell_type": "code",
      "source": [
        "token1"
      ],
      "metadata": {
        "colab": {
          "base_uri": "https://localhost:8080/"
        },
        "id": "2MNhzJBe2Ajr",
        "outputId": "9d7a7dab-4ed7-4e12-a60a-6005fd5b7e13"
      },
      "execution_count": null,
      "outputs": [
        {
          "output_type": "execute_result",
          "data": {
            "text/plain": [
              "Let"
            ]
          },
          "metadata": {},
          "execution_count": 63
        }
      ]
    },
    {
      "cell_type": "code",
      "source": [
        "type(token1)"
      ],
      "metadata": {
        "colab": {
          "base_uri": "https://localhost:8080/"
        },
        "id": "RSCjRLb_2BDc",
        "outputId": "cda511cb-67ac-4292-91aa-db1b89e84d7e"
      },
      "execution_count": null,
      "outputs": [
        {
          "output_type": "execute_result",
          "data": {
            "text/plain": [
              "spacy.tokens.token.Token"
            ]
          },
          "metadata": {},
          "execution_count": 64
        }
      ]
    },
    {
      "cell_type": "code",
      "source": [
        "dir(token1)"
      ],
      "metadata": {
        "colab": {
          "base_uri": "https://localhost:8080/"
        },
        "id": "-ydstqUp2CBx",
        "outputId": "abf7082e-497e-47fa-e84a-2a17acf4c45e"
      },
      "execution_count": null,
      "outputs": [
        {
          "output_type": "execute_result",
          "data": {
            "text/plain": [
              "['_',\n",
              " '__bytes__',\n",
              " '__class__',\n",
              " '__delattr__',\n",
              " '__dir__',\n",
              " '__doc__',\n",
              " '__eq__',\n",
              " '__format__',\n",
              " '__ge__',\n",
              " '__getattribute__',\n",
              " '__gt__',\n",
              " '__hash__',\n",
              " '__init__',\n",
              " '__init_subclass__',\n",
              " '__le__',\n",
              " '__len__',\n",
              " '__lt__',\n",
              " '__ne__',\n",
              " '__new__',\n",
              " '__pyx_vtable__',\n",
              " '__reduce__',\n",
              " '__reduce_ex__',\n",
              " '__repr__',\n",
              " '__setattr__',\n",
              " '__sizeof__',\n",
              " '__str__',\n",
              " '__subclasshook__',\n",
              " '__unicode__',\n",
              " 'ancestors',\n",
              " 'check_flag',\n",
              " 'children',\n",
              " 'cluster',\n",
              " 'conjuncts',\n",
              " 'dep',\n",
              " 'dep_',\n",
              " 'doc',\n",
              " 'ent_id',\n",
              " 'ent_id_',\n",
              " 'ent_iob',\n",
              " 'ent_iob_',\n",
              " 'ent_kb_id',\n",
              " 'ent_kb_id_',\n",
              " 'ent_type',\n",
              " 'ent_type_',\n",
              " 'get_extension',\n",
              " 'has_dep',\n",
              " 'has_extension',\n",
              " 'has_head',\n",
              " 'has_morph',\n",
              " 'has_vector',\n",
              " 'head',\n",
              " 'i',\n",
              " 'idx',\n",
              " 'iob_strings',\n",
              " 'is_alpha',\n",
              " 'is_ancestor',\n",
              " 'is_ascii',\n",
              " 'is_bracket',\n",
              " 'is_currency',\n",
              " 'is_digit',\n",
              " 'is_left_punct',\n",
              " 'is_lower',\n",
              " 'is_oov',\n",
              " 'is_punct',\n",
              " 'is_quote',\n",
              " 'is_right_punct',\n",
              " 'is_sent_end',\n",
              " 'is_sent_start',\n",
              " 'is_space',\n",
              " 'is_stop',\n",
              " 'is_title',\n",
              " 'is_upper',\n",
              " 'lang',\n",
              " 'lang_',\n",
              " 'left_edge',\n",
              " 'lefts',\n",
              " 'lemma',\n",
              " 'lemma_',\n",
              " 'lex',\n",
              " 'lex_id',\n",
              " 'like_email',\n",
              " 'like_num',\n",
              " 'like_url',\n",
              " 'lower',\n",
              " 'lower_',\n",
              " 'morph',\n",
              " 'n_lefts',\n",
              " 'n_rights',\n",
              " 'nbor',\n",
              " 'norm',\n",
              " 'norm_',\n",
              " 'orth',\n",
              " 'orth_',\n",
              " 'pos',\n",
              " 'pos_',\n",
              " 'prefix',\n",
              " 'prefix_',\n",
              " 'prob',\n",
              " 'rank',\n",
              " 'remove_extension',\n",
              " 'right_edge',\n",
              " 'rights',\n",
              " 'sent',\n",
              " 'sent_start',\n",
              " 'sentiment',\n",
              " 'set_extension',\n",
              " 'set_morph',\n",
              " 'shape',\n",
              " 'shape_',\n",
              " 'similarity',\n",
              " 'subtree',\n",
              " 'suffix',\n",
              " 'suffix_',\n",
              " 'tag',\n",
              " 'tag_',\n",
              " 'tensor',\n",
              " 'text',\n",
              " 'text_with_ws',\n",
              " 'vector',\n",
              " 'vector_norm',\n",
              " 'vocab',\n",
              " 'whitespace_']"
            ]
          },
          "metadata": {},
          "execution_count": 65
        }
      ]
    },
    {
      "cell_type": "code",
      "source": [
        "token1.is_alpha"
      ],
      "metadata": {
        "colab": {
          "base_uri": "https://localhost:8080/"
        },
        "id": "vcqML8Qf2DSK",
        "outputId": "8adcaa00-4cc9-4e3c-d5c1-65a70366839a"
      },
      "execution_count": null,
      "outputs": [
        {
          "output_type": "execute_result",
          "data": {
            "text/plain": [
              "True"
            ]
          },
          "metadata": {},
          "execution_count": 66
        }
      ]
    },
    {
      "cell_type": "code",
      "source": [
        "token1.like_num"
      ],
      "metadata": {
        "colab": {
          "base_uri": "https://localhost:8080/"
        },
        "id": "ABSPV7RN2Jar",
        "outputId": "78b33715-3ab3-47f8-bbb3-658ade575b2c"
      },
      "execution_count": null,
      "outputs": [
        {
          "output_type": "execute_result",
          "data": {
            "text/plain": [
              "False"
            ]
          },
          "metadata": {},
          "execution_count": 67
        }
      ]
    },
    {
      "cell_type": "code",
      "source": [
        "token1.text"
      ],
      "metadata": {
        "colab": {
          "base_uri": "https://localhost:8080/",
          "height": 36
        },
        "id": "icVivjJN2MWy",
        "outputId": "b9e10188-8333-4356-d415-92141c5e8d2f"
      },
      "execution_count": null,
      "outputs": [
        {
          "output_type": "execute_result",
          "data": {
            "text/plain": [
              "'Let'"
            ],
            "application/vnd.google.colaboratory.intrinsic+json": {
              "type": "string"
            }
          },
          "metadata": {},
          "execution_count": 68
        }
      ]
    },
    {
      "cell_type": "code",
      "source": [
        "doc = nlp('Dr.Strange loves pav bajji of mumbai as it costs only 2$ per plate')\n",
        "for token in doc:\n",
        "  print(token, token.i, token.is_alpha,token.is_punct,token.like_num,token.is_currency)\n"
      ],
      "metadata": {
        "colab": {
          "base_uri": "https://localhost:8080/"
        },
        "id": "BEnAgVZU2POf",
        "outputId": "82670f78-b853-4727-cdf4-e8ef0c38b61f"
      },
      "execution_count": null,
      "outputs": [
        {
          "output_type": "stream",
          "name": "stdout",
          "text": [
            "Dr. 0 False False False False\n",
            "Strange 1 True False False False\n",
            "loves 2 True False False False\n",
            "pav 3 True False False False\n",
            "bajji 4 True False False False\n",
            "of 5 True False False False\n",
            "mumbai 6 True False False False\n",
            "as 7 True False False False\n",
            "it 8 True False False False\n",
            "costs 9 True False False False\n",
            "only 10 True False False False\n",
            "2 11 False False True False\n",
            "$ 12 False False False True\n",
            "per 13 True False False False\n",
            "plate 14 True False False False\n"
          ]
        }
      ]
    },
    {
      "cell_type": "code",
      "source": [
        "doc = nlp('gimme double cheese extra large healthy pizza')\n",
        "\n",
        "tokens = [token.text for token in doc]"
      ],
      "metadata": {
        "id": "UiVElr0T2lxg"
      },
      "execution_count": null,
      "outputs": []
    },
    {
      "cell_type": "code",
      "source": [
        "tokens"
      ],
      "metadata": {
        "colab": {
          "base_uri": "https://localhost:8080/"
        },
        "id": "aFKnHrpo3M5r",
        "outputId": "cec03ae8-1e63-4c86-cd44-35c433b81087"
      },
      "execution_count": null,
      "outputs": [
        {
          "output_type": "execute_result",
          "data": {
            "text/plain": [
              "['gimme', 'double', 'cheese', 'extra', 'large', 'healthy', 'pizza']"
            ]
          },
          "metadata": {},
          "execution_count": 71
        }
      ]
    },
    {
      "cell_type": "code",
      "source": [
        "for i in doc.sents:\n",
        "  print(i)"
      ],
      "metadata": {
        "colab": {
          "base_uri": "https://localhost:8080/",
          "height": 254
        },
        "id": "OcdIbJG43Nki",
        "outputId": "50891436-bc12-410d-d789-f8802ba32cdd"
      },
      "execution_count": null,
      "outputs": [
        {
          "output_type": "error",
          "ename": "ValueError",
          "evalue": "ignored",
          "traceback": [
            "\u001b[0;31m---------------------------------------------------------------------------\u001b[0m",
            "\u001b[0;31mValueError\u001b[0m                                Traceback (most recent call last)",
            "\u001b[0;32m<ipython-input-72-cc40dba4f278>\u001b[0m in \u001b[0;36m<cell line: 1>\u001b[0;34m()\u001b[0m\n\u001b[0;32m----> 1\u001b[0;31m \u001b[0;32mfor\u001b[0m \u001b[0mi\u001b[0m \u001b[0;32min\u001b[0m \u001b[0mdoc\u001b[0m\u001b[0;34m.\u001b[0m\u001b[0msents\u001b[0m\u001b[0;34m:\u001b[0m\u001b[0;34m\u001b[0m\u001b[0;34m\u001b[0m\u001b[0m\n\u001b[0m\u001b[1;32m      2\u001b[0m   \u001b[0mprint\u001b[0m\u001b[0;34m(\u001b[0m\u001b[0mi\u001b[0m\u001b[0;34m)\u001b[0m\u001b[0;34m\u001b[0m\u001b[0;34m\u001b[0m\u001b[0m\n",
            "\u001b[0;32m/usr/local/lib/python3.10/dist-packages/spacy/tokens/doc.pyx\u001b[0m in \u001b[0;36msents\u001b[0;34m()\u001b[0m\n",
            "\u001b[0;31mValueError\u001b[0m: [E030] Sentence boundaries unset. You can add the 'sentencizer' component to the pipeline with: `nlp.add_pipe('sentencizer')`. Alternatively, add the dependency parser or sentence recognizer, or set sentence boundaries by setting `doc[i].is_sent_start`."
          ]
        }
      ]
    },
    {
      "cell_type": "code",
      "source": [
        "nlp.pipe_names"
      ],
      "metadata": {
        "colab": {
          "base_uri": "https://localhost:8080/"
        },
        "id": "bzgpnPe23ixK",
        "outputId": "ce9c36d8-be33-4c91-df41-bccdd48084fc"
      },
      "execution_count": null,
      "outputs": [
        {
          "output_type": "execute_result",
          "data": {
            "text/plain": [
              "[]"
            ]
          },
          "metadata": {},
          "execution_count": 73
        }
      ]
    },
    {
      "cell_type": "code",
      "source": [
        "nlp.add_pipe('sentencizer')"
      ],
      "metadata": {
        "colab": {
          "base_uri": "https://localhost:8080/"
        },
        "id": "LNpwA3OQ3nFw",
        "outputId": "1fe670f4-849b-475d-9abb-d847b17645db"
      },
      "execution_count": null,
      "outputs": [
        {
          "output_type": "execute_result",
          "data": {
            "text/plain": [
              "<spacy.pipeline.sentencizer.Sentencizer at 0x78d9755db5c0>"
            ]
          },
          "metadata": {},
          "execution_count": 74
        }
      ]
    },
    {
      "cell_type": "code",
      "source": [
        "nlp.pipe_names"
      ],
      "metadata": {
        "colab": {
          "base_uri": "https://localhost:8080/"
        },
        "id": "KMgd8Xpl3ySM",
        "outputId": "b4213915-a3bf-40a0-edca-042786b928a1"
      },
      "execution_count": null,
      "outputs": [
        {
          "output_type": "execute_result",
          "data": {
            "text/plain": [
              "['sentencizer']"
            ]
          },
          "metadata": {},
          "execution_count": 75
        }
      ]
    },
    {
      "cell_type": "code",
      "source": [
        "doc = nlp('Dr.Strange loves pav bajji of mumbai as it costs only 2$ per plate')\n",
        "for i in doc.sents:\n",
        "  print(i)"
      ],
      "metadata": {
        "colab": {
          "base_uri": "https://localhost:8080/"
        },
        "id": "v2okg06h30ig",
        "outputId": "ca4573d2-add3-4b67-984f-c12f7b5e5eb7"
      },
      "execution_count": null,
      "outputs": [
        {
          "output_type": "stream",
          "name": "stdout",
          "text": [
            "Dr.Strange loves pav bajji of mumbai as it costs only 2$ per plate\n"
          ]
        }
      ]
    },
    {
      "cell_type": "code",
      "source": [
        " # nlp pipeline\n",
        "\n",
        " # tokenizer --> tagger --> parser --> NER -->"
      ],
      "metadata": {
        "id": "vmF2dHgi34ln"
      },
      "execution_count": null,
      "outputs": []
    },
    {
      "cell_type": "code",
      "source": [
        "nlp = spacy.blank('en')\n",
        "doc = nlp('captain america ate  100$ somosa. then he said i can do this all day')"
      ],
      "metadata": {
        "id": "GGGZOfW_4dPn"
      },
      "execution_count": null,
      "outputs": []
    },
    {
      "cell_type": "code",
      "source": [
        "for i in doc:\n",
        "  print(i)"
      ],
      "metadata": {
        "colab": {
          "base_uri": "https://localhost:8080/"
        },
        "id": "pDfPKUqgGROd",
        "outputId": "af11141b-8f2c-4954-eddb-ef0965f176c7"
      },
      "execution_count": null,
      "outputs": [
        {
          "output_type": "stream",
          "name": "stdout",
          "text": [
            "captain\n",
            "america\n",
            "ate\n",
            " \n",
            "100\n",
            "$\n",
            "somosa\n",
            ".\n",
            "then\n",
            "he\n",
            "said\n",
            "i\n",
            "can\n",
            "do\n",
            "this\n",
            "all\n",
            "day\n"
          ]
        }
      ]
    },
    {
      "cell_type": "code",
      "source": [
        "nlp.pipe_names"
      ],
      "metadata": {
        "colab": {
          "base_uri": "https://localhost:8080/"
        },
        "id": "bjXKBKFYGTDW",
        "outputId": "56251c2e-4362-4c23-e53d-d2cee63e432a"
      },
      "execution_count": null,
      "outputs": [
        {
          "output_type": "execute_result",
          "data": {
            "text/plain": [
              "[]"
            ]
          },
          "metadata": {},
          "execution_count": 80
        }
      ]
    },
    {
      "cell_type": "code",
      "source": [
        "nlp = spacy.load('en_core_web_sm')\n",
        "doc = nlp('captain america ate  100$ somosa. then he said i can do this all day')"
      ],
      "metadata": {
        "id": "LbAWOOuTGn78"
      },
      "execution_count": null,
      "outputs": []
    },
    {
      "cell_type": "code",
      "source": [
        "nlp"
      ],
      "metadata": {
        "colab": {
          "base_uri": "https://localhost:8080/"
        },
        "id": "ovgCtC5nGxgu",
        "outputId": "1136e696-082f-4cff-8a7f-c74c5dfb5fa2"
      },
      "execution_count": null,
      "outputs": [
        {
          "output_type": "execute_result",
          "data": {
            "text/plain": [
              "<spacy.lang.en.English at 0x78d977910880>"
            ]
          },
          "metadata": {},
          "execution_count": 82
        }
      ]
    },
    {
      "cell_type": "code",
      "source": [
        "nlp.pipe_names"
      ],
      "metadata": {
        "colab": {
          "base_uri": "https://localhost:8080/"
        },
        "id": "IODP3v1wG02-",
        "outputId": "439946f5-8010-4237-d896-58adc83c1216"
      },
      "execution_count": null,
      "outputs": [
        {
          "output_type": "execute_result",
          "data": {
            "text/plain": [
              "['tok2vec', 'tagger', 'parser', 'attribute_ruler', 'lemmatizer', 'ner']"
            ]
          },
          "metadata": {},
          "execution_count": 83
        }
      ]
    },
    {
      "cell_type": "code",
      "source": [
        "nlp.pipeline"
      ],
      "metadata": {
        "colab": {
          "base_uri": "https://localhost:8080/"
        },
        "id": "6TRh652JG29a",
        "outputId": "fdd808a6-43ab-4125-fe4f-cc6038d95f6c"
      },
      "execution_count": null,
      "outputs": [
        {
          "output_type": "execute_result",
          "data": {
            "text/plain": [
              "[('tok2vec', <spacy.pipeline.tok2vec.Tok2Vec at 0x78d97559fc40>),\n",
              " ('tagger', <spacy.pipeline.tagger.Tagger at 0x78d977a97dc0>),\n",
              " ('parser', <spacy.pipeline.dep_parser.DependencyParser at 0x78d977925230>),\n",
              " ('attribute_ruler',\n",
              "  <spacy.pipeline.attributeruler.AttributeRuler at 0x78d97723c080>),\n",
              " ('lemmatizer',\n",
              "  <spacy.lang.en.lemmatizer.EnglishLemmatizer at 0x78d9779b3c40>),\n",
              " ('ner', <spacy.pipeline.ner.EntityRecognizer at 0x78d977924200>)]"
            ]
          },
          "metadata": {},
          "execution_count": 84
        }
      ]
    },
    {
      "cell_type": "code",
      "source": [
        "for token in doc:\n",
        "  print(token,token.pos_,token.lemma_)"
      ],
      "metadata": {
        "colab": {
          "base_uri": "https://localhost:8080/"
        },
        "id": "JaJ7Sib6G5Wy",
        "outputId": "ba50ae19-fc94-433a-cb6b-2c9c071a4a7a"
      },
      "execution_count": null,
      "outputs": [
        {
          "output_type": "stream",
          "name": "stdout",
          "text": [
            "captain PROPN captain\n",
            "america PROPN america\n",
            "ate VERB eat\n",
            "  SPACE  \n",
            "100 NUM 100\n",
            "$ NOUN $\n",
            "somosa X somosa\n",
            ". PUNCT .\n",
            "then ADV then\n",
            "he PRON he\n",
            "said VERB say\n",
            "i PRON I\n",
            "can AUX can\n",
            "do VERB do\n",
            "this PRON this\n",
            "all DET all\n",
            "day NOUN day\n"
          ]
        }
      ]
    },
    {
      "cell_type": "code",
      "source": [
        "for i in doc.ents:\n",
        "  print(i.text,i.label_,spacy.explain(i.label_))"
      ],
      "metadata": {
        "colab": {
          "base_uri": "https://localhost:8080/"
        },
        "id": "YHZTMXzoHBB1",
        "outputId": "5383defc-1e43-40a9-ac95-f6fffaaa0c7e"
      },
      "execution_count": null,
      "outputs": [
        {
          "output_type": "stream",
          "name": "stdout",
          "text": [
            "100$ MONEY Monetary values, including unit\n",
            "this all day DATE Absolute or relative dates or periods\n"
          ]
        }
      ]
    },
    {
      "cell_type": "code",
      "source": [
        "from spacy import displacy\n",
        "\n",
        "displacy.render(doc,style = 'ent')"
      ],
      "metadata": {
        "colab": {
          "base_uri": "https://localhost:8080/",
          "height": 109
        },
        "id": "l2h_DEscIjrm",
        "outputId": "80f8f425-86c3-4545-85ea-f74312bf6cfb"
      },
      "execution_count": null,
      "outputs": [
        {
          "output_type": "execute_result",
          "data": {
            "text/plain": [
              "'<div class=\"entities\" style=\"line-height: 2.5; direction: ltr\">captain america ate  \\n<mark class=\"entity\" style=\"background: #e4e7d2; padding: 0.45em 0.6em; margin: 0 0.25em; line-height: 1; border-radius: 0.35em;\">\\n    100$\\n    <span style=\"font-size: 0.8em; font-weight: bold; line-height: 1; border-radius: 0.35em; vertical-align: middle; margin-left: 0.5rem\">MONEY</span>\\n</mark>\\n somosa. then he said i can do \\n<mark class=\"entity\" style=\"background: #bfe1d9; padding: 0.45em 0.6em; margin: 0 0.25em; line-height: 1; border-radius: 0.35em;\">\\n    this all day\\n    <span style=\"font-size: 0.8em; font-weight: bold; line-height: 1; border-radius: 0.35em; vertical-align: middle; margin-left: 0.5rem\">DATE</span>\\n</mark>\\n</div>'"
            ],
            "application/vnd.google.colaboratory.intrinsic+json": {
              "type": "string"
            }
          },
          "metadata": {},
          "execution_count": 87
        }
      ]
    },
    {
      "cell_type": "code",
      "source": [
        "df = pd.read_csv('spam.csv')"
      ],
      "metadata": {
        "id": "GwC4k_iKIzk3"
      },
      "execution_count": null,
      "outputs": []
    },
    {
      "cell_type": "code",
      "source": [
        "df.head()"
      ],
      "metadata": {
        "colab": {
          "base_uri": "https://localhost:8080/",
          "height": 206
        },
        "id": "LNhC_71jlDqr",
        "outputId": "8eee7c97-55f2-43a8-cf4f-09d447577d09"
      },
      "execution_count": null,
      "outputs": [
        {
          "output_type": "execute_result",
          "data": {
            "text/plain": [
              "  Category                                            Message\n",
              "0      ham  Go until jurong point, crazy.. Available only ...\n",
              "1      ham                      Ok lar... Joking wif u oni...\n",
              "2     spam  Free entry in 2 a wkly comp to win FA Cup fina...\n",
              "3      ham  U dun say so early hor... U c already then say...\n",
              "4      ham  Nah I don't think he goes to usf, he lives aro..."
            ],
            "text/html": [
              "\n",
              "  <div id=\"df-7f2e2b1e-455d-4bfb-84e8-d0aabc90b7bb\" class=\"colab-df-container\">\n",
              "    <div>\n",
              "<style scoped>\n",
              "    .dataframe tbody tr th:only-of-type {\n",
              "        vertical-align: middle;\n",
              "    }\n",
              "\n",
              "    .dataframe tbody tr th {\n",
              "        vertical-align: top;\n",
              "    }\n",
              "\n",
              "    .dataframe thead th {\n",
              "        text-align: right;\n",
              "    }\n",
              "</style>\n",
              "<table border=\"1\" class=\"dataframe\">\n",
              "  <thead>\n",
              "    <tr style=\"text-align: right;\">\n",
              "      <th></th>\n",
              "      <th>Category</th>\n",
              "      <th>Message</th>\n",
              "    </tr>\n",
              "  </thead>\n",
              "  <tbody>\n",
              "    <tr>\n",
              "      <th>0</th>\n",
              "      <td>ham</td>\n",
              "      <td>Go until jurong point, crazy.. Available only ...</td>\n",
              "    </tr>\n",
              "    <tr>\n",
              "      <th>1</th>\n",
              "      <td>ham</td>\n",
              "      <td>Ok lar... Joking wif u oni...</td>\n",
              "    </tr>\n",
              "    <tr>\n",
              "      <th>2</th>\n",
              "      <td>spam</td>\n",
              "      <td>Free entry in 2 a wkly comp to win FA Cup fina...</td>\n",
              "    </tr>\n",
              "    <tr>\n",
              "      <th>3</th>\n",
              "      <td>ham</td>\n",
              "      <td>U dun say so early hor... U c already then say...</td>\n",
              "    </tr>\n",
              "    <tr>\n",
              "      <th>4</th>\n",
              "      <td>ham</td>\n",
              "      <td>Nah I don't think he goes to usf, he lives aro...</td>\n",
              "    </tr>\n",
              "  </tbody>\n",
              "</table>\n",
              "</div>\n",
              "    <div class=\"colab-df-buttons\">\n",
              "\n",
              "  <div class=\"colab-df-container\">\n",
              "    <button class=\"colab-df-convert\" onclick=\"convertToInteractive('df-7f2e2b1e-455d-4bfb-84e8-d0aabc90b7bb')\"\n",
              "            title=\"Convert this dataframe to an interactive table.\"\n",
              "            style=\"display:none;\">\n",
              "\n",
              "  <svg xmlns=\"http://www.w3.org/2000/svg\" height=\"24px\" viewBox=\"0 -960 960 960\">\n",
              "    <path d=\"M120-120v-720h720v720H120Zm60-500h600v-160H180v160Zm220 220h160v-160H400v160Zm0 220h160v-160H400v160ZM180-400h160v-160H180v160Zm440 0h160v-160H620v160ZM180-180h160v-160H180v160Zm440 0h160v-160H620v160Z\"/>\n",
              "  </svg>\n",
              "    </button>\n",
              "\n",
              "  <style>\n",
              "    .colab-df-container {\n",
              "      display:flex;\n",
              "      gap: 12px;\n",
              "    }\n",
              "\n",
              "    .colab-df-convert {\n",
              "      background-color: #E8F0FE;\n",
              "      border: none;\n",
              "      border-radius: 50%;\n",
              "      cursor: pointer;\n",
              "      display: none;\n",
              "      fill: #1967D2;\n",
              "      height: 32px;\n",
              "      padding: 0 0 0 0;\n",
              "      width: 32px;\n",
              "    }\n",
              "\n",
              "    .colab-df-convert:hover {\n",
              "      background-color: #E2EBFA;\n",
              "      box-shadow: 0px 1px 2px rgba(60, 64, 67, 0.3), 0px 1px 3px 1px rgba(60, 64, 67, 0.15);\n",
              "      fill: #174EA6;\n",
              "    }\n",
              "\n",
              "    .colab-df-buttons div {\n",
              "      margin-bottom: 4px;\n",
              "    }\n",
              "\n",
              "    [theme=dark] .colab-df-convert {\n",
              "      background-color: #3B4455;\n",
              "      fill: #D2E3FC;\n",
              "    }\n",
              "\n",
              "    [theme=dark] .colab-df-convert:hover {\n",
              "      background-color: #434B5C;\n",
              "      box-shadow: 0px 1px 3px 1px rgba(0, 0, 0, 0.15);\n",
              "      filter: drop-shadow(0px 1px 2px rgba(0, 0, 0, 0.3));\n",
              "      fill: #FFFFFF;\n",
              "    }\n",
              "  </style>\n",
              "\n",
              "    <script>\n",
              "      const buttonEl =\n",
              "        document.querySelector('#df-7f2e2b1e-455d-4bfb-84e8-d0aabc90b7bb button.colab-df-convert');\n",
              "      buttonEl.style.display =\n",
              "        google.colab.kernel.accessAllowed ? 'block' : 'none';\n",
              "\n",
              "      async function convertToInteractive(key) {\n",
              "        const element = document.querySelector('#df-7f2e2b1e-455d-4bfb-84e8-d0aabc90b7bb');\n",
              "        const dataTable =\n",
              "          await google.colab.kernel.invokeFunction('convertToInteractive',\n",
              "                                                    [key], {});\n",
              "        if (!dataTable) return;\n",
              "\n",
              "        const docLinkHtml = 'Like what you see? Visit the ' +\n",
              "          '<a target=\"_blank\" href=https://colab.research.google.com/notebooks/data_table.ipynb>data table notebook</a>'\n",
              "          + ' to learn more about interactive tables.';\n",
              "        element.innerHTML = '';\n",
              "        dataTable['output_type'] = 'display_data';\n",
              "        await google.colab.output.renderOutput(dataTable, element);\n",
              "        const docLink = document.createElement('div');\n",
              "        docLink.innerHTML = docLinkHtml;\n",
              "        element.appendChild(docLink);\n",
              "      }\n",
              "    </script>\n",
              "  </div>\n",
              "\n",
              "\n",
              "<div id=\"df-721e9e0c-1ac4-4c89-819e-6721cf04af67\">\n",
              "  <button class=\"colab-df-quickchart\" onclick=\"quickchart('df-721e9e0c-1ac4-4c89-819e-6721cf04af67')\"\n",
              "            title=\"Suggest charts.\"\n",
              "            style=\"display:none;\">\n",
              "\n",
              "<svg xmlns=\"http://www.w3.org/2000/svg\" height=\"24px\"viewBox=\"0 0 24 24\"\n",
              "     width=\"24px\">\n",
              "    <g>\n",
              "        <path d=\"M19 3H5c-1.1 0-2 .9-2 2v14c0 1.1.9 2 2 2h14c1.1 0 2-.9 2-2V5c0-1.1-.9-2-2-2zM9 17H7v-7h2v7zm4 0h-2V7h2v10zm4 0h-2v-4h2v4z\"/>\n",
              "    </g>\n",
              "</svg>\n",
              "  </button>\n",
              "\n",
              "<style>\n",
              "  .colab-df-quickchart {\n",
              "    background-color: #E8F0FE;\n",
              "    border: none;\n",
              "    border-radius: 50%;\n",
              "    cursor: pointer;\n",
              "    display: none;\n",
              "    fill: #1967D2;\n",
              "    height: 32px;\n",
              "    padding: 0 0 0 0;\n",
              "    width: 32px;\n",
              "  }\n",
              "\n",
              "  .colab-df-quickchart:hover {\n",
              "    background-color: #E2EBFA;\n",
              "    box-shadow: 0px 1px 2px rgba(60, 64, 67, 0.3), 0px 1px 3px 1px rgba(60, 64, 67, 0.15);\n",
              "    fill: #174EA6;\n",
              "  }\n",
              "\n",
              "  [theme=dark] .colab-df-quickchart {\n",
              "    background-color: #3B4455;\n",
              "    fill: #D2E3FC;\n",
              "  }\n",
              "\n",
              "  [theme=dark] .colab-df-quickchart:hover {\n",
              "    background-color: #434B5C;\n",
              "    box-shadow: 0px 1px 3px 1px rgba(0, 0, 0, 0.15);\n",
              "    filter: drop-shadow(0px 1px 2px rgba(0, 0, 0, 0.3));\n",
              "    fill: #FFFFFF;\n",
              "  }\n",
              "</style>\n",
              "\n",
              "  <script>\n",
              "    async function quickchart(key) {\n",
              "      const charts = await google.colab.kernel.invokeFunction(\n",
              "          'suggestCharts', [key], {});\n",
              "    }\n",
              "    (() => {\n",
              "      let quickchartButtonEl =\n",
              "        document.querySelector('#df-721e9e0c-1ac4-4c89-819e-6721cf04af67 button');\n",
              "      quickchartButtonEl.style.display =\n",
              "        google.colab.kernel.accessAllowed ? 'block' : 'none';\n",
              "    })();\n",
              "  </script>\n",
              "</div>\n",
              "    </div>\n",
              "  </div>\n"
            ]
          },
          "metadata": {},
          "execution_count": 89
        }
      ]
    },
    {
      "cell_type": "code",
      "source": [
        "df.Category.value_counts()\n"
      ],
      "metadata": {
        "id": "69M81cmjlE2U",
        "colab": {
          "base_uri": "https://localhost:8080/"
        },
        "outputId": "37930b89-1da7-47cc-e284-7cb81a954656"
      },
      "execution_count": 91,
      "outputs": [
        {
          "output_type": "execute_result",
          "data": {
            "text/plain": [
              "ham     4825\n",
              "spam     747\n",
              "Name: Category, dtype: int64"
            ]
          },
          "metadata": {},
          "execution_count": 91
        }
      ]
    },
    {
      "cell_type": "code",
      "source": [
        "df['spam']= df['Category'].apply(lambda x: 1 if x =='spam'else 0)"
      ],
      "metadata": {
        "id": "kx6uqblNlVky"
      },
      "execution_count": 92,
      "outputs": []
    },
    {
      "cell_type": "code",
      "source": [
        "df.head()"
      ],
      "metadata": {
        "colab": {
          "base_uri": "https://localhost:8080/",
          "height": 206
        },
        "id": "kUPmPxTdlpKY",
        "outputId": "0e16acfd-68d0-4fc5-fcfe-7fd61d460438"
      },
      "execution_count": 93,
      "outputs": [
        {
          "output_type": "execute_result",
          "data": {
            "text/plain": [
              "  Category                                            Message  spam\n",
              "0      ham  Go until jurong point, crazy.. Available only ...     0\n",
              "1      ham                      Ok lar... Joking wif u oni...     0\n",
              "2     spam  Free entry in 2 a wkly comp to win FA Cup fina...     1\n",
              "3      ham  U dun say so early hor... U c already then say...     0\n",
              "4      ham  Nah I don't think he goes to usf, he lives aro...     0"
            ],
            "text/html": [
              "\n",
              "  <div id=\"df-42336860-091d-4f92-9ab9-6627ea59d989\" class=\"colab-df-container\">\n",
              "    <div>\n",
              "<style scoped>\n",
              "    .dataframe tbody tr th:only-of-type {\n",
              "        vertical-align: middle;\n",
              "    }\n",
              "\n",
              "    .dataframe tbody tr th {\n",
              "        vertical-align: top;\n",
              "    }\n",
              "\n",
              "    .dataframe thead th {\n",
              "        text-align: right;\n",
              "    }\n",
              "</style>\n",
              "<table border=\"1\" class=\"dataframe\">\n",
              "  <thead>\n",
              "    <tr style=\"text-align: right;\">\n",
              "      <th></th>\n",
              "      <th>Category</th>\n",
              "      <th>Message</th>\n",
              "      <th>spam</th>\n",
              "    </tr>\n",
              "  </thead>\n",
              "  <tbody>\n",
              "    <tr>\n",
              "      <th>0</th>\n",
              "      <td>ham</td>\n",
              "      <td>Go until jurong point, crazy.. Available only ...</td>\n",
              "      <td>0</td>\n",
              "    </tr>\n",
              "    <tr>\n",
              "      <th>1</th>\n",
              "      <td>ham</td>\n",
              "      <td>Ok lar... Joking wif u oni...</td>\n",
              "      <td>0</td>\n",
              "    </tr>\n",
              "    <tr>\n",
              "      <th>2</th>\n",
              "      <td>spam</td>\n",
              "      <td>Free entry in 2 a wkly comp to win FA Cup fina...</td>\n",
              "      <td>1</td>\n",
              "    </tr>\n",
              "    <tr>\n",
              "      <th>3</th>\n",
              "      <td>ham</td>\n",
              "      <td>U dun say so early hor... U c already then say...</td>\n",
              "      <td>0</td>\n",
              "    </tr>\n",
              "    <tr>\n",
              "      <th>4</th>\n",
              "      <td>ham</td>\n",
              "      <td>Nah I don't think he goes to usf, he lives aro...</td>\n",
              "      <td>0</td>\n",
              "    </tr>\n",
              "  </tbody>\n",
              "</table>\n",
              "</div>\n",
              "    <div class=\"colab-df-buttons\">\n",
              "\n",
              "  <div class=\"colab-df-container\">\n",
              "    <button class=\"colab-df-convert\" onclick=\"convertToInteractive('df-42336860-091d-4f92-9ab9-6627ea59d989')\"\n",
              "            title=\"Convert this dataframe to an interactive table.\"\n",
              "            style=\"display:none;\">\n",
              "\n",
              "  <svg xmlns=\"http://www.w3.org/2000/svg\" height=\"24px\" viewBox=\"0 -960 960 960\">\n",
              "    <path d=\"M120-120v-720h720v720H120Zm60-500h600v-160H180v160Zm220 220h160v-160H400v160Zm0 220h160v-160H400v160ZM180-400h160v-160H180v160Zm440 0h160v-160H620v160ZM180-180h160v-160H180v160Zm440 0h160v-160H620v160Z\"/>\n",
              "  </svg>\n",
              "    </button>\n",
              "\n",
              "  <style>\n",
              "    .colab-df-container {\n",
              "      display:flex;\n",
              "      gap: 12px;\n",
              "    }\n",
              "\n",
              "    .colab-df-convert {\n",
              "      background-color: #E8F0FE;\n",
              "      border: none;\n",
              "      border-radius: 50%;\n",
              "      cursor: pointer;\n",
              "      display: none;\n",
              "      fill: #1967D2;\n",
              "      height: 32px;\n",
              "      padding: 0 0 0 0;\n",
              "      width: 32px;\n",
              "    }\n",
              "\n",
              "    .colab-df-convert:hover {\n",
              "      background-color: #E2EBFA;\n",
              "      box-shadow: 0px 1px 2px rgba(60, 64, 67, 0.3), 0px 1px 3px 1px rgba(60, 64, 67, 0.15);\n",
              "      fill: #174EA6;\n",
              "    }\n",
              "\n",
              "    .colab-df-buttons div {\n",
              "      margin-bottom: 4px;\n",
              "    }\n",
              "\n",
              "    [theme=dark] .colab-df-convert {\n",
              "      background-color: #3B4455;\n",
              "      fill: #D2E3FC;\n",
              "    }\n",
              "\n",
              "    [theme=dark] .colab-df-convert:hover {\n",
              "      background-color: #434B5C;\n",
              "      box-shadow: 0px 1px 3px 1px rgba(0, 0, 0, 0.15);\n",
              "      filter: drop-shadow(0px 1px 2px rgba(0, 0, 0, 0.3));\n",
              "      fill: #FFFFFF;\n",
              "    }\n",
              "  </style>\n",
              "\n",
              "    <script>\n",
              "      const buttonEl =\n",
              "        document.querySelector('#df-42336860-091d-4f92-9ab9-6627ea59d989 button.colab-df-convert');\n",
              "      buttonEl.style.display =\n",
              "        google.colab.kernel.accessAllowed ? 'block' : 'none';\n",
              "\n",
              "      async function convertToInteractive(key) {\n",
              "        const element = document.querySelector('#df-42336860-091d-4f92-9ab9-6627ea59d989');\n",
              "        const dataTable =\n",
              "          await google.colab.kernel.invokeFunction('convertToInteractive',\n",
              "                                                    [key], {});\n",
              "        if (!dataTable) return;\n",
              "\n",
              "        const docLinkHtml = 'Like what you see? Visit the ' +\n",
              "          '<a target=\"_blank\" href=https://colab.research.google.com/notebooks/data_table.ipynb>data table notebook</a>'\n",
              "          + ' to learn more about interactive tables.';\n",
              "        element.innerHTML = '';\n",
              "        dataTable['output_type'] = 'display_data';\n",
              "        await google.colab.output.renderOutput(dataTable, element);\n",
              "        const docLink = document.createElement('div');\n",
              "        docLink.innerHTML = docLinkHtml;\n",
              "        element.appendChild(docLink);\n",
              "      }\n",
              "    </script>\n",
              "  </div>\n",
              "\n",
              "\n",
              "<div id=\"df-0dc2edc1-b504-46b3-8da8-ffc5db0b6a70\">\n",
              "  <button class=\"colab-df-quickchart\" onclick=\"quickchart('df-0dc2edc1-b504-46b3-8da8-ffc5db0b6a70')\"\n",
              "            title=\"Suggest charts.\"\n",
              "            style=\"display:none;\">\n",
              "\n",
              "<svg xmlns=\"http://www.w3.org/2000/svg\" height=\"24px\"viewBox=\"0 0 24 24\"\n",
              "     width=\"24px\">\n",
              "    <g>\n",
              "        <path d=\"M19 3H5c-1.1 0-2 .9-2 2v14c0 1.1.9 2 2 2h14c1.1 0 2-.9 2-2V5c0-1.1-.9-2-2-2zM9 17H7v-7h2v7zm4 0h-2V7h2v10zm4 0h-2v-4h2v4z\"/>\n",
              "    </g>\n",
              "</svg>\n",
              "  </button>\n",
              "\n",
              "<style>\n",
              "  .colab-df-quickchart {\n",
              "    background-color: #E8F0FE;\n",
              "    border: none;\n",
              "    border-radius: 50%;\n",
              "    cursor: pointer;\n",
              "    display: none;\n",
              "    fill: #1967D2;\n",
              "    height: 32px;\n",
              "    padding: 0 0 0 0;\n",
              "    width: 32px;\n",
              "  }\n",
              "\n",
              "  .colab-df-quickchart:hover {\n",
              "    background-color: #E2EBFA;\n",
              "    box-shadow: 0px 1px 2px rgba(60, 64, 67, 0.3), 0px 1px 3px 1px rgba(60, 64, 67, 0.15);\n",
              "    fill: #174EA6;\n",
              "  }\n",
              "\n",
              "  [theme=dark] .colab-df-quickchart {\n",
              "    background-color: #3B4455;\n",
              "    fill: #D2E3FC;\n",
              "  }\n",
              "\n",
              "  [theme=dark] .colab-df-quickchart:hover {\n",
              "    background-color: #434B5C;\n",
              "    box-shadow: 0px 1px 3px 1px rgba(0, 0, 0, 0.15);\n",
              "    filter: drop-shadow(0px 1px 2px rgba(0, 0, 0, 0.3));\n",
              "    fill: #FFFFFF;\n",
              "  }\n",
              "</style>\n",
              "\n",
              "  <script>\n",
              "    async function quickchart(key) {\n",
              "      const charts = await google.colab.kernel.invokeFunction(\n",
              "          'suggestCharts', [key], {});\n",
              "    }\n",
              "    (() => {\n",
              "      let quickchartButtonEl =\n",
              "        document.querySelector('#df-0dc2edc1-b504-46b3-8da8-ffc5db0b6a70 button');\n",
              "      quickchartButtonEl.style.display =\n",
              "        google.colab.kernel.accessAllowed ? 'block' : 'none';\n",
              "    })();\n",
              "  </script>\n",
              "</div>\n",
              "    </div>\n",
              "  </div>\n"
            ]
          },
          "metadata": {},
          "execution_count": 93
        }
      ]
    },
    {
      "cell_type": "code",
      "source": [],
      "metadata": {
        "id": "fdiIouswlqMR"
      },
      "execution_count": 94,
      "outputs": []
    },
    {
      "cell_type": "code",
      "source": [
        "from sklearn.model_selection import train_test_split"
      ],
      "metadata": {
        "id": "J4oPgvAYlxHg"
      },
      "execution_count": 95,
      "outputs": []
    },
    {
      "cell_type": "code",
      "source": [
        "X_train,X_test,y_train,y_test = train_test_split(df.Message,df.spam,test_size = 0.2)"
      ],
      "metadata": {
        "id": "w_5ISMECl5SK"
      },
      "execution_count": 96,
      "outputs": []
    },
    {
      "cell_type": "code",
      "source": [
        "from sklearn.feature_extraction.text import CountVectorizer"
      ],
      "metadata": {
        "id": "tX8_WTNBmF5d"
      },
      "execution_count": 97,
      "outputs": []
    },
    {
      "cell_type": "code",
      "source": [
        "v = CountVectorizer()\n",
        "X_train_cv = v.fit_transform(X_train.values)"
      ],
      "metadata": {
        "id": "BYiS-avnmVXE"
      },
      "execution_count": 98,
      "outputs": []
    },
    {
      "cell_type": "code",
      "source": [
        "X_train_cv.toarray()"
      ],
      "metadata": {
        "colab": {
          "base_uri": "https://localhost:8080/"
        },
        "id": "kS7i8yqZmjVR",
        "outputId": "a9a6b2a2-2e61-42a4-da16-ed7a8426c881"
      },
      "execution_count": 101,
      "outputs": [
        {
          "output_type": "execute_result",
          "data": {
            "text/plain": [
              "array([[0, 0, 0, ..., 0, 0, 0],\n",
              "       [0, 0, 0, ..., 0, 0, 0],\n",
              "       [0, 0, 0, ..., 0, 0, 0],\n",
              "       ...,\n",
              "       [0, 0, 0, ..., 0, 0, 0],\n",
              "       [0, 0, 0, ..., 0, 0, 0],\n",
              "       [0, 0, 0, ..., 0, 0, 0]])"
            ]
          },
          "metadata": {},
          "execution_count": 101
        }
      ]
    },
    {
      "cell_type": "code",
      "source": [
        "v.get_feature_names_out() [1000:1500]"
      ],
      "metadata": {
        "colab": {
          "base_uri": "https://localhost:8080/"
        },
        "id": "rAST48rkmmtM",
        "outputId": "671001f9-2f04-4ab3-9716-559e1dd89782"
      },
      "execution_count": 103,
      "outputs": [
        {
          "output_type": "execute_result",
          "data": {
            "text/plain": [
              "array(['ans', 'ansr', 'answer', 'answered', 'answerin', 'answering',\n",
              "       'answers', 'answr', 'antha', 'anthony', 'anti', 'antibiotic',\n",
              "       'any', 'anybody', 'anyhow', 'anymore', 'anyone', 'anyones',\n",
              "       'anyplaces', 'anythiing', 'anythin', 'anything',\n",
              "       'anythingtomorrow', 'anytime', 'anyway', 'anyways', 'anywhere',\n",
              "       'aom', 'apart', 'apartment', 'apes', 'apeshit', 'aphex', 'apo',\n",
              "       'apologetic', 'apologise', 'apologize', 'app', 'apparently',\n",
              "       'appear', 'appendix', 'applausestore', 'applebees', 'apples',\n",
              "       'application', 'apply', 'applyed', 'applying', 'appointment',\n",
              "       'appointments', 'appreciate', 'appreciated', 'approaching',\n",
              "       'appropriate', 'approve', 'approx', 'apps', 'appt', 'appy',\n",
              "       'april', 'aproach', 'apt', 'aptitude', 'aquarius', 'ar', 'arab',\n",
              "       'arabian', 'arcade', 'archive', 'ard', 'are', 'area', 'aren',\n",
              "       'arent', 'arestaurant', 'aretaking', 'areyouunique', 'argentina',\n",
              "       'argh', 'argue', 'arguing', 'argument', 'arguments', 'aries',\n",
              "       'arise', 'arises', 'arithmetic', 'arm', 'armand', 'arms', 'arng',\n",
              "       'arngd', 'arnt', 'around', 'aroundn', 'arrange', 'arranging',\n",
              "       'arrested', 'arrival', 'arrive', 'arrived', 'arrow', 'arsenal',\n",
              "       'art', 'artists', 'arts', 'arty', 'arul', 'arun', 'as', 'asa',\n",
              "       'asap', 'ashes', 'ashley', 'ashwini', 'asia', 'asian', 'asjesus',\n",
              "       'ask', 'askd', 'asked', 'askin', 'asking', 'asks', 'aslamalaikkum',\n",
              "       'asleep', 'asp', 'aspects', 'ass', 'assessment', 'asshole',\n",
              "       'assistance', 'associate', 'assume', 'assumed', 'asthere',\n",
              "       'asthma', 'astne', 'astrology', 'asus', 'asusual', 'at', 'ate',\n",
              "       'athletic', 'athome', 'atlanta', 'atlast', 'atleast', 'atm',\n",
              "       'atrocious', 'attach', 'attached', 'attack', 'attempt', 'atten',\n",
              "       'attend', 'attended', 'attending', 'attention', 'attitude',\n",
              "       'attraction', 'attractive', 'atural', 'auction', 'audition',\n",
              "       'audrey', 'august', 'aunt', 'auntie', 'aunties', 'aunts', 'aunty',\n",
              "       'aust', 'australia', 'authorise', 'auto', 'av', 'ava', 'availa',\n",
              "       'available', 'avalarr', 'avatar', 'avble', 'ave', 'avenge',\n",
              "       'avent', 'avin', 'avo', 'avoid', 'avoiding', 'avoids', 'await',\n",
              "       'awaiting', 'awake', 'award', 'awarded', 'away', 'awesome',\n",
              "       'awkward', 'aww', 'awww', 'ax', 'axel', 'axis', 'ay', 'ayn', 'b4',\n",
              "       'b4190604', 'b4u', 'b4utele', 'ba', 'ba128nnfwfly150ppm',\n",
              "       'baaaaaaaabe', 'baaaaabe', 'babe', 'babes', 'babies', 'baby',\n",
              "       'babygoodbye', 'babyjontet', 'babysit', 'babysitting', 'bac',\n",
              "       'back', 'backdoor', 'backwards', 'bad', 'badass', 'badly',\n",
              "       'badrith', 'bag', 'bags', 'bahamas', 'baig', 'bailiff',\n",
              "       'bajarangabali', 'bak', 'bakra', 'bakrid', 'balance', 'ball',\n",
              "       'baller', 'balloon', 'balls', 'bam', 'bambling', 'band',\n",
              "       'bandages', 'bang', 'bani', 'bank', 'banks', 'banned', 'banneduk',\n",
              "       'banter', 'bao', 'bar', 'barbie', 'barcelona', 'bare', 'barely',\n",
              "       'bari', 'barmed', 'barolla', 'barrel', 'barry', 'bars', 'base',\n",
              "       'based', 'bash', 'basic', 'basically', 'basket', 'basq', 'bat',\n",
              "       'batch', 'batchlor', 'bath', 'bathe', 'bathing', 'bathroom',\n",
              "       'batsman', 'battery', 'battle', 'bawling', 'bay', 'bb', 'bbc',\n",
              "       'bbd', 'bbdeluxe', 'bbq', 'bc', 'bck', 'bcm', 'bcm1896wc1n3xx',\n",
              "       'bcm4284', 'bcmsfwc1n3xx', 'bcoz', 'bcs', 'bcums', 'bcz', 'bday',\n",
              "       'be', 'beads', 'bears', 'beatings', 'beauties', 'beautiful',\n",
              "       'beauty', 'bec', 'becaus', 'because', 'becausethey', 'become',\n",
              "       'becoz', 'becz', 'bed', 'bedreal', 'bedrm', 'bedroom', 'beeen',\n",
              "       'beehoon', 'been', 'beendropping', 'beer', 'beerage', 'beers',\n",
              "       'befor', 'before', 'beforehand', 'beg', 'begin', 'begins', 'begun',\n",
              "       'behalf', 'behave', 'behind', 'bein', 'being', 'believe', 'belive',\n",
              "       'bell', 'belligerent', 'belly', 'belongs', 'belovd', 'belt', 'ben',\n",
              "       'bend', 'beneath', 'beneficiary', 'benefits', 'bennys', 'bergkamp',\n",
              "       'beside', 'best', 'best1', 'bet', 'beta', 'beth', 'betta',\n",
              "       'better', 'bettersn', 'between', 'beware', 'beyond', 'bf', 'bffs',\n",
              "       'bfore', 'bhaji', 'bhaskar', 'bhayandar', 'biatch', 'bid', 'bids',\n",
              "       'big', 'bigger', 'biggest', 'bike', 'bill', 'billed', 'billing',\n",
              "       'billion', 'bills', 'billy', 'bilo', 'bimbo', 'bin', 'biola',\n",
              "       'bird', 'birds', 'birla', 'biro', 'birth', 'birthdate', 'birthday',\n",
              "       'bishan', 'bit', 'bitch', 'bitching', 'bite', 'bites', 'bits',\n",
              "       'biz', 'bk', 'black', 'blackberry', 'blacko', 'blah', 'blake',\n",
              "       'blame', 'blank', 'blanket', 'blankets', 'blastin', 'bleak',\n",
              "       'bleh', 'bless', 'blessed', 'blessing', 'blessings', 'blimey',\n",
              "       'blind', 'block', 'blocked', 'blogging', 'blogspot', 'bloke',\n",
              "       'blokes', 'blonde', 'bloo', 'blood', 'bloody', 'bloomberg', 'blow',\n",
              "       'blowing', 'blue', 'bluetooth', 'bluff', 'blur', 'bluray', 'bmw',\n",
              "       'boat', 'boatin', 'bob', 'body', 'boggy', 'bognor', 'bold',\n",
              "       'bold2', 'bollox', 'bone', 'bong', 'bonus', 'boo', 'boobs', 'book',\n",
              "       'booked', 'bookedthe', 'booking', 'bookmark', 'books', 'bookshelf',\n",
              "       'boost', 'booty', 'borderline', 'bored', 'borin', 'boring', 'born',\n",
              "       'borrow', 'boss', 'boston', 'bot', 'both', 'bother', 'bothering',\n",
              "       'bottle', 'bottom', 'bought', 'boundaries', 'bout', 'bowa', 'bowl',\n",
              "       'bowls', 'box', 'box139', 'box177', 'box245c2150pm', 'box326',\n",
              "       'box334', 'box334sk38ch', 'box385', 'box39822', 'box403', 'box420',\n",
              "       'box42wr29c', 'box434sk38wp150ppm18', 'box61', 'box95qu'],\n",
              "      dtype=object)"
            ]
          },
          "metadata": {},
          "execution_count": 103
        }
      ]
    },
    {
      "cell_type": "code",
      "source": [
        "   v.vocabulary_"
      ],
      "metadata": {
        "colab": {
          "base_uri": "https://localhost:8080/"
        },
        "id": "aqW9ktSUmv5g",
        "outputId": "0cf031af-7ac3-4630-9b85-a5652d90ea0d"
      },
      "execution_count": 104,
      "outputs": [
        {
          "output_type": "execute_result",
          "data": {
            "text/plain": [
              "{'yeah': 7738,\n",
              " 'do': 2396,\n",
              " 'don': 2425,\n",
              " 'stand': 6506,\n",
              " 'to': 7001,\n",
              " 'close': 1876,\n",
              " 'tho': 6926,\n",
              " 'you': 7765,\n",
              " 'll': 4210,\n",
              " 'catch': 1708,\n",
              " 'something': 6374,\n",
              " 'hi': 3457,\n",
              " 'my': 4729,\n",
              " 'email': 2589,\n",
              " 'address': 828,\n",
              " 'has': 3374,\n",
              " 'changed': 1749,\n",
              " 'now': 4902,\n",
              " 'it': 3806,\n",
              " 'is': 3794,\n",
              " 'if': 3640,\n",
              " 're': 5657,\n",
              " 'thinking': 6915,\n",
              " 'of': 4953,\n",
              " 'lifting': 4159,\n",
              " 'me': 4464,\n",
              " 'one': 5001,\n",
              " 'then': 6893,\n",
              " 'no': 4859,\n",
              " 'thanx4': 6878,\n",
              " 'today': 7008,\n",
              " 'cer': 1734,\n",
              " 'was': 7453,\n",
              " 'nice': 4835,\n",
              " 'up': 7248,\n",
              " 'but': 1603,\n",
              " 'we': 7476,\n",
              " 'ave': 1183,\n",
              " 'find': 2876,\n",
              " 'more': 4645,\n",
              " 'time': 6969,\n",
              " 'often': 4967,\n",
              " 'oh': 4970,\n",
              " 'well': 7514,\n",
              " 'take': 6760,\n",
              " 'care': 1679,\n",
              " 'soon': 6389,\n",
              " 'sorry': 6398,\n",
              " 'call': 1633,\n",
              " 'later': 4082,\n",
              " 'sms': 6335,\n",
              " 'auction': 1163,\n",
              " 'have': 3388,\n",
              " 'won': 7635,\n",
              " 'nokia': 4866,\n",
              " '7250i': 623,\n",
              " 'this': 6920,\n",
              " 'what': 7534,\n",
              " 'get': 3142,\n",
              " 'when': 7539,\n",
              " 'win': 7579,\n",
              " 'our': 5069,\n",
              " 'free': 3007,\n",
              " 'part': 5145,\n",
              " 'send': 6081,\n",
              " '86021': 697,\n",
              " 'hg': 3456,\n",
              " 'suite342': 6658,\n",
              " '2lands': 403,\n",
              " 'row': 5895,\n",
              " 'w1jhl': 7402,\n",
              " '16': 323,\n",
              " 'cant': 1668,\n",
              " 'pick': 5259,\n",
              " 'the': 6882,\n",
              " 'phone': 5246,\n",
              " 'right': 5848,\n",
              " 'pls': 5314,\n",
              " 'message': 4515,\n",
              " 'that': 6880,\n",
              " 'started': 6514,\n",
              " 'dont': 2429,\n",
              " 'stop': 6564,\n",
              " 'just': 3925,\n",
              " 'pray': 5430,\n",
              " 'for': 2963,\n",
              " 'good': 3208,\n",
              " 'ideas': 3631,\n",
              " 'and': 979,\n",
              " 'anything': 1021,\n",
              " 'see': 6056,\n",
              " 'can': 1658,\n",
              " 'help': 3433,\n",
              " 'guys': 3311,\n",
              " 'forward': 2985,\n",
              " 'link': 4184,\n",
              " 'are': 1070,\n",
              " 'okay': 4976,\n",
              " 'going': 3196,\n",
              " 'sleep': 6290,\n",
              " '20': 352,\n",
              " 'cost': 2045,\n",
              " 'which': 7547,\n",
              " 'guess': 3295,\n",
              " 'isnt': 3802,\n",
              " 'bad': 1226,\n",
              " 'miss': 4567,\n",
              " 'ya': 7724,\n",
              " 'need': 4795,\n",
              " 'want': 7442,\n",
              " 'love': 4277,\n",
              " 'how': 3555,\n",
              " 'your': 7769,\n",
              " 'husband': 3600,\n",
              " 'oops': 5017,\n",
              " 'did': 2325,\n",
              " 'lt': 4300,\n",
              " 'gt': 3289,\n",
              " 'hmv': 3490,\n",
              " 'bonus': 1453,\n",
              " 'special': 6429,\n",
              " '500': 546,\n",
              " 'pounds': 5402,\n",
              " 'genuine': 3135,\n",
              " 'vouchers': 7391,\n",
              " 'be': 1302,\n",
              " 'answer': 1002,\n",
              " 'easy': 2533,\n",
              " 'questions': 5597,\n",
              " 'play': 5298,\n",
              " '86688': 700,\n",
              " 'info': 3717,\n",
              " 'www': 7697,\n",
              " '100percent': 268,\n",
              " 'real': 5668,\n",
              " 'com': 1930,\n",
              " 'still': 6551,\n",
              " 'at': 1141,\n",
              " 'grand': 3248,\n",
              " 'prix': 5489,\n",
              " 'jus': 3924,\n",
              " 'finish': 2881,\n",
              " 'lunch': 4312,\n",
              " 'on': 4996,\n",
              " 'way': 7472,\n",
              " 'home': 3506,\n",
              " 'lor': 4255,\n",
              " 'tot': 7060,\n",
              " 'dun': 2505,\n",
              " 'wan': 7437,\n",
              " 'stay': 6525,\n",
              " 'in': 3684,\n",
              " 'sch': 6008,\n",
              " 'thanx': 6877,\n",
              " 'sending': 6083,\n",
              " 'tell': 6823,\n",
              " 'they': 6905,\n",
              " 'female': 2841,\n",
              " 'throwing': 6943,\n",
              " 'deciding': 2228,\n",
              " 'all': 926,\n",
              " 'urgent': 7270,\n",
              " 'ur': 7266,\n",
              " 'guaranteed': 3290,\n",
              " 'award': 1194,\n",
              " 'unclaimed': 7200,\n",
              " '09066368327': 240,\n",
              " 'closingdate04': 1881,\n",
              " '09': 168,\n",
              " '02': 7,\n",
              " 'claimcode': 1849,\n",
              " 'm39m51': 4332,\n",
              " '50pmmorefrommobile2bremoved': 555,\n",
              " 'mobypobox734ls27yf': 4612,\n",
              " 'tmr': 6996,\n",
              " 'timin': 6971,\n",
              " 'da': 2165,\n",
              " 'same': 5962,\n",
              " 'wat': 7458,\n",
              " 'cos': 2043,\n",
              " 'got': 3226,\n",
              " 'lesson': 4138,\n",
              " 'until': 7246,\n",
              " 'back': 1223,\n",
              " 'lemme': 4130,\n",
              " 'know': 4012,\n",
              " 'ready': 5667,\n",
              " 'happy': 3363,\n",
              " 'valentines': 7309,\n",
              " 'day': 2204,\n",
              " 'its': 3814,\n",
              " 'early': 2525,\n",
              " 'hundreds': 3587,\n",
              " 'handsomes': 3347,\n",
              " 'beauties': 1306,\n",
              " 'wish': 7599,\n",
              " 'so': 6351,\n",
              " 'thought': 6931,\n",
              " 'off': 4955,\n",
              " 'aunties': 1169,\n",
              " 'uncles': 7202,\n",
              " '1st': 342,\n",
              " 'he': 3397,\n",
              " 'remains': 5748,\n",
              " 'bro': 1547,\n",
              " 'amongst': 964,\n",
              " 'bros': 1552,\n",
              " 'watching': 7463,\n",
              " 'tv': 7152,\n",
              " 'new': 4825,\n",
              " 'job': 3880,\n",
              " 'from': 3044,\n",
              " 'only': 5006,\n",
              " 'work': 7649,\n",
              " 'timing': 6972,\n",
              " 'happen': 3354,\n",
              " 'dear': 2216,\n",
              " 'plan': 5290,\n",
              " 'staying': 6528,\n",
              " 'night': 4841,\n",
              " 'prolly': 5519,\n",
              " 'til': 6966,\n",
              " 'late': 4080,\n",
              " 'mon': 4627,\n",
              " 'sis': 6257,\n",
              " 'smth': 6338,\n",
              " 'am': 950,\n",
              " 'down': 2445,\n",
              " 'reg': 5724,\n",
              " 'pract': 5416,\n",
              " 'lessons': 4139,\n",
              " 'flung': 2935,\n",
              " 'advance': 842,\n",
              " 'haha': 3323,\n",
              " 'vikky': 7356,\n",
              " 'olave': 4986,\n",
              " 'mandara': 4396,\n",
              " 'movie': 4667,\n",
              " 'kano': 3946,\n",
              " 'trishul': 7110,\n",
              " 'theatre': 6884,\n",
              " 'wit': 7606,\n",
              " 'frnds': 3036,\n",
              " 'great': 3263,\n",
              " 'offer': 4958,\n",
              " 'double': 2441,\n",
              " 'mins': 4555,\n",
              " 'txt': 7160,\n",
              " 'best': 1355,\n",
              " 'orange': 5040,\n",
              " 'tariffs': 6781,\n",
              " 'latest': 4083,\n",
              " 'camera': 1654,\n",
              " 'phones': 5250,\n",
              " 'mobileupd8': 4606,\n",
              " '08000839402': 51,\n",
              " 'or': 5036,\n",
              " '2stoptxt': 424,\n",
              " 'cs': 2114,\n",
              " 'storming': 6576,\n",
              " 'msg': 4678,\n",
              " 'wen': 7517,\n",
              " 'lift': 4158,\n",
              " 'phne': 5244,\n",
              " 'say': 5994,\n",
              " 'hello': 3430,\n",
              " 'knw': 4016,\n",
              " 'wt': 7688,\n",
              " 'meaning': 4468,\n",
              " 'name': 4750,\n",
              " 'girl': 3163,\n",
              " 'yes': 7748,\n",
              " 'who': 7553,\n",
              " 'dat': 2194,\n",
              " 'margaret': 4411,\n",
              " 'she': 6148,\n",
              " 'girlfrnd': 3164,\n",
              " 'grahmbell': 3244,\n",
              " 'invnted': 3773,\n",
              " 'telphone': 6828,\n",
              " 'moral': 4644,\n",
              " '4get': 526,\n",
              " 'person': 5223,\n",
              " 'bt': 1567,\n",
              " 'not': 4889,\n",
              " 'his': 3473,\n",
              " 'where': 7543,\n",
              " 'away': 1196,\n",
              " 'doesn': 2406,\n",
              " 'heart': 3412,\n",
              " 'ache': 804,\n",
              " 'without': 7610,\n",
              " 'wonder': 7638,\n",
              " 'crave': 2081,\n",
              " 'gauti': 3112,\n",
              " 'sehwag': 6066,\n",
              " 'out': 5071,\n",
              " 'odi': 4952,\n",
              " 'series': 6098,\n",
              " 'actually': 820,\n",
              " 'fuck': 3053,\n",
              " 'whatever': 7535,\n",
              " 'an': 974,\n",
              " 'excuse': 2728,\n",
              " 'tampa': 6777,\n",
              " 'some': 6366,\n",
              " 'point': 5345,\n",
              " 'before': 1328,\n",
              " 'january': 3840,\n",
              " 'though': 6930,\n",
              " 'nah': 4744,\n",
              " 'im': 3657,\n",
              " 'goin': 3194,\n",
              " 'wrks': 7682,\n",
              " 'with': 7607,\n",
              " 'wot': 7666,\n",
              " 'bout': 1481,\n",
              " 'havent': 3391,\n",
              " 'urself': 7280,\n",
              " 'jacket': 3827,\n",
              " 'ah': 882,\n",
              " 'gonna': 3206,\n",
              " 'able': 773,\n",
              " 'too': 7043,\n",
              " 'notice': 4895,\n",
              " 'few': 2846,\n",
              " 'weeks': 7505,\n",
              " 'anyway': 1024,\n",
              " 'plans': 5296,\n",
              " 'hey': 3454,\n",
              " 'babe': 1214,\n",
              " 'far': 2803,\n",
              " 'spun': 6483,\n",
              " 'spk': 6456,\n",
              " 'mo': 4598,\n",
              " 'dead': 2211,\n",
              " 'wrld': 7683,\n",
              " 'been': 1322,\n",
              " 'sleeping': 6292,\n",
              " 'sofa': 6355,\n",
              " 'had': 3321,\n",
              " 'cool': 2028,\n",
              " 'nytho': 4933,\n",
              " 'tx': 7159,\n",
              " 'fonin': 2954,\n",
              " 'hon': 3508,\n",
              " '2mwen': 412,\n",
              " 'bk': 1404,\n",
              " 'frmcloud': 3034,\n",
              " 'fyi': 3079,\n",
              " 'sporadically': 6471,\n",
              " 'starting': 6515,\n",
              " 'like': 4163,\n",
              " 'bc': 1291,\n",
              " 'doin': 2414,\n",
              " 'shit': 6170,\n",
              " 'tired': 6977,\n",
              " 'arguing': 1080,\n",
              " 'about': 775,\n",
              " 'week': 7500,\n",
              " 'after': 861,\n",
              " 'travel': 7094,\n",
              " 'especially': 2670,\n",
              " 'since': 6244,\n",
              " 'talk': 6768,\n",
              " 'boston': 1472,\n",
              " 'personal': 5225,\n",
              " 'statement': 6521,\n",
              " 'lol': 4234,\n",
              " 'woulda': 7670,\n",
              " 'realized': 5673,\n",
              " 'said': 5946,\n",
              " 'nyc': 4930,\n",
              " 'says': 5998,\n",
              " 'ahmad': 887,\n",
              " 'saeed': 5942,\n",
              " 'al': 907,\n",
              " 'hallaq': 3336,\n",
              " 'give': 3169,\n",
              " 'us': 7281,\n",
              " 'id': 3627,\n",
              " 'proof': 5529,\n",
              " 'rs': 5903,\n",
              " 'wont': 7642,\n",
              " 'allow': 932,\n",
              " 'will': 7576,\n",
              " 'come': 1936,\n",
              " 'within': 7609,\n",
              " 'days': 2205,\n",
              " 'sometimes': 6376,\n",
              " 'put': 5577,\n",
              " 'walls': 7434,\n",
              " 'around': 1093,\n",
              " 'hearts': 3414,\n",
              " 'safe': 5943,\n",
              " 'getting': 3150,\n",
              " 'hurt': 3597,\n",
              " 'cares': 1687,\n",
              " 'enough': 2628,\n",
              " 'break': 1522,\n",
              " 'amp': 967,\n",
              " 'closer': 1879,\n",
              " 'goodnoon': 3216,\n",
              " 'roger': 5878,\n",
              " 'probably': 5497,\n",
              " 'rem': 5746,\n",
              " 'train': 7077,\n",
              " 'northampton': 4884,\n",
              " 'afraid': 857,\n",
              " 'haven': 3390,\n",
              " 'found': 2988,\n",
              " 'another': 999,\n",
              " 'app': 1037,\n",
              " 'eh': 2566,\n",
              " 'go': 3183,\n",
              " 'net': 4814,\n",
              " 'cafe': 1624,\n",
              " 'geeee': 3125,\n",
              " 'bruce': 1561,\n",
              " 'downs': 2449,\n",
              " 'fletcher': 2915,\n",
              " 'technical': 6813,\n",
              " 'support': 6687,\n",
              " 'providing': 5542,\n",
              " 'assistance': 1131,\n",
              " 'customer': 2150,\n",
              " 'through': 6940,\n",
              " 'drink': 2467,\n",
              " 'plenty': 5311,\n",
              " 'water': 7464,\n",
              " 'as': 1109,\n",
              " 'usual': 7295,\n",
              " 'iam': 3610,\n",
              " 'fine': 2878,\n",
              " 'doing': 2416,\n",
              " 'ofcourse': 4954,\n",
              " 'also': 941,\n",
              " 'upload': 7258,\n",
              " 'songs': 6385,\n",
              " 'wanna': 7440,\n",
              " 'gym': 3314,\n",
              " 'uncle': 7201,\n",
              " 'abbey': 764,\n",
              " 'year': 7739,\n",
              " 'abiola': 771,\n",
              " 'busy': 1602,\n",
              " 'here': 3444,\n",
              " 'trying': 7128,\n",
              " 'looking': 4248,\n",
              " 'finally': 2874,\n",
              " 'meeting': 4485,\n",
              " 'yup': 7789,\n",
              " 'studying': 6609,\n",
              " 'surfing': 6696,\n",
              " 'lazy': 4099,\n",
              " 'mode': 4613,\n",
              " 'goodmorning': 3213,\n",
              " 'decimal': 2229,\n",
              " 'min': 4542,\n",
              " 'welcome': 7512,\n",
              " 'improved': 3682,\n",
              " 'sex': 6115,\n",
              " 'dogging': 2411,\n",
              " 'club': 1885,\n",
              " 'unsubscribe': 7243,\n",
              " 'service': 6102,\n",
              " 'reply': 5780,\n",
              " 'msgs': 4684,\n",
              " '150p': 311,\n",
              " '18': 328,\n",
              " 'bags': 1231,\n",
              " 'blanket': 1412,\n",
              " 'paper': 5130,\n",
              " 'details': 2299,\n",
              " 'else': 2585,\n",
              " 'there': 6898,\n",
              " 'os': 5059,\n",
              " 'called': 1640,\n",
              " 'ubandu': 7179,\n",
              " 'run': 5923,\n",
              " 'installing': 3742,\n",
              " 'hard': 3364,\n",
              " 'disk': 2376,\n",
              " 'use': 7285,\n",
              " 'copy': 2034,\n",
              " 'important': 3673,\n",
              " 'files': 2863,\n",
              " 'system': 6743,\n",
              " 'repair': 5773,\n",
              " 'shop': 6181,\n",
              " 'telling': 6824,\n",
              " 'abt': 783,\n",
              " 'tht': 6948,\n",
              " 'incident': 3689,\n",
              " 'clearly': 1869,\n",
              " 'fault': 2817,\n",
              " 'mobile': 4602,\n",
              " '07xxxxxxxxx': 46,\n",
              " '000': 1,\n",
              " 'caller': 1641,\n",
              " 'prize': 5491,\n",
              " '06': 19,\n",
              " '03': 13,\n",
              " '2nd': 413,\n",
              " 'attempt': 1153,\n",
              " 'reach': 5658,\n",
              " '09066362231': 236,\n",
              " 'asap': 1111,\n",
              " 'box97n7qp': 1500,\n",
              " '150ppm': 315,\n",
              " 'jess': 3867,\n",
              " 'eve': 2686,\n",
              " 'xxx': 7715,\n",
              " 'tried': 7107,\n",
              " 'contact': 2005,\n",
              " '750': 628,\n",
              " 'pound': 5400,\n",
              " 'claim': 1848,\n",
              " '08718726970': 152,\n",
              " '10p': 274,\n",
              " 'per': 5205,\n",
              " 'national': 4771,\n",
              " 'rate': 5642,\n",
              " 'kaiez': 3935,\n",
              " 'enjoy': 2621,\n",
              " 'tuition': 7141,\n",
              " 'gee': 3124,\n",
              " 'thk': 6921,\n",
              " 'second': 6043,\n",
              " 'option': 5034,\n",
              " 'sounds': 6409,\n",
              " 'beta': 1358,\n",
              " 'yan': 7730,\n",
              " 'jiu': 3876,\n",
              " 'den': 2265,\n",
              " 'ok': 4975,\n",
              " 'leave': 4116,\n",
              " 'hourish': 3548,\n",
              " 'cme': 1892,\n",
              " 'hos': 3536,\n",
              " '2morow': 406,\n",
              " 'wil': 7573,\n",
              " 'her': 3443,\n",
              " 'didnt': 2328,\n",
              " 'any': 1012,\n",
              " 'ic': 3619,\n",
              " 'lotta': 4268,\n",
              " 'childporn': 1807,\n",
              " 'cars': 1696,\n",
              " 'over': 5084,\n",
              " '1000': 264,\n",
              " 'quiz': 5605,\n",
              " 'partner': 5150,\n",
              " 'trip': 7108,\n",
              " 'lifetime': 4156,\n",
              " '83600': 684,\n",
              " 'rcvd': 5654,\n",
              " 'custcare': 2149,\n",
              " '08718720201': 148,\n",
              " 'much': 4696,\n",
              " 'anytime': 1023,\n",
              " 'half': 3332,\n",
              " 'hour': 3547,\n",
              " 'carlos': 1690,\n",
              " 'him': 3466,\n",
              " 'swing': 6729,\n",
              " 'by': 1619,\n",
              " 'usf': 7290,\n",
              " 'little': 4202,\n",
              " 'bit': 1397,\n",
              " 'money': 4630,\n",
              " 'issue': 3803,\n",
              " 'weigh': 7506,\n",
              " 'thanks': 6873,\n",
              " 'breathe': 1527,\n",
              " 'easier': 2527,\n",
              " 'make': 4378,\n",
              " 'sure': 6694,\n",
              " 'regret': 5732,\n",
              " 'show': 6200,\n",
              " 'colours': 1929,\n",
              " 'euro': 2680,\n",
              " '2004': 356,\n",
              " 'england': 2619,\n",
              " 'flag': 2906,\n",
              " '3lions': 473,\n",
              " 'tone': 7032,\n",
              " 'click': 1871,\n",
              " 'following': 2948,\n",
              " 'mm': 4588,\n",
              " 'entirely': 2637,\n",
              " 'understood': 7212,\n",
              " 'text': 6856,\n",
              " 'ho': 3491,\n",
              " 'weekend': 7502,\n",
              " 'brah': 1508,\n",
              " 'someone': 6369,\n",
              " 'toyota': 7071,\n",
              " 'camry': 1657,\n",
              " 'mr': 4673,\n",
              " 'olayiwola': 4987,\n",
              " 'own': 5096,\n",
              " 'mileage': 4535,\n",
              " 'clean': 1863,\n",
              " 'sell': 6073,\n",
              " 'raise': 5621,\n",
              " 'dough': 2444,\n",
              " 'landing': 4059,\n",
              " 'holla': 3502,\n",
              " 'really': 5675,\n",
              " 'quite': 5602,\n",
              " 'funny': 3072,\n",
              " 'shd': 6147,\n",
              " 'haf': 3322,\n",
              " 'shorter': 6190,\n",
              " 'distance': 2381,\n",
              " 'mayb': 4456,\n",
              " 'rite': 5864,\n",
              " 'feeling': 2834,\n",
              " 'being': 1338,\n",
              " 'liked': 4164,\n",
              " 'gd': 3122,\n",
              " 'faster': 2809,\n",
              " 'gals': 3090,\n",
              " 'group': 3280,\n",
              " 'attached': 1151,\n",
              " 'liao': 4145,\n",
              " 'why': 7560,\n",
              " 'messages': 4517,\n",
              " 'ill': 3653,\n",
              " '2mrw': 411,\n",
              " 'ninish': 4850,\n",
              " 'icky': 3624,\n",
              " 'american': 954,\n",
              " 'freek': 3012,\n",
              " 'callin': 1645,\n",
              " 'jen': 3859,\n",
              " 'macha': 4344,\n",
              " 'feel': 2832,\n",
              " 'upset': 7263,\n",
              " 'assume': 1133,\n",
              " 'mindset': 4547,\n",
              " 'believe': 1339,\n",
              " 'evening': 2689,\n",
              " 'wonderful': 7639,\n",
              " 'both': 1474,\n",
              " 'let': 4140,\n",
              " 'life': 4154,\n",
              " 'begin': 1331,\n",
              " 'again': 868,\n",
              " 'salad': 5948,\n",
              " 'desert': 2285,\n",
              " 'many': 4404,\n",
              " 'beers': 1326,\n",
              " 'shall': 6133,\n",
              " 'married': 4420,\n",
              " 'local': 4219,\n",
              " 'women': 7634,\n",
              " 'discreet': 2373,\n",
              " 'action': 814,\n",
              " 'matches': 4436,\n",
              " 'instantly': 3744,\n",
              " 'match': 4434,\n",
              " '69969': 607,\n",
              " 'bcmsfwc1n3xx': 1296,\n",
              " 'doesnt': 2407,\n",
              " 'sense': 6087,\n",
              " 'unless': 7232,\n",
              " 'wikipedia': 7572,\n",
              " 'secret': 6046,\n",
              " 'admirer': 833,\n",
              " 'reveal': 5831,\n",
              " 'thinks': 6916,\n",
              " '09065174042': 226,\n",
              " 'opt': 5030,\n",
              " '50': 545,\n",
              " 'recd': 5687,\n",
              " 'cust': 2148,\n",
              " '07821230901': 39,\n",
              " 'gr8': 3239,\n",
              " 'handle': 3343,\n",
              " 'victoria': 7346,\n",
              " 'island': 3799,\n",
              " 'traffic': 7076,\n",
              " 'plus': 5319,\n",
              " 'album': 911,\n",
              " 'due': 2502,\n",
              " 'those': 6927,\n",
              " 'cocksuckers': 1904,\n",
              " 'makes': 4379,\n",
              " 'better': 1361,\n",
              " 'ipads': 3780,\n",
              " 'worthless': 7665,\n",
              " 'garbage': 3102,\n",
              " 'novelty': 4901,\n",
              " 'items': 3809,\n",
              " 'should': 6194,\n",
              " 'even': 2688,\n",
              " 'wanting': 7444,\n",
              " 'god': 3189,\n",
              " 've': 7327,\n",
              " 'number': 4916,\n",
              " 'glad': 3173,\n",
              " 'xafter': 7702,\n",
              " 'cst': 2118,\n",
              " 'std': 6530,\n",
              " 'ntwk': 4911,\n",
              " 'chg': 1798,\n",
              " 'fuuuuck': 3078,\n",
              " 'sleepin': 6291,\n",
              " 'sup': 6678,\n",
              " 'food': 2955,\n",
              " 'pattern': 5171,\n",
              " 'emerging': 2596,\n",
              " 'friends': 3028,\n",
              " 'drive': 2472,\n",
              " 'smoke': 6329,\n",
              " 'them': 6889,\n",
              " 'weed': 7499,\n",
              " 'fiend': 2851,\n",
              " 'impede': 3671,\n",
              " 'their': 6887,\n",
              " 'other': 5062,\n",
              " 'things': 6911,\n",
              " 'hesitant': 3450,\n",
              " 'normal': 4881,\n",
              " 'wasn': 7454,\n",
              " 'surprised': 6701,\n",
              " 'went': 7520,\n",
              " 'spent': 6445,\n",
              " 'french': 3019,\n",
              " 'guy': 3310,\n",
              " 'met': 4522,\n",
              " 'town': 7070,\n",
              " 'fooled': 2957,\n",
              " 'didn': 2327,\n",
              " 'aight': 892,\n",
              " 'mila': 4534,\n",
              " 'age23': 873,\n",
              " 'blonde': 1429,\n",
              " 'uk': 7187,\n",
              " 'look': 4244,\n",
              " 'fun': 3065,\n",
              " 'mtalk': 4687,\n",
              " '69866': 603,\n",
              " '30pp': 444,\n",
              " '5free': 567,\n",
              " 'increments': 3702,\n",
              " 'help08718728876': 3435,\n",
              " 'opinion': 5024,\n",
              " 'first': 2894,\n",
              " 'every': 2695,\n",
              " 'monday': 4628,\n",
              " 'nxt': 4928,\n",
              " 'vl': 7377,\n",
              " 'completing': 1963,\n",
              " 'nottingham': 4898,\n",
              " 'hrs': 3568,\n",
              " '63miles': 590,\n",
              " 'thing': 6910,\n",
              " 'man': 4388,\n",
              " '40mph': 493,\n",
              " 'roommates': 5887,\n",
              " 'took': 7044,\n",
              " 'forever': 2966,\n",
              " 'seriously': 6100,\n",
              " 'hit': 3475,\n",
              " 'because': 1311,\n",
              " 'otherwise': 5064,\n",
              " 'light': 4160,\n",
              " 'armand': 1088,\n",
              " 'always': 948,\n",
              " 'vomiting': 7386,\n",
              " 'er': 2651,\n",
              " 'yep': 7746,\n",
              " 'props': 5534,\n",
              " 'sitting': 6265,\n",
              " 'mu': 4694,\n",
              " 'waiting': 7420,\n",
              " 'everyone': 2700,\n",
              " 'suite': 6657,\n",
              " 'shower': 6202,\n",
              " 'yo': 7760,\n",
              " 'dropped': 2479,\n",
              " 'mean': 4467,\n",
              " 'chase': 1764,\n",
              " 'stated': 6520,\n",
              " 'watch': 7459,\n",
              " 'movies': 4668,\n",
              " 'horrible': 3534,\n",
              " 'gal': 3088,\n",
              " 'knew': 4008,\n",
              " 'wif': 7567,\n",
              " 'yest': 7749,\n",
              " 'ask': 1118,\n",
              " 'dad': 2168,\n",
              " 'oredi': 5047,\n",
              " 'voucher': 7390,\n",
              " 'holder': 3499,\n",
              " 'pc': 5187,\n",
              " 'please': 5307,\n",
              " 'http': 3570,\n",
              " 'tlp': 6992,\n",
              " 'co': 1898,\n",
              " 'reward': 5837,\n",
              " 'ts': 7129,\n",
              " 'apply': 1045,\n",
              " 'ducking': 2498,\n",
              " 'chinchillas': 1816,\n",
              " 'hmmm': 3486,\n",
              " 'noon': 4875,\n",
              " 'huh': 3580,\n",
              " 'means': 4471,\n",
              " 'computational': 1969,\n",
              " 'science': 6012,\n",
              " 'push': 5573,\n",
              " 'mah': 4365,\n",
              " 'tomorrow': 7030,\n",
              " 'wined': 7586,\n",
              " 'dined': 2347,\n",
              " 'coming': 1941,\n",
              " 'funeral': 3069,\n",
              " 'think': 6912,\n",
              " 'secure': 6053,\n",
              " 'south': 6413,\n",
              " 'chill': 1811,\n",
              " 'kadeem': 3934,\n",
              " 'hasn': 3376,\n",
              " 'selling': 6074,\n",
              " 'paranoid': 5137,\n",
              " 'tonight': 7038,\n",
              " 'neighbors': 4807,\n",
              " 'hope': 3523,\n",
              " 'engagement': 2616,\n",
              " 'fixd': 2901,\n",
              " 'th': 6869,\n",
              " 'next': 4831,\n",
              " 'month': 4638,\n",
              " 'shocking': 6178,\n",
              " 'hmm': 3485,\n",
              " 'njan': 4858,\n",
              " 'vilikkam': 7357,\n",
              " 'ws': 7687,\n",
              " 'sudn': 6645,\n",
              " 'holding': 3500,\n",
              " 'tightly': 6962,\n",
              " 'making': 4382,\n",
              " 'missing': 4571,\n",
              " 'sender': 6082,\n",
              " 'sent': 6091,\n",
              " 'date': 2196,\n",
              " 'lot': 4263,\n",
              " 'thats': 6881,\n",
              " 'everything': 2704,\n",
              " 'via': 7343,\n",
              " 'fullonsms': 3063,\n",
              " 'morning': 4649,\n",
              " 'reason': 5679,\n",
              " 'done': 2427,\n",
              " 'official': 4962,\n",
              " 'poly': 5354,\n",
              " 'ringtone': 5856,\n",
              " 'colour': 1927,\n",
              " 'yer': 7747,\n",
              " '84199': 690,\n",
              " 'eng': 2614,\n",
              " 'box39822': 1493,\n",
              " 'w111wx': 7397,\n",
              " 'lecture': 4120,\n",
              " 'may': 4455,\n",
              " 'pub': 5556,\n",
              " 'medical': 4479,\n",
              " 'college': 1925,\n",
              " '7pm': 643,\n",
              " 'yourself': 7774,\n",
              " 'atleast': 1147,\n",
              " 'once': 4999,\n",
              " 'friend': 3027,\n",
              " 'world': 7656,\n",
              " 'shakespeare': 6131,\n",
              " 'shesil': 6157,\n",
              " 'completed': 1961,\n",
              " 'course': 2063,\n",
              " 'fb': 2824,\n",
              " 'chat': 1767,\n",
              " 'rushing': 5927,\n",
              " 'working': 7653,\n",
              " 'school': 6010,\n",
              " 'rush': 5926,\n",
              " 'hungry': 3589,\n",
              " 'exe': 2731,\n",
              " 'mail': 4370,\n",
              " 'were': 7523,\n",
              " 'mcr': 4463,\n",
              " 'alright': 939,\n",
              " 'sweet': 6720,\n",
              " 'jolt': 3897,\n",
              " 'remind': 5755,\n",
              " 'hear': 3408,\n",
              " 'screamed': 6026,\n",
              " 'across': 809,\n",
              " 'sea': 6037,\n",
              " 'loved': 4278,\n",
              " 'owned': 5097,\n",
              " 'possessive': 5384,\n",
              " 'passionate': 5160,\n",
              " 'kiss': 3998,\n",
              " 'receive': 5690,\n",
              " 'voice': 7381,\n",
              " 'speaking': 6428,\n",
              " 'expression': 2758,\n",
              " 'childish': 1806,\n",
              " 'naughty': 4776,\n",
              " 'sentiment': 6093,\n",
              " 'rowdy': 5896,\n",
              " 'ful': 3061,\n",
              " 'attitude': 1159,\n",
              " 'romantic': 5882,\n",
              " 'shy': 6216,\n",
              " 'attractive': 1161,\n",
              " 'irritating': 3791,\n",
              " 'lovable': 4276,\n",
              " 'available': 1179,\n",
              " 'soiree': 6359,\n",
              " 'june': 3920,\n",
              " '3rd': 479,\n",
              " 'each': 2520,\n",
              " 'w1j6hl': 7401,\n",
              " 'ldn': 4103,\n",
              " 'years': 7740,\n",
              " 'replied': 5778,\n",
              " 'management': 4392,\n",
              " 'office': 4961,\n",
              " 'bank': 1250,\n",
              " 'wednesday': 7496,\n",
              " 'srsly': 6491,\n",
              " 'than': 6870,\n",
              " 'yi': 7755,\n",
              " 'contacted': 2006,\n",
              " 'dating': 2199,\n",
              " 'land': 4058,\n",
              " 'line': 4178,\n",
              " '09050000878': 174,\n",
              " 'pobox45w2tg150p': 5333,\n",
              " 'leh': 4127,\n",
              " 'nothing': 4894,\n",
              " 'lar': 4071,\n",
              " 'nite': 4854,\n",
              " 'scenery': 6007,\n",
              " 'quick': 5598,\n",
              " 'bare': 1259,\n",
              " 'popping': 5370,\n",
              " 'ibuprofens': 3618,\n",
              " 'ned': 4794,\n",
              " 'toa': 7002,\n",
              " 'payoh': 5185,\n",
              " 'while': 7548,\n",
              " 'return': 5828,\n",
              " 'minutes': 4557,\n",
              " 'btw': 1569,\n",
              " 'alibi': 924,\n",
              " 'cutting': 2158,\n",
              " 'hair': 3327,\n",
              " 'whole': 7554,\n",
              " 'size': 6270,\n",
              " 'elephant': 2582,\n",
              " 'tablets': 6749,\n",
              " 'shove': 6198,\n",
              " 'um': 7192,\n",
              " 'ass': 1128,\n",
              " 'room': 5885,\n",
              " 'cannot': 1667,\n",
              " 'house': 3550,\n",
              " 'messy': 4521,\n",
              " 'information': 3719,\n",
              " 'ikea': 3649,\n",
              " 'spelled': 6441,\n",
              " 'caps': 1673,\n",
              " 'yelling': 7742,\n",
              " 'left': 4121,\n",
              " 'bed': 1316,\n",
              " 'among': 963,\n",
              " 'mess': 4514,\n",
              " 'came': 1653,\n",
              " 'class': 1857,\n",
              " 'try': 7126,\n",
              " 'bullshit': 1585,\n",
              " 'listen': 4194,\n",
              " 'less': 4136,\n",
              " 'post': 5389,\n",
              " 'wrote': 7686,\n",
              " 'times': 6970,\n",
              " 'ritten': 5865,\n",
              " 'stuff': 6611,\n",
              " 'sit': 6260,\n",
              " 'angry': 985,\n",
              " 'checked': 1778,\n",
              " 'car': 1675,\n",
              " 'bored': 1466,\n",
              " 'wouldn': 7671,\n",
              " ...}"
            ]
          },
          "metadata": {},
          "execution_count": 104
        }
      ]
    },
    {
      "cell_type": "code",
      "source": [
        "X_train_np = X_train_cv.toarray()"
      ],
      "metadata": {
        "id": "6sQD6JFVohxg"
      },
      "execution_count": 105,
      "outputs": []
    },
    {
      "cell_type": "code",
      "source": [
        "X_train_np"
      ],
      "metadata": {
        "colab": {
          "base_uri": "https://localhost:8080/"
        },
        "id": "cFnpXB4ZpZnu",
        "outputId": "e02d0ff3-2f13-47dd-ec3a-3db69bde0282"
      },
      "execution_count": 106,
      "outputs": [
        {
          "output_type": "execute_result",
          "data": {
            "text/plain": [
              "array([[0, 0, 0, ..., 0, 0, 0],\n",
              "       [0, 0, 0, ..., 0, 0, 0],\n",
              "       [0, 0, 0, ..., 0, 0, 0],\n",
              "       ...,\n",
              "       [0, 0, 0, ..., 0, 0, 0],\n",
              "       [0, 0, 0, ..., 0, 0, 0],\n",
              "       [0, 0, 0, ..., 0, 0, 0]])"
            ]
          },
          "metadata": {},
          "execution_count": 106
        }
      ]
    },
    {
      "cell_type": "code",
      "source": [
        "np.where(X_train_np[0]!=0)"
      ],
      "metadata": {
        "colab": {
          "base_uri": "https://localhost:8080/"
        },
        "id": "3SYSonLTpbnH",
        "outputId": "58bb2a38-cc77-434c-e938-b86bfda983aa"
      },
      "execution_count": 107,
      "outputs": [
        {
          "output_type": "execute_result",
          "data": {
            "text/plain": [
              "(array([1708, 1876, 2396, 2425, 4210, 6374, 6506, 6926, 7001, 7738, 7765]),)"
            ]
          },
          "metadata": {},
          "execution_count": 107
        }
      ]
    },
    {
      "cell_type": "code",
      "source": [
        "from sklearn.naive_bayes import MultinomialNB"
      ],
      "metadata": {
        "id": "NyDMDlZwpjsP"
      },
      "execution_count": 108,
      "outputs": []
    },
    {
      "cell_type": "code",
      "source": [
        "model = MultinomialNB()"
      ],
      "metadata": {
        "id": "4ug5IsmVp5aU"
      },
      "execution_count": 109,
      "outputs": []
    },
    {
      "cell_type": "code",
      "source": [
        "model.fit(X_train_cv,y_train)"
      ],
      "metadata": {
        "colab": {
          "base_uri": "https://localhost:8080/",
          "height": 74
        },
        "id": "blsdA5Ftp8hv",
        "outputId": "309ef7ba-6e0a-4d23-a11e-f4715aed6d1f"
      },
      "execution_count": 110,
      "outputs": [
        {
          "output_type": "execute_result",
          "data": {
            "text/plain": [
              "MultinomialNB()"
            ],
            "text/html": [
              "<style>#sk-container-id-1 {color: black;background-color: white;}#sk-container-id-1 pre{padding: 0;}#sk-container-id-1 div.sk-toggleable {background-color: white;}#sk-container-id-1 label.sk-toggleable__label {cursor: pointer;display: block;width: 100%;margin-bottom: 0;padding: 0.3em;box-sizing: border-box;text-align: center;}#sk-container-id-1 label.sk-toggleable__label-arrow:before {content: \"▸\";float: left;margin-right: 0.25em;color: #696969;}#sk-container-id-1 label.sk-toggleable__label-arrow:hover:before {color: black;}#sk-container-id-1 div.sk-estimator:hover label.sk-toggleable__label-arrow:before {color: black;}#sk-container-id-1 div.sk-toggleable__content {max-height: 0;max-width: 0;overflow: hidden;text-align: left;background-color: #f0f8ff;}#sk-container-id-1 div.sk-toggleable__content pre {margin: 0.2em;color: black;border-radius: 0.25em;background-color: #f0f8ff;}#sk-container-id-1 input.sk-toggleable__control:checked~div.sk-toggleable__content {max-height: 200px;max-width: 100%;overflow: auto;}#sk-container-id-1 input.sk-toggleable__control:checked~label.sk-toggleable__label-arrow:before {content: \"▾\";}#sk-container-id-1 div.sk-estimator input.sk-toggleable__control:checked~label.sk-toggleable__label {background-color: #d4ebff;}#sk-container-id-1 div.sk-label input.sk-toggleable__control:checked~label.sk-toggleable__label {background-color: #d4ebff;}#sk-container-id-1 input.sk-hidden--visually {border: 0;clip: rect(1px 1px 1px 1px);clip: rect(1px, 1px, 1px, 1px);height: 1px;margin: -1px;overflow: hidden;padding: 0;position: absolute;width: 1px;}#sk-container-id-1 div.sk-estimator {font-family: monospace;background-color: #f0f8ff;border: 1px dotted black;border-radius: 0.25em;box-sizing: border-box;margin-bottom: 0.5em;}#sk-container-id-1 div.sk-estimator:hover {background-color: #d4ebff;}#sk-container-id-1 div.sk-parallel-item::after {content: \"\";width: 100%;border-bottom: 1px solid gray;flex-grow: 1;}#sk-container-id-1 div.sk-label:hover label.sk-toggleable__label {background-color: #d4ebff;}#sk-container-id-1 div.sk-serial::before {content: \"\";position: absolute;border-left: 1px solid gray;box-sizing: border-box;top: 0;bottom: 0;left: 50%;z-index: 0;}#sk-container-id-1 div.sk-serial {display: flex;flex-direction: column;align-items: center;background-color: white;padding-right: 0.2em;padding-left: 0.2em;position: relative;}#sk-container-id-1 div.sk-item {position: relative;z-index: 1;}#sk-container-id-1 div.sk-parallel {display: flex;align-items: stretch;justify-content: center;background-color: white;position: relative;}#sk-container-id-1 div.sk-item::before, #sk-container-id-1 div.sk-parallel-item::before {content: \"\";position: absolute;border-left: 1px solid gray;box-sizing: border-box;top: 0;bottom: 0;left: 50%;z-index: -1;}#sk-container-id-1 div.sk-parallel-item {display: flex;flex-direction: column;z-index: 1;position: relative;background-color: white;}#sk-container-id-1 div.sk-parallel-item:first-child::after {align-self: flex-end;width: 50%;}#sk-container-id-1 div.sk-parallel-item:last-child::after {align-self: flex-start;width: 50%;}#sk-container-id-1 div.sk-parallel-item:only-child::after {width: 0;}#sk-container-id-1 div.sk-dashed-wrapped {border: 1px dashed gray;margin: 0 0.4em 0.5em 0.4em;box-sizing: border-box;padding-bottom: 0.4em;background-color: white;}#sk-container-id-1 div.sk-label label {font-family: monospace;font-weight: bold;display: inline-block;line-height: 1.2em;}#sk-container-id-1 div.sk-label-container {text-align: center;}#sk-container-id-1 div.sk-container {/* jupyter's `normalize.less` sets `[hidden] { display: none; }` but bootstrap.min.css set `[hidden] { display: none !important; }` so we also need the `!important` here to be able to override the default hidden behavior on the sphinx rendered scikit-learn.org. See: https://github.com/scikit-learn/scikit-learn/issues/21755 */display: inline-block !important;position: relative;}#sk-container-id-1 div.sk-text-repr-fallback {display: none;}</style><div id=\"sk-container-id-1\" class=\"sk-top-container\"><div class=\"sk-text-repr-fallback\"><pre>MultinomialNB()</pre><b>In a Jupyter environment, please rerun this cell to show the HTML representation or trust the notebook. <br />On GitHub, the HTML representation is unable to render, please try loading this page with nbviewer.org.</b></div><div class=\"sk-container\" hidden><div class=\"sk-item\"><div class=\"sk-estimator sk-toggleable\"><input class=\"sk-toggleable__control sk-hidden--visually\" id=\"sk-estimator-id-1\" type=\"checkbox\" checked><label for=\"sk-estimator-id-1\" class=\"sk-toggleable__label sk-toggleable__label-arrow\">MultinomialNB</label><div class=\"sk-toggleable__content\"><pre>MultinomialNB()</pre></div></div></div></div></div>"
            ]
          },
          "metadata": {},
          "execution_count": 110
        }
      ]
    },
    {
      "cell_type": "code",
      "source": [
        "x_test_cv = v.transform(X_test)"
      ],
      "metadata": {
        "id": "HWTJPAFaqB5s"
      },
      "execution_count": 111,
      "outputs": []
    },
    {
      "cell_type": "code",
      "source": [
        "y_pred = model.predict(x_test_cv)"
      ],
      "metadata": {
        "id": "YElhTid5qHiG"
      },
      "execution_count": 119,
      "outputs": []
    },
    {
      "cell_type": "code",
      "source": [
        "from sklearn.metrics import classification_report"
      ],
      "metadata": {
        "id": "unJ3DGkgqOUA"
      },
      "execution_count": 120,
      "outputs": []
    },
    {
      "cell_type": "code",
      "source": [
        "print(classification_report(y_test,y_pred))"
      ],
      "metadata": {
        "colab": {
          "base_uri": "https://localhost:8080/"
        },
        "id": "KzzhUy6AqWRB",
        "outputId": "3b804cb8-efd5-485d-f33b-a8011c50dc9c"
      },
      "execution_count": 122,
      "outputs": [
        {
          "output_type": "stream",
          "name": "stdout",
          "text": [
            "              precision    recall  f1-score   support\n",
            "\n",
            "           0       0.99      1.00      0.99       988\n",
            "           1       0.99      0.91      0.95       127\n",
            "\n",
            "    accuracy                           0.99      1115\n",
            "   macro avg       0.99      0.96      0.97      1115\n",
            "weighted avg       0.99      0.99      0.99      1115\n",
            "\n"
          ]
        }
      ]
    },
    {
      "cell_type": "code",
      "source": [
        "  emails = [\n",
        "    'Hey mohan, can we get together to watch footbal game tomorrow?',\n",
        "    'Upto 20% discount on parking, exclusive offer just for you. Dont miss this reward!'\n",
        "]\n",
        "\n",
        "emails_count = v.transform(emails)\n",
        "model.predict(emails_count)"
      ],
      "metadata": {
        "colab": {
          "base_uri": "https://localhost:8080/"
        },
        "id": "clwlJ24iqZxW",
        "outputId": "dfb5d4fd-ee90-45df-8faa-4237098db361"
      },
      "execution_count": 123,
      "outputs": [
        {
          "output_type": "execute_result",
          "data": {
            "text/plain": [
              "array([0, 1])"
            ]
          },
          "metadata": {},
          "execution_count": 123
        }
      ]
    },
    {
      "cell_type": "code",
      "source": [
        "from sklearn.pipeline import Pipeline\n",
        "\n",
        "clf = Pipeline([\n",
        "    ('vectorizer', CountVectorizer()),\n",
        "    ('nb', MultinomialNB())\n",
        "])"
      ],
      "metadata": {
        "id": "zbA3BhyfrIBa"
      },
      "execution_count": 124,
      "outputs": []
    },
    {
      "cell_type": "code",
      "source": [
        "\n",
        "clf.fit(X_train, y_train)"
      ],
      "metadata": {
        "colab": {
          "base_uri": "https://localhost:8080/",
          "height": 126
        },
        "id": "0Ad7t5-GrROH",
        "outputId": "8dcd5574-a5a9-46cb-d97c-89e55e738ea8"
      },
      "execution_count": 125,
      "outputs": [
        {
          "output_type": "execute_result",
          "data": {
            "text/plain": [
              "Pipeline(steps=[('vectorizer', CountVectorizer()), ('nb', MultinomialNB())])"
            ],
            "text/html": [
              "<style>#sk-container-id-2 {color: black;background-color: white;}#sk-container-id-2 pre{padding: 0;}#sk-container-id-2 div.sk-toggleable {background-color: white;}#sk-container-id-2 label.sk-toggleable__label {cursor: pointer;display: block;width: 100%;margin-bottom: 0;padding: 0.3em;box-sizing: border-box;text-align: center;}#sk-container-id-2 label.sk-toggleable__label-arrow:before {content: \"▸\";float: left;margin-right: 0.25em;color: #696969;}#sk-container-id-2 label.sk-toggleable__label-arrow:hover:before {color: black;}#sk-container-id-2 div.sk-estimator:hover label.sk-toggleable__label-arrow:before {color: black;}#sk-container-id-2 div.sk-toggleable__content {max-height: 0;max-width: 0;overflow: hidden;text-align: left;background-color: #f0f8ff;}#sk-container-id-2 div.sk-toggleable__content pre {margin: 0.2em;color: black;border-radius: 0.25em;background-color: #f0f8ff;}#sk-container-id-2 input.sk-toggleable__control:checked~div.sk-toggleable__content {max-height: 200px;max-width: 100%;overflow: auto;}#sk-container-id-2 input.sk-toggleable__control:checked~label.sk-toggleable__label-arrow:before {content: \"▾\";}#sk-container-id-2 div.sk-estimator input.sk-toggleable__control:checked~label.sk-toggleable__label {background-color: #d4ebff;}#sk-container-id-2 div.sk-label input.sk-toggleable__control:checked~label.sk-toggleable__label {background-color: #d4ebff;}#sk-container-id-2 input.sk-hidden--visually {border: 0;clip: rect(1px 1px 1px 1px);clip: rect(1px, 1px, 1px, 1px);height: 1px;margin: -1px;overflow: hidden;padding: 0;position: absolute;width: 1px;}#sk-container-id-2 div.sk-estimator {font-family: monospace;background-color: #f0f8ff;border: 1px dotted black;border-radius: 0.25em;box-sizing: border-box;margin-bottom: 0.5em;}#sk-container-id-2 div.sk-estimator:hover {background-color: #d4ebff;}#sk-container-id-2 div.sk-parallel-item::after {content: \"\";width: 100%;border-bottom: 1px solid gray;flex-grow: 1;}#sk-container-id-2 div.sk-label:hover label.sk-toggleable__label {background-color: #d4ebff;}#sk-container-id-2 div.sk-serial::before {content: \"\";position: absolute;border-left: 1px solid gray;box-sizing: border-box;top: 0;bottom: 0;left: 50%;z-index: 0;}#sk-container-id-2 div.sk-serial {display: flex;flex-direction: column;align-items: center;background-color: white;padding-right: 0.2em;padding-left: 0.2em;position: relative;}#sk-container-id-2 div.sk-item {position: relative;z-index: 1;}#sk-container-id-2 div.sk-parallel {display: flex;align-items: stretch;justify-content: center;background-color: white;position: relative;}#sk-container-id-2 div.sk-item::before, #sk-container-id-2 div.sk-parallel-item::before {content: \"\";position: absolute;border-left: 1px solid gray;box-sizing: border-box;top: 0;bottom: 0;left: 50%;z-index: -1;}#sk-container-id-2 div.sk-parallel-item {display: flex;flex-direction: column;z-index: 1;position: relative;background-color: white;}#sk-container-id-2 div.sk-parallel-item:first-child::after {align-self: flex-end;width: 50%;}#sk-container-id-2 div.sk-parallel-item:last-child::after {align-self: flex-start;width: 50%;}#sk-container-id-2 div.sk-parallel-item:only-child::after {width: 0;}#sk-container-id-2 div.sk-dashed-wrapped {border: 1px dashed gray;margin: 0 0.4em 0.5em 0.4em;box-sizing: border-box;padding-bottom: 0.4em;background-color: white;}#sk-container-id-2 div.sk-label label {font-family: monospace;font-weight: bold;display: inline-block;line-height: 1.2em;}#sk-container-id-2 div.sk-label-container {text-align: center;}#sk-container-id-2 div.sk-container {/* jupyter's `normalize.less` sets `[hidden] { display: none; }` but bootstrap.min.css set `[hidden] { display: none !important; }` so we also need the `!important` here to be able to override the default hidden behavior on the sphinx rendered scikit-learn.org. See: https://github.com/scikit-learn/scikit-learn/issues/21755 */display: inline-block !important;position: relative;}#sk-container-id-2 div.sk-text-repr-fallback {display: none;}</style><div id=\"sk-container-id-2\" class=\"sk-top-container\"><div class=\"sk-text-repr-fallback\"><pre>Pipeline(steps=[(&#x27;vectorizer&#x27;, CountVectorizer()), (&#x27;nb&#x27;, MultinomialNB())])</pre><b>In a Jupyter environment, please rerun this cell to show the HTML representation or trust the notebook. <br />On GitHub, the HTML representation is unable to render, please try loading this page with nbviewer.org.</b></div><div class=\"sk-container\" hidden><div class=\"sk-item sk-dashed-wrapped\"><div class=\"sk-label-container\"><div class=\"sk-label sk-toggleable\"><input class=\"sk-toggleable__control sk-hidden--visually\" id=\"sk-estimator-id-2\" type=\"checkbox\" ><label for=\"sk-estimator-id-2\" class=\"sk-toggleable__label sk-toggleable__label-arrow\">Pipeline</label><div class=\"sk-toggleable__content\"><pre>Pipeline(steps=[(&#x27;vectorizer&#x27;, CountVectorizer()), (&#x27;nb&#x27;, MultinomialNB())])</pre></div></div></div><div class=\"sk-serial\"><div class=\"sk-item\"><div class=\"sk-estimator sk-toggleable\"><input class=\"sk-toggleable__control sk-hidden--visually\" id=\"sk-estimator-id-3\" type=\"checkbox\" ><label for=\"sk-estimator-id-3\" class=\"sk-toggleable__label sk-toggleable__label-arrow\">CountVectorizer</label><div class=\"sk-toggleable__content\"><pre>CountVectorizer()</pre></div></div></div><div class=\"sk-item\"><div class=\"sk-estimator sk-toggleable\"><input class=\"sk-toggleable__control sk-hidden--visually\" id=\"sk-estimator-id-4\" type=\"checkbox\" ><label for=\"sk-estimator-id-4\" class=\"sk-toggleable__label sk-toggleable__label-arrow\">MultinomialNB</label><div class=\"sk-toggleable__content\"><pre>MultinomialNB()</pre></div></div></div></div></div></div></div>"
            ]
          },
          "metadata": {},
          "execution_count": 125
        }
      ]
    },
    {
      "cell_type": "code",
      "source": [
        "y_pred = clf.predict(X_test)\n",
        "\n",
        "print(classification_report(y_test, y_pred))"
      ],
      "metadata": {
        "colab": {
          "base_uri": "https://localhost:8080/"
        },
        "id": "TgadResqrTbl",
        "outputId": "180a0b86-5449-4ad3-c3c8-ddf588dbef83"
      },
      "execution_count": 126,
      "outputs": [
        {
          "output_type": "stream",
          "name": "stdout",
          "text": [
            "              precision    recall  f1-score   support\n",
            "\n",
            "           0       0.99      1.00      0.99       988\n",
            "           1       0.99      0.91      0.95       127\n",
            "\n",
            "    accuracy                           0.99      1115\n",
            "   macro avg       0.99      0.96      0.97      1115\n",
            "weighted avg       0.99      0.99      0.99      1115\n",
            "\n"
          ]
        }
      ]
    },
    {
      "cell_type": "code",
      "source": [],
      "metadata": {
        "id": "pd38_Yv-rU7E"
      },
      "execution_count": null,
      "outputs": []
    }
  ]
}