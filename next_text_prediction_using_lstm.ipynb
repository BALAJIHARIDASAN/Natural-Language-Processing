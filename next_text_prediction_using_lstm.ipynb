{
  "nbformat": 4,
  "nbformat_minor": 0,
  "metadata": {
    "colab": {
      "provenance": [],
      "authorship_tag": "ABX9TyO9W4ePXhwj9/kTUUAf/qOl",
      "include_colab_link": true
    },
    "kernelspec": {
      "name": "python3",
      "display_name": "Python 3"
    },
    "language_info": {
      "name": "python"
    }
  },
  "cells": [
    {
      "cell_type": "markdown",
      "metadata": {
        "id": "view-in-github",
        "colab_type": "text"
      },
      "source": [
        "<a href=\"https://colab.research.google.com/github/BALAJIHARIDASAN/Natural-Language-Processing/blob/main/next_text_prediction_using_lstm.ipynb\" target=\"_parent\"><img src=\"https://colab.research.google.com/assets/colab-badge.svg\" alt=\"Open In Colab\"/></a>"
      ]
    },
    {
      "cell_type": "code",
      "source": [
        "text ='''\n",
        "Is Diwali considered the festival of lights in India?\n",
        "Yes, Diwali is considered the festival of lights in India.\n",
        "Is Bharatanatyam a traditional Indian dance form?\n",
        "Yes, Bharatanatyam is a traditional Indian dance form.\n",
        "Is the Taj Mahal considered a symbol of love in Indian culture?\n",
        "Yes, the Taj Mahal is considered a symbol of love in Indian culture.\n",
        "Was Dr. B. R. Ambedkar a key figure in drafting the Indian Constitution?\n",
        "Yes, Dr. B. R. Ambedkar played a significant role in drafting the Indian Constitution.\n",
        "Is Holi celebrated with colors and water in India?\n",
        "Yes, Holi is celebrated with colors and water in India.\n",
        "Is the Lion Capital of Ashoka the national emblem of India?\n",
        "Yes, the Lion Capital of Ashoka is the national emblem of India.\n",
        "Is the saree a traditional attire worn by women in India?\n",
        "Yes, the saree is a traditional attire worn by women in India.\n",
        "Was \"Jana Gana Mana\" written by Rabindranath Tagore?\n",
        "Yes, \"Jana Gana Mana\" was written by Rabindranath Tagore.\n",
        "Is the Mahabharata revered for its philosophical teachings in India?\n",
        "Yes, the Mahabharata is revered for its philosophical teachings in India.\n",
        "Is \"Namaste\" the traditional greeting in India?\n",
        "Yes, \"Namaste\" is the traditional greeting in India.\n",
        "Is Sachin Tendulkar often referred to as the \"God of Cricket\" in India?\n",
        "Yes, Sachin Tendulkar is often referred to as the \"God of Cricket\" in India.\n",
        "Is Field Hockey the national sport of India?\n",
        "Yes, Field Hockey is the national sport of India.\n",
        "Does Sachin Tendulkar hold the record for the most centuries in international cricket?\n",
        "Yes, Sachin Tendulkar holds the record for the most centuries in international cricket.\n",
        "Was Abhinav Bindra the first Indian to win an individual Olympic gold medal?\n",
        "Yes, Abhinav Bindra was the first Indian to win an individual Olympic gold medal.\n",
        "Is the Indian Premier League (IPL) a professional Twenty20 cricket league in India?\n",
        "Yes, the Indian Premier League (IPL) is a professional Twenty20 cricket league in India.\n",
        "Is Milkha Singh known as the \"Flying Sikh\" in Indian sports history?\n",
        "Yes, Milkha Singh is known as the \"Flying Sikh\" in Indian sports history.\n",
        "Has wrestler Sushil Kumar won the most Olympic medals among Indian athletes?\n",
        "Yes, wrestler Sushil Kumar has won the most Olympic medals among Indian athletes.\n",
        "Is Kabaddi a traditional Indian sport with cultural significance?\n",
        "Yes, Kabaddi is a traditional Indian sport with cultural significance.\n",
        "Is Virat Kohli the captain of the Indian men's cricket team as of 2024?\n",
        "Yes, Virat Kohli is the captain of the Indian men's cricket team as of 2024.\n",
        "Does the Nehru Cup promote football and international relations in India?\n",
        "Yes, the Nehru Cup promotes football and international relations in India.\n",
        "Was Jawaharlal Nehru the first Prime Minister of independent India?\n",
        "Yes, Jawaharlal Nehru was the first Prime Minister of independent India.\n",
        "Is the Lok Sabha the lower house of the Parliament of India?\n",
        "Yes, the Lok Sabha is the lower house of the Parliament of India.\n",
        "Is Ram Nath Kovind the current President of India?\n",
        "Yes, Ram Nath Kovind is the current President of India.\n",
        "Was the Indian Emergency of 1975 imposed by then Prime Minister Indira Gandhi?\n",
        "Yes, the Indian Emergency of 1975 was imposed by then Prime Minister Indira Gandhi.\n",
        "Is Indira Gandhi known as the \"Iron Lady of India\" in Indian politics?\n",
        "Yes, Indira Gandhi is known as the \"Iron Lady of India\" in Indian politics.\n",
        "Is the Rajya Sabha the upper house of the Parliament of India?\n",
        "Yes, the Rajya Sabha is the upper house of the Parliament of India.\n",
        "Is Dr. Manmohan Singh credited with being the architect of India's economic reforms in 1991?\n",
        "Yes, Dr. Manmohan Singh is credited with being the architect of India's economic reforms in 1991.\n",
        "Is the Indian National Congress one of the oldest and major political parties in India?\n",
        "Yes, the Indian National Congress is one of the oldest and major political parties in India.\n",
        "Was Indira Gandhi the first female Prime Minister of India?\n",
        "Yes, Indira Gandhi was the first female Prime Minister of India.\n",
        "Is the Chief Justice of India responsible for the administration and supervision of the court system?\n",
        "Yes, the Chief Justice of India is responsible for the administration and supervision of the court system.\n",
        "'''"
      ],
      "metadata": {
        "id": "RA8QNdjgL1bs"
      },
      "execution_count": 1,
      "outputs": []
    },
    {
      "cell_type": "code",
      "source": [
        "import tensorflow as tf\n",
        "from tensorflow.keras.preprocessing.text import Tokenizer"
      ],
      "metadata": {
        "id": "4AbRnMazL17z"
      },
      "execution_count": 2,
      "outputs": []
    },
    {
      "cell_type": "code",
      "source": [
        "tokenizer = Tokenizer()"
      ],
      "metadata": {
        "id": "UyTmXxq2L7lG"
      },
      "execution_count": 3,
      "outputs": []
    },
    {
      "cell_type": "code",
      "source": [
        "tokenizer.fit_on_texts([text])"
      ],
      "metadata": {
        "id": "heRYcYZzL-Ur"
      },
      "execution_count": 4,
      "outputs": []
    },
    {
      "cell_type": "code",
      "source": [
        "\n",
        "input_sequences=[]\n",
        "for sentence in text.split('\\n'):\n",
        "  tokenized_sentence = tokenizer.texts_to_sequences([sentence])[0]\n",
        "  for i in range(1,len(tokenized_sentence)):\n",
        "    input_sequences.append(tokenized_sentence[:i+1])"
      ],
      "metadata": {
        "id": "bsKP1zL1MFxr"
      },
      "execution_count": 5,
      "outputs": []
    },
    {
      "cell_type": "code",
      "source": [
        "max_len = max([len(x) for x in input_sequences])\n",
        "max_len"
      ],
      "metadata": {
        "colab": {
          "base_uri": "https://localhost:8080/"
        },
        "id": "6RzPVBEaPfT4",
        "outputId": "877c8140-5bf0-4e67-c599-bf5a5094a6b4"
      },
      "execution_count": 6,
      "outputs": [
        {
          "output_type": "execute_result",
          "data": {
            "text/plain": [
              "17"
            ]
          },
          "metadata": {},
          "execution_count": 6
        }
      ]
    },
    {
      "cell_type": "code",
      "source": [
        "from tensorflow.keras.preprocessing.sequence import pad_sequences\n",
        "padded_input_sequences = pad_sequences(input_sequences, maxlen = max_len, padding='pre')"
      ],
      "metadata": {
        "id": "D1D7WrzSQN9f"
      },
      "execution_count": 7,
      "outputs": []
    },
    {
      "cell_type": "code",
      "source": [
        "padded_input_sequences"
      ],
      "metadata": {
        "colab": {
          "base_uri": "https://localhost:8080/"
        },
        "id": "uKeBg7q3QQtz",
        "outputId": "3d7381c9-e445-4a42-84b9-97e6fe0fdbe8"
      },
      "execution_count": 8,
      "outputs": [
        {
          "output_type": "execute_result",
          "data": {
            "text/plain": [
              "array([[  0,   0,   0, ...,   0,   2,  39],\n",
              "       [  0,   0,   0, ...,   2,  39,  23],\n",
              "       [  0,   0,   0, ...,  39,  23,   1],\n",
              "       ...,\n",
              "       [  0,   0,   6, ..., 161,   3,   1],\n",
              "       [  0,   6,   1, ...,   3,   1, 162],\n",
              "       [  6,   1, 157, ...,   1, 162, 163]], dtype=int32)"
            ]
          },
          "metadata": {},
          "execution_count": 8
        }
      ]
    },
    {
      "cell_type": "code",
      "source": [
        "X = padded_input_sequences[:,:-1]"
      ],
      "metadata": {
        "id": "Bl6Z7A-tQTIk"
      },
      "execution_count": 9,
      "outputs": []
    },
    {
      "cell_type": "code",
      "source": [
        "y = padded_input_sequences[:,-1]"
      ],
      "metadata": {
        "id": "gvjlABYoQVHa"
      },
      "execution_count": 10,
      "outputs": []
    },
    {
      "cell_type": "code",
      "source": [
        "from tensorflow.keras.utils import to_categorical\n",
        "y = to_categorical(y,num_classes=283)"
      ],
      "metadata": {
        "id": "eOW3uyoRQWpE"
      },
      "execution_count": 11,
      "outputs": []
    },
    {
      "cell_type": "code",
      "source": [
        "from tensorflow.keras.models import Sequential\n",
        "from tensorflow.keras.layers import Embedding, LSTM, Dense"
      ],
      "metadata": {
        "id": "XdBRJ2aCQY9F"
      },
      "execution_count": 12,
      "outputs": []
    },
    {
      "cell_type": "code",
      "source": [
        "model = Sequential()\n",
        "model.add(Embedding(283, 100, input_length=16))\n",
        "model.add(LSTM(150))\n",
        "model.add(Dense(283, activation='softmax'))"
      ],
      "metadata": {
        "id": "LLqqhikJQbRe"
      },
      "execution_count": 13,
      "outputs": []
    },
    {
      "cell_type": "code",
      "source": [
        "model.compile(loss='categorical_crossentropy', optimizer='adam',metrics=['accuracy'])"
      ],
      "metadata": {
        "id": "8yWC583fQdLK"
      },
      "execution_count": 14,
      "outputs": []
    },
    {
      "cell_type": "code",
      "source": [
        "model.summary()"
      ],
      "metadata": {
        "colab": {
          "base_uri": "https://localhost:8080/"
        },
        "id": "q7tbNLDnQiIJ",
        "outputId": "4358a76c-4181-4c87-8ca9-df3b0deb4c93"
      },
      "execution_count": 15,
      "outputs": [
        {
          "output_type": "stream",
          "name": "stdout",
          "text": [
            "Model: \"sequential\"\n",
            "_________________________________________________________________\n",
            " Layer (type)                Output Shape              Param #   \n",
            "=================================================================\n",
            " embedding (Embedding)       (None, 16, 100)           28300     \n",
            "                                                                 \n",
            " lstm (LSTM)                 (None, 150)               150600    \n",
            "                                                                 \n",
            " dense (Dense)               (None, 283)               42733     \n",
            "                                                                 \n",
            "=================================================================\n",
            "Total params: 221633 (865.75 KB)\n",
            "Trainable params: 221633 (865.75 KB)\n",
            "Non-trainable params: 0 (0.00 Byte)\n",
            "_________________________________________________________________\n"
          ]
        }
      ]
    },
    {
      "cell_type": "code",
      "source": [
        "model.fit(X,y,epochs=100)\n"
      ],
      "metadata": {
        "colab": {
          "base_uri": "https://localhost:8080/"
        },
        "id": "EUvAdPXhQjvw",
        "outputId": "be4286bf-869c-40f3-a731-780374012523"
      },
      "execution_count": 16,
      "outputs": [
        {
          "output_type": "stream",
          "name": "stdout",
          "text": [
            "Epoch 1/100\n",
            "21/21 [==============================] - 4s 34ms/step - loss: 5.3841 - accuracy: 0.1019\n",
            "Epoch 2/100\n",
            "21/21 [==============================] - 1s 55ms/step - loss: 4.6716 - accuracy: 0.1096\n",
            "Epoch 3/100\n",
            "21/21 [==============================] - 1s 66ms/step - loss: 4.5554 - accuracy: 0.1111\n",
            "Epoch 4/100\n",
            "21/21 [==============================] - 1s 61ms/step - loss: 4.5052 - accuracy: 0.1111\n",
            "Epoch 5/100\n",
            "21/21 [==============================] - 1s 31ms/step - loss: 4.4498 - accuracy: 0.1327\n",
            "Epoch 6/100\n",
            "21/21 [==============================] - 1s 33ms/step - loss: 4.3332 - accuracy: 0.1651\n",
            "Epoch 7/100\n",
            "21/21 [==============================] - 1s 33ms/step - loss: 4.1801 - accuracy: 0.1929\n",
            "Epoch 8/100\n",
            "21/21 [==============================] - 1s 32ms/step - loss: 4.0258 - accuracy: 0.2114\n",
            "Epoch 9/100\n",
            "21/21 [==============================] - 1s 50ms/step - loss: 3.8830 - accuracy: 0.2222\n",
            "Epoch 10/100\n",
            "21/21 [==============================] - 1s 65ms/step - loss: 3.7013 - accuracy: 0.2608\n",
            "Epoch 11/100\n",
            "21/21 [==============================] - 1s 43ms/step - loss: 3.5392 - accuracy: 0.2670\n",
            "Epoch 12/100\n",
            "21/21 [==============================] - 1s 32ms/step - loss: 3.3730 - accuracy: 0.2793\n",
            "Epoch 13/100\n",
            "21/21 [==============================] - 1s 34ms/step - loss: 3.2000 - accuracy: 0.3009\n",
            "Epoch 14/100\n",
            "21/21 [==============================] - 1s 32ms/step - loss: 3.0334 - accuracy: 0.3272\n",
            "Epoch 15/100\n",
            "21/21 [==============================] - 1s 32ms/step - loss: 2.8640 - accuracy: 0.3349\n",
            "Epoch 16/100\n",
            "21/21 [==============================] - 1s 33ms/step - loss: 2.6871 - accuracy: 0.3796\n",
            "Epoch 17/100\n",
            "21/21 [==============================] - 1s 32ms/step - loss: 2.5239 - accuracy: 0.3966\n",
            "Epoch 18/100\n",
            "21/21 [==============================] - 1s 33ms/step - loss: 2.3735 - accuracy: 0.4259\n",
            "Epoch 19/100\n",
            "21/21 [==============================] - 1s 33ms/step - loss: 2.2221 - accuracy: 0.4522\n",
            "Epoch 20/100\n",
            "21/21 [==============================] - 1s 32ms/step - loss: 2.0607 - accuracy: 0.5231\n",
            "Epoch 21/100\n",
            "21/21 [==============================] - 1s 33ms/step - loss: 1.9330 - accuracy: 0.5833\n",
            "Epoch 22/100\n",
            "21/21 [==============================] - 1s 32ms/step - loss: 1.8064 - accuracy: 0.6096\n",
            "Epoch 23/100\n",
            "21/21 [==============================] - 1s 32ms/step - loss: 1.6949 - accuracy: 0.6528\n",
            "Epoch 24/100\n",
            "21/21 [==============================] - 1s 33ms/step - loss: 1.5926 - accuracy: 0.6775\n",
            "Epoch 25/100\n",
            "21/21 [==============================] - 1s 37ms/step - loss: 1.4915 - accuracy: 0.7083\n",
            "Epoch 26/100\n",
            "21/21 [==============================] - 1s 61ms/step - loss: 1.4108 - accuracy: 0.7377\n",
            "Epoch 27/100\n",
            "21/21 [==============================] - 1s 62ms/step - loss: 1.3254 - accuracy: 0.7500\n",
            "Epoch 28/100\n",
            "21/21 [==============================] - 1s 33ms/step - loss: 1.2517 - accuracy: 0.7531\n",
            "Epoch 29/100\n",
            "21/21 [==============================] - 1s 33ms/step - loss: 1.1834 - accuracy: 0.7840\n",
            "Epoch 30/100\n",
            "21/21 [==============================] - 1s 31ms/step - loss: 1.1082 - accuracy: 0.7901\n",
            "Epoch 31/100\n",
            "21/21 [==============================] - 1s 32ms/step - loss: 1.0562 - accuracy: 0.8056\n",
            "Epoch 32/100\n",
            "21/21 [==============================] - 1s 33ms/step - loss: 1.0065 - accuracy: 0.8225\n",
            "Epoch 33/100\n",
            "21/21 [==============================] - 1s 33ms/step - loss: 0.9567 - accuracy: 0.8287\n",
            "Epoch 34/100\n",
            "21/21 [==============================] - 1s 33ms/step - loss: 0.9090 - accuracy: 0.8364\n",
            "Epoch 35/100\n",
            "21/21 [==============================] - 1s 32ms/step - loss: 0.8743 - accuracy: 0.8426\n",
            "Epoch 36/100\n",
            "21/21 [==============================] - 1s 33ms/step - loss: 0.8332 - accuracy: 0.8488\n",
            "Epoch 37/100\n",
            "21/21 [==============================] - 1s 32ms/step - loss: 0.8006 - accuracy: 0.8596\n",
            "Epoch 38/100\n",
            "21/21 [==============================] - 1s 32ms/step - loss: 0.7712 - accuracy: 0.8565\n",
            "Epoch 39/100\n",
            "21/21 [==============================] - 1s 33ms/step - loss: 0.7387 - accuracy: 0.8735\n",
            "Epoch 40/100\n",
            "21/21 [==============================] - 1s 34ms/step - loss: 0.7141 - accuracy: 0.8719\n",
            "Epoch 41/100\n",
            "21/21 [==============================] - 1s 33ms/step - loss: 0.6878 - accuracy: 0.8765\n",
            "Epoch 42/100\n",
            "21/21 [==============================] - 1s 47ms/step - loss: 0.6683 - accuracy: 0.8796\n",
            "Epoch 43/100\n",
            "21/21 [==============================] - 1s 60ms/step - loss: 0.6419 - accuracy: 0.8781\n",
            "Epoch 44/100\n",
            "21/21 [==============================] - 1s 49ms/step - loss: 0.6208 - accuracy: 0.8843\n",
            "Epoch 45/100\n",
            "21/21 [==============================] - 1s 32ms/step - loss: 0.6018 - accuracy: 0.8889\n",
            "Epoch 46/100\n",
            "21/21 [==============================] - 1s 34ms/step - loss: 0.5888 - accuracy: 0.8843\n",
            "Epoch 47/100\n",
            "21/21 [==============================] - 1s 33ms/step - loss: 0.5720 - accuracy: 0.8935\n",
            "Epoch 48/100\n",
            "21/21 [==============================] - 1s 30ms/step - loss: 0.5593 - accuracy: 0.8904\n",
            "Epoch 49/100\n",
            "21/21 [==============================] - 1s 34ms/step - loss: 0.5432 - accuracy: 0.8966\n",
            "Epoch 50/100\n",
            "21/21 [==============================] - 1s 34ms/step - loss: 0.5253 - accuracy: 0.8966\n",
            "Epoch 51/100\n",
            "21/21 [==============================] - 1s 32ms/step - loss: 0.5206 - accuracy: 0.8951\n",
            "Epoch 52/100\n",
            "21/21 [==============================] - 1s 31ms/step - loss: 0.5056 - accuracy: 0.9012\n",
            "Epoch 53/100\n",
            "21/21 [==============================] - 1s 33ms/step - loss: 0.4985 - accuracy: 0.8981\n",
            "Epoch 54/100\n",
            "21/21 [==============================] - 1s 33ms/step - loss: 0.4834 - accuracy: 0.8966\n",
            "Epoch 55/100\n",
            "21/21 [==============================] - 1s 32ms/step - loss: 0.4723 - accuracy: 0.8981\n",
            "Epoch 56/100\n",
            "21/21 [==============================] - 1s 34ms/step - loss: 0.4647 - accuracy: 0.9028\n",
            "Epoch 57/100\n",
            "21/21 [==============================] - 1s 34ms/step - loss: 0.4600 - accuracy: 0.9043\n",
            "Epoch 58/100\n",
            "21/21 [==============================] - 1s 34ms/step - loss: 0.4559 - accuracy: 0.9028\n",
            "Epoch 59/100\n",
            "21/21 [==============================] - 1s 63ms/step - loss: 0.4429 - accuracy: 0.9074\n",
            "Epoch 60/100\n",
            "21/21 [==============================] - 1s 62ms/step - loss: 0.4362 - accuracy: 0.9074\n",
            "Epoch 61/100\n",
            "21/21 [==============================] - 1s 32ms/step - loss: 0.4268 - accuracy: 0.9059\n",
            "Epoch 62/100\n",
            "21/21 [==============================] - 1s 33ms/step - loss: 0.4234 - accuracy: 0.8997\n",
            "Epoch 63/100\n",
            "21/21 [==============================] - 1s 33ms/step - loss: 0.4171 - accuracy: 0.9059\n",
            "Epoch 64/100\n",
            "21/21 [==============================] - 1s 33ms/step - loss: 0.4146 - accuracy: 0.9059\n",
            "Epoch 65/100\n",
            "21/21 [==============================] - 1s 34ms/step - loss: 0.4056 - accuracy: 0.9059\n",
            "Epoch 66/100\n",
            "21/21 [==============================] - 1s 32ms/step - loss: 0.4019 - accuracy: 0.9028\n",
            "Epoch 67/100\n",
            "21/21 [==============================] - 1s 32ms/step - loss: 0.3957 - accuracy: 0.9074\n",
            "Epoch 68/100\n",
            "21/21 [==============================] - 1s 33ms/step - loss: 0.3893 - accuracy: 0.9074\n",
            "Epoch 69/100\n",
            "21/21 [==============================] - 1s 33ms/step - loss: 0.3916 - accuracy: 0.9059\n",
            "Epoch 70/100\n",
            "21/21 [==============================] - 1s 32ms/step - loss: 0.3860 - accuracy: 0.9074\n",
            "Epoch 71/100\n",
            "21/21 [==============================] - 1s 34ms/step - loss: 0.3822 - accuracy: 0.9059\n",
            "Epoch 72/100\n",
            "21/21 [==============================] - 1s 33ms/step - loss: 0.3792 - accuracy: 0.9059\n",
            "Epoch 73/100\n",
            "21/21 [==============================] - 1s 33ms/step - loss: 0.3722 - accuracy: 0.9074\n",
            "Epoch 74/100\n",
            "21/21 [==============================] - 1s 33ms/step - loss: 0.3699 - accuracy: 0.9074\n",
            "Epoch 75/100\n",
            "21/21 [==============================] - 1s 56ms/step - loss: 0.3654 - accuracy: 0.9105\n",
            "Epoch 76/100\n",
            "21/21 [==============================] - 1s 61ms/step - loss: 0.3634 - accuracy: 0.9059\n",
            "Epoch 77/100\n",
            "21/21 [==============================] - 1s 43ms/step - loss: 0.3599 - accuracy: 0.9090\n",
            "Epoch 78/100\n",
            "21/21 [==============================] - 1s 33ms/step - loss: 0.3580 - accuracy: 0.9074\n",
            "Epoch 79/100\n",
            "21/21 [==============================] - 1s 33ms/step - loss: 0.3563 - accuracy: 0.9074\n",
            "Epoch 80/100\n",
            "21/21 [==============================] - 1s 32ms/step - loss: 0.3526 - accuracy: 0.9074\n",
            "Epoch 81/100\n",
            "21/21 [==============================] - 1s 34ms/step - loss: 0.3493 - accuracy: 0.9074\n",
            "Epoch 82/100\n",
            "21/21 [==============================] - 1s 34ms/step - loss: 0.3517 - accuracy: 0.9043\n",
            "Epoch 83/100\n",
            "21/21 [==============================] - 1s 32ms/step - loss: 0.3481 - accuracy: 0.9074\n",
            "Epoch 84/100\n",
            "21/21 [==============================] - 1s 33ms/step - loss: 0.3449 - accuracy: 0.9090\n",
            "Epoch 85/100\n",
            "21/21 [==============================] - 1s 33ms/step - loss: 0.3429 - accuracy: 0.9074\n",
            "Epoch 86/100\n",
            "21/21 [==============================] - 1s 34ms/step - loss: 0.3389 - accuracy: 0.9043\n",
            "Epoch 87/100\n",
            "21/21 [==============================] - 1s 32ms/step - loss: 0.3399 - accuracy: 0.9090\n",
            "Epoch 88/100\n",
            "21/21 [==============================] - 1s 34ms/step - loss: 0.3378 - accuracy: 0.9043\n",
            "Epoch 89/100\n",
            "21/21 [==============================] - 1s 34ms/step - loss: 0.3349 - accuracy: 0.9074\n",
            "Epoch 90/100\n",
            "21/21 [==============================] - 1s 33ms/step - loss: 0.3354 - accuracy: 0.9074\n",
            "Epoch 91/100\n",
            "21/21 [==============================] - 1s 46ms/step - loss: 0.3356 - accuracy: 0.9059\n",
            "Epoch 92/100\n",
            "21/21 [==============================] - 1s 63ms/step - loss: 0.3398 - accuracy: 0.9059\n",
            "Epoch 93/100\n",
            "21/21 [==============================] - 1s 49ms/step - loss: 0.3316 - accuracy: 0.9043\n",
            "Epoch 94/100\n",
            "21/21 [==============================] - 1s 33ms/step - loss: 0.3284 - accuracy: 0.9105\n",
            "Epoch 95/100\n",
            "21/21 [==============================] - 1s 34ms/step - loss: 0.3295 - accuracy: 0.9043\n",
            "Epoch 96/100\n",
            "21/21 [==============================] - 1s 33ms/step - loss: 0.3297 - accuracy: 0.9074\n",
            "Epoch 97/100\n",
            "21/21 [==============================] - 1s 33ms/step - loss: 0.3279 - accuracy: 0.9059\n",
            "Epoch 98/100\n",
            "21/21 [==============================] - 1s 32ms/step - loss: 0.3221 - accuracy: 0.9090\n",
            "Epoch 99/100\n",
            "21/21 [==============================] - 1s 33ms/step - loss: 0.3231 - accuracy: 0.9090\n",
            "Epoch 100/100\n",
            "21/21 [==============================] - 1s 34ms/step - loss: 0.3215 - accuracy: 0.9074\n"
          ]
        },
        {
          "output_type": "execute_result",
          "data": {
            "text/plain": [
              "<keras.src.callbacks.History at 0x78903848a710>"
            ]
          },
          "metadata": {},
          "execution_count": 16
        }
      ]
    },
    {
      "cell_type": "code",
      "source": [
        "import numpy as np\n",
        "import time\n",
        "text = \"National\"\n",
        "\n",
        "for i in range(10):\n",
        "  # tokenize\n",
        "  token_text = tokenizer.texts_to_sequences([text])[0]\n",
        "  # padding\n",
        "  padded_token_text = pad_sequences([token_text], maxlen=16, padding='pre')\n",
        "  # predict\n",
        "  pos = np.argmax(model.predict(padded_token_text))\n",
        "\n",
        "  for word,index in tokenizer.word_index.items():\n",
        "    if index == pos:\n",
        "      text = text + \" \" + word\n",
        "      print(text)\n",
        "      time.sleep(2)"
      ],
      "metadata": {
        "colab": {
          "base_uri": "https://localhost:8080/"
        },
        "id": "Si-uG_IfQ-eJ",
        "outputId": "02e6a864-6d9c-4a63-eef5-049f161fdfa5"
      },
      "execution_count": 24,
      "outputs": [
        {
          "output_type": "stream",
          "name": "stdout",
          "text": [
            "1/1 [==============================] - 0s 28ms/step\n",
            "National wrestler\n",
            "1/1 [==============================] - 0s 25ms/step\n",
            "National wrestler sushil\n",
            "1/1 [==============================] - 0s 26ms/step\n",
            "National wrestler sushil kumar\n",
            "1/1 [==============================] - 0s 39ms/step\n",
            "National wrestler sushil kumar has\n",
            "1/1 [==============================] - 0s 39ms/step\n",
            "National wrestler sushil kumar has won\n",
            "1/1 [==============================] - 0s 24ms/step\n",
            "National wrestler sushil kumar has won the\n",
            "1/1 [==============================] - 0s 24ms/step\n",
            "National wrestler sushil kumar has won the most\n",
            "1/1 [==============================] - 0s 26ms/step\n",
            "National wrestler sushil kumar has won the most olympic\n",
            "1/1 [==============================] - 0s 27ms/step\n",
            "National wrestler sushil kumar has won the most olympic medals\n",
            "1/1 [==============================] - 0s 25ms/step\n",
            "National wrestler sushil kumar has won the most olympic medals among\n"
          ]
        }
      ]
    },
    {
      "cell_type": "code",
      "source": [
        "np.argmax(model.predict(padded_token_text))"
      ],
      "metadata": {
        "colab": {
          "base_uri": "https://localhost:8080/"
        },
        "id": "XRJFTUbkRr21",
        "outputId": "ce1e7da1-ff2f-43fb-8f08-774bb6ab98f8"
      },
      "execution_count": 25,
      "outputs": [
        {
          "output_type": "stream",
          "name": "stdout",
          "text": [
            "1/1 [==============================] - 0s 25ms/step\n"
          ]
        },
        {
          "output_type": "execute_result",
          "data": {
            "text/plain": [
              "110"
            ]
          },
          "metadata": {},
          "execution_count": 25
        }
      ]
    },
    {
      "cell_type": "code",
      "source": [
        "tokenizer.word_index.items()"
      ],
      "metadata": {
        "colab": {
          "base_uri": "https://localhost:8080/"
        },
        "id": "h9YhxA2hR6Yn",
        "outputId": "b602e1b0-2248-4ecd-fc0b-16d3ebf057f1"
      },
      "execution_count": 26,
      "outputs": [
        {
          "output_type": "execute_result",
          "data": {
            "text/plain": [
              "dict_items([('the', 1), ('is', 2), ('of', 3), ('india', 4), ('in', 5), ('yes', 6), ('indian', 7), ('a', 8), ('was', 9), ('traditional', 10), ('and', 11), ('as', 12), ('cricket', 13), ('with', 14), ('national', 15), ('by', 16), ('for', 17), ('first', 18), ('prime', 19), ('minister', 20), ('indira', 21), ('gandhi', 22), ('considered', 23), ('dr', 24), ('sachin', 25), ('tendulkar', 26), ('to', 27), ('sport', 28), ('most', 29), ('international', 30), ('olympic', 31), ('league', 32), ('singh', 33), ('known', 34), ('nehru', 35), ('sabha', 36), ('house', 37), ('parliament', 38), ('diwali', 39), ('festival', 40), ('lights', 41), ('bharatanatyam', 42), ('dance', 43), ('form', 44), ('taj', 45), ('mahal', 46), ('symbol', 47), ('love', 48), ('culture', 49), ('b', 50), ('r', 51), ('ambedkar', 52), ('drafting', 53), ('constitution', 54), ('holi', 55), ('celebrated', 56), ('colors', 57), ('water', 58), ('lion', 59), ('capital', 60), ('ashoka', 61), ('emblem', 62), ('saree', 63), ('attire', 64), ('worn', 65), ('women', 66), ('jana', 67), ('gana', 68), ('mana', 69), ('written', 70), ('rabindranath', 71), ('tagore', 72), ('mahabharata', 73), ('revered', 74), ('its', 75), ('philosophical', 76), ('teachings', 77), ('namaste', 78), ('greeting', 79), ('often', 80), ('referred', 81), ('god', 82), ('field', 83), ('hockey', 84), ('does', 85), ('record', 86), ('centuries', 87), ('abhinav', 88), ('bindra', 89), ('win', 90), ('an', 91), ('individual', 92), ('gold', 93), ('medal', 94), ('premier', 95), ('ipl', 96), ('professional', 97), ('twenty20', 98), ('milkha', 99), ('flying', 100), ('sikh', 101), ('sports', 102), ('history', 103), ('has', 104), ('wrestler', 105), ('sushil', 106), ('kumar', 107), ('won', 108), ('medals', 109), ('among', 110), ('athletes', 111), ('kabaddi', 112), ('cultural', 113), ('significance', 114), ('virat', 115), ('kohli', 116), ('captain', 117), (\"men's\", 118), ('team', 119), ('2024', 120), ('cup', 121), ('football', 122), ('relations', 123), ('jawaharlal', 124), ('independent', 125), ('lok', 126), ('lower', 127), ('ram', 128), ('nath', 129), ('kovind', 130), ('current', 131), ('president', 132), ('emergency', 133), ('1975', 134), ('imposed', 135), ('then', 136), ('iron', 137), ('lady', 138), ('politics', 139), ('rajya', 140), ('upper', 141), ('manmohan', 142), ('credited', 143), ('being', 144), ('architect', 145), (\"india's\", 146), ('economic', 147), ('reforms', 148), ('1991', 149), ('congress', 150), ('one', 151), ('oldest', 152), ('major', 153), ('political', 154), ('parties', 155), ('female', 156), ('chief', 157), ('justice', 158), ('responsible', 159), ('administration', 160), ('supervision', 161), ('court', 162), ('system', 163), ('key', 164), ('figure', 165), ('played', 166), ('significant', 167), ('role', 168), ('hold', 169), ('holds', 170), ('promote', 171), ('promotes', 172)])"
            ]
          },
          "metadata": {},
          "execution_count": 26
        }
      ]
    },
    {
      "cell_type": "code",
      "source": [
        "text = text + \" \" + word"
      ],
      "metadata": {
        "id": "wBb5axhyR9w9"
      },
      "execution_count": 27,
      "outputs": []
    },
    {
      "cell_type": "code",
      "source": [
        "text"
      ],
      "metadata": {
        "colab": {
          "base_uri": "https://localhost:8080/",
          "height": 36
        },
        "id": "VZUjmL7vSGAN",
        "outputId": "a4a44050-a53f-4c0f-af0d-6eed3059ed8b"
      },
      "execution_count": 28,
      "outputs": [
        {
          "output_type": "execute_result",
          "data": {
            "text/plain": [
              "'National wrestler sushil kumar has won the most olympic medals among promotes'"
            ],
            "application/vnd.google.colaboratory.intrinsic+json": {
              "type": "string"
            }
          },
          "metadata": {},
          "execution_count": 28
        }
      ]
    },
    {
      "cell_type": "code",
      "source": [],
      "metadata": {
        "id": "6GbcGcRySSv1"
      },
      "execution_count": 21,
      "outputs": []
    }
  ]
}