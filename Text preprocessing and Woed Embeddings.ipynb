{
  "cells": [
    {
      "cell_type": "markdown",
      "metadata": {
        "id": "view-in-github",
        "colab_type": "text"
      },
      "source": [
        "<a href=\"https://colab.research.google.com/github/BALAJIHARIDASAN/Natural-Language-Processing/blob/main/Text%20preprocessing%20and%20Woed%20Embeddings.ipynb\" target=\"_parent\"><img src=\"https://colab.research.google.com/assets/colab-badge.svg\" alt=\"Open In Colab\"/></a>"
      ]
    },
    {
      "cell_type": "code",
      "source": [
        "!pip install spacy"
      ],
      "metadata": {
        "id": "LAUMnJXruG-n",
        "outputId": "8e9825e3-1b31-4186-d5c4-9e5b9c9e8ec4",
        "colab": {
          "base_uri": "https://localhost:8080/"
        }
      },
      "execution_count": 28,
      "outputs": [
        {
          "output_type": "stream",
          "name": "stdout",
          "text": [
            "Looking in indexes: https://pypi.org/simple, https://us-python.pkg.dev/colab-wheels/public/simple/\n",
            "Requirement already satisfied: spacy in /usr/local/lib/python3.10/dist-packages (3.5.2)\n",
            "Requirement already satisfied: spacy-legacy<3.1.0,>=3.0.11 in /usr/local/lib/python3.10/dist-packages (from spacy) (3.0.12)\n",
            "Requirement already satisfied: spacy-loggers<2.0.0,>=1.0.0 in /usr/local/lib/python3.10/dist-packages (from spacy) (1.0.4)\n",
            "Requirement already satisfied: murmurhash<1.1.0,>=0.28.0 in /usr/local/lib/python3.10/dist-packages (from spacy) (1.0.9)\n",
            "Requirement already satisfied: cymem<2.1.0,>=2.0.2 in /usr/local/lib/python3.10/dist-packages (from spacy) (2.0.7)\n",
            "Requirement already satisfied: preshed<3.1.0,>=3.0.2 in /usr/local/lib/python3.10/dist-packages (from spacy) (3.0.8)\n",
            "Requirement already satisfied: thinc<8.2.0,>=8.1.8 in /usr/local/lib/python3.10/dist-packages (from spacy) (8.1.9)\n",
            "Requirement already satisfied: wasabi<1.2.0,>=0.9.1 in /usr/local/lib/python3.10/dist-packages (from spacy) (1.1.1)\n",
            "Requirement already satisfied: srsly<3.0.0,>=2.4.3 in /usr/local/lib/python3.10/dist-packages (from spacy) (2.4.6)\n",
            "Requirement already satisfied: catalogue<2.1.0,>=2.0.6 in /usr/local/lib/python3.10/dist-packages (from spacy) (2.0.8)\n",
            "Requirement already satisfied: typer<0.8.0,>=0.3.0 in /usr/local/lib/python3.10/dist-packages (from spacy) (0.7.0)\n",
            "Requirement already satisfied: pathy>=0.10.0 in /usr/local/lib/python3.10/dist-packages (from spacy) (0.10.1)\n",
            "Requirement already satisfied: smart-open<7.0.0,>=5.2.1 in /usr/local/lib/python3.10/dist-packages (from spacy) (6.3.0)\n",
            "Requirement already satisfied: tqdm<5.0.0,>=4.38.0 in /usr/local/lib/python3.10/dist-packages (from spacy) (4.65.0)\n",
            "Requirement already satisfied: numpy>=1.15.0 in /usr/local/lib/python3.10/dist-packages (from spacy) (1.22.4)\n",
            "Requirement already satisfied: requests<3.0.0,>=2.13.0 in /usr/local/lib/python3.10/dist-packages (from spacy) (2.27.1)\n",
            "Requirement already satisfied: pydantic!=1.8,!=1.8.1,<1.11.0,>=1.7.4 in /usr/local/lib/python3.10/dist-packages (from spacy) (1.10.7)\n",
            "Requirement already satisfied: jinja2 in /usr/local/lib/python3.10/dist-packages (from spacy) (3.1.2)\n",
            "Requirement already satisfied: setuptools in /usr/local/lib/python3.10/dist-packages (from spacy) (67.7.2)\n",
            "Requirement already satisfied: packaging>=20.0 in /usr/local/lib/python3.10/dist-packages (from spacy) (23.1)\n",
            "Requirement already satisfied: langcodes<4.0.0,>=3.2.0 in /usr/local/lib/python3.10/dist-packages (from spacy) (3.3.0)\n",
            "Requirement already satisfied: typing-extensions>=4.2.0 in /usr/local/lib/python3.10/dist-packages (from pydantic!=1.8,!=1.8.1,<1.11.0,>=1.7.4->spacy) (4.5.0)\n",
            "Requirement already satisfied: urllib3<1.27,>=1.21.1 in /usr/local/lib/python3.10/dist-packages (from requests<3.0.0,>=2.13.0->spacy) (1.26.15)\n",
            "Requirement already satisfied: certifi>=2017.4.17 in /usr/local/lib/python3.10/dist-packages (from requests<3.0.0,>=2.13.0->spacy) (2022.12.7)\n",
            "Requirement already satisfied: charset-normalizer~=2.0.0 in /usr/local/lib/python3.10/dist-packages (from requests<3.0.0,>=2.13.0->spacy) (2.0.12)\n",
            "Requirement already satisfied: idna<4,>=2.5 in /usr/local/lib/python3.10/dist-packages (from requests<3.0.0,>=2.13.0->spacy) (3.4)\n",
            "Requirement already satisfied: blis<0.8.0,>=0.7.8 in /usr/local/lib/python3.10/dist-packages (from thinc<8.2.0,>=8.1.8->spacy) (0.7.9)\n",
            "Requirement already satisfied: confection<1.0.0,>=0.0.1 in /usr/local/lib/python3.10/dist-packages (from thinc<8.2.0,>=8.1.8->spacy) (0.0.4)\n",
            "Requirement already satisfied: click<9.0.0,>=7.1.1 in /usr/local/lib/python3.10/dist-packages (from typer<0.8.0,>=0.3.0->spacy) (8.1.3)\n",
            "Requirement already satisfied: MarkupSafe>=2.0 in /usr/local/lib/python3.10/dist-packages (from jinja2->spacy) (2.1.2)\n"
          ]
        }
      ]
    },
    {
      "cell_type": "code",
      "source": [
        "import spacy\n",
        "nlp = spacy.load('en_core_web_sm')\n"
      ],
      "metadata": {
        "id": "4qF_4cVTwLW5"
      },
      "execution_count": 29,
      "outputs": []
    },
    {
      "cell_type": "code",
      "source": [
        "import spacy\n",
        "nlp = spacy.load('en_core_web_sm')\n",
        "#Creating an NLP object\n",
        "doc =nlp(\"He went to play cricket\")"
      ],
      "metadata": {
        "id": "fakzE8SHwOGQ"
      },
      "execution_count": 30,
      "outputs": []
    },
    {
      "cell_type": "code",
      "source": [
        "nlp.pipe_names"
      ],
      "metadata": {
        "id": "uMEpMONJwhQl",
        "outputId": "7e3e8a4c-49dd-4b8d-853a-5810241c3b5a",
        "colab": {
          "base_uri": "https://localhost:8080/"
        }
      },
      "execution_count": 31,
      "outputs": [
        {
          "output_type": "execute_result",
          "data": {
            "text/plain": [
              "['tok2vec', 'tagger', 'parser', 'attribute_ruler', 'lemmatizer', 'ner']"
            ]
          },
          "metadata": {},
          "execution_count": 31
        }
      ]
    },
    {
      "cell_type": "code",
      "source": [
        "#nlp.disable_pipes('tagger', 'parser')\n",
        "#if any of the above components are diasbled, i.e. parser or tagger, w.r.t current context\n",
        "#then the labels such as .pos, or .dep_ might not work.\n",
        "#One has to disable or enable the components as per the needs.\n",
        "#nlp.disable_pipes('parser')\n",
        "nlp.add_pipe('sentencizer') #will help in splitting sentence"
      ],
      "metadata": {
        "id": "dIvDA7eDwjK5",
        "outputId": "12e38ec7-2fd7-4ede-9896-5b4b6be135b1",
        "colab": {
          "base_uri": "https://localhost:8080/"
        }
      },
      "execution_count": 32,
      "outputs": [
        {
          "output_type": "execute_result",
          "data": {
            "text/plain": [
              "<spacy.pipeline.sentencizer.Sentencizer at 0x7fb76148f000>"
            ]
          },
          "metadata": {},
          "execution_count": 32
        }
      ]
    },
    {
      "cell_type": "code",
      "source": [
        "nlp.pipe_names"
      ],
      "metadata": {
        "id": "eFcfWuF-wpIX",
        "outputId": "5c2588a5-7b89-40ed-c26b-3ca9e37bc5bf",
        "colab": {
          "base_uri": "https://localhost:8080/"
        }
      },
      "execution_count": 33,
      "outputs": [
        {
          "output_type": "execute_result",
          "data": {
            "text/plain": [
              "['tok2vec',\n",
              " 'tagger',\n",
              " 'parser',\n",
              " 'attribute_ruler',\n",
              " 'lemmatizer',\n",
              " 'ner',\n",
              " 'sentencizer']"
            ]
          },
          "metadata": {},
          "execution_count": 33
        }
      ]
    },
    {
      "cell_type": "code",
      "source": [
        "text = \"Taylor is learning music\""
      ],
      "metadata": {
        "id": "t0Bw2LV3wqYP"
      },
      "execution_count": 34,
      "outputs": []
    },
    {
      "cell_type": "code",
      "source": [
        "doc = nlp(text)"
      ],
      "metadata": {
        "id": "imlG3SPEwwJ2"
      },
      "execution_count": 35,
      "outputs": []
    },
    {
      "cell_type": "code",
      "source": [
        "print(doc)"
      ],
      "metadata": {
        "id": "gCgZEMtzwzqA",
        "outputId": "fb9e24cb-9a07-481e-9aa5-66b26f74633b",
        "colab": {
          "base_uri": "https://localhost:8080/"
        }
      },
      "execution_count": 36,
      "outputs": [
        {
          "output_type": "stream",
          "name": "stdout",
          "text": [
            "Taylor is learning music\n"
          ]
        }
      ]
    },
    {
      "cell_type": "code",
      "source": [
        "print(len(text))"
      ],
      "metadata": {
        "id": "b2ONnW3rw36s",
        "outputId": "e5427ec3-a279-4ecb-eab0-ad0cb86e62d4",
        "colab": {
          "base_uri": "https://localhost:8080/"
        }
      },
      "execution_count": 37,
      "outputs": [
        {
          "output_type": "stream",
          "name": "stdout",
          "text": [
            "24\n"
          ]
        }
      ]
    },
    {
      "cell_type": "code",
      "source": [
        "print(len(doc))"
      ],
      "metadata": {
        "id": "YPAz0wfnw8Eb",
        "outputId": "3f420320-d5b0-4bc0-9c3c-bcdb407815f8",
        "colab": {
          "base_uri": "https://localhost:8080/"
        }
      },
      "execution_count": 38,
      "outputs": [
        {
          "output_type": "stream",
          "name": "stdout",
          "text": [
            "4\n"
          ]
        }
      ]
    },
    {
      "cell_type": "code",
      "source": [
        "for token in doc:\n",
        "    print(token.text)"
      ],
      "metadata": {
        "id": "ToZ_hV_Zw_xr",
        "outputId": "9287007c-e564-4140-8863-aff04cdcbef5",
        "colab": {
          "base_uri": "https://localhost:8080/"
        }
      },
      "execution_count": 39,
      "outputs": [
        {
          "output_type": "stream",
          "name": "stdout",
          "text": [
            "Taylor\n",
            "is\n",
            "learning\n",
            "music\n"
          ]
        }
      ]
    },
    {
      "cell_type": "code",
      "source": [
        "text = \"I am going where Taylor went yesterday\""
      ],
      "metadata": {
        "id": "XSgh6W-AxDIF"
      },
      "execution_count": 40,
      "outputs": []
    },
    {
      "cell_type": "code",
      "source": [
        "doc = nlp(text)"
      ],
      "metadata": {
        "id": "VAUbMmvGxE7v"
      },
      "execution_count": 41,
      "outputs": []
    },
    {
      "cell_type": "code",
      "source": [
        "for token in doc:\n",
        "    print(token.text, \"-\", token.lemma_)"
      ],
      "metadata": {
        "id": "vAJ9WhN5xE9_",
        "outputId": "8970b0a4-4d2c-4012-a3fb-44b8cd95cd1c",
        "colab": {
          "base_uri": "https://localhost:8080/"
        }
      },
      "execution_count": 42,
      "outputs": [
        {
          "output_type": "stream",
          "name": "stdout",
          "text": [
            "I - I\n",
            "am - be\n",
            "going - go\n",
            "where - where\n",
            "Taylor - Taylor\n",
            "went - go\n",
            "yesterday - yesterday\n"
          ]
        }
      ]
    },
    {
      "cell_type": "code",
      "source": [
        "text = \"Taylor is learning music. I am going where Taylor went yesterday. I like listening to Taylor's music\""
      ],
      "metadata": {
        "id": "VMpQxJe5xOeg"
      },
      "execution_count": 43,
      "outputs": []
    },
    {
      "cell_type": "code",
      "source": [
        "doc = nlp(text)"
      ],
      "metadata": {
        "id": "U-izRIlyxRx9"
      },
      "execution_count": 44,
      "outputs": []
    },
    {
      "cell_type": "code",
      "source": [
        "sentences = [sentence.text for sentence in doc.sents]\n",
        "sentences"
      ],
      "metadata": {
        "id": "SXMT3WdZxUMs",
        "outputId": "e745736a-8227-43d8-8d82-1220ef3f13e5",
        "colab": {
          "base_uri": "https://localhost:8080/"
        }
      },
      "execution_count": 45,
      "outputs": [
        {
          "output_type": "execute_result",
          "data": {
            "text/plain": [
              "['Taylor is learning music.',\n",
              " 'I am going where Taylor went yesterday.',\n",
              " \"I like listening to Taylor's music\"]"
            ]
          },
          "metadata": {},
          "execution_count": 45
        }
      ]
    },
    {
      "cell_type": "code",
      "source": [
        "token_without_punc = [token for token in doc if not token.is_punct]\n",
        "token_without_punc"
      ],
      "metadata": {
        "id": "ACbN_CqUxamJ",
        "outputId": "2a8a7bf8-4bde-453d-a4a7-f9b04d2f7ffb",
        "colab": {
          "base_uri": "https://localhost:8080/"
        }
      },
      "execution_count": 46,
      "outputs": [
        {
          "output_type": "execute_result",
          "data": {
            "text/plain": [
              "[Taylor,\n",
              " is,\n",
              " learning,\n",
              " music,\n",
              " I,\n",
              " am,\n",
              " going,\n",
              " where,\n",
              " Taylor,\n",
              " went,\n",
              " yesterday,\n",
              " I,\n",
              " like,\n",
              " listening,\n",
              " to,\n",
              " Taylor,\n",
              " 's,\n",
              " music]"
            ]
          },
          "metadata": {},
          "execution_count": 46
        }
      ]
    },
    {
      "cell_type": "code",
      "source": [
        "all_stopwords = nlp.Defaults.stop_words"
      ],
      "metadata": {
        "id": "XOhnU6jKxfkq"
      },
      "execution_count": 47,
      "outputs": []
    },
    {
      "cell_type": "code",
      "source": [
        "len(all_stopwords)"
      ],
      "metadata": {
        "id": "PTYTLu9RxfnJ",
        "outputId": "16aa9044-64e1-4c5e-c70b-8081293c04d5",
        "colab": {
          "base_uri": "https://localhost:8080/"
        }
      },
      "execution_count": 48,
      "outputs": [
        {
          "output_type": "execute_result",
          "data": {
            "text/plain": [
              "326"
            ]
          },
          "metadata": {},
          "execution_count": 48
        }
      ]
    },
    {
      "cell_type": "code",
      "source": [
        "token_without_stop = [token for token in token_without_punc if not token.is_stop]\n",
        "token_without_stop"
      ],
      "metadata": {
        "id": "tV7XrOnZxfr4",
        "outputId": "45f6f109-52b6-4a20-d90b-47b18d5e46b0",
        "colab": {
          "base_uri": "https://localhost:8080/"
        }
      },
      "execution_count": 49,
      "outputs": [
        {
          "output_type": "execute_result",
          "data": {
            "text/plain": [
              "[Taylor,\n",
              " learning,\n",
              " music,\n",
              " going,\n",
              " Taylor,\n",
              " went,\n",
              " yesterday,\n",
              " like,\n",
              " listening,\n",
              " Taylor,\n",
              " music]"
            ]
          },
          "metadata": {},
          "execution_count": 49
        }
      ]
    },
    {
      "cell_type": "code",
      "source": [
        "for token in doc:\n",
        "  print(token.text, token.pos_)"
      ],
      "metadata": {
        "id": "kCe0KGoqxt5b",
        "outputId": "2ea53b4a-552a-475d-f40e-886c9d25a866",
        "colab": {
          "base_uri": "https://localhost:8080/"
        }
      },
      "execution_count": 50,
      "outputs": [
        {
          "output_type": "stream",
          "name": "stdout",
          "text": [
            "Taylor PROPN\n",
            "is AUX\n",
            "learning VERB\n",
            "music NOUN\n",
            ". PUNCT\n",
            "I PRON\n",
            "am AUX\n",
            "going VERB\n",
            "where SCONJ\n",
            "Taylor PROPN\n",
            "went VERB\n",
            "yesterday NOUN\n",
            ". PUNCT\n",
            "I PRON\n",
            "like VERB\n",
            "listening VERB\n",
            "to ADP\n",
            "Taylor PROPN\n",
            "'s PART\n",
            "music NOUN\n"
          ]
        }
      ]
    },
    {
      "cell_type": "code",
      "source": [
        "for token in doc:\n",
        "  print(token.text, token.dep_)"
      ],
      "metadata": {
        "id": "SJC23GVdx0RD",
        "outputId": "9735710f-d3f4-456b-a465-8f5fd3b2b2e3",
        "colab": {
          "base_uri": "https://localhost:8080/"
        }
      },
      "execution_count": 51,
      "outputs": [
        {
          "output_type": "stream",
          "name": "stdout",
          "text": [
            "Taylor nsubj\n",
            "is aux\n",
            "learning ROOT\n",
            "music dobj\n",
            ". punct\n",
            "I nsubj\n",
            "am aux\n",
            "going ROOT\n",
            "where advmod\n",
            "Taylor nsubj\n",
            "went ccomp\n",
            "yesterday npadvmod\n",
            ". punct\n",
            "I nsubj\n",
            "like ROOT\n",
            "listening xcomp\n",
            "to prep\n",
            "Taylor poss\n",
            "'s case\n",
            "music pobj\n"
          ]
        }
      ]
    },
    {
      "cell_type": "code",
      "source": [
        "for ent in doc.ents:\n",
        "  print(ent.text, ent.label_)"
      ],
      "metadata": {
        "id": "n4S86oHfx0TX",
        "outputId": "69232e5b-1dcd-4a7f-ca98-807a3bb4b558",
        "colab": {
          "base_uri": "https://localhost:8080/"
        }
      },
      "execution_count": 52,
      "outputs": [
        {
          "output_type": "stream",
          "name": "stdout",
          "text": [
            "Taylor PERSON\n",
            "Taylor PERSON\n",
            "yesterday DATE\n",
            "Taylor PERSON\n"
          ]
        }
      ]
    },
    {
      "cell_type": "code",
      "source": [
        "displacy.render(doc, style=\"dep\", jupyter=True)"
      ],
      "metadata": {
        "id": "6YhxJsNEz2yY",
        "outputId": "503e733e-2885-4656-f3dc-6fb3da8a4137",
        "colab": {
          "base_uri": "https://localhost:8080/",
          "height": 441
        }
      },
      "execution_count": 55,
      "outputs": [
        {
          "output_type": "display_data",
          "data": {
            "text/plain": [
              "<IPython.core.display.HTML object>"
            ],
            "text/html": [
              "<span class=\"tex2jax_ignore\"><svg xmlns=\"http://www.w3.org/2000/svg\" xmlns:xlink=\"http://www.w3.org/1999/xlink\" xml:lang=\"en\" id=\"deb329a64705429bbe314980cda9bc26-0\" class=\"displacy\" width=\"3200\" height=\"399.5\" direction=\"ltr\" style=\"max-width: none; height: 399.5px; color: #000000; background: #ffffff; font-family: Arial; direction: ltr\">\n",
              "<text class=\"displacy-token\" fill=\"currentColor\" text-anchor=\"middle\" y=\"309.5\">\n",
              "    <tspan class=\"displacy-word\" fill=\"currentColor\" x=\"50\">Taylor</tspan>\n",
              "    <tspan class=\"displacy-tag\" dy=\"2em\" fill=\"currentColor\" x=\"50\">PROPN</tspan>\n",
              "</text>\n",
              "\n",
              "<text class=\"displacy-token\" fill=\"currentColor\" text-anchor=\"middle\" y=\"309.5\">\n",
              "    <tspan class=\"displacy-word\" fill=\"currentColor\" x=\"225\">is</tspan>\n",
              "    <tspan class=\"displacy-tag\" dy=\"2em\" fill=\"currentColor\" x=\"225\">AUX</tspan>\n",
              "</text>\n",
              "\n",
              "<text class=\"displacy-token\" fill=\"currentColor\" text-anchor=\"middle\" y=\"309.5\">\n",
              "    <tspan class=\"displacy-word\" fill=\"currentColor\" x=\"400\">learning</tspan>\n",
              "    <tspan class=\"displacy-tag\" dy=\"2em\" fill=\"currentColor\" x=\"400\">VERB</tspan>\n",
              "</text>\n",
              "\n",
              "<text class=\"displacy-token\" fill=\"currentColor\" text-anchor=\"middle\" y=\"309.5\">\n",
              "    <tspan class=\"displacy-word\" fill=\"currentColor\" x=\"575\">music.</tspan>\n",
              "    <tspan class=\"displacy-tag\" dy=\"2em\" fill=\"currentColor\" x=\"575\">NOUN</tspan>\n",
              "</text>\n",
              "\n",
              "<text class=\"displacy-token\" fill=\"currentColor\" text-anchor=\"middle\" y=\"309.5\">\n",
              "    <tspan class=\"displacy-word\" fill=\"currentColor\" x=\"750\">I</tspan>\n",
              "    <tspan class=\"displacy-tag\" dy=\"2em\" fill=\"currentColor\" x=\"750\">PRON</tspan>\n",
              "</text>\n",
              "\n",
              "<text class=\"displacy-token\" fill=\"currentColor\" text-anchor=\"middle\" y=\"309.5\">\n",
              "    <tspan class=\"displacy-word\" fill=\"currentColor\" x=\"925\">am</tspan>\n",
              "    <tspan class=\"displacy-tag\" dy=\"2em\" fill=\"currentColor\" x=\"925\">AUX</tspan>\n",
              "</text>\n",
              "\n",
              "<text class=\"displacy-token\" fill=\"currentColor\" text-anchor=\"middle\" y=\"309.5\">\n",
              "    <tspan class=\"displacy-word\" fill=\"currentColor\" x=\"1100\">going</tspan>\n",
              "    <tspan class=\"displacy-tag\" dy=\"2em\" fill=\"currentColor\" x=\"1100\">VERB</tspan>\n",
              "</text>\n",
              "\n",
              "<text class=\"displacy-token\" fill=\"currentColor\" text-anchor=\"middle\" y=\"309.5\">\n",
              "    <tspan class=\"displacy-word\" fill=\"currentColor\" x=\"1275\">where</tspan>\n",
              "    <tspan class=\"displacy-tag\" dy=\"2em\" fill=\"currentColor\" x=\"1275\">SCONJ</tspan>\n",
              "</text>\n",
              "\n",
              "<text class=\"displacy-token\" fill=\"currentColor\" text-anchor=\"middle\" y=\"309.5\">\n",
              "    <tspan class=\"displacy-word\" fill=\"currentColor\" x=\"1450\">Taylor</tspan>\n",
              "    <tspan class=\"displacy-tag\" dy=\"2em\" fill=\"currentColor\" x=\"1450\">PROPN</tspan>\n",
              "</text>\n",
              "\n",
              "<text class=\"displacy-token\" fill=\"currentColor\" text-anchor=\"middle\" y=\"309.5\">\n",
              "    <tspan class=\"displacy-word\" fill=\"currentColor\" x=\"1625\">went</tspan>\n",
              "    <tspan class=\"displacy-tag\" dy=\"2em\" fill=\"currentColor\" x=\"1625\">VERB</tspan>\n",
              "</text>\n",
              "\n",
              "<text class=\"displacy-token\" fill=\"currentColor\" text-anchor=\"middle\" y=\"309.5\">\n",
              "    <tspan class=\"displacy-word\" fill=\"currentColor\" x=\"1800\">yesterday.</tspan>\n",
              "    <tspan class=\"displacy-tag\" dy=\"2em\" fill=\"currentColor\" x=\"1800\">NOUN</tspan>\n",
              "</text>\n",
              "\n",
              "<text class=\"displacy-token\" fill=\"currentColor\" text-anchor=\"middle\" y=\"309.5\">\n",
              "    <tspan class=\"displacy-word\" fill=\"currentColor\" x=\"1975\">I</tspan>\n",
              "    <tspan class=\"displacy-tag\" dy=\"2em\" fill=\"currentColor\" x=\"1975\">PRON</tspan>\n",
              "</text>\n",
              "\n",
              "<text class=\"displacy-token\" fill=\"currentColor\" text-anchor=\"middle\" y=\"309.5\">\n",
              "    <tspan class=\"displacy-word\" fill=\"currentColor\" x=\"2150\">like</tspan>\n",
              "    <tspan class=\"displacy-tag\" dy=\"2em\" fill=\"currentColor\" x=\"2150\">VERB</tspan>\n",
              "</text>\n",
              "\n",
              "<text class=\"displacy-token\" fill=\"currentColor\" text-anchor=\"middle\" y=\"309.5\">\n",
              "    <tspan class=\"displacy-word\" fill=\"currentColor\" x=\"2325\">listening</tspan>\n",
              "    <tspan class=\"displacy-tag\" dy=\"2em\" fill=\"currentColor\" x=\"2325\">VERB</tspan>\n",
              "</text>\n",
              "\n",
              "<text class=\"displacy-token\" fill=\"currentColor\" text-anchor=\"middle\" y=\"309.5\">\n",
              "    <tspan class=\"displacy-word\" fill=\"currentColor\" x=\"2500\">to</tspan>\n",
              "    <tspan class=\"displacy-tag\" dy=\"2em\" fill=\"currentColor\" x=\"2500\">ADP</tspan>\n",
              "</text>\n",
              "\n",
              "<text class=\"displacy-token\" fill=\"currentColor\" text-anchor=\"middle\" y=\"309.5\">\n",
              "    <tspan class=\"displacy-word\" fill=\"currentColor\" x=\"2675\">Taylor</tspan>\n",
              "    <tspan class=\"displacy-tag\" dy=\"2em\" fill=\"currentColor\" x=\"2675\">PROPN</tspan>\n",
              "</text>\n",
              "\n",
              "<text class=\"displacy-token\" fill=\"currentColor\" text-anchor=\"middle\" y=\"309.5\">\n",
              "    <tspan class=\"displacy-word\" fill=\"currentColor\" x=\"2850\">'s</tspan>\n",
              "    <tspan class=\"displacy-tag\" dy=\"2em\" fill=\"currentColor\" x=\"2850\">PART</tspan>\n",
              "</text>\n",
              "\n",
              "<text class=\"displacy-token\" fill=\"currentColor\" text-anchor=\"middle\" y=\"309.5\">\n",
              "    <tspan class=\"displacy-word\" fill=\"currentColor\" x=\"3025\">music</tspan>\n",
              "    <tspan class=\"displacy-tag\" dy=\"2em\" fill=\"currentColor\" x=\"3025\">NOUN</tspan>\n",
              "</text>\n",
              "\n",
              "<g class=\"displacy-arrow\">\n",
              "    <path class=\"displacy-arc\" id=\"arrow-deb329a64705429bbe314980cda9bc26-0-0\" stroke-width=\"2px\" d=\"M70,264.5 C70,89.5 395.0,89.5 395.0,264.5\" fill=\"none\" stroke=\"currentColor\"/>\n",
              "    <text dy=\"1.25em\" style=\"font-size: 0.8em; letter-spacing: 1px\">\n",
              "        <textPath xlink:href=\"#arrow-deb329a64705429bbe314980cda9bc26-0-0\" class=\"displacy-label\" startOffset=\"50%\" side=\"left\" fill=\"currentColor\" text-anchor=\"middle\">nsubj</textPath>\n",
              "    </text>\n",
              "    <path class=\"displacy-arrowhead\" d=\"M70,266.5 L62,254.5 78,254.5\" fill=\"currentColor\"/>\n",
              "</g>\n",
              "\n",
              "<g class=\"displacy-arrow\">\n",
              "    <path class=\"displacy-arc\" id=\"arrow-deb329a64705429bbe314980cda9bc26-0-1\" stroke-width=\"2px\" d=\"M245,264.5 C245,177.0 390.0,177.0 390.0,264.5\" fill=\"none\" stroke=\"currentColor\"/>\n",
              "    <text dy=\"1.25em\" style=\"font-size: 0.8em; letter-spacing: 1px\">\n",
              "        <textPath xlink:href=\"#arrow-deb329a64705429bbe314980cda9bc26-0-1\" class=\"displacy-label\" startOffset=\"50%\" side=\"left\" fill=\"currentColor\" text-anchor=\"middle\">aux</textPath>\n",
              "    </text>\n",
              "    <path class=\"displacy-arrowhead\" d=\"M245,266.5 L237,254.5 253,254.5\" fill=\"currentColor\"/>\n",
              "</g>\n",
              "\n",
              "<g class=\"displacy-arrow\">\n",
              "    <path class=\"displacy-arc\" id=\"arrow-deb329a64705429bbe314980cda9bc26-0-2\" stroke-width=\"2px\" d=\"M420,264.5 C420,177.0 565.0,177.0 565.0,264.5\" fill=\"none\" stroke=\"currentColor\"/>\n",
              "    <text dy=\"1.25em\" style=\"font-size: 0.8em; letter-spacing: 1px\">\n",
              "        <textPath xlink:href=\"#arrow-deb329a64705429bbe314980cda9bc26-0-2\" class=\"displacy-label\" startOffset=\"50%\" side=\"left\" fill=\"currentColor\" text-anchor=\"middle\">dobj</textPath>\n",
              "    </text>\n",
              "    <path class=\"displacy-arrowhead\" d=\"M565.0,266.5 L573.0,254.5 557.0,254.5\" fill=\"currentColor\"/>\n",
              "</g>\n",
              "\n",
              "<g class=\"displacy-arrow\">\n",
              "    <path class=\"displacy-arc\" id=\"arrow-deb329a64705429bbe314980cda9bc26-0-3\" stroke-width=\"2px\" d=\"M770,264.5 C770,89.5 1095.0,89.5 1095.0,264.5\" fill=\"none\" stroke=\"currentColor\"/>\n",
              "    <text dy=\"1.25em\" style=\"font-size: 0.8em; letter-spacing: 1px\">\n",
              "        <textPath xlink:href=\"#arrow-deb329a64705429bbe314980cda9bc26-0-3\" class=\"displacy-label\" startOffset=\"50%\" side=\"left\" fill=\"currentColor\" text-anchor=\"middle\">nsubj</textPath>\n",
              "    </text>\n",
              "    <path class=\"displacy-arrowhead\" d=\"M770,266.5 L762,254.5 778,254.5\" fill=\"currentColor\"/>\n",
              "</g>\n",
              "\n",
              "<g class=\"displacy-arrow\">\n",
              "    <path class=\"displacy-arc\" id=\"arrow-deb329a64705429bbe314980cda9bc26-0-4\" stroke-width=\"2px\" d=\"M945,264.5 C945,177.0 1090.0,177.0 1090.0,264.5\" fill=\"none\" stroke=\"currentColor\"/>\n",
              "    <text dy=\"1.25em\" style=\"font-size: 0.8em; letter-spacing: 1px\">\n",
              "        <textPath xlink:href=\"#arrow-deb329a64705429bbe314980cda9bc26-0-4\" class=\"displacy-label\" startOffset=\"50%\" side=\"left\" fill=\"currentColor\" text-anchor=\"middle\">aux</textPath>\n",
              "    </text>\n",
              "    <path class=\"displacy-arrowhead\" d=\"M945,266.5 L937,254.5 953,254.5\" fill=\"currentColor\"/>\n",
              "</g>\n",
              "\n",
              "<g class=\"displacy-arrow\">\n",
              "    <path class=\"displacy-arc\" id=\"arrow-deb329a64705429bbe314980cda9bc26-0-5\" stroke-width=\"2px\" d=\"M1295,264.5 C1295,89.5 1620.0,89.5 1620.0,264.5\" fill=\"none\" stroke=\"currentColor\"/>\n",
              "    <text dy=\"1.25em\" style=\"font-size: 0.8em; letter-spacing: 1px\">\n",
              "        <textPath xlink:href=\"#arrow-deb329a64705429bbe314980cda9bc26-0-5\" class=\"displacy-label\" startOffset=\"50%\" side=\"left\" fill=\"currentColor\" text-anchor=\"middle\">advmod</textPath>\n",
              "    </text>\n",
              "    <path class=\"displacy-arrowhead\" d=\"M1295,266.5 L1287,254.5 1303,254.5\" fill=\"currentColor\"/>\n",
              "</g>\n",
              "\n",
              "<g class=\"displacy-arrow\">\n",
              "    <path class=\"displacy-arc\" id=\"arrow-deb329a64705429bbe314980cda9bc26-0-6\" stroke-width=\"2px\" d=\"M1470,264.5 C1470,177.0 1615.0,177.0 1615.0,264.5\" fill=\"none\" stroke=\"currentColor\"/>\n",
              "    <text dy=\"1.25em\" style=\"font-size: 0.8em; letter-spacing: 1px\">\n",
              "        <textPath xlink:href=\"#arrow-deb329a64705429bbe314980cda9bc26-0-6\" class=\"displacy-label\" startOffset=\"50%\" side=\"left\" fill=\"currentColor\" text-anchor=\"middle\">nsubj</textPath>\n",
              "    </text>\n",
              "    <path class=\"displacy-arrowhead\" d=\"M1470,266.5 L1462,254.5 1478,254.5\" fill=\"currentColor\"/>\n",
              "</g>\n",
              "\n",
              "<g class=\"displacy-arrow\">\n",
              "    <path class=\"displacy-arc\" id=\"arrow-deb329a64705429bbe314980cda9bc26-0-7\" stroke-width=\"2px\" d=\"M1120,264.5 C1120,2.0 1625.0,2.0 1625.0,264.5\" fill=\"none\" stroke=\"currentColor\"/>\n",
              "    <text dy=\"1.25em\" style=\"font-size: 0.8em; letter-spacing: 1px\">\n",
              "        <textPath xlink:href=\"#arrow-deb329a64705429bbe314980cda9bc26-0-7\" class=\"displacy-label\" startOffset=\"50%\" side=\"left\" fill=\"currentColor\" text-anchor=\"middle\">ccomp</textPath>\n",
              "    </text>\n",
              "    <path class=\"displacy-arrowhead\" d=\"M1625.0,266.5 L1633.0,254.5 1617.0,254.5\" fill=\"currentColor\"/>\n",
              "</g>\n",
              "\n",
              "<g class=\"displacy-arrow\">\n",
              "    <path class=\"displacy-arc\" id=\"arrow-deb329a64705429bbe314980cda9bc26-0-8\" stroke-width=\"2px\" d=\"M1645,264.5 C1645,177.0 1790.0,177.0 1790.0,264.5\" fill=\"none\" stroke=\"currentColor\"/>\n",
              "    <text dy=\"1.25em\" style=\"font-size: 0.8em; letter-spacing: 1px\">\n",
              "        <textPath xlink:href=\"#arrow-deb329a64705429bbe314980cda9bc26-0-8\" class=\"displacy-label\" startOffset=\"50%\" side=\"left\" fill=\"currentColor\" text-anchor=\"middle\">npadvmod</textPath>\n",
              "    </text>\n",
              "    <path class=\"displacy-arrowhead\" d=\"M1790.0,266.5 L1798.0,254.5 1782.0,254.5\" fill=\"currentColor\"/>\n",
              "</g>\n",
              "\n",
              "<g class=\"displacy-arrow\">\n",
              "    <path class=\"displacy-arc\" id=\"arrow-deb329a64705429bbe314980cda9bc26-0-9\" stroke-width=\"2px\" d=\"M1995,264.5 C1995,177.0 2140.0,177.0 2140.0,264.5\" fill=\"none\" stroke=\"currentColor\"/>\n",
              "    <text dy=\"1.25em\" style=\"font-size: 0.8em; letter-spacing: 1px\">\n",
              "        <textPath xlink:href=\"#arrow-deb329a64705429bbe314980cda9bc26-0-9\" class=\"displacy-label\" startOffset=\"50%\" side=\"left\" fill=\"currentColor\" text-anchor=\"middle\">nsubj</textPath>\n",
              "    </text>\n",
              "    <path class=\"displacy-arrowhead\" d=\"M1995,266.5 L1987,254.5 2003,254.5\" fill=\"currentColor\"/>\n",
              "</g>\n",
              "\n",
              "<g class=\"displacy-arrow\">\n",
              "    <path class=\"displacy-arc\" id=\"arrow-deb329a64705429bbe314980cda9bc26-0-10\" stroke-width=\"2px\" d=\"M2170,264.5 C2170,177.0 2315.0,177.0 2315.0,264.5\" fill=\"none\" stroke=\"currentColor\"/>\n",
              "    <text dy=\"1.25em\" style=\"font-size: 0.8em; letter-spacing: 1px\">\n",
              "        <textPath xlink:href=\"#arrow-deb329a64705429bbe314980cda9bc26-0-10\" class=\"displacy-label\" startOffset=\"50%\" side=\"left\" fill=\"currentColor\" text-anchor=\"middle\">xcomp</textPath>\n",
              "    </text>\n",
              "    <path class=\"displacy-arrowhead\" d=\"M2315.0,266.5 L2323.0,254.5 2307.0,254.5\" fill=\"currentColor\"/>\n",
              "</g>\n",
              "\n",
              "<g class=\"displacy-arrow\">\n",
              "    <path class=\"displacy-arc\" id=\"arrow-deb329a64705429bbe314980cda9bc26-0-11\" stroke-width=\"2px\" d=\"M2345,264.5 C2345,177.0 2490.0,177.0 2490.0,264.5\" fill=\"none\" stroke=\"currentColor\"/>\n",
              "    <text dy=\"1.25em\" style=\"font-size: 0.8em; letter-spacing: 1px\">\n",
              "        <textPath xlink:href=\"#arrow-deb329a64705429bbe314980cda9bc26-0-11\" class=\"displacy-label\" startOffset=\"50%\" side=\"left\" fill=\"currentColor\" text-anchor=\"middle\">prep</textPath>\n",
              "    </text>\n",
              "    <path class=\"displacy-arrowhead\" d=\"M2490.0,266.5 L2498.0,254.5 2482.0,254.5\" fill=\"currentColor\"/>\n",
              "</g>\n",
              "\n",
              "<g class=\"displacy-arrow\">\n",
              "    <path class=\"displacy-arc\" id=\"arrow-deb329a64705429bbe314980cda9bc26-0-12\" stroke-width=\"2px\" d=\"M2695,264.5 C2695,89.5 3020.0,89.5 3020.0,264.5\" fill=\"none\" stroke=\"currentColor\"/>\n",
              "    <text dy=\"1.25em\" style=\"font-size: 0.8em; letter-spacing: 1px\">\n",
              "        <textPath xlink:href=\"#arrow-deb329a64705429bbe314980cda9bc26-0-12\" class=\"displacy-label\" startOffset=\"50%\" side=\"left\" fill=\"currentColor\" text-anchor=\"middle\">poss</textPath>\n",
              "    </text>\n",
              "    <path class=\"displacy-arrowhead\" d=\"M2695,266.5 L2687,254.5 2703,254.5\" fill=\"currentColor\"/>\n",
              "</g>\n",
              "\n",
              "<g class=\"displacy-arrow\">\n",
              "    <path class=\"displacy-arc\" id=\"arrow-deb329a64705429bbe314980cda9bc26-0-13\" stroke-width=\"2px\" d=\"M2695,264.5 C2695,177.0 2840.0,177.0 2840.0,264.5\" fill=\"none\" stroke=\"currentColor\"/>\n",
              "    <text dy=\"1.25em\" style=\"font-size: 0.8em; letter-spacing: 1px\">\n",
              "        <textPath xlink:href=\"#arrow-deb329a64705429bbe314980cda9bc26-0-13\" class=\"displacy-label\" startOffset=\"50%\" side=\"left\" fill=\"currentColor\" text-anchor=\"middle\">case</textPath>\n",
              "    </text>\n",
              "    <path class=\"displacy-arrowhead\" d=\"M2840.0,266.5 L2848.0,254.5 2832.0,254.5\" fill=\"currentColor\"/>\n",
              "</g>\n",
              "\n",
              "<g class=\"displacy-arrow\">\n",
              "    <path class=\"displacy-arc\" id=\"arrow-deb329a64705429bbe314980cda9bc26-0-14\" stroke-width=\"2px\" d=\"M2520,264.5 C2520,2.0 3025.0,2.0 3025.0,264.5\" fill=\"none\" stroke=\"currentColor\"/>\n",
              "    <text dy=\"1.25em\" style=\"font-size: 0.8em; letter-spacing: 1px\">\n",
              "        <textPath xlink:href=\"#arrow-deb329a64705429bbe314980cda9bc26-0-14\" class=\"displacy-label\" startOffset=\"50%\" side=\"left\" fill=\"currentColor\" text-anchor=\"middle\">pobj</textPath>\n",
              "    </text>\n",
              "    <path class=\"displacy-arrowhead\" d=\"M3025.0,266.5 L3033.0,254.5 3017.0,254.5\" fill=\"currentColor\"/>\n",
              "</g>\n",
              "</svg></span>"
            ]
          },
          "metadata": {}
        }
      ]
    },
    {
      "cell_type": "code",
      "source": [
        "displacy.render(doc, style=\"ent\", jupyter=True)"
      ],
      "metadata": {
        "id": "--S_b-Oz1EzH",
        "outputId": "c4d76a06-31d5-4636-cd76-b444e6ff1e53",
        "colab": {
          "base_uri": "https://localhost:8080/",
          "height": 107
        }
      },
      "execution_count": 58,
      "outputs": [
        {
          "output_type": "display_data",
          "data": {
            "text/plain": [
              "<IPython.core.display.HTML object>"
            ],
            "text/html": [
              "<span class=\"tex2jax_ignore\"><div class=\"entities\" style=\"line-height: 2.5; direction: ltr\">\n",
              "<mark class=\"entity\" style=\"background: #aa9cfc; padding: 0.45em 0.6em; margin: 0 0.25em; line-height: 1; border-radius: 0.35em;\">\n",
              "    Taylor\n",
              "    <span style=\"font-size: 0.8em; font-weight: bold; line-height: 1; border-radius: 0.35em; vertical-align: middle; margin-left: 0.5rem\">PERSON</span>\n",
              "</mark>\n",
              " is learning music. I am going where \n",
              "<mark class=\"entity\" style=\"background: #aa9cfc; padding: 0.45em 0.6em; margin: 0 0.25em; line-height: 1; border-radius: 0.35em;\">\n",
              "    Taylor\n",
              "    <span style=\"font-size: 0.8em; font-weight: bold; line-height: 1; border-radius: 0.35em; vertical-align: middle; margin-left: 0.5rem\">PERSON</span>\n",
              "</mark>\n",
              " went \n",
              "<mark class=\"entity\" style=\"background: #bfe1d9; padding: 0.45em 0.6em; margin: 0 0.25em; line-height: 1; border-radius: 0.35em;\">\n",
              "    yesterday\n",
              "    <span style=\"font-size: 0.8em; font-weight: bold; line-height: 1; border-radius: 0.35em; vertical-align: middle; margin-left: 0.5rem\">DATE</span>\n",
              "</mark>\n",
              ". I like listening to \n",
              "<mark class=\"entity\" style=\"background: #aa9cfc; padding: 0.45em 0.6em; margin: 0 0.25em; line-height: 1; border-radius: 0.35em;\">\n",
              "    Taylor\n",
              "    <span style=\"font-size: 0.8em; font-weight: bold; line-height: 1; border-radius: 0.35em; vertical-align: middle; margin-left: 0.5rem\">PERSON</span>\n",
              "</mark>\n",
              "'s music</div></span>"
            ]
          },
          "metadata": {}
        }
      ]
    },
    {
      "cell_type": "code",
      "source": [
        "from sklearn.feature_extraction.text import CountVectorizer"
      ],
      "metadata": {
        "id": "xjETHkUD1GXS"
      },
      "execution_count": 60,
      "outputs": []
    },
    {
      "cell_type": "code",
      "source": [
        "doc1 = \"The quick brown fox jumps over the lazy dog.\"\n",
        "doc2 = \"Early bird catches the worm.\"\n",
        "doc3 = \"A stitch in time saves nine.\""
      ],
      "metadata": {
        "id": "jwVbFLjK-Z3b"
      },
      "execution_count": 61,
      "outputs": []
    },
    {
      "cell_type": "code",
      "source": [
        "docs = [doc1, doc2, doc3]"
      ],
      "metadata": {
        "id": "3KMNo-Lt-l79"
      },
      "execution_count": 62,
      "outputs": []
    },
    {
      "cell_type": "code",
      "source": [
        "docs"
      ],
      "metadata": {
        "id": "24K_6bXY-nXh",
        "outputId": "103cdff6-d30d-41cb-c51e-9614744edb89",
        "colab": {
          "base_uri": "https://localhost:8080/"
        }
      },
      "execution_count": 63,
      "outputs": [
        {
          "output_type": "execute_result",
          "data": {
            "text/plain": [
              "['The quick brown fox jumps over the lazy dog.',\n",
              " 'Early bird catches the worm.',\n",
              " 'A stitch in time saves nine.']"
            ]
          },
          "metadata": {},
          "execution_count": 63
        }
      ]
    },
    {
      "cell_type": "code",
      "source": [
        "vectorizer = CountVectorizer(stop_words='english')"
      ],
      "metadata": {
        "id": "wQ7GFBgI-n-v"
      },
      "execution_count": 64,
      "outputs": []
    },
    {
      "cell_type": "code",
      "source": [
        "vectorizer"
      ],
      "metadata": {
        "id": "A6p_mAGo-rc1",
        "outputId": "6703c150-186f-44b8-8033-0481132e31ac",
        "colab": {
          "base_uri": "https://localhost:8080/",
          "height": 75
        }
      },
      "execution_count": 65,
      "outputs": [
        {
          "output_type": "execute_result",
          "data": {
            "text/plain": [
              "CountVectorizer(stop_words='english')"
            ],
            "text/html": [
              "<style>#sk-container-id-1 {color: black;background-color: white;}#sk-container-id-1 pre{padding: 0;}#sk-container-id-1 div.sk-toggleable {background-color: white;}#sk-container-id-1 label.sk-toggleable__label {cursor: pointer;display: block;width: 100%;margin-bottom: 0;padding: 0.3em;box-sizing: border-box;text-align: center;}#sk-container-id-1 label.sk-toggleable__label-arrow:before {content: \"▸\";float: left;margin-right: 0.25em;color: #696969;}#sk-container-id-1 label.sk-toggleable__label-arrow:hover:before {color: black;}#sk-container-id-1 div.sk-estimator:hover label.sk-toggleable__label-arrow:before {color: black;}#sk-container-id-1 div.sk-toggleable__content {max-height: 0;max-width: 0;overflow: hidden;text-align: left;background-color: #f0f8ff;}#sk-container-id-1 div.sk-toggleable__content pre {margin: 0.2em;color: black;border-radius: 0.25em;background-color: #f0f8ff;}#sk-container-id-1 input.sk-toggleable__control:checked~div.sk-toggleable__content {max-height: 200px;max-width: 100%;overflow: auto;}#sk-container-id-1 input.sk-toggleable__control:checked~label.sk-toggleable__label-arrow:before {content: \"▾\";}#sk-container-id-1 div.sk-estimator input.sk-toggleable__control:checked~label.sk-toggleable__label {background-color: #d4ebff;}#sk-container-id-1 div.sk-label input.sk-toggleable__control:checked~label.sk-toggleable__label {background-color: #d4ebff;}#sk-container-id-1 input.sk-hidden--visually {border: 0;clip: rect(1px 1px 1px 1px);clip: rect(1px, 1px, 1px, 1px);height: 1px;margin: -1px;overflow: hidden;padding: 0;position: absolute;width: 1px;}#sk-container-id-1 div.sk-estimator {font-family: monospace;background-color: #f0f8ff;border: 1px dotted black;border-radius: 0.25em;box-sizing: border-box;margin-bottom: 0.5em;}#sk-container-id-1 div.sk-estimator:hover {background-color: #d4ebff;}#sk-container-id-1 div.sk-parallel-item::after {content: \"\";width: 100%;border-bottom: 1px solid gray;flex-grow: 1;}#sk-container-id-1 div.sk-label:hover label.sk-toggleable__label {background-color: #d4ebff;}#sk-container-id-1 div.sk-serial::before {content: \"\";position: absolute;border-left: 1px solid gray;box-sizing: border-box;top: 0;bottom: 0;left: 50%;z-index: 0;}#sk-container-id-1 div.sk-serial {display: flex;flex-direction: column;align-items: center;background-color: white;padding-right: 0.2em;padding-left: 0.2em;position: relative;}#sk-container-id-1 div.sk-item {position: relative;z-index: 1;}#sk-container-id-1 div.sk-parallel {display: flex;align-items: stretch;justify-content: center;background-color: white;position: relative;}#sk-container-id-1 div.sk-item::before, #sk-container-id-1 div.sk-parallel-item::before {content: \"\";position: absolute;border-left: 1px solid gray;box-sizing: border-box;top: 0;bottom: 0;left: 50%;z-index: -1;}#sk-container-id-1 div.sk-parallel-item {display: flex;flex-direction: column;z-index: 1;position: relative;background-color: white;}#sk-container-id-1 div.sk-parallel-item:first-child::after {align-self: flex-end;width: 50%;}#sk-container-id-1 div.sk-parallel-item:last-child::after {align-self: flex-start;width: 50%;}#sk-container-id-1 div.sk-parallel-item:only-child::after {width: 0;}#sk-container-id-1 div.sk-dashed-wrapped {border: 1px dashed gray;margin: 0 0.4em 0.5em 0.4em;box-sizing: border-box;padding-bottom: 0.4em;background-color: white;}#sk-container-id-1 div.sk-label label {font-family: monospace;font-weight: bold;display: inline-block;line-height: 1.2em;}#sk-container-id-1 div.sk-label-container {text-align: center;}#sk-container-id-1 div.sk-container {/* jupyter's `normalize.less` sets `[hidden] { display: none; }` but bootstrap.min.css set `[hidden] { display: none !important; }` so we also need the `!important` here to be able to override the default hidden behavior on the sphinx rendered scikit-learn.org. See: https://github.com/scikit-learn/scikit-learn/issues/21755 */display: inline-block !important;position: relative;}#sk-container-id-1 div.sk-text-repr-fallback {display: none;}</style><div id=\"sk-container-id-1\" class=\"sk-top-container\"><div class=\"sk-text-repr-fallback\"><pre>CountVectorizer(stop_words=&#x27;english&#x27;)</pre><b>In a Jupyter environment, please rerun this cell to show the HTML representation or trust the notebook. <br />On GitHub, the HTML representation is unable to render, please try loading this page with nbviewer.org.</b></div><div class=\"sk-container\" hidden><div class=\"sk-item\"><div class=\"sk-estimator sk-toggleable\"><input class=\"sk-toggleable__control sk-hidden--visually\" id=\"sk-estimator-id-1\" type=\"checkbox\" checked><label for=\"sk-estimator-id-1\" class=\"sk-toggleable__label sk-toggleable__label-arrow\">CountVectorizer</label><div class=\"sk-toggleable__content\"><pre>CountVectorizer(stop_words=&#x27;english&#x27;)</pre></div></div></div></div></div>"
            ]
          },
          "metadata": {},
          "execution_count": 65
        }
      ]
    },
    {
      "cell_type": "code",
      "source": [
        "bow_vectors = vectorizer.fit_transform(docs)"
      ],
      "metadata": {
        "id": "MuTupT6x-sVo"
      },
      "execution_count": 66,
      "outputs": []
    },
    {
      "cell_type": "code",
      "source": [
        "bow_vectors"
      ],
      "metadata": {
        "id": "NaF3ZQfU-uRH",
        "outputId": "f11181f0-1783-40b6-fc28-2cd43a601cec",
        "colab": {
          "base_uri": "https://localhost:8080/"
        }
      },
      "execution_count": 67,
      "outputs": [
        {
          "output_type": "execute_result",
          "data": {
            "text/plain": [
              "<3x13 sparse matrix of type '<class 'numpy.int64'>'\n",
              "\twith 13 stored elements in Compressed Sparse Row format>"
            ]
          },
          "metadata": {},
          "execution_count": 67
        }
      ]
    },
    {
      "cell_type": "code",
      "source": [
        "vocab = vectorizer.get_feature_names_out()"
      ],
      "metadata": {
        "id": "9Z9p09gx-wCR"
      },
      "execution_count": 68,
      "outputs": []
    },
    {
      "cell_type": "code",
      "source": [
        "vocab"
      ],
      "metadata": {
        "id": "9wpOy3NI-xxA",
        "outputId": "88823788-4238-4b77-bd18-48b7061b4e8a",
        "colab": {
          "base_uri": "https://localhost:8080/"
        }
      },
      "execution_count": 69,
      "outputs": [
        {
          "output_type": "execute_result",
          "data": {
            "text/plain": [
              "array(['bird', 'brown', 'catches', 'dog', 'early', 'fox', 'jumps', 'lazy',\n",
              "       'quick', 'saves', 'stitch', 'time', 'worm'], dtype=object)"
            ]
          },
          "metadata": {},
          "execution_count": 69
        }
      ]
    },
    {
      "cell_type": "code",
      "source": [
        "print(\"Vocabulary: \", vocab)"
      ],
      "metadata": {
        "id": "McjoItdm-zv8",
        "outputId": "43b9472e-fe54-4ec1-b192-9831332c57b4",
        "colab": {
          "base_uri": "https://localhost:8080/"
        }
      },
      "execution_count": 70,
      "outputs": [
        {
          "output_type": "stream",
          "name": "stdout",
          "text": [
            "Vocabulary:  ['bird' 'brown' 'catches' 'dog' 'early' 'fox' 'jumps' 'lazy' 'quick'\n",
            " 'saves' 'stitch' 'time' 'worm']\n"
          ]
        }
      ]
    },
    {
      "cell_type": "code",
      "source": [
        "for i, doc in enumerate(docs):\n",
        "    print(\"BOW vector for document\", i+1, \": \", bow_vectors[i].toarray())"
      ],
      "metadata": {
        "id": "n1DkQ3JK_KTg",
        "outputId": "f8f2b8f4-4cf6-4c33-c9d3-6f8c1b22b30e",
        "colab": {
          "base_uri": "https://localhost:8080/"
        }
      },
      "execution_count": 71,
      "outputs": [
        {
          "output_type": "stream",
          "name": "stdout",
          "text": [
            "BOW vector for document 1 :  [[0 1 0 1 0 1 1 1 1 0 0 0 0]]\n",
            "BOW vector for document 2 :  [[1 0 1 0 1 0 0 0 0 0 0 0 1]]\n",
            "BOW vector for document 3 :  [[0 0 0 0 0 0 0 0 0 1 1 1 0]]\n"
          ]
        }
      ]
    },
    {
      "cell_type": "code",
      "source": [
        "from sklearn.feature_extraction.text import TfidfVectorizer"
      ],
      "metadata": {
        "id": "jkec4qzQ_MlA"
      },
      "execution_count": 72,
      "outputs": []
    },
    {
      "cell_type": "code",
      "source": [
        "doc1 = \"The quick brown fox jumped over the lazy dog\"\n",
        "doc2 = \"The dog and the fox were good friends\"\n",
        "doc3 = \"The quick brown cat jumped over the lazy dog\""
      ],
      "metadata": {
        "id": "WbJb6yYqA0Ai"
      },
      "execution_count": 73,
      "outputs": []
    },
    {
      "cell_type": "code",
      "source": [
        "documents = [doc1, doc2, doc3]"
      ],
      "metadata": {
        "id": "WqlVSFIWA1l5"
      },
      "execution_count": 74,
      "outputs": []
    },
    {
      "cell_type": "code",
      "source": [
        "vectorizer = TfidfVectorizer()"
      ],
      "metadata": {
        "id": "qeVmZ0tOA3to"
      },
      "execution_count": 75,
      "outputs": []
    },
    {
      "cell_type": "code",
      "source": [
        "tfidf_matrix = vectorizer.fit_transform(documents)"
      ],
      "metadata": {
        "id": "mFQ65QS3A5Fc"
      },
      "execution_count": 76,
      "outputs": []
    },
    {
      "cell_type": "code",
      "source": [
        "vocab = vectorizer.get_feature_names_out()"
      ],
      "metadata": {
        "id": "xzhKeQ1uA6nI"
      },
      "execution_count": 77,
      "outputs": []
    },
    {
      "cell_type": "code",
      "source": [
        "vocab"
      ],
      "metadata": {
        "id": "IRXHKJd8BW2B",
        "outputId": "d7aec16c-485c-4bd9-b058-162ad834a784",
        "colab": {
          "base_uri": "https://localhost:8080/"
        }
      },
      "execution_count": 79,
      "outputs": [
        {
          "output_type": "execute_result",
          "data": {
            "text/plain": [
              "array(['and', 'brown', 'cat', 'dog', 'fox', 'friends', 'good', 'jumped',\n",
              "       'lazy', 'over', 'quick', 'the', 'were'], dtype=object)"
            ]
          },
          "metadata": {},
          "execution_count": 79
        }
      ]
    },
    {
      "cell_type": "code",
      "source": [
        "for i, doc in enumerate(documents):\n",
        "    print(f\"Document {i+1}: {doc}\")\n",
        "    print(tfidf_matrix.toarray()[i])"
      ],
      "metadata": {
        "id": "RJpJ0WrnA8EN",
        "outputId": "1630efbf-fc10-478f-c73a-8729a76ec504",
        "colab": {
          "base_uri": "https://localhost:8080/"
        }
      },
      "execution_count": 78,
      "outputs": [
        {
          "output_type": "stream",
          "name": "stdout",
          "text": [
            "Document 1: The quick brown fox jumped over the lazy dog\n",
            "[0.         0.33304752 0.         0.25864111 0.33304752 0.\n",
            " 0.         0.33304752 0.33304752 0.33304752 0.33304752 0.51728221\n",
            " 0.        ]\n",
            "Document 2: The dog and the fox were good friends\n",
            "[0.39769885 0.         0.         0.23488735 0.30246022 0.39769885\n",
            " 0.39769885 0.         0.         0.         0.         0.46977469\n",
            " 0.39769885]\n",
            "Document 3: The quick brown cat jumped over the lazy dog\n",
            "[0.         0.32034893 0.42122034 0.24877952 0.         0.\n",
            " 0.         0.32034893 0.32034893 0.32034893 0.32034893 0.49755904\n",
            " 0.        ]\n"
          ]
        }
      ]
    },
    {
      "cell_type": "code",
      "source": [
        "from gensim.models import Word2Vec"
      ],
      "metadata": {
        "id": "2O2Hu-_kA960"
      },
      "execution_count": 80,
      "outputs": []
    },
    {
      "cell_type": "code",
      "source": [
        "import nltk\n",
        "nltk.download('punkt')"
      ],
      "metadata": {
        "id": "w7696pTNHpFA",
        "outputId": "65718f31-c969-4e17-bc8c-19f4fc9a5648",
        "colab": {
          "base_uri": "https://localhost:8080/"
        }
      },
      "execution_count": 81,
      "outputs": [
        {
          "output_type": "stream",
          "name": "stderr",
          "text": [
            "[nltk_data] Downloading package punkt to /root/nltk_data...\n",
            "[nltk_data]   Unzipping tokenizers/punkt.zip.\n"
          ]
        },
        {
          "output_type": "execute_result",
          "data": {
            "text/plain": [
              "True"
            ]
          },
          "metadata": {},
          "execution_count": 81
        }
      ]
    },
    {
      "cell_type": "code",
      "source": [
        "sentences = [\n",
        "    \"The quick brown fox jumps over the lazy dog\",\n",
        "    \"I have a cat named Bob\",\n",
        "    \"Mary had a little lamb\",\n",
        "    \"The cat chased the mouse\"\n",
        "]"
      ],
      "metadata": {
        "id": "991hr1_0HriC"
      },
      "execution_count": 82,
      "outputs": []
    },
    {
      "cell_type": "code",
      "source": [
        "tokenized_sentences = [nltk.word_tokenize(sentence.lower()) for sentence in sentences]"
      ],
      "metadata": {
        "id": "kHDfDInrHts2"
      },
      "execution_count": 83,
      "outputs": []
    },
    {
      "cell_type": "code",
      "source": [
        "tokenized_sentences"
      ],
      "metadata": {
        "id": "0LiAFD9eHy0K",
        "outputId": "116da40b-b272-4a77-f52a-3a3fa1f26698",
        "colab": {
          "base_uri": "https://localhost:8080/"
        }
      },
      "execution_count": 85,
      "outputs": [
        {
          "output_type": "execute_result",
          "data": {
            "text/plain": [
              "[['the', 'quick', 'brown', 'fox', 'jumps', 'over', 'the', 'lazy', 'dog'],\n",
              " ['i', 'have', 'a', 'cat', 'named', 'bob'],\n",
              " ['mary', 'had', 'a', 'little', 'lamb'],\n",
              " ['the', 'cat', 'chased', 'the', 'mouse']]"
            ]
          },
          "metadata": {},
          "execution_count": 85
        }
      ]
    },
    {
      "cell_type": "code",
      "source": [
        "model_cbow = Word2Vec(sentences=tokenized_sentences, vector_size=10, window=2, sg=0, min_count=1, workers=4, epochs=100)\n"
      ],
      "metadata": {
        "id": "DcUDMGZ0Hv6o"
      },
      "execution_count": 84,
      "outputs": []
    },
    {
      "cell_type": "code",
      "source": [
        "model_cbow"
      ],
      "metadata": {
        "id": "RhkxOt-wHxvu",
        "outputId": "28974378-b2ae-4d2d-e6dd-40c816e84d70",
        "colab": {
          "base_uri": "https://localhost:8080/"
        }
      },
      "execution_count": 86,
      "outputs": [
        {
          "output_type": "execute_result",
          "data": {
            "text/plain": [
              "<gensim.models.word2vec.Word2Vec at 0x7fb757645960>"
            ]
          },
          "metadata": {},
          "execution_count": 86
        }
      ]
    },
    {
      "cell_type": "code",
      "source": [
        "vocabulary = model_cbow.wv.index_to_key"
      ],
      "metadata": {
        "id": "LY1xD0gqH0hR"
      },
      "execution_count": 87,
      "outputs": []
    },
    {
      "cell_type": "code",
      "source": [
        "vocabulary"
      ],
      "metadata": {
        "id": "9XtDBGBKH2R9",
        "outputId": "75c4055c-5ac5-4f4b-8206-5fe03f27dc16",
        "colab": {
          "base_uri": "https://localhost:8080/"
        }
      },
      "execution_count": 88,
      "outputs": [
        {
          "output_type": "execute_result",
          "data": {
            "text/plain": [
              "['the',\n",
              " 'cat',\n",
              " 'a',\n",
              " 'i',\n",
              " 'quick',\n",
              " 'brown',\n",
              " 'fox',\n",
              " 'jumps',\n",
              " 'over',\n",
              " 'lazy',\n",
              " 'dog',\n",
              " 'mouse',\n",
              " 'chased',\n",
              " 'named',\n",
              " 'bob',\n",
              " 'mary',\n",
              " 'had',\n",
              " 'little',\n",
              " 'lamb',\n",
              " 'have']"
            ]
          },
          "metadata": {},
          "execution_count": 88
        }
      ]
    },
    {
      "cell_type": "code",
      "source": [
        "vectors = model_cbow.wv[vocabulary]"
      ],
      "metadata": {
        "id": "ILGF_UpuH3Y-"
      },
      "execution_count": 89,
      "outputs": []
    },
    {
      "cell_type": "code",
      "source": [
        "print(\"Vocabulary:\", vocabulary)\n",
        "print(\"Vectors:\", vectors)"
      ],
      "metadata": {
        "id": "wbtJJASwH5Sr",
        "outputId": "9b864ac9-910a-4135-fe5a-a6a153e09183",
        "colab": {
          "base_uri": "https://localhost:8080/"
        }
      },
      "execution_count": 90,
      "outputs": [
        {
          "output_type": "stream",
          "name": "stdout",
          "text": [
            "Vocabulary: ['the', 'cat', 'a', 'i', 'quick', 'brown', 'fox', 'jumps', 'over', 'lazy', 'dog', 'mouse', 'chased', 'named', 'bob', 'mary', 'had', 'little', 'lamb', 'have']\n",
            "Vectors: [[-0.00579906  0.00216587  0.05165328  0.09021517 -0.09243679 -0.07150614\n",
            "   0.06579404  0.08985182 -0.05098763 -0.03704023]\n",
            " [ 0.07356491 -0.01552288 -0.04470968  0.06539246 -0.04794506 -0.01825717\n",
            "   0.0302473   0.010129   -0.08385248 -0.0938779 ]\n",
            " [ 0.0731724   0.05033677  0.06809691  0.00783     0.06384286 -0.0342177\n",
            "  -0.00855822  0.05823005 -0.07600778 -0.03897595]\n",
            " [-0.07522599 -0.00942782  0.09582447 -0.07332443 -0.02284672 -0.01961325\n",
            "   0.08160633 -0.05896096 -0.00014829 -0.04732473]\n",
            " [-0.09607138  0.04996368 -0.08710957 -0.04383304  0.00020548 -0.0028955\n",
            "  -0.07576942  0.09639003  0.04925632  0.09292925]\n",
            " [-0.08216061  0.04484733 -0.04079904  0.00843407  0.08569652 -0.04498284\n",
            "   0.04685031 -0.06757127 -0.03652569  0.09466898]\n",
            " [-0.01596777  0.00298292 -0.04100777 -0.07673436 -0.01455512  0.0247766\n",
            "  -0.00815276  0.05534549 -0.02784555  0.02342854]\n",
            " [ 0.05412765  0.08325956 -0.01418084 -0.09210713  0.0446441   0.00583346\n",
            "   0.07588632 -0.0076932  -0.02710095 -0.08660554]\n",
            " [-0.0090237   0.02838345  0.05440654  0.07051931 -0.05641066  0.01858417\n",
            "   0.06160666 -0.04757918 -0.03173963  0.06859529]\n",
            " [ 0.01597171  0.00164704  0.03532593  0.00248155  0.09662936  0.05035515\n",
            "  -0.08823023 -0.06995015  0.00836914  0.06461633]\n",
            " [-0.08644509  0.03629681  0.05258235  0.05741023  0.07563962 -0.06170714\n",
            "   0.01227704  0.06071483 -0.02909935 -0.06095969]\n",
            " [-0.00376007 -0.08375479 -0.05585262  0.07095297  0.03376701  0.07248511\n",
            "   0.06867477  0.07613333 -0.03847289 -0.00521831]\n",
            " [ 0.02355095 -0.04518543  0.08397186 -0.0984628   0.06766051  0.0291116\n",
            "  -0.04888444  0.04415121 -0.01779425  0.06717443]\n",
            " [ 0.09955644 -0.0439422  -0.00562497 -0.05699589  0.03875164  0.02787794\n",
            "   0.06990971  0.06109748  0.09477078  0.09303058]\n",
            " [ 0.07878955 -0.07014464 -0.09056149 -0.00341264 -0.03040854  0.07863013\n",
            "   0.06085336 -0.01512414  0.01415064  0.01837042]\n",
            " [ 0.07825758 -0.09530693 -0.00191979  0.03466829 -0.00936451  0.08383607\n",
            "   0.09043791  0.06544586 -0.00735254  0.07724392]\n",
            " [-0.08539116  0.03183747 -0.0460729  -0.05094223  0.0361516   0.05377826\n",
            "   0.07796703 -0.05756476  0.07419065  0.06648368]\n",
            " [-0.03737139 -0.08783112  0.05452138  0.06516988 -0.0074013  -0.06705925\n",
            "  -0.06979435 -0.02481401  0.0509301  -0.0361235 ]\n",
            " [-0.09365986  0.03799769  0.0493265  -0.06453653  0.01246918 -0.02063663\n",
            "   0.0012074  -0.09867147  0.02661291 -0.04730527]\n",
            " [ 0.01085377 -0.01601642  0.02247107 -0.07853628 -0.02676777  0.02640103\n",
            "   0.05433869 -0.02346635 -0.09571782  0.04519136]]\n"
          ]
        }
      ]
    },
    {
      "cell_type": "code",
      "source": [
        "import gensim\n",
        "import numpy as np"
      ],
      "metadata": {
        "id": "_pv5iRWEH7Gj"
      },
      "execution_count": 91,
      "outputs": []
    },
    {
      "cell_type": "code",
      "source": [
        "sentences = [[\"apple\", \"banana\", \"orange\"], [\"orange\", \"grape\", \"apple\"], [\"banana\", \"grape\", \"cherry\"]]\n"
      ],
      "metadata": {
        "id": "ib-8ilQrIGX6"
      },
      "execution_count": 92,
      "outputs": []
    },
    {
      "cell_type": "code",
      "source": [
        "model = gensim.models.Word2Vec(sentences, min_count=1)\n"
      ],
      "metadata": {
        "id": "9FdN2l3hIJkX"
      },
      "execution_count": 93,
      "outputs": []
    },
    {
      "cell_type": "code",
      "source": [
        "model"
      ],
      "metadata": {
        "id": "T0qH1rr6ILGP",
        "outputId": "f4123f00-d6d6-417a-b4d1-0cfb05d76f51",
        "colab": {
          "base_uri": "https://localhost:8080/"
        }
      },
      "execution_count": 94,
      "outputs": [
        {
          "output_type": "execute_result",
          "data": {
            "text/plain": [
              "<gensim.models.word2vec.Word2Vec at 0x7fb757646770>"
            ]
          },
          "metadata": {},
          "execution_count": 94
        }
      ]
    },
    {
      "cell_type": "code",
      "source": [
        "def get_sentence_vector(model, sentence):\n",
        "    vectors = []\n",
        "    for word in sentence:\n",
        "        if word in model.wv.index_to_key:\n",
        "            vectors.append(model.wv[word])\n",
        "    if len(vectors) > 0:\n",
        "        return np.mean(vectors, axis=0)\n",
        "    else:\n",
        "        return np.zeros((model.vector_size,), dtype=np.float32)"
      ],
      "metadata": {
        "id": "NljPSYE1IMPY"
      },
      "execution_count": 95,
      "outputs": []
    },
    {
      "cell_type": "code",
      "source": [
        "vectors = []\n",
        "for sentence in sentences:\n",
        "    vectors.append(get_sentence_vector(model, sentence))\n"
      ],
      "metadata": {
        "id": "Vytrmf9lIOBt"
      },
      "execution_count": 96,
      "outputs": []
    },
    {
      "cell_type": "code",
      "source": [
        "print(\"Vocabulary:\", list(model.wv.index_to_key))\n",
        "print(\"Vectors:\\n\", np.array(vectors))"
      ],
      "metadata": {
        "id": "iOL93nl1IPk-",
        "outputId": "b0a6cf2d-f20a-408e-a598-ca2ebb32fa21",
        "colab": {
          "base_uri": "https://localhost:8080/"
        }
      },
      "execution_count": 97,
      "outputs": [
        {
          "output_type": "stream",
          "name": "stdout",
          "text": [
            "Vocabulary: ['grape', 'orange', 'banana', 'apple', 'cherry']\n",
            "Vectors:\n",
            " [[-5.5892672e-03  5.3474712e-03 -6.0680759e-04  7.9973222e-04\n",
            "   6.5797097e-03 -9.7219396e-04  5.8476930e-05  5.2099838e-03\n",
            "  -1.6972515e-03 -2.4929435e-03  1.4449350e-03 -2.2870821e-03\n",
            "   2.5591548e-03  5.7813973e-04  6.4344076e-03 -3.3285268e-04\n",
            "   6.9286474e-03  4.0305206e-03 -6.7919884e-03  3.7568729e-04\n",
            "  -1.0150893e-03 -3.8600645e-03  4.7079227e-03 -2.9668361e-03\n",
            "   1.6487334e-03  1.9190244e-04  3.2158245e-03  4.5110714e-03\n",
            "  -2.0889379e-03  3.6999192e-03  5.3695440e-03 -5.2032056e-03\n",
            "  -5.0484356e-03 -3.4199134e-03 -2.8366843e-04  3.3412457e-03\n",
            "   5.2489317e-03  1.1416145e-03  5.2590203e-04  6.0521238e-03\n",
            "   1.9112648e-03 -3.1007145e-05 -1.2569638e-03  1.2112252e-03\n",
            "   2.7321510e-03  5.0846864e-03  3.4146283e-03 -2.2086294e-03\n",
            "  -1.9946997e-03 -5.3739187e-04  4.5103449e-03 -4.0267124e-03\n",
            "  -5.6211981e-03 -4.6672183e-03 -5.4029841e-03  7.7267765e-04\n",
            "   3.0535916e-03  3.8815343e-03 -5.2931352e-04 -9.9204633e-05\n",
            "  -1.3222863e-03  1.4774740e-03  3.8128290e-03 -1.5663950e-03\n",
            "   2.2357306e-04  2.9965863e-03  4.8655123e-03  2.6089421e-03\n",
            "  -5.9184973e-04  9.2824007e-04  2.0261842e-03 -2.4966982e-03\n",
            "   2.8234988e-03  6.1433427e-03 -2.0713543e-03 -1.0376917e-03\n",
            "  -9.3437749e-04  2.7588110e-03 -1.1342046e-03 -5.1481574e-04\n",
            "  -4.4689667e-03  4.9637631e-04  3.3928020e-04 -1.3510748e-03\n",
            "   3.1825423e-04 -3.5214403e-03  1.4306888e-03 -4.0046028e-03\n",
            "   2.9527002e-03 -4.6997061e-03 -3.6159344e-03  1.0205798e-03\n",
            "   3.5272471e-03 -4.8481193e-03  4.9767396e-03  2.5267040e-03\n",
            "   5.6998557e-03 -3.1088374e-03 -1.2676945e-03 -2.6876752e-03]\n",
            " [-5.7995305e-03  4.4005080e-03  3.3651907e-03  4.2613116e-03\n",
            "   9.2253304e-04 -5.7932665e-03  3.4358669e-03  7.3200795e-03\n",
            "  -5.9668423e-04 -5.8158957e-03  5.4508769e-03 -1.7435370e-03\n",
            "  -2.0568350e-03  2.4716950e-03  2.3174530e-03  1.0864957e-03\n",
            "   6.1673387e-03  1.0535377e-03 -6.7345961e-03 -1.0620217e-03\n",
            "   3.7771116e-03 -5.4909306e-04  8.2200086e-03  1.3285223e-04\n",
            "   1.1138279e-03  6.7142653e-04  9.2486538e-05  4.6797390e-03\n",
            "  -2.4128084e-03  1.0685942e-03  1.0422997e-03 -3.0377072e-03\n",
            "   5.9951021e-04 -5.0345589e-03  1.8136505e-03  3.2225230e-03\n",
            "   8.0758883e-03 -1.9352456e-03  6.0329523e-05  4.7613536e-03\n",
            "   5.7476736e-04  1.0613020e-03 -3.8777019e-03 -2.5172802e-03\n",
            "   1.3959209e-03  3.4761354e-03  3.8277949e-04  1.8962367e-03\n",
            "   1.1215905e-03  2.8843477e-03  1.3120301e-03 -1.6461102e-03\n",
            "  -4.6422952e-03 -1.7906037e-03  4.7048461e-04  1.2636753e-03\n",
            "   5.1752334e-03  3.0605048e-03  4.4141369e-04  4.2727385e-03\n",
            "  -3.2778904e-03  2.8309457e-03 -3.6010580e-04 -4.6386220e-03\n",
            "   2.1350102e-03  6.7525153e-04  2.0257656e-03  2.6224020e-03\n",
            "   7.7677285e-04 -2.5929790e-04  2.5084179e-03 -1.4431701e-03\n",
            "   9.2028471e-04  2.4273768e-03  4.4221725e-04 -3.6317117e-03\n",
            "  -1.6578016e-03  1.2235156e-03 -1.0680107e-03 -3.4348613e-03\n",
            "  -5.1607587e-03  4.2580054e-03  4.8810714e-03  1.0768159e-03\n",
            "  -1.9952154e-03 -9.8737364e-04  5.0354009e-03 -3.1552620e-03\n",
            "  -8.5925852e-04 -2.4742624e-03 -1.5689767e-03 -8.1668299e-04\n",
            "   1.6251210e-03 -3.4089026e-03  5.5281208e-03  2.4217607e-03\n",
            "   7.6768425e-04 -5.6268875e-03 -3.7049039e-03  1.7828499e-03]\n",
            " [-2.5268928e-03  1.5182607e-03 -2.9620037e-03  1.7963964e-03\n",
            "   6.9497828e-04  2.0209081e-03  1.3279194e-03  4.5728073e-03\n",
            "  -5.8143162e-03  3.2224825e-03 -1.1879532e-03 -1.6787400e-05\n",
            "  -1.1484100e-03  3.1546352e-03 -7.8216987e-04 -4.0459228e-03\n",
            "   1.6427008e-03  5.5233017e-03 -3.6480681e-03 -6.5197195e-03\n",
            "   3.4008664e-04 -2.7627225e-03  3.5963117e-03  4.9465260e-04\n",
            "   3.8547229e-03 -2.4830271e-03  2.7412877e-03  5.5030095e-03\n",
            "  -7.5592473e-03  2.0207452e-04  1.6093299e-03 -2.0416614e-03\n",
            "   1.0856917e-03 -6.3721840e-03 -8.2570902e-04 -3.2611471e-03\n",
            "   1.5605437e-03  2.8752521e-04  2.3813843e-04 -1.4079547e-03\n",
            "  -4.4718725e-03 -3.0413581e-05 -6.4605898e-03  3.8141503e-03\n",
            "   3.3788483e-03 -8.9321256e-04 -9.4115065e-04  2.3736504e-03\n",
            "   1.7896636e-03  3.6037512e-04 -8.9797861e-04  2.0657412e-03\n",
            "  -4.1782981e-04 -3.8181702e-03 -6.7081017e-04 -5.9048892e-03\n",
            "  -2.3425845e-03 -6.7303628e-03 -3.6773048e-03 -2.7403483e-04\n",
            "   2.5204115e-03 -3.1938993e-03  2.2522437e-03 -1.8030846e-03\n",
            "  -4.0474939e-03  3.6414566e-03  5.5741034e-03  6.7242770e-03\n",
            "  -4.6845507e-03  5.7219234e-03  1.2743749e-03  6.4874147e-03\n",
            "  -9.8352401e-05 -1.2788789e-03  1.4058721e-03  5.2753636e-03\n",
            "   4.8934016e-03  3.9181192e-03  7.0467312e-04 -6.0978425e-03\n",
            "  -2.5486492e-03 -4.4232192e-03  3.3580309e-05  1.3423063e-03\n",
            "  -3.7984513e-03 -4.0042750e-03  3.2242567e-03 -3.3845457e-03\n",
            "  -1.3688873e-03  7.0873694e-04  8.6271750e-05  3.9280546e-04\n",
            "   5.9781652e-03 -2.7051785e-03  6.7417677e-03  7.9678342e-04\n",
            "   1.0572063e-03 -5.7002698e-04  3.3005776e-03  7.9564698e-04]]\n"
          ]
        }
      ]
    },
    {
      "cell_type": "code",
      "source": [
        "from tensorflow.keras.preprocessing.sequence import pad_sequences\n"
      ],
      "metadata": {
        "id": "aJBE3RXiIRWJ"
      },
      "execution_count": 98,
      "outputs": []
    },
    {
      "cell_type": "code",
      "source": [
        "sequences = [[1, 2, 3], [4, 5], [6, 7, 8, 9]]"
      ],
      "metadata": {
        "id": "kVeynezuIsR3"
      },
      "execution_count": 99,
      "outputs": []
    },
    {
      "cell_type": "code",
      "source": [
        "padded_sequences_post = pad_sequences(sequences, maxlen=5, padding='post')\n",
        "padded_sequences_pre = pad_sequences(sequences, maxlen=5, padding='pre')\n"
      ],
      "metadata": {
        "id": "fOAGFiX5Iu9Y"
      },
      "execution_count": 100,
      "outputs": []
    },
    {
      "cell_type": "code",
      "source": [
        "padded_sequences_pre"
      ],
      "metadata": {
        "id": "7j6lspwcIww_",
        "outputId": "2e8a7235-031d-4a8d-a916-18b925d7d509",
        "colab": {
          "base_uri": "https://localhost:8080/"
        }
      },
      "execution_count": 101,
      "outputs": [
        {
          "output_type": "execute_result",
          "data": {
            "text/plain": [
              "array([[0, 0, 1, 2, 3],\n",
              "       [0, 0, 0, 4, 5],\n",
              "       [0, 6, 7, 8, 9]], dtype=int32)"
            ]
          },
          "metadata": {},
          "execution_count": 101
        }
      ]
    },
    {
      "cell_type": "code",
      "source": [
        "padded_sequences_post"
      ],
      "metadata": {
        "id": "b8cPmyxCIyEI",
        "outputId": "6243a417-f500-4971-ec90-63a988c87be4",
        "colab": {
          "base_uri": "https://localhost:8080/"
        }
      },
      "execution_count": 102,
      "outputs": [
        {
          "output_type": "execute_result",
          "data": {
            "text/plain": [
              "array([[1, 2, 3, 0, 0],\n",
              "       [4, 5, 0, 0, 0],\n",
              "       [6, 7, 8, 9, 0]], dtype=int32)"
            ]
          },
          "metadata": {},
          "execution_count": 102
        }
      ]
    },
    {
      "cell_type": "code",
      "source": [],
      "metadata": {
        "id": "rhecNBb_Iz3c"
      },
      "execution_count": null,
      "outputs": []
    }
  ],
  "metadata": {
    "colab": {
      "name": "Welcome To Colaboratory",
      "toc_visible": true,
      "provenance": [],
      "include_colab_link": true
    },
    "kernelspec": {
      "display_name": "Python 3",
      "name": "python3"
    }
  },
  "nbformat": 4,
  "nbformat_minor": 0
}