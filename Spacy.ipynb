{
  "nbformat": 4,
  "nbformat_minor": 0,
  "metadata": {
    "colab": {
      "provenance": [],
      "authorship_tag": "ABX9TyP9j1lQudx7tf/T3JBau3pU",
      "include_colab_link": true
    },
    "kernelspec": {
      "name": "python3",
      "display_name": "Python 3"
    },
    "language_info": {
      "name": "python"
    }
  },
  "cells": [
    {
      "cell_type": "markdown",
      "metadata": {
        "id": "view-in-github",
        "colab_type": "text"
      },
      "source": [
        "<a href=\"https://colab.research.google.com/github/BALAJIHARIDASAN/Natural-Language-Processing/blob/main/Spacy.ipynb\" target=\"_parent\"><img src=\"https://colab.research.google.com/assets/colab-badge.svg\" alt=\"Open In Colab\"/></a>"
      ]
    },
    {
      "cell_type": "code",
      "execution_count": 1,
      "metadata": {
        "colab": {
          "base_uri": "https://localhost:8080/"
        },
        "id": "ClQxS9jNtV6T",
        "outputId": "e1417004-56f7-4510-e2e8-71c27a30bc3f"
      },
      "outputs": [
        {
          "output_type": "stream",
          "name": "stdout",
          "text": [
            "Looking in indexes: https://pypi.org/simple, https://us-python.pkg.dev/colab-wheels/public/simple/\n",
            "Requirement already satisfied: spacy in /usr/local/lib/python3.10/dist-packages (3.5.2)\n",
            "Collecting spacy\n",
            "  Downloading spacy-3.5.3-cp310-cp310-manylinux_2_17_x86_64.manylinux2014_x86_64.whl (6.6 MB)\n",
            "\u001b[2K     \u001b[90m━━━━━━━━━━━━━━━━━━━━━━━━━━━━━━━━━━━━━━━━\u001b[0m \u001b[32m6.6/6.6 MB\u001b[0m \u001b[31m56.1 MB/s\u001b[0m eta \u001b[36m0:00:00\u001b[0m\n",
            "\u001b[?25hRequirement already satisfied: spacy-legacy<3.1.0,>=3.0.11 in /usr/local/lib/python3.10/dist-packages (from spacy) (3.0.12)\n",
            "Requirement already satisfied: spacy-loggers<2.0.0,>=1.0.0 in /usr/local/lib/python3.10/dist-packages (from spacy) (1.0.4)\n",
            "Requirement already satisfied: murmurhash<1.1.0,>=0.28.0 in /usr/local/lib/python3.10/dist-packages (from spacy) (1.0.9)\n",
            "Requirement already satisfied: cymem<2.1.0,>=2.0.2 in /usr/local/lib/python3.10/dist-packages (from spacy) (2.0.7)\n",
            "Requirement already satisfied: preshed<3.1.0,>=3.0.2 in /usr/local/lib/python3.10/dist-packages (from spacy) (3.0.8)\n",
            "Requirement already satisfied: thinc<8.2.0,>=8.1.8 in /usr/local/lib/python3.10/dist-packages (from spacy) (8.1.9)\n",
            "Requirement already satisfied: wasabi<1.2.0,>=0.9.1 in /usr/local/lib/python3.10/dist-packages (from spacy) (1.1.1)\n",
            "Requirement already satisfied: srsly<3.0.0,>=2.4.3 in /usr/local/lib/python3.10/dist-packages (from spacy) (2.4.6)\n",
            "Requirement already satisfied: catalogue<2.1.0,>=2.0.6 in /usr/local/lib/python3.10/dist-packages (from spacy) (2.0.8)\n",
            "Requirement already satisfied: typer<0.8.0,>=0.3.0 in /usr/local/lib/python3.10/dist-packages (from spacy) (0.7.0)\n",
            "Requirement already satisfied: pathy>=0.10.0 in /usr/local/lib/python3.10/dist-packages (from spacy) (0.10.1)\n",
            "Requirement already satisfied: smart-open<7.0.0,>=5.2.1 in /usr/local/lib/python3.10/dist-packages (from spacy) (6.3.0)\n",
            "Requirement already satisfied: tqdm<5.0.0,>=4.38.0 in /usr/local/lib/python3.10/dist-packages (from spacy) (4.65.0)\n",
            "Requirement already satisfied: numpy>=1.15.0 in /usr/local/lib/python3.10/dist-packages (from spacy) (1.22.4)\n",
            "Requirement already satisfied: requests<3.0.0,>=2.13.0 in /usr/local/lib/python3.10/dist-packages (from spacy) (2.27.1)\n",
            "Requirement already satisfied: pydantic!=1.8,!=1.8.1,<1.11.0,>=1.7.4 in /usr/local/lib/python3.10/dist-packages (from spacy) (1.10.7)\n",
            "Requirement already satisfied: jinja2 in /usr/local/lib/python3.10/dist-packages (from spacy) (3.1.2)\n",
            "Requirement already satisfied: setuptools in /usr/local/lib/python3.10/dist-packages (from spacy) (67.7.2)\n",
            "Requirement already satisfied: packaging>=20.0 in /usr/local/lib/python3.10/dist-packages (from spacy) (23.1)\n",
            "Requirement already satisfied: langcodes<4.0.0,>=3.2.0 in /usr/local/lib/python3.10/dist-packages (from spacy) (3.3.0)\n",
            "Requirement already satisfied: typing-extensions>=4.2.0 in /usr/local/lib/python3.10/dist-packages (from pydantic!=1.8,!=1.8.1,<1.11.0,>=1.7.4->spacy) (4.5.0)\n",
            "Requirement already satisfied: urllib3<1.27,>=1.21.1 in /usr/local/lib/python3.10/dist-packages (from requests<3.0.0,>=2.13.0->spacy) (1.26.15)\n",
            "Requirement already satisfied: certifi>=2017.4.17 in /usr/local/lib/python3.10/dist-packages (from requests<3.0.0,>=2.13.0->spacy) (2022.12.7)\n",
            "Requirement already satisfied: charset-normalizer~=2.0.0 in /usr/local/lib/python3.10/dist-packages (from requests<3.0.0,>=2.13.0->spacy) (2.0.12)\n",
            "Requirement already satisfied: idna<4,>=2.5 in /usr/local/lib/python3.10/dist-packages (from requests<3.0.0,>=2.13.0->spacy) (3.4)\n",
            "Requirement already satisfied: blis<0.8.0,>=0.7.8 in /usr/local/lib/python3.10/dist-packages (from thinc<8.2.0,>=8.1.8->spacy) (0.7.9)\n",
            "Requirement already satisfied: confection<1.0.0,>=0.0.1 in /usr/local/lib/python3.10/dist-packages (from thinc<8.2.0,>=8.1.8->spacy) (0.0.4)\n",
            "Requirement already satisfied: click<9.0.0,>=7.1.1 in /usr/local/lib/python3.10/dist-packages (from typer<0.8.0,>=0.3.0->spacy) (8.1.3)\n",
            "Requirement already satisfied: MarkupSafe>=2.0 in /usr/local/lib/python3.10/dist-packages (from jinja2->spacy) (2.1.2)\n",
            "Installing collected packages: spacy\n",
            "  Attempting uninstall: spacy\n",
            "    Found existing installation: spacy 3.5.2\n",
            "    Uninstalling spacy-3.5.2:\n",
            "      Successfully uninstalled spacy-3.5.2\n",
            "Successfully installed spacy-3.5.3\n"
          ]
        }
      ],
      "source": [
        "pip install -U spacy"
      ]
    },
    {
      "cell_type": "code",
      "source": [
        "!python -m spacy download en_core_web_sm"
      ],
      "metadata": {
        "colab": {
          "base_uri": "https://localhost:8080/"
        },
        "id": "LADIKKNdt3HG",
        "outputId": "34e59583-31a5-48d7-9da8-c09fcd3cb698"
      },
      "execution_count": 2,
      "outputs": [
        {
          "output_type": "stream",
          "name": "stdout",
          "text": [
            "2023-06-01 03:21:14.569182: I tensorflow/core/platform/cpu_feature_guard.cc:182] This TensorFlow binary is optimized to use available CPU instructions in performance-critical operations.\n",
            "To enable the following instructions: AVX2 FMA, in other operations, rebuild TensorFlow with the appropriate compiler flags.\n",
            "2023-06-01 03:21:16.534121: W tensorflow/compiler/tf2tensorrt/utils/py_utils.cc:38] TF-TRT Warning: Could not find TensorRT\n",
            "Looking in indexes: https://pypi.org/simple, https://us-python.pkg.dev/colab-wheels/public/simple/\n",
            "Collecting en-core-web-sm==3.5.0\n",
            "  Downloading https://github.com/explosion/spacy-models/releases/download/en_core_web_sm-3.5.0/en_core_web_sm-3.5.0-py3-none-any.whl (12.8 MB)\n",
            "\u001b[2K     \u001b[90m━━━━━━━━━━━━━━━━━━━━━━━━━━━━━━━━━━━━━━━━\u001b[0m \u001b[32m12.8/12.8 MB\u001b[0m \u001b[31m74.7 MB/s\u001b[0m eta \u001b[36m0:00:00\u001b[0m\n",
            "\u001b[?25hRequirement already satisfied: spacy<3.6.0,>=3.5.0 in /usr/local/lib/python3.10/dist-packages (from en-core-web-sm==3.5.0) (3.5.3)\n",
            "Requirement already satisfied: spacy-legacy<3.1.0,>=3.0.11 in /usr/local/lib/python3.10/dist-packages (from spacy<3.6.0,>=3.5.0->en-core-web-sm==3.5.0) (3.0.12)\n",
            "Requirement already satisfied: spacy-loggers<2.0.0,>=1.0.0 in /usr/local/lib/python3.10/dist-packages (from spacy<3.6.0,>=3.5.0->en-core-web-sm==3.5.0) (1.0.4)\n",
            "Requirement already satisfied: murmurhash<1.1.0,>=0.28.0 in /usr/local/lib/python3.10/dist-packages (from spacy<3.6.0,>=3.5.0->en-core-web-sm==3.5.0) (1.0.9)\n",
            "Requirement already satisfied: cymem<2.1.0,>=2.0.2 in /usr/local/lib/python3.10/dist-packages (from spacy<3.6.0,>=3.5.0->en-core-web-sm==3.5.0) (2.0.7)\n",
            "Requirement already satisfied: preshed<3.1.0,>=3.0.2 in /usr/local/lib/python3.10/dist-packages (from spacy<3.6.0,>=3.5.0->en-core-web-sm==3.5.0) (3.0.8)\n",
            "Requirement already satisfied: thinc<8.2.0,>=8.1.8 in /usr/local/lib/python3.10/dist-packages (from spacy<3.6.0,>=3.5.0->en-core-web-sm==3.5.0) (8.1.9)\n",
            "Requirement already satisfied: wasabi<1.2.0,>=0.9.1 in /usr/local/lib/python3.10/dist-packages (from spacy<3.6.0,>=3.5.0->en-core-web-sm==3.5.0) (1.1.1)\n",
            "Requirement already satisfied: srsly<3.0.0,>=2.4.3 in /usr/local/lib/python3.10/dist-packages (from spacy<3.6.0,>=3.5.0->en-core-web-sm==3.5.0) (2.4.6)\n",
            "Requirement already satisfied: catalogue<2.1.0,>=2.0.6 in /usr/local/lib/python3.10/dist-packages (from spacy<3.6.0,>=3.5.0->en-core-web-sm==3.5.0) (2.0.8)\n",
            "Requirement already satisfied: typer<0.8.0,>=0.3.0 in /usr/local/lib/python3.10/dist-packages (from spacy<3.6.0,>=3.5.0->en-core-web-sm==3.5.0) (0.7.0)\n",
            "Requirement already satisfied: pathy>=0.10.0 in /usr/local/lib/python3.10/dist-packages (from spacy<3.6.0,>=3.5.0->en-core-web-sm==3.5.0) (0.10.1)\n",
            "Requirement already satisfied: smart-open<7.0.0,>=5.2.1 in /usr/local/lib/python3.10/dist-packages (from spacy<3.6.0,>=3.5.0->en-core-web-sm==3.5.0) (6.3.0)\n",
            "Requirement already satisfied: tqdm<5.0.0,>=4.38.0 in /usr/local/lib/python3.10/dist-packages (from spacy<3.6.0,>=3.5.0->en-core-web-sm==3.5.0) (4.65.0)\n",
            "Requirement already satisfied: numpy>=1.15.0 in /usr/local/lib/python3.10/dist-packages (from spacy<3.6.0,>=3.5.0->en-core-web-sm==3.5.0) (1.22.4)\n",
            "Requirement already satisfied: requests<3.0.0,>=2.13.0 in /usr/local/lib/python3.10/dist-packages (from spacy<3.6.0,>=3.5.0->en-core-web-sm==3.5.0) (2.27.1)\n",
            "Requirement already satisfied: pydantic!=1.8,!=1.8.1,<1.11.0,>=1.7.4 in /usr/local/lib/python3.10/dist-packages (from spacy<3.6.0,>=3.5.0->en-core-web-sm==3.5.0) (1.10.7)\n",
            "Requirement already satisfied: jinja2 in /usr/local/lib/python3.10/dist-packages (from spacy<3.6.0,>=3.5.0->en-core-web-sm==3.5.0) (3.1.2)\n",
            "Requirement already satisfied: setuptools in /usr/local/lib/python3.10/dist-packages (from spacy<3.6.0,>=3.5.0->en-core-web-sm==3.5.0) (67.7.2)\n",
            "Requirement already satisfied: packaging>=20.0 in /usr/local/lib/python3.10/dist-packages (from spacy<3.6.0,>=3.5.0->en-core-web-sm==3.5.0) (23.1)\n",
            "Requirement already satisfied: langcodes<4.0.0,>=3.2.0 in /usr/local/lib/python3.10/dist-packages (from spacy<3.6.0,>=3.5.0->en-core-web-sm==3.5.0) (3.3.0)\n",
            "Requirement already satisfied: typing-extensions>=4.2.0 in /usr/local/lib/python3.10/dist-packages (from pydantic!=1.8,!=1.8.1,<1.11.0,>=1.7.4->spacy<3.6.0,>=3.5.0->en-core-web-sm==3.5.0) (4.5.0)\n",
            "Requirement already satisfied: urllib3<1.27,>=1.21.1 in /usr/local/lib/python3.10/dist-packages (from requests<3.0.0,>=2.13.0->spacy<3.6.0,>=3.5.0->en-core-web-sm==3.5.0) (1.26.15)\n",
            "Requirement already satisfied: certifi>=2017.4.17 in /usr/local/lib/python3.10/dist-packages (from requests<3.0.0,>=2.13.0->spacy<3.6.0,>=3.5.0->en-core-web-sm==3.5.0) (2022.12.7)\n",
            "Requirement already satisfied: charset-normalizer~=2.0.0 in /usr/local/lib/python3.10/dist-packages (from requests<3.0.0,>=2.13.0->spacy<3.6.0,>=3.5.0->en-core-web-sm==3.5.0) (2.0.12)\n",
            "Requirement already satisfied: idna<4,>=2.5 in /usr/local/lib/python3.10/dist-packages (from requests<3.0.0,>=2.13.0->spacy<3.6.0,>=3.5.0->en-core-web-sm==3.5.0) (3.4)\n",
            "Requirement already satisfied: blis<0.8.0,>=0.7.8 in /usr/local/lib/python3.10/dist-packages (from thinc<8.2.0,>=8.1.8->spacy<3.6.0,>=3.5.0->en-core-web-sm==3.5.0) (0.7.9)\n",
            "Requirement already satisfied: confection<1.0.0,>=0.0.1 in /usr/local/lib/python3.10/dist-packages (from thinc<8.2.0,>=8.1.8->spacy<3.6.0,>=3.5.0->en-core-web-sm==3.5.0) (0.0.4)\n",
            "Requirement already satisfied: click<9.0.0,>=7.1.1 in /usr/local/lib/python3.10/dist-packages (from typer<0.8.0,>=0.3.0->spacy<3.6.0,>=3.5.0->en-core-web-sm==3.5.0) (8.1.3)\n",
            "Requirement already satisfied: MarkupSafe>=2.0 in /usr/local/lib/python3.10/dist-packages (from jinja2->spacy<3.6.0,>=3.5.0->en-core-web-sm==3.5.0) (2.1.2)\n",
            "\u001b[38;5;2m✔ Download and installation successful\u001b[0m\n",
            "You can now load the package via spacy.load('en_core_web_sm')\n"
          ]
        }
      ]
    },
    {
      "cell_type": "code",
      "source": [
        "import spacy"
      ],
      "metadata": {
        "id": "jKYBhEK0uU8U"
      },
      "execution_count": 3,
      "outputs": []
    },
    {
      "cell_type": "code",
      "source": [
        "nlp = spacy.load('en_core_web_sm')"
      ],
      "metadata": {
        "id": "Q3urosskuVye"
      },
      "execution_count": 4,
      "outputs": []
    },
    {
      "cell_type": "code",
      "source": [
        "doc  = nlp(\n",
        "    'apple is looking at buying startup for $1 billion'\n",
        ")"
      ],
      "metadata": {
        "id": "rA_WwN_wuaYU"
      },
      "execution_count": 5,
      "outputs": []
    },
    {
      "cell_type": "code",
      "source": [
        "for token in doc:\n",
        "  print(token.text,token.pos_,token.dep_)"
      ],
      "metadata": {
        "colab": {
          "base_uri": "https://localhost:8080/"
        },
        "id": "kCYtU-LdujnC",
        "outputId": "d411ed94-cba5-491b-a622-2842e4908a71"
      },
      "execution_count": 6,
      "outputs": [
        {
          "output_type": "stream",
          "name": "stdout",
          "text": [
            "apple NOUN nsubj\n",
            "is AUX aux\n",
            "looking VERB ROOT\n",
            "at ADP prep\n",
            "buying NOUN pcomp\n",
            "startup NOUN dep\n",
            "for ADP prep\n",
            "$ SYM quantmod\n",
            "1 NUM compound\n",
            "billion NUM pobj\n"
          ]
        }
      ]
    },
    {
      "cell_type": "code",
      "source": [
        "# tokenization - the process of converting the sentence into words(segments into punchations, words and so on)"
      ],
      "metadata": {
        "id": "Gyy1eIlouleX"
      },
      "execution_count": 7,
      "outputs": []
    },
    {
      "cell_type": "code",
      "source": [
        "# spacy pipeline : input_text -> tokenization, tagger, pos, ner -> doc"
      ],
      "metadata": {
        "id": "M3DcRjccu7XN"
      },
      "execution_count": 8,
      "outputs": []
    },
    {
      "cell_type": "code",
      "source": [
        "text = \"Let's go to the N.Y city!\""
      ],
      "metadata": {
        "id": "--KdJJjfvWbj"
      },
      "execution_count": 9,
      "outputs": []
    },
    {
      "cell_type": "code",
      "source": [
        "print(text)"
      ],
      "metadata": {
        "colab": {
          "base_uri": "https://localhost:8080/"
        },
        "id": "fQTcrXVJvdWj",
        "outputId": "fa8de628-b1be-4d9c-d002-53c618eec071"
      },
      "execution_count": 10,
      "outputs": [
        {
          "output_type": "stream",
          "name": "stdout",
          "text": [
            "Let's go to the N.Y city!\n"
          ]
        }
      ]
    },
    {
      "cell_type": "code",
      "source": [
        "doc = nlp(text)"
      ],
      "metadata": {
        "id": "COG6OaA3vftG"
      },
      "execution_count": 11,
      "outputs": []
    },
    {
      "cell_type": "code",
      "source": [
        "for token in doc:\n",
        "  print(token.text)"
      ],
      "metadata": {
        "colab": {
          "base_uri": "https://localhost:8080/"
        },
        "id": "7I1i9XWLvxqk",
        "outputId": "cd56c612-b8d4-4f4f-f98f-885ad1861fb6"
      },
      "execution_count": 12,
      "outputs": [
        {
          "output_type": "stream",
          "name": "stdout",
          "text": [
            "Let\n",
            "'s\n",
            "go\n",
            "to\n",
            "the\n",
            "N.Y\n",
            "city\n",
            "!\n"
          ]
        }
      ]
    },
    {
      "cell_type": "code",
      "source": [
        "for token in doc:\n",
        "  print(token.text)"
      ],
      "metadata": {
        "colab": {
          "base_uri": "https://localhost:8080/"
        },
        "id": "nSS-zWuJv0Wy",
        "outputId": "ae40c42d-e892-40d6-ff7c-f693cc984514"
      },
      "execution_count": 13,
      "outputs": [
        {
          "output_type": "stream",
          "name": "stdout",
          "text": [
            "Let\n",
            "'s\n",
            "go\n",
            "to\n",
            "the\n",
            "N.Y\n",
            "city\n",
            "!\n"
          ]
        }
      ]
    },
    {
      "cell_type": "code",
      "source": [
        "!pip install beautifultable"
      ],
      "metadata": {
        "colab": {
          "base_uri": "https://localhost:8080/"
        },
        "id": "UDG3RwKSv79P",
        "outputId": "2d617981-bb83-4a9c-d0fd-b9d3f39a7138"
      },
      "execution_count": 14,
      "outputs": [
        {
          "output_type": "stream",
          "name": "stdout",
          "text": [
            "Looking in indexes: https://pypi.org/simple, https://us-python.pkg.dev/colab-wheels/public/simple/\n",
            "Collecting beautifultable\n",
            "  Downloading beautifultable-1.1.0-py2.py3-none-any.whl (28 kB)\n",
            "Requirement already satisfied: wcwidth in /usr/local/lib/python3.10/dist-packages (from beautifultable) (0.2.6)\n",
            "Installing collected packages: beautifultable\n",
            "Successfully installed beautifultable-1.1.0\n"
          ]
        }
      ]
    },
    {
      "cell_type": "code",
      "source": [
        "from beautifultable import BeautifulTable"
      ],
      "metadata": {
        "id": "4Mu5aFB1wS4F"
      },
      "execution_count": 15,
      "outputs": []
    },
    {
      "cell_type": "code",
      "source": [
        "table = BeautifulTable()"
      ],
      "metadata": {
        "id": "1Pzg0aygwXEV"
      },
      "execution_count": 16,
      "outputs": []
    },
    {
      "cell_type": "code",
      "source": [
        "table.columns.header = ['text','POS','TAG','explain','Dep','Shape','is_alpha','is_stop']"
      ],
      "metadata": {
        "id": "zfwksJkAwf-L"
      },
      "execution_count": 17,
      "outputs": []
    },
    {
      "cell_type": "code",
      "source": [
        "for token in doc:\n",
        "  table.rows.append([token.text,token.pos_,token.tag_,spacy.explain(token.tag_),token.dep_,token.shape_,token.is_alpha,token.is_stop])"
      ],
      "metadata": {
        "id": "WXJKJNOiwsxF"
      },
      "execution_count": 18,
      "outputs": []
    },
    {
      "cell_type": "code",
      "source": [
        "print(table)"
      ],
      "metadata": {
        "colab": {
          "base_uri": "https://localhost:8080/"
        },
        "id": "GMh3haYWxAg8",
        "outputId": "410a5590-9f03-4e42-ed73-20fd5df9a26b"
      },
      "execution_count": 19,
      "outputs": [
        {
          "output_type": "stream",
          "name": "stdout",
          "text": [
            "+------+---------+-----+--------------------------+------+-------+------+------+\n",
            "| text |   POS   | TAG |         explain          | Dep  | Shape | is_a | is_s |\n",
            "|      |         |     |                          |      |       | lpha | top  |\n",
            "+------+---------+-----+--------------------------+------+-------+------+------+\n",
            "| Let  |  VERB   | VB  |     verb, base form      | ROOT |  Xxx  |  1   |  0   |\n",
            "+------+---------+-----+--------------------------+------+-------+------+------+\n",
            "|  's  |  PRON   | PRP |    pronoun, personal     | nsub |  'x   |  0   |  1   |\n",
            "|      |         |     |                          |  j   |       |      |      |\n",
            "+------+---------+-----+--------------------------+------+-------+------+------+\n",
            "|  go  |  VERB   | VB  |     verb, base form      | ccom |  xx   |  1   |  1   |\n",
            "|      |         |     |                          |  p   |       |      |      |\n",
            "+------+---------+-----+--------------------------+------+-------+------+------+\n",
            "|  to  |   ADP   | IN  | conjunction, subordinati | prep |  xx   |  1   |  1   |\n",
            "|      |         |     |    ng or preposition     |      |       |      |      |\n",
            "+------+---------+-----+--------------------------+------+-------+------+------+\n",
            "| the  |   DET   | DT  |        determiner        | det  |  xxx  |  1   |  1   |\n",
            "+------+---------+-----+--------------------------+------+-------+------+------+\n",
            "| N.Y  |  PROPN  | NNP |  noun, proper singular   | comp |  X.X  |  0   |  0   |\n",
            "|      |         |     |                          | ound |       |      |      |\n",
            "+------+---------+-----+--------------------------+------+-------+------+------+\n",
            "| city |  NOUN   | NN  |  noun, singular or mass  | pobj | xxxx  |  1   |  0   |\n",
            "+------+---------+-----+--------------------------+------+-------+------+------+\n",
            "|  !   |  PUNCT  |  .  | punctuation mark, senten | punc |   !   |  0   |  0   |\n",
            "|      |         |     |        ce closer         |  t   |       |      |      |\n",
            "+------+---------+-----+--------------------------+------+-------+------+------+\n"
          ]
        }
      ]
    },
    {
      "cell_type": "code",
      "source": [
        "# dependency parsing\n",
        "\n",
        "from spacy import displacy"
      ],
      "metadata": {
        "id": "aqZqLRtbxJP8"
      },
      "execution_count": 20,
      "outputs": []
    },
    {
      "cell_type": "code",
      "source": [
        "\n",
        "displacy.render(doc,style = 'dep',jupyter = True)"
      ],
      "metadata": {
        "colab": {
          "base_uri": "https://localhost:8080/",
          "height": 421
        },
        "id": "CKwl_PVT0Kf0",
        "outputId": "3f205860-d63c-4a7b-9619-36131da22cb7"
      },
      "execution_count": 21,
      "outputs": [
        {
          "output_type": "display_data",
          "data": {
            "text/plain": [
              "<IPython.core.display.HTML object>"
            ],
            "text/html": [
              "<span class=\"tex2jax_ignore\"><svg xmlns=\"http://www.w3.org/2000/svg\" xmlns:xlink=\"http://www.w3.org/1999/xlink\" xml:lang=\"en\" id=\"40d25871414e407a8cbd2b959a6e5093-0\" class=\"displacy\" width=\"1275\" height=\"399.5\" direction=\"ltr\" style=\"max-width: none; height: 399.5px; color: #000000; background: #ffffff; font-family: Arial; direction: ltr\">\n",
              "<text class=\"displacy-token\" fill=\"currentColor\" text-anchor=\"middle\" y=\"309.5\">\n",
              "    <tspan class=\"displacy-word\" fill=\"currentColor\" x=\"50\">Let</tspan>\n",
              "    <tspan class=\"displacy-tag\" dy=\"2em\" fill=\"currentColor\" x=\"50\">VERB</tspan>\n",
              "</text>\n",
              "\n",
              "<text class=\"displacy-token\" fill=\"currentColor\" text-anchor=\"middle\" y=\"309.5\">\n",
              "    <tspan class=\"displacy-word\" fill=\"currentColor\" x=\"225\">'s</tspan>\n",
              "    <tspan class=\"displacy-tag\" dy=\"2em\" fill=\"currentColor\" x=\"225\">PRON</tspan>\n",
              "</text>\n",
              "\n",
              "<text class=\"displacy-token\" fill=\"currentColor\" text-anchor=\"middle\" y=\"309.5\">\n",
              "    <tspan class=\"displacy-word\" fill=\"currentColor\" x=\"400\">go</tspan>\n",
              "    <tspan class=\"displacy-tag\" dy=\"2em\" fill=\"currentColor\" x=\"400\">VERB</tspan>\n",
              "</text>\n",
              "\n",
              "<text class=\"displacy-token\" fill=\"currentColor\" text-anchor=\"middle\" y=\"309.5\">\n",
              "    <tspan class=\"displacy-word\" fill=\"currentColor\" x=\"575\">to</tspan>\n",
              "    <tspan class=\"displacy-tag\" dy=\"2em\" fill=\"currentColor\" x=\"575\">ADP</tspan>\n",
              "</text>\n",
              "\n",
              "<text class=\"displacy-token\" fill=\"currentColor\" text-anchor=\"middle\" y=\"309.5\">\n",
              "    <tspan class=\"displacy-word\" fill=\"currentColor\" x=\"750\">the</tspan>\n",
              "    <tspan class=\"displacy-tag\" dy=\"2em\" fill=\"currentColor\" x=\"750\">DET</tspan>\n",
              "</text>\n",
              "\n",
              "<text class=\"displacy-token\" fill=\"currentColor\" text-anchor=\"middle\" y=\"309.5\">\n",
              "    <tspan class=\"displacy-word\" fill=\"currentColor\" x=\"925\">N.Y</tspan>\n",
              "    <tspan class=\"displacy-tag\" dy=\"2em\" fill=\"currentColor\" x=\"925\">PROPN</tspan>\n",
              "</text>\n",
              "\n",
              "<text class=\"displacy-token\" fill=\"currentColor\" text-anchor=\"middle\" y=\"309.5\">\n",
              "    <tspan class=\"displacy-word\" fill=\"currentColor\" x=\"1100\">city!</tspan>\n",
              "    <tspan class=\"displacy-tag\" dy=\"2em\" fill=\"currentColor\" x=\"1100\">NOUN</tspan>\n",
              "</text>\n",
              "\n",
              "<g class=\"displacy-arrow\">\n",
              "    <path class=\"displacy-arc\" id=\"arrow-40d25871414e407a8cbd2b959a6e5093-0-0\" stroke-width=\"2px\" d=\"M245,264.5 C245,177.0 390.0,177.0 390.0,264.5\" fill=\"none\" stroke=\"currentColor\"/>\n",
              "    <text dy=\"1.25em\" style=\"font-size: 0.8em; letter-spacing: 1px\">\n",
              "        <textPath xlink:href=\"#arrow-40d25871414e407a8cbd2b959a6e5093-0-0\" class=\"displacy-label\" startOffset=\"50%\" side=\"left\" fill=\"currentColor\" text-anchor=\"middle\">nsubj</textPath>\n",
              "    </text>\n",
              "    <path class=\"displacy-arrowhead\" d=\"M245,266.5 L237,254.5 253,254.5\" fill=\"currentColor\"/>\n",
              "</g>\n",
              "\n",
              "<g class=\"displacy-arrow\">\n",
              "    <path class=\"displacy-arc\" id=\"arrow-40d25871414e407a8cbd2b959a6e5093-0-1\" stroke-width=\"2px\" d=\"M70,264.5 C70,89.5 395.0,89.5 395.0,264.5\" fill=\"none\" stroke=\"currentColor\"/>\n",
              "    <text dy=\"1.25em\" style=\"font-size: 0.8em; letter-spacing: 1px\">\n",
              "        <textPath xlink:href=\"#arrow-40d25871414e407a8cbd2b959a6e5093-0-1\" class=\"displacy-label\" startOffset=\"50%\" side=\"left\" fill=\"currentColor\" text-anchor=\"middle\">ccomp</textPath>\n",
              "    </text>\n",
              "    <path class=\"displacy-arrowhead\" d=\"M395.0,266.5 L403.0,254.5 387.0,254.5\" fill=\"currentColor\"/>\n",
              "</g>\n",
              "\n",
              "<g class=\"displacy-arrow\">\n",
              "    <path class=\"displacy-arc\" id=\"arrow-40d25871414e407a8cbd2b959a6e5093-0-2\" stroke-width=\"2px\" d=\"M420,264.5 C420,177.0 565.0,177.0 565.0,264.5\" fill=\"none\" stroke=\"currentColor\"/>\n",
              "    <text dy=\"1.25em\" style=\"font-size: 0.8em; letter-spacing: 1px\">\n",
              "        <textPath xlink:href=\"#arrow-40d25871414e407a8cbd2b959a6e5093-0-2\" class=\"displacy-label\" startOffset=\"50%\" side=\"left\" fill=\"currentColor\" text-anchor=\"middle\">prep</textPath>\n",
              "    </text>\n",
              "    <path class=\"displacy-arrowhead\" d=\"M565.0,266.5 L573.0,254.5 557.0,254.5\" fill=\"currentColor\"/>\n",
              "</g>\n",
              "\n",
              "<g class=\"displacy-arrow\">\n",
              "    <path class=\"displacy-arc\" id=\"arrow-40d25871414e407a8cbd2b959a6e5093-0-3\" stroke-width=\"2px\" d=\"M770,264.5 C770,89.5 1095.0,89.5 1095.0,264.5\" fill=\"none\" stroke=\"currentColor\"/>\n",
              "    <text dy=\"1.25em\" style=\"font-size: 0.8em; letter-spacing: 1px\">\n",
              "        <textPath xlink:href=\"#arrow-40d25871414e407a8cbd2b959a6e5093-0-3\" class=\"displacy-label\" startOffset=\"50%\" side=\"left\" fill=\"currentColor\" text-anchor=\"middle\">det</textPath>\n",
              "    </text>\n",
              "    <path class=\"displacy-arrowhead\" d=\"M770,266.5 L762,254.5 778,254.5\" fill=\"currentColor\"/>\n",
              "</g>\n",
              "\n",
              "<g class=\"displacy-arrow\">\n",
              "    <path class=\"displacy-arc\" id=\"arrow-40d25871414e407a8cbd2b959a6e5093-0-4\" stroke-width=\"2px\" d=\"M945,264.5 C945,177.0 1090.0,177.0 1090.0,264.5\" fill=\"none\" stroke=\"currentColor\"/>\n",
              "    <text dy=\"1.25em\" style=\"font-size: 0.8em; letter-spacing: 1px\">\n",
              "        <textPath xlink:href=\"#arrow-40d25871414e407a8cbd2b959a6e5093-0-4\" class=\"displacy-label\" startOffset=\"50%\" side=\"left\" fill=\"currentColor\" text-anchor=\"middle\">compound</textPath>\n",
              "    </text>\n",
              "    <path class=\"displacy-arrowhead\" d=\"M945,266.5 L937,254.5 953,254.5\" fill=\"currentColor\"/>\n",
              "</g>\n",
              "\n",
              "<g class=\"displacy-arrow\">\n",
              "    <path class=\"displacy-arc\" id=\"arrow-40d25871414e407a8cbd2b959a6e5093-0-5\" stroke-width=\"2px\" d=\"M595,264.5 C595,2.0 1100.0,2.0 1100.0,264.5\" fill=\"none\" stroke=\"currentColor\"/>\n",
              "    <text dy=\"1.25em\" style=\"font-size: 0.8em; letter-spacing: 1px\">\n",
              "        <textPath xlink:href=\"#arrow-40d25871414e407a8cbd2b959a6e5093-0-5\" class=\"displacy-label\" startOffset=\"50%\" side=\"left\" fill=\"currentColor\" text-anchor=\"middle\">pobj</textPath>\n",
              "    </text>\n",
              "    <path class=\"displacy-arrowhead\" d=\"M1100.0,266.5 L1108.0,254.5 1092.0,254.5\" fill=\"currentColor\"/>\n",
              "</g>\n",
              "</svg></span>"
            ]
          },
          "metadata": {}
        }
      ]
    },
    {
      "cell_type": "code",
      "source": [
        "options = {'compact' : True}\n",
        "displacy.render(doc,style = 'dep',jupyter = True,options = options)"
      ],
      "metadata": {
        "colab": {
          "base_uri": "https://localhost:8080/",
          "height": 383
        },
        "id": "pYOZ3sWC0TGr",
        "outputId": "b2ca61c9-1e9e-4958-e8ec-585fc9d4b530"
      },
      "execution_count": 22,
      "outputs": [
        {
          "output_type": "display_data",
          "data": {
            "text/plain": [
              "<IPython.core.display.HTML object>"
            ],
            "text/html": [
              "<span class=\"tex2jax_ignore\"><svg xmlns=\"http://www.w3.org/2000/svg\" xmlns:xlink=\"http://www.w3.org/1999/xlink\" xml:lang=\"en\" id=\"d3b4161cfcd9478bb986b91ce049d7c8-0\" class=\"displacy\" width=\"1100\" height=\"362.0\" direction=\"ltr\" style=\"max-width: none; height: 362.0px; color: #000000; background: #ffffff; font-family: Arial; direction: ltr\">\n",
              "<text class=\"displacy-token\" fill=\"currentColor\" text-anchor=\"middle\" y=\"272.0\">\n",
              "    <tspan class=\"displacy-word\" fill=\"currentColor\" x=\"50\">Let</tspan>\n",
              "    <tspan class=\"displacy-tag\" dy=\"2em\" fill=\"currentColor\" x=\"50\">VERB</tspan>\n",
              "</text>\n",
              "\n",
              "<text class=\"displacy-token\" fill=\"currentColor\" text-anchor=\"middle\" y=\"272.0\">\n",
              "    <tspan class=\"displacy-word\" fill=\"currentColor\" x=\"200\">'s</tspan>\n",
              "    <tspan class=\"displacy-tag\" dy=\"2em\" fill=\"currentColor\" x=\"200\">PRON</tspan>\n",
              "</text>\n",
              "\n",
              "<text class=\"displacy-token\" fill=\"currentColor\" text-anchor=\"middle\" y=\"272.0\">\n",
              "    <tspan class=\"displacy-word\" fill=\"currentColor\" x=\"350\">go</tspan>\n",
              "    <tspan class=\"displacy-tag\" dy=\"2em\" fill=\"currentColor\" x=\"350\">VERB</tspan>\n",
              "</text>\n",
              "\n",
              "<text class=\"displacy-token\" fill=\"currentColor\" text-anchor=\"middle\" y=\"272.0\">\n",
              "    <tspan class=\"displacy-word\" fill=\"currentColor\" x=\"500\">to</tspan>\n",
              "    <tspan class=\"displacy-tag\" dy=\"2em\" fill=\"currentColor\" x=\"500\">ADP</tspan>\n",
              "</text>\n",
              "\n",
              "<text class=\"displacy-token\" fill=\"currentColor\" text-anchor=\"middle\" y=\"272.0\">\n",
              "    <tspan class=\"displacy-word\" fill=\"currentColor\" x=\"650\">the</tspan>\n",
              "    <tspan class=\"displacy-tag\" dy=\"2em\" fill=\"currentColor\" x=\"650\">DET</tspan>\n",
              "</text>\n",
              "\n",
              "<text class=\"displacy-token\" fill=\"currentColor\" text-anchor=\"middle\" y=\"272.0\">\n",
              "    <tspan class=\"displacy-word\" fill=\"currentColor\" x=\"800\">N.Y</tspan>\n",
              "    <tspan class=\"displacy-tag\" dy=\"2em\" fill=\"currentColor\" x=\"800\">PROPN</tspan>\n",
              "</text>\n",
              "\n",
              "<text class=\"displacy-token\" fill=\"currentColor\" text-anchor=\"middle\" y=\"272.0\">\n",
              "    <tspan class=\"displacy-word\" fill=\"currentColor\" x=\"950\">city!</tspan>\n",
              "    <tspan class=\"displacy-tag\" dy=\"2em\" fill=\"currentColor\" x=\"950\">NOUN</tspan>\n",
              "</text>\n",
              "\n",
              "<g class=\"displacy-arrow\">\n",
              "    <path class=\"displacy-arc\" id=\"arrow-d3b4161cfcd9478bb986b91ce049d7c8-0-0\" stroke-width=\"2px\" d=\"M212,227.0 212,202.0 344.0,202.0 344.0,227.0\" fill=\"none\" stroke=\"currentColor\"/>\n",
              "    <text dy=\"1.25em\" style=\"font-size: 0.8em; letter-spacing: 1px\">\n",
              "        <textPath xlink:href=\"#arrow-d3b4161cfcd9478bb986b91ce049d7c8-0-0\" class=\"displacy-label\" startOffset=\"50%\" side=\"left\" fill=\"currentColor\" text-anchor=\"middle\">nsubj</textPath>\n",
              "    </text>\n",
              "    <path class=\"displacy-arrowhead\" d=\"M212,229.0 L208,221.0 216,221.0\" fill=\"currentColor\"/>\n",
              "</g>\n",
              "\n",
              "<g class=\"displacy-arrow\">\n",
              "    <path class=\"displacy-arc\" id=\"arrow-d3b4161cfcd9478bb986b91ce049d7c8-0-1\" stroke-width=\"2px\" d=\"M62,227.0 62,177.0 347.0,177.0 347.0,227.0\" fill=\"none\" stroke=\"currentColor\"/>\n",
              "    <text dy=\"1.25em\" style=\"font-size: 0.8em; letter-spacing: 1px\">\n",
              "        <textPath xlink:href=\"#arrow-d3b4161cfcd9478bb986b91ce049d7c8-0-1\" class=\"displacy-label\" startOffset=\"50%\" side=\"left\" fill=\"currentColor\" text-anchor=\"middle\">ccomp</textPath>\n",
              "    </text>\n",
              "    <path class=\"displacy-arrowhead\" d=\"M347.0,229.0 L351.0,221.0 343.0,221.0\" fill=\"currentColor\"/>\n",
              "</g>\n",
              "\n",
              "<g class=\"displacy-arrow\">\n",
              "    <path class=\"displacy-arc\" id=\"arrow-d3b4161cfcd9478bb986b91ce049d7c8-0-2\" stroke-width=\"2px\" d=\"M362,227.0 362,202.0 494.0,202.0 494.0,227.0\" fill=\"none\" stroke=\"currentColor\"/>\n",
              "    <text dy=\"1.25em\" style=\"font-size: 0.8em; letter-spacing: 1px\">\n",
              "        <textPath xlink:href=\"#arrow-d3b4161cfcd9478bb986b91ce049d7c8-0-2\" class=\"displacy-label\" startOffset=\"50%\" side=\"left\" fill=\"currentColor\" text-anchor=\"middle\">prep</textPath>\n",
              "    </text>\n",
              "    <path class=\"displacy-arrowhead\" d=\"M494.0,229.0 L498.0,221.0 490.0,221.0\" fill=\"currentColor\"/>\n",
              "</g>\n",
              "\n",
              "<g class=\"displacy-arrow\">\n",
              "    <path class=\"displacy-arc\" id=\"arrow-d3b4161cfcd9478bb986b91ce049d7c8-0-3\" stroke-width=\"2px\" d=\"M662,227.0 662,177.0 947.0,177.0 947.0,227.0\" fill=\"none\" stroke=\"currentColor\"/>\n",
              "    <text dy=\"1.25em\" style=\"font-size: 0.8em; letter-spacing: 1px\">\n",
              "        <textPath xlink:href=\"#arrow-d3b4161cfcd9478bb986b91ce049d7c8-0-3\" class=\"displacy-label\" startOffset=\"50%\" side=\"left\" fill=\"currentColor\" text-anchor=\"middle\">det</textPath>\n",
              "    </text>\n",
              "    <path class=\"displacy-arrowhead\" d=\"M662,229.0 L658,221.0 666,221.0\" fill=\"currentColor\"/>\n",
              "</g>\n",
              "\n",
              "<g class=\"displacy-arrow\">\n",
              "    <path class=\"displacy-arc\" id=\"arrow-d3b4161cfcd9478bb986b91ce049d7c8-0-4\" stroke-width=\"2px\" d=\"M812,227.0 812,202.0 944.0,202.0 944.0,227.0\" fill=\"none\" stroke=\"currentColor\"/>\n",
              "    <text dy=\"1.25em\" style=\"font-size: 0.8em; letter-spacing: 1px\">\n",
              "        <textPath xlink:href=\"#arrow-d3b4161cfcd9478bb986b91ce049d7c8-0-4\" class=\"displacy-label\" startOffset=\"50%\" side=\"left\" fill=\"currentColor\" text-anchor=\"middle\">compound</textPath>\n",
              "    </text>\n",
              "    <path class=\"displacy-arrowhead\" d=\"M812,229.0 L808,221.0 816,221.0\" fill=\"currentColor\"/>\n",
              "</g>\n",
              "\n",
              "<g class=\"displacy-arrow\">\n",
              "    <path class=\"displacy-arc\" id=\"arrow-d3b4161cfcd9478bb986b91ce049d7c8-0-5\" stroke-width=\"2px\" d=\"M512,227.0 512,152.0 950.0,152.0 950.0,227.0\" fill=\"none\" stroke=\"currentColor\"/>\n",
              "    <text dy=\"1.25em\" style=\"font-size: 0.8em; letter-spacing: 1px\">\n",
              "        <textPath xlink:href=\"#arrow-d3b4161cfcd9478bb986b91ce049d7c8-0-5\" class=\"displacy-label\" startOffset=\"50%\" side=\"left\" fill=\"currentColor\" text-anchor=\"middle\">pobj</textPath>\n",
              "    </text>\n",
              "    <path class=\"displacy-arrowhead\" d=\"M950.0,229.0 L954.0,221.0 946.0,221.0\" fill=\"currentColor\"/>\n",
              "</g>\n",
              "</svg></span>"
            ]
          },
          "metadata": {}
        }
      ]
    },
    {
      "cell_type": "code",
      "source": [
        "options = {'compact' : True,'distance':100}\n",
        "displacy.render(doc,style = 'dep',jupyter = True,options = options)"
      ],
      "metadata": {
        "colab": {
          "base_uri": "https://localhost:8080/",
          "height": 308
        },
        "id": "leW5igOS1Hxe",
        "outputId": "98f6aa69-8154-4fa6-92b4-eda5c8ea3631"
      },
      "execution_count": 23,
      "outputs": [
        {
          "output_type": "display_data",
          "data": {
            "text/plain": [
              "<IPython.core.display.HTML object>"
            ],
            "text/html": [
              "<span class=\"tex2jax_ignore\"><svg xmlns=\"http://www.w3.org/2000/svg\" xmlns:xlink=\"http://www.w3.org/1999/xlink\" xml:lang=\"en\" id=\"6d917492458540378da15b4d182571fe-0\" class=\"displacy\" width=\"750\" height=\"287.0\" direction=\"ltr\" style=\"max-width: none; height: 287.0px; color: #000000; background: #ffffff; font-family: Arial; direction: ltr\">\n",
              "<text class=\"displacy-token\" fill=\"currentColor\" text-anchor=\"middle\" y=\"197.0\">\n",
              "    <tspan class=\"displacy-word\" fill=\"currentColor\" x=\"50\">Let</tspan>\n",
              "    <tspan class=\"displacy-tag\" dy=\"2em\" fill=\"currentColor\" x=\"50\">VERB</tspan>\n",
              "</text>\n",
              "\n",
              "<text class=\"displacy-token\" fill=\"currentColor\" text-anchor=\"middle\" y=\"197.0\">\n",
              "    <tspan class=\"displacy-word\" fill=\"currentColor\" x=\"150\">'s</tspan>\n",
              "    <tspan class=\"displacy-tag\" dy=\"2em\" fill=\"currentColor\" x=\"150\">PRON</tspan>\n",
              "</text>\n",
              "\n",
              "<text class=\"displacy-token\" fill=\"currentColor\" text-anchor=\"middle\" y=\"197.0\">\n",
              "    <tspan class=\"displacy-word\" fill=\"currentColor\" x=\"250\">go</tspan>\n",
              "    <tspan class=\"displacy-tag\" dy=\"2em\" fill=\"currentColor\" x=\"250\">VERB</tspan>\n",
              "</text>\n",
              "\n",
              "<text class=\"displacy-token\" fill=\"currentColor\" text-anchor=\"middle\" y=\"197.0\">\n",
              "    <tspan class=\"displacy-word\" fill=\"currentColor\" x=\"350\">to</tspan>\n",
              "    <tspan class=\"displacy-tag\" dy=\"2em\" fill=\"currentColor\" x=\"350\">ADP</tspan>\n",
              "</text>\n",
              "\n",
              "<text class=\"displacy-token\" fill=\"currentColor\" text-anchor=\"middle\" y=\"197.0\">\n",
              "    <tspan class=\"displacy-word\" fill=\"currentColor\" x=\"450\">the</tspan>\n",
              "    <tspan class=\"displacy-tag\" dy=\"2em\" fill=\"currentColor\" x=\"450\">DET</tspan>\n",
              "</text>\n",
              "\n",
              "<text class=\"displacy-token\" fill=\"currentColor\" text-anchor=\"middle\" y=\"197.0\">\n",
              "    <tspan class=\"displacy-word\" fill=\"currentColor\" x=\"550\">N.Y</tspan>\n",
              "    <tspan class=\"displacy-tag\" dy=\"2em\" fill=\"currentColor\" x=\"550\">PROPN</tspan>\n",
              "</text>\n",
              "\n",
              "<text class=\"displacy-token\" fill=\"currentColor\" text-anchor=\"middle\" y=\"197.0\">\n",
              "    <tspan class=\"displacy-word\" fill=\"currentColor\" x=\"650\">city!</tspan>\n",
              "    <tspan class=\"displacy-tag\" dy=\"2em\" fill=\"currentColor\" x=\"650\">NOUN</tspan>\n",
              "</text>\n",
              "\n",
              "<g class=\"displacy-arrow\">\n",
              "    <path class=\"displacy-arc\" id=\"arrow-6d917492458540378da15b4d182571fe-0-0\" stroke-width=\"2px\" d=\"M162,152.0 162,135.33333333333334 244.0,135.33333333333334 244.0,152.0\" fill=\"none\" stroke=\"currentColor\"/>\n",
              "    <text dy=\"1.25em\" style=\"font-size: 0.8em; letter-spacing: 1px\">\n",
              "        <textPath xlink:href=\"#arrow-6d917492458540378da15b4d182571fe-0-0\" class=\"displacy-label\" startOffset=\"50%\" side=\"left\" fill=\"currentColor\" text-anchor=\"middle\">nsubj</textPath>\n",
              "    </text>\n",
              "    <path class=\"displacy-arrowhead\" d=\"M162,154.0 L158,146.0 166,146.0\" fill=\"currentColor\"/>\n",
              "</g>\n",
              "\n",
              "<g class=\"displacy-arrow\">\n",
              "    <path class=\"displacy-arc\" id=\"arrow-6d917492458540378da15b4d182571fe-0-1\" stroke-width=\"2px\" d=\"M62,152.0 62,118.66666666666666 247.0,118.66666666666666 247.0,152.0\" fill=\"none\" stroke=\"currentColor\"/>\n",
              "    <text dy=\"1.25em\" style=\"font-size: 0.8em; letter-spacing: 1px\">\n",
              "        <textPath xlink:href=\"#arrow-6d917492458540378da15b4d182571fe-0-1\" class=\"displacy-label\" startOffset=\"50%\" side=\"left\" fill=\"currentColor\" text-anchor=\"middle\">ccomp</textPath>\n",
              "    </text>\n",
              "    <path class=\"displacy-arrowhead\" d=\"M247.0,154.0 L251.0,146.0 243.0,146.0\" fill=\"currentColor\"/>\n",
              "</g>\n",
              "\n",
              "<g class=\"displacy-arrow\">\n",
              "    <path class=\"displacy-arc\" id=\"arrow-6d917492458540378da15b4d182571fe-0-2\" stroke-width=\"2px\" d=\"M262,152.0 262,135.33333333333334 344.0,135.33333333333334 344.0,152.0\" fill=\"none\" stroke=\"currentColor\"/>\n",
              "    <text dy=\"1.25em\" style=\"font-size: 0.8em; letter-spacing: 1px\">\n",
              "        <textPath xlink:href=\"#arrow-6d917492458540378da15b4d182571fe-0-2\" class=\"displacy-label\" startOffset=\"50%\" side=\"left\" fill=\"currentColor\" text-anchor=\"middle\">prep</textPath>\n",
              "    </text>\n",
              "    <path class=\"displacy-arrowhead\" d=\"M344.0,154.0 L348.0,146.0 340.0,146.0\" fill=\"currentColor\"/>\n",
              "</g>\n",
              "\n",
              "<g class=\"displacy-arrow\">\n",
              "    <path class=\"displacy-arc\" id=\"arrow-6d917492458540378da15b4d182571fe-0-3\" stroke-width=\"2px\" d=\"M462,152.0 462,118.66666666666666 647.0,118.66666666666666 647.0,152.0\" fill=\"none\" stroke=\"currentColor\"/>\n",
              "    <text dy=\"1.25em\" style=\"font-size: 0.8em; letter-spacing: 1px\">\n",
              "        <textPath xlink:href=\"#arrow-6d917492458540378da15b4d182571fe-0-3\" class=\"displacy-label\" startOffset=\"50%\" side=\"left\" fill=\"currentColor\" text-anchor=\"middle\">det</textPath>\n",
              "    </text>\n",
              "    <path class=\"displacy-arrowhead\" d=\"M462,154.0 L458,146.0 466,146.0\" fill=\"currentColor\"/>\n",
              "</g>\n",
              "\n",
              "<g class=\"displacy-arrow\">\n",
              "    <path class=\"displacy-arc\" id=\"arrow-6d917492458540378da15b4d182571fe-0-4\" stroke-width=\"2px\" d=\"M562,152.0 562,135.33333333333334 644.0,135.33333333333334 644.0,152.0\" fill=\"none\" stroke=\"currentColor\"/>\n",
              "    <text dy=\"1.25em\" style=\"font-size: 0.8em; letter-spacing: 1px\">\n",
              "        <textPath xlink:href=\"#arrow-6d917492458540378da15b4d182571fe-0-4\" class=\"displacy-label\" startOffset=\"50%\" side=\"left\" fill=\"currentColor\" text-anchor=\"middle\">compound</textPath>\n",
              "    </text>\n",
              "    <path class=\"displacy-arrowhead\" d=\"M562,154.0 L558,146.0 566,146.0\" fill=\"currentColor\"/>\n",
              "</g>\n",
              "\n",
              "<g class=\"displacy-arrow\">\n",
              "    <path class=\"displacy-arc\" id=\"arrow-6d917492458540378da15b4d182571fe-0-5\" stroke-width=\"2px\" d=\"M362,152.0 362,102.0 650.0,102.0 650.0,152.0\" fill=\"none\" stroke=\"currentColor\"/>\n",
              "    <text dy=\"1.25em\" style=\"font-size: 0.8em; letter-spacing: 1px\">\n",
              "        <textPath xlink:href=\"#arrow-6d917492458540378da15b4d182571fe-0-5\" class=\"displacy-label\" startOffset=\"50%\" side=\"left\" fill=\"currentColor\" text-anchor=\"middle\">pobj</textPath>\n",
              "    </text>\n",
              "    <path class=\"displacy-arrowhead\" d=\"M650.0,154.0 L654.0,146.0 646.0,146.0\" fill=\"currentColor\"/>\n",
              "</g>\n",
              "</svg></span>"
            ]
          },
          "metadata": {}
        }
      ]
    },
    {
      "cell_type": "code",
      "source": [
        "options = {'compact' : True,'distance':100,'bg':\"#0AFFFF\"}\n",
        "displacy.render(doc,style = 'dep',jupyter = True,options = options)"
      ],
      "metadata": {
        "colab": {
          "base_uri": "https://localhost:8080/",
          "height": 308
        },
        "id": "C8W74gDp1RzO",
        "outputId": "71d44ebd-43bc-43dd-f155-f35675a433dd"
      },
      "execution_count": 24,
      "outputs": [
        {
          "output_type": "display_data",
          "data": {
            "text/plain": [
              "<IPython.core.display.HTML object>"
            ],
            "text/html": [
              "<span class=\"tex2jax_ignore\"><svg xmlns=\"http://www.w3.org/2000/svg\" xmlns:xlink=\"http://www.w3.org/1999/xlink\" xml:lang=\"en\" id=\"e94db041c3b44b3ea04946d5cab85999-0\" class=\"displacy\" width=\"750\" height=\"287.0\" direction=\"ltr\" style=\"max-width: none; height: 287.0px; color: #000000; background: #0AFFFF; font-family: Arial; direction: ltr\">\n",
              "<text class=\"displacy-token\" fill=\"currentColor\" text-anchor=\"middle\" y=\"197.0\">\n",
              "    <tspan class=\"displacy-word\" fill=\"currentColor\" x=\"50\">Let</tspan>\n",
              "    <tspan class=\"displacy-tag\" dy=\"2em\" fill=\"currentColor\" x=\"50\">VERB</tspan>\n",
              "</text>\n",
              "\n",
              "<text class=\"displacy-token\" fill=\"currentColor\" text-anchor=\"middle\" y=\"197.0\">\n",
              "    <tspan class=\"displacy-word\" fill=\"currentColor\" x=\"150\">'s</tspan>\n",
              "    <tspan class=\"displacy-tag\" dy=\"2em\" fill=\"currentColor\" x=\"150\">PRON</tspan>\n",
              "</text>\n",
              "\n",
              "<text class=\"displacy-token\" fill=\"currentColor\" text-anchor=\"middle\" y=\"197.0\">\n",
              "    <tspan class=\"displacy-word\" fill=\"currentColor\" x=\"250\">go</tspan>\n",
              "    <tspan class=\"displacy-tag\" dy=\"2em\" fill=\"currentColor\" x=\"250\">VERB</tspan>\n",
              "</text>\n",
              "\n",
              "<text class=\"displacy-token\" fill=\"currentColor\" text-anchor=\"middle\" y=\"197.0\">\n",
              "    <tspan class=\"displacy-word\" fill=\"currentColor\" x=\"350\">to</tspan>\n",
              "    <tspan class=\"displacy-tag\" dy=\"2em\" fill=\"currentColor\" x=\"350\">ADP</tspan>\n",
              "</text>\n",
              "\n",
              "<text class=\"displacy-token\" fill=\"currentColor\" text-anchor=\"middle\" y=\"197.0\">\n",
              "    <tspan class=\"displacy-word\" fill=\"currentColor\" x=\"450\">the</tspan>\n",
              "    <tspan class=\"displacy-tag\" dy=\"2em\" fill=\"currentColor\" x=\"450\">DET</tspan>\n",
              "</text>\n",
              "\n",
              "<text class=\"displacy-token\" fill=\"currentColor\" text-anchor=\"middle\" y=\"197.0\">\n",
              "    <tspan class=\"displacy-word\" fill=\"currentColor\" x=\"550\">N.Y</tspan>\n",
              "    <tspan class=\"displacy-tag\" dy=\"2em\" fill=\"currentColor\" x=\"550\">PROPN</tspan>\n",
              "</text>\n",
              "\n",
              "<text class=\"displacy-token\" fill=\"currentColor\" text-anchor=\"middle\" y=\"197.0\">\n",
              "    <tspan class=\"displacy-word\" fill=\"currentColor\" x=\"650\">city!</tspan>\n",
              "    <tspan class=\"displacy-tag\" dy=\"2em\" fill=\"currentColor\" x=\"650\">NOUN</tspan>\n",
              "</text>\n",
              "\n",
              "<g class=\"displacy-arrow\">\n",
              "    <path class=\"displacy-arc\" id=\"arrow-e94db041c3b44b3ea04946d5cab85999-0-0\" stroke-width=\"2px\" d=\"M162,152.0 162,135.33333333333334 244.0,135.33333333333334 244.0,152.0\" fill=\"none\" stroke=\"currentColor\"/>\n",
              "    <text dy=\"1.25em\" style=\"font-size: 0.8em; letter-spacing: 1px\">\n",
              "        <textPath xlink:href=\"#arrow-e94db041c3b44b3ea04946d5cab85999-0-0\" class=\"displacy-label\" startOffset=\"50%\" side=\"left\" fill=\"currentColor\" text-anchor=\"middle\">nsubj</textPath>\n",
              "    </text>\n",
              "    <path class=\"displacy-arrowhead\" d=\"M162,154.0 L158,146.0 166,146.0\" fill=\"currentColor\"/>\n",
              "</g>\n",
              "\n",
              "<g class=\"displacy-arrow\">\n",
              "    <path class=\"displacy-arc\" id=\"arrow-e94db041c3b44b3ea04946d5cab85999-0-1\" stroke-width=\"2px\" d=\"M62,152.0 62,118.66666666666666 247.0,118.66666666666666 247.0,152.0\" fill=\"none\" stroke=\"currentColor\"/>\n",
              "    <text dy=\"1.25em\" style=\"font-size: 0.8em; letter-spacing: 1px\">\n",
              "        <textPath xlink:href=\"#arrow-e94db041c3b44b3ea04946d5cab85999-0-1\" class=\"displacy-label\" startOffset=\"50%\" side=\"left\" fill=\"currentColor\" text-anchor=\"middle\">ccomp</textPath>\n",
              "    </text>\n",
              "    <path class=\"displacy-arrowhead\" d=\"M247.0,154.0 L251.0,146.0 243.0,146.0\" fill=\"currentColor\"/>\n",
              "</g>\n",
              "\n",
              "<g class=\"displacy-arrow\">\n",
              "    <path class=\"displacy-arc\" id=\"arrow-e94db041c3b44b3ea04946d5cab85999-0-2\" stroke-width=\"2px\" d=\"M262,152.0 262,135.33333333333334 344.0,135.33333333333334 344.0,152.0\" fill=\"none\" stroke=\"currentColor\"/>\n",
              "    <text dy=\"1.25em\" style=\"font-size: 0.8em; letter-spacing: 1px\">\n",
              "        <textPath xlink:href=\"#arrow-e94db041c3b44b3ea04946d5cab85999-0-2\" class=\"displacy-label\" startOffset=\"50%\" side=\"left\" fill=\"currentColor\" text-anchor=\"middle\">prep</textPath>\n",
              "    </text>\n",
              "    <path class=\"displacy-arrowhead\" d=\"M344.0,154.0 L348.0,146.0 340.0,146.0\" fill=\"currentColor\"/>\n",
              "</g>\n",
              "\n",
              "<g class=\"displacy-arrow\">\n",
              "    <path class=\"displacy-arc\" id=\"arrow-e94db041c3b44b3ea04946d5cab85999-0-3\" stroke-width=\"2px\" d=\"M462,152.0 462,118.66666666666666 647.0,118.66666666666666 647.0,152.0\" fill=\"none\" stroke=\"currentColor\"/>\n",
              "    <text dy=\"1.25em\" style=\"font-size: 0.8em; letter-spacing: 1px\">\n",
              "        <textPath xlink:href=\"#arrow-e94db041c3b44b3ea04946d5cab85999-0-3\" class=\"displacy-label\" startOffset=\"50%\" side=\"left\" fill=\"currentColor\" text-anchor=\"middle\">det</textPath>\n",
              "    </text>\n",
              "    <path class=\"displacy-arrowhead\" d=\"M462,154.0 L458,146.0 466,146.0\" fill=\"currentColor\"/>\n",
              "</g>\n",
              "\n",
              "<g class=\"displacy-arrow\">\n",
              "    <path class=\"displacy-arc\" id=\"arrow-e94db041c3b44b3ea04946d5cab85999-0-4\" stroke-width=\"2px\" d=\"M562,152.0 562,135.33333333333334 644.0,135.33333333333334 644.0,152.0\" fill=\"none\" stroke=\"currentColor\"/>\n",
              "    <text dy=\"1.25em\" style=\"font-size: 0.8em; letter-spacing: 1px\">\n",
              "        <textPath xlink:href=\"#arrow-e94db041c3b44b3ea04946d5cab85999-0-4\" class=\"displacy-label\" startOffset=\"50%\" side=\"left\" fill=\"currentColor\" text-anchor=\"middle\">compound</textPath>\n",
              "    </text>\n",
              "    <path class=\"displacy-arrowhead\" d=\"M562,154.0 L558,146.0 566,146.0\" fill=\"currentColor\"/>\n",
              "</g>\n",
              "\n",
              "<g class=\"displacy-arrow\">\n",
              "    <path class=\"displacy-arc\" id=\"arrow-e94db041c3b44b3ea04946d5cab85999-0-5\" stroke-width=\"2px\" d=\"M362,152.0 362,102.0 650.0,102.0 650.0,152.0\" fill=\"none\" stroke=\"currentColor\"/>\n",
              "    <text dy=\"1.25em\" style=\"font-size: 0.8em; letter-spacing: 1px\">\n",
              "        <textPath xlink:href=\"#arrow-e94db041c3b44b3ea04946d5cab85999-0-5\" class=\"displacy-label\" startOffset=\"50%\" side=\"left\" fill=\"currentColor\" text-anchor=\"middle\">pobj</textPath>\n",
              "    </text>\n",
              "    <path class=\"displacy-arrowhead\" d=\"M650.0,154.0 L654.0,146.0 646.0,146.0\" fill=\"currentColor\"/>\n",
              "</g>\n",
              "</svg></span>"
            ]
          },
          "metadata": {}
        }
      ]
    },
    {
      "cell_type": "code",
      "source": [
        "options = {'compact' : True,'distance':150,'bg':\"#0095b6\",'color':\"#DDDDDD\"}\n",
        "displacy.render(doc,style = 'dep',jupyter = True,options = options)"
      ],
      "metadata": {
        "colab": {
          "base_uri": "https://localhost:8080/",
          "height": 383
        },
        "id": "atPoCUF61dEd",
        "outputId": "6824ca43-c2e2-48af-b733-cbd5b59b2435"
      },
      "execution_count": 25,
      "outputs": [
        {
          "output_type": "display_data",
          "data": {
            "text/plain": [
              "<IPython.core.display.HTML object>"
            ],
            "text/html": [
              "<span class=\"tex2jax_ignore\"><svg xmlns=\"http://www.w3.org/2000/svg\" xmlns:xlink=\"http://www.w3.org/1999/xlink\" xml:lang=\"en\" id=\"d03a5ce89c414bb58bd8d04395e60ba8-0\" class=\"displacy\" width=\"1100\" height=\"362.0\" direction=\"ltr\" style=\"max-width: none; height: 362.0px; color: #DDDDDD; background: #0095b6; font-family: Arial; direction: ltr\">\n",
              "<text class=\"displacy-token\" fill=\"currentColor\" text-anchor=\"middle\" y=\"272.0\">\n",
              "    <tspan class=\"displacy-word\" fill=\"currentColor\" x=\"50\">Let</tspan>\n",
              "    <tspan class=\"displacy-tag\" dy=\"2em\" fill=\"currentColor\" x=\"50\">VERB</tspan>\n",
              "</text>\n",
              "\n",
              "<text class=\"displacy-token\" fill=\"currentColor\" text-anchor=\"middle\" y=\"272.0\">\n",
              "    <tspan class=\"displacy-word\" fill=\"currentColor\" x=\"200\">'s</tspan>\n",
              "    <tspan class=\"displacy-tag\" dy=\"2em\" fill=\"currentColor\" x=\"200\">PRON</tspan>\n",
              "</text>\n",
              "\n",
              "<text class=\"displacy-token\" fill=\"currentColor\" text-anchor=\"middle\" y=\"272.0\">\n",
              "    <tspan class=\"displacy-word\" fill=\"currentColor\" x=\"350\">go</tspan>\n",
              "    <tspan class=\"displacy-tag\" dy=\"2em\" fill=\"currentColor\" x=\"350\">VERB</tspan>\n",
              "</text>\n",
              "\n",
              "<text class=\"displacy-token\" fill=\"currentColor\" text-anchor=\"middle\" y=\"272.0\">\n",
              "    <tspan class=\"displacy-word\" fill=\"currentColor\" x=\"500\">to</tspan>\n",
              "    <tspan class=\"displacy-tag\" dy=\"2em\" fill=\"currentColor\" x=\"500\">ADP</tspan>\n",
              "</text>\n",
              "\n",
              "<text class=\"displacy-token\" fill=\"currentColor\" text-anchor=\"middle\" y=\"272.0\">\n",
              "    <tspan class=\"displacy-word\" fill=\"currentColor\" x=\"650\">the</tspan>\n",
              "    <tspan class=\"displacy-tag\" dy=\"2em\" fill=\"currentColor\" x=\"650\">DET</tspan>\n",
              "</text>\n",
              "\n",
              "<text class=\"displacy-token\" fill=\"currentColor\" text-anchor=\"middle\" y=\"272.0\">\n",
              "    <tspan class=\"displacy-word\" fill=\"currentColor\" x=\"800\">N.Y</tspan>\n",
              "    <tspan class=\"displacy-tag\" dy=\"2em\" fill=\"currentColor\" x=\"800\">PROPN</tspan>\n",
              "</text>\n",
              "\n",
              "<text class=\"displacy-token\" fill=\"currentColor\" text-anchor=\"middle\" y=\"272.0\">\n",
              "    <tspan class=\"displacy-word\" fill=\"currentColor\" x=\"950\">city!</tspan>\n",
              "    <tspan class=\"displacy-tag\" dy=\"2em\" fill=\"currentColor\" x=\"950\">NOUN</tspan>\n",
              "</text>\n",
              "\n",
              "<g class=\"displacy-arrow\">\n",
              "    <path class=\"displacy-arc\" id=\"arrow-d03a5ce89c414bb58bd8d04395e60ba8-0-0\" stroke-width=\"2px\" d=\"M212,227.0 212,202.0 344.0,202.0 344.0,227.0\" fill=\"none\" stroke=\"currentColor\"/>\n",
              "    <text dy=\"1.25em\" style=\"font-size: 0.8em; letter-spacing: 1px\">\n",
              "        <textPath xlink:href=\"#arrow-d03a5ce89c414bb58bd8d04395e60ba8-0-0\" class=\"displacy-label\" startOffset=\"50%\" side=\"left\" fill=\"currentColor\" text-anchor=\"middle\">nsubj</textPath>\n",
              "    </text>\n",
              "    <path class=\"displacy-arrowhead\" d=\"M212,229.0 L208,221.0 216,221.0\" fill=\"currentColor\"/>\n",
              "</g>\n",
              "\n",
              "<g class=\"displacy-arrow\">\n",
              "    <path class=\"displacy-arc\" id=\"arrow-d03a5ce89c414bb58bd8d04395e60ba8-0-1\" stroke-width=\"2px\" d=\"M62,227.0 62,177.0 347.0,177.0 347.0,227.0\" fill=\"none\" stroke=\"currentColor\"/>\n",
              "    <text dy=\"1.25em\" style=\"font-size: 0.8em; letter-spacing: 1px\">\n",
              "        <textPath xlink:href=\"#arrow-d03a5ce89c414bb58bd8d04395e60ba8-0-1\" class=\"displacy-label\" startOffset=\"50%\" side=\"left\" fill=\"currentColor\" text-anchor=\"middle\">ccomp</textPath>\n",
              "    </text>\n",
              "    <path class=\"displacy-arrowhead\" d=\"M347.0,229.0 L351.0,221.0 343.0,221.0\" fill=\"currentColor\"/>\n",
              "</g>\n",
              "\n",
              "<g class=\"displacy-arrow\">\n",
              "    <path class=\"displacy-arc\" id=\"arrow-d03a5ce89c414bb58bd8d04395e60ba8-0-2\" stroke-width=\"2px\" d=\"M362,227.0 362,202.0 494.0,202.0 494.0,227.0\" fill=\"none\" stroke=\"currentColor\"/>\n",
              "    <text dy=\"1.25em\" style=\"font-size: 0.8em; letter-spacing: 1px\">\n",
              "        <textPath xlink:href=\"#arrow-d03a5ce89c414bb58bd8d04395e60ba8-0-2\" class=\"displacy-label\" startOffset=\"50%\" side=\"left\" fill=\"currentColor\" text-anchor=\"middle\">prep</textPath>\n",
              "    </text>\n",
              "    <path class=\"displacy-arrowhead\" d=\"M494.0,229.0 L498.0,221.0 490.0,221.0\" fill=\"currentColor\"/>\n",
              "</g>\n",
              "\n",
              "<g class=\"displacy-arrow\">\n",
              "    <path class=\"displacy-arc\" id=\"arrow-d03a5ce89c414bb58bd8d04395e60ba8-0-3\" stroke-width=\"2px\" d=\"M662,227.0 662,177.0 947.0,177.0 947.0,227.0\" fill=\"none\" stroke=\"currentColor\"/>\n",
              "    <text dy=\"1.25em\" style=\"font-size: 0.8em; letter-spacing: 1px\">\n",
              "        <textPath xlink:href=\"#arrow-d03a5ce89c414bb58bd8d04395e60ba8-0-3\" class=\"displacy-label\" startOffset=\"50%\" side=\"left\" fill=\"currentColor\" text-anchor=\"middle\">det</textPath>\n",
              "    </text>\n",
              "    <path class=\"displacy-arrowhead\" d=\"M662,229.0 L658,221.0 666,221.0\" fill=\"currentColor\"/>\n",
              "</g>\n",
              "\n",
              "<g class=\"displacy-arrow\">\n",
              "    <path class=\"displacy-arc\" id=\"arrow-d03a5ce89c414bb58bd8d04395e60ba8-0-4\" stroke-width=\"2px\" d=\"M812,227.0 812,202.0 944.0,202.0 944.0,227.0\" fill=\"none\" stroke=\"currentColor\"/>\n",
              "    <text dy=\"1.25em\" style=\"font-size: 0.8em; letter-spacing: 1px\">\n",
              "        <textPath xlink:href=\"#arrow-d03a5ce89c414bb58bd8d04395e60ba8-0-4\" class=\"displacy-label\" startOffset=\"50%\" side=\"left\" fill=\"currentColor\" text-anchor=\"middle\">compound</textPath>\n",
              "    </text>\n",
              "    <path class=\"displacy-arrowhead\" d=\"M812,229.0 L808,221.0 816,221.0\" fill=\"currentColor\"/>\n",
              "</g>\n",
              "\n",
              "<g class=\"displacy-arrow\">\n",
              "    <path class=\"displacy-arc\" id=\"arrow-d03a5ce89c414bb58bd8d04395e60ba8-0-5\" stroke-width=\"2px\" d=\"M512,227.0 512,152.0 950.0,152.0 950.0,227.0\" fill=\"none\" stroke=\"currentColor\"/>\n",
              "    <text dy=\"1.25em\" style=\"font-size: 0.8em; letter-spacing: 1px\">\n",
              "        <textPath xlink:href=\"#arrow-d03a5ce89c414bb58bd8d04395e60ba8-0-5\" class=\"displacy-label\" startOffset=\"50%\" side=\"left\" fill=\"currentColor\" text-anchor=\"middle\">pobj</textPath>\n",
              "    </text>\n",
              "    <path class=\"displacy-arrowhead\" d=\"M950.0,229.0 L954.0,221.0 946.0,221.0\" fill=\"currentColor\"/>\n",
              "</g>\n",
              "</svg></span>"
            ]
          },
          "metadata": {}
        }
      ]
    },
    {
      "cell_type": "code",
      "source": [
        "# sentence boundary detection - the process of locating start and end  of sentence  in the given text\n",
        "\n"
      ],
      "metadata": {
        "id": "CHG_tqAx1qgz"
      },
      "execution_count": 26,
      "outputs": []
    },
    {
      "cell_type": "code",
      "source": [
        "para = '''Apple Inc. is an American multinational technology company headquartered in Cupertino, California. Apple is the world's largest technology company by revenue, with US$394.3 billion in 2022 revenue. As of March 2023, Apple is the world's biggest company by market capitalization.\n",
        "'''"
      ],
      "metadata": {
        "id": "x4fSvRG12HTh"
      },
      "execution_count": 27,
      "outputs": []
    },
    {
      "cell_type": "code",
      "source": [
        "print(para)"
      ],
      "metadata": {
        "colab": {
          "base_uri": "https://localhost:8080/"
        },
        "id": "rCspTVQL2TB1",
        "outputId": "8b44790f-f9d6-41a4-e59a-669de10a858c"
      },
      "execution_count": 28,
      "outputs": [
        {
          "output_type": "stream",
          "name": "stdout",
          "text": [
            "Apple Inc. is an American multinational technology company headquartered in Cupertino, California. Apple is the world's largest technology company by revenue, with US$394.3 billion in 2022 revenue. As of March 2023, Apple is the world's biggest company by market capitalization.\n",
            "\n"
          ]
        }
      ]
    },
    {
      "cell_type": "code",
      "source": [
        "doc = nlp(para)"
      ],
      "metadata": {
        "id": "R57d0ZOR2VHe"
      },
      "execution_count": 29,
      "outputs": []
    },
    {
      "cell_type": "code",
      "source": [
        "list(doc)"
      ],
      "metadata": {
        "colab": {
          "base_uri": "https://localhost:8080/"
        },
        "id": "aiwlPali2bP9",
        "outputId": "9dc839a0-3f66-4a97-fc1a-fffd43c11c51"
      },
      "execution_count": 30,
      "outputs": [
        {
          "output_type": "execute_result",
          "data": {
            "text/plain": [
              "[Apple,\n",
              " Inc.,\n",
              " is,\n",
              " an,\n",
              " American,\n",
              " multinational,\n",
              " technology,\n",
              " company,\n",
              " headquartered,\n",
              " in,\n",
              " Cupertino,\n",
              " ,,\n",
              " California,\n",
              " .,\n",
              " Apple,\n",
              " is,\n",
              " the,\n",
              " world,\n",
              " 's,\n",
              " largest,\n",
              " technology,\n",
              " company,\n",
              " by,\n",
              " revenue,\n",
              " ,,\n",
              " with,\n",
              " US$,\n",
              " 394.3,\n",
              " billion,\n",
              " in,\n",
              " 2022,\n",
              " revenue,\n",
              " .,\n",
              " As,\n",
              " of,\n",
              " March,\n",
              " 2023,\n",
              " ,,\n",
              " Apple,\n",
              " is,\n",
              " the,\n",
              " world,\n",
              " 's,\n",
              " biggest,\n",
              " company,\n",
              " by,\n",
              " market,\n",
              " capitalization,\n",
              " .,\n",
              " ]"
            ]
          },
          "metadata": {},
          "execution_count": 30
        }
      ]
    },
    {
      "cell_type": "code",
      "source": [
        "list(doc.sents)"
      ],
      "metadata": {
        "colab": {
          "base_uri": "https://localhost:8080/"
        },
        "id": "Mpida7Fo2b8s",
        "outputId": "4111d713-fdda-4a46-9b1f-582808b89391"
      },
      "execution_count": 31,
      "outputs": [
        {
          "output_type": "execute_result",
          "data": {
            "text/plain": [
              "[Apple Inc. is an American multinational technology company headquartered in Cupertino, California.,\n",
              " Apple is the world's largest technology company by revenue, with US$394.3 billion in 2022 revenue.,\n",
              " As of March 2023, Apple is the world's biggest company by market capitalization.]"
            ]
          },
          "metadata": {},
          "execution_count": 31
        }
      ]
    },
    {
      "cell_type": "code",
      "source": [
        "sents = list(doc.sents)"
      ],
      "metadata": {
        "id": "xAsp6M9b2iCA"
      },
      "execution_count": 32,
      "outputs": []
    },
    {
      "cell_type": "code",
      "source": [
        "for sent in sents:\n",
        "  print(sent)"
      ],
      "metadata": {
        "colab": {
          "base_uri": "https://localhost:8080/"
        },
        "id": "yHRpvPpe2ol0",
        "outputId": "d99c2478-8789-428e-8b7e-b403acba39b5"
      },
      "execution_count": 33,
      "outputs": [
        {
          "output_type": "stream",
          "name": "stdout",
          "text": [
            "Apple Inc. is an American multinational technology company headquartered in Cupertino, California.\n",
            "Apple is the world's largest technology company by revenue, with US$394.3 billion in 2022 revenue.\n",
            "As of March 2023, Apple is the world's biggest company by market capitalization.\n",
            "\n"
          ]
        }
      ]
    },
    {
      "cell_type": "code",
      "source": [
        "# stopwords - the most common words in the language."
      ],
      "metadata": {
        "id": "XrvMM8g52r5z"
      },
      "execution_count": 34,
      "outputs": []
    },
    {
      "cell_type": "code",
      "source": [
        "stopwords = spacy.lang.en.stop_words.STOP_WORDS"
      ],
      "metadata": {
        "id": "-2A4XueM3Gyc"
      },
      "execution_count": 35,
      "outputs": []
    },
    {
      "cell_type": "code",
      "source": [
        "print(list(stopwords))"
      ],
      "metadata": {
        "colab": {
          "base_uri": "https://localhost:8080/"
        },
        "id": "vrPQp4ZO3vXk",
        "outputId": "039fba8c-d02e-444b-d825-dd55fdacd74e"
      },
      "execution_count": 36,
      "outputs": [
        {
          "output_type": "stream",
          "name": "stdout",
          "text": [
            "['less', 'next', '‘ll', 'as', 'she', 'when', '‘ve', 'other', 'four', 'at', 'since', 'they', \"'ve\", 'empty', 'too', 'any', 'per', 'no', 'until', 'toward', 'had', 'yours', '‘d', 'by', 'most', 'everything', 'fifteen', 'much', 'quite', 'also', '‘s', 'whom', 'formerly', 'within', 'anyhow', \"n't\", 'even', 'now', 'whence', 'anything', 'latter', 'herein', 'am', 'twelve', 'beforehand', '’s', 'whither', 'therefore', 'mine', 'some', 'sometimes', 'whereas', 'hence', 'last', 'whenever', \"'m\", 'thereby', 'your', 'among', 'hereby', 'somewhere', 'twenty', 'me', 'should', 'several', 'hereupon', 'between', 'if', \"'ll\", 'around', 'cannot', 'thence', 'into', 'namely', 'whereafter', 'we', '’d', 'nothing', 'every', 'though', 'my', 'still', 'hers', 'whose', 'amount', 'anyone', 'him', 'before', 'hereafter', 'which', 'became', 'whoever', 'seems', 'bottom', 'more', 'there', 'call', 'hundred', 'further', 'anywhere', 'these', 'to', 'out', 'towards', 'although', 'latterly', 'nor', 'due', 'perhaps', 'above', 'ourselves', 'eleven', 'get', 'elsewhere', 'besides', 'once', 'but', 'go', 'keep', '’ve', 'others', 'throughout', '’m', 'down', 'beside', 'ca', 'never', 'see', 'or', 'otherwise', 'can', 'something', 'you', \"'s\", 'neither', 'upon', 'wherein', 'six', 'seeming', 'regarding', 'yourselves', 'another', 'himself', 'two', 'nevertheless', 'really', 'along', 'would', 'either', 'itself', 'back', 'top', 'done', 'whether', 'sometime', 'say', 'sixty', 'ours', 'used', 'is', 'i', \"'re\", 'how', 'our', 'from', 'on', 'using', 'least', 'do', 'the', 'whole', 'us', 'nobody', 'who', 'themselves', 'wherever', 'through', 'under', 'without', 'former', 'alone', 'everywhere', '’re', 'many', '’ll', 'its', 'make', 'that', 'behind', 'moreover', 'with', 'via', 'anyway', 'five', 'whereupon', 'noone', 'rather', 'always', 'ten', 'yourself', 'enough', 'serious', 'up', 'where', 'first', 'often', 'beyond', 'her', 'whatever', 'various', 'name', 'in', 'those', '‘m', 'whereby', 'about', 'has', 'why', 'amongst', 'have', 'are', 'been', 'than', 'three', 'meanwhile', 'only', 'unless', 'over', 'show', 'put', 'may', 'eight', 'seem', 'very', 'someone', 'this', 'else', 'during', 'he', 'somehow', 'be', 'each', 'so', 'fifty', \"'d\", 'their', 'all', 'n‘t', 'an', 'please', 'was', 'side', 'mostly', 'both', 'doing', 'ever', 'full', 'and', 'does', 'for', 'part', 'made', 'might', 'them', 'almost', 'did', 'must', 'against', 'give', 'what', 'below', 'were', 'onto', 'except', 'will', 'after', 'together', 'such', '‘re', 'thereupon', 'third', 'could', 'herself', 'take', 'yet', 'therein', 'none', 'thus', 'indeed', 'becomes', 'few', 'off', 'here', 'well', 'while', 'afterwards', 'move', 'then', 'across', 'become', 'own', 'a', 'because', 'thereafter', 'his', 'already', 'front', 'not', 'myself', 'however', 'same', 'thru', 'nowhere', 'becoming', 'everyone', 'again', 'just', 'nine', 'of', 're', 'forty', 'one', 'n’t', 'seemed', 'being', 'it']\n"
          ]
        }
      ]
    },
    {
      "cell_type": "code",
      "source": [
        "for sent in sents:\n",
        "    print(sent)\n",
        "    for token in sent:\n",
        "      if token.text not in stopwords:\n",
        "        print(token)\n",
        "    break"
      ],
      "metadata": {
        "colab": {
          "base_uri": "https://localhost:8080/"
        },
        "id": "QDKweKM23wLR",
        "outputId": "698e501c-2bd8-4d21-fede-45d27f48bb13"
      },
      "execution_count": 37,
      "outputs": [
        {
          "output_type": "stream",
          "name": "stdout",
          "text": [
            "Apple Inc. is an American multinational technology company headquartered in Cupertino, California.\n",
            "Apple\n",
            "Inc.\n",
            "American\n",
            "multinational\n",
            "technology\n",
            "company\n",
            "headquartered\n",
            "Cupertino\n",
            ",\n",
            "California\n",
            ".\n"
          ]
        }
      ]
    },
    {
      "cell_type": "code",
      "source": [
        "# lemmatization :\n"
      ],
      "metadata": {
        "id": "dcXBZ8iF4CkN"
      },
      "execution_count": 38,
      "outputs": []
    },
    {
      "cell_type": "code",
      "source": [
        "text1 = 'playing played plays play'"
      ],
      "metadata": {
        "id": "Jk2V3rBO_ATL"
      },
      "execution_count": 39,
      "outputs": []
    },
    {
      "cell_type": "code",
      "source": [
        "doc  = nlp(text1)"
      ],
      "metadata": {
        "id": "BPENM8kr_Qfr"
      },
      "execution_count": 40,
      "outputs": []
    },
    {
      "cell_type": "code",
      "source": [
        "for token in doc:\n",
        "  print(token.text,token.lemma_)"
      ],
      "metadata": {
        "colab": {
          "base_uri": "https://localhost:8080/"
        },
        "id": "C4cPa18r_SwW",
        "outputId": "ed7c41fd-b611-4666-c312-bf1b2a4c8ac9"
      },
      "execution_count": 41,
      "outputs": [
        {
          "output_type": "stream",
          "name": "stdout",
          "text": [
            "playing play\n",
            "played play\n",
            "plays play\n",
            "play play\n"
          ]
        }
      ]
    },
    {
      "cell_type": "code",
      "source": [
        "import nltk"
      ],
      "metadata": {
        "id": "8gtOG5u4_coz"
      },
      "execution_count": 42,
      "outputs": []
    },
    {
      "cell_type": "code",
      "source": [
        "from nltk.stem import PorterStemmer"
      ],
      "metadata": {
        "id": "uN3aouYY_5PQ"
      },
      "execution_count": 43,
      "outputs": []
    },
    {
      "cell_type": "code",
      "source": [
        "from nltk.tokenize import word_tokenize"
      ],
      "metadata": {
        "id": "rmwlB33q_-OD"
      },
      "execution_count": 44,
      "outputs": []
    },
    {
      "cell_type": "code",
      "source": [
        "ps = PorterStemmer()"
      ],
      "metadata": {
        "id": "bnmhlE_wADVU"
      },
      "execution_count": 45,
      "outputs": []
    },
    {
      "cell_type": "code",
      "source": [
        "\n",
        "for word in text1.split():\n",
        "  print(word,ps.stem(word))"
      ],
      "metadata": {
        "colab": {
          "base_uri": "https://localhost:8080/"
        },
        "id": "YSS23Q_SAGAX",
        "outputId": "d924378d-92c1-4afb-c074-2a413faaeac3"
      },
      "execution_count": 46,
      "outputs": [
        {
          "output_type": "stream",
          "name": "stdout",
          "text": [
            "playing play\n",
            "played play\n",
            "plays play\n",
            "play play\n"
          ]
        }
      ]
    },
    {
      "cell_type": "code",
      "source": [
        "# word count\n",
        "\n",
        "\n",
        "from collections import Counter\n",
        "\n",
        "word_freq = Counter(  text1.split())\n"
      ],
      "metadata": {
        "id": "YODfPWvZARaU"
      },
      "execution_count": 48,
      "outputs": []
    },
    {
      "cell_type": "code",
      "source": [
        "print(word_freq)"
      ],
      "metadata": {
        "colab": {
          "base_uri": "https://localhost:8080/"
        },
        "id": "WuwBeYRRAvJd",
        "outputId": "3711f010-467f-4a38-b178-e33e2618e6ef"
      },
      "execution_count": 49,
      "outputs": [
        {
          "output_type": "stream",
          "name": "stdout",
          "text": [
            "Counter({'playing': 1, 'played': 1, 'plays': 1, 'play': 1})\n"
          ]
        }
      ]
    },
    {
      "cell_type": "code",
      "source": [
        "print(text) "
      ],
      "metadata": {
        "colab": {
          "base_uri": "https://localhost:8080/"
        },
        "id": "z2fLZDtAA3Lp",
        "outputId": "ce95be7f-542e-4fb6-ea84-ea0f4c594087"
      },
      "execution_count": 50,
      "outputs": [
        {
          "output_type": "stream",
          "name": "stdout",
          "text": [
            "Let's go to the N.Y city!\n"
          ]
        }
      ]
    },
    {
      "cell_type": "code",
      "source": [
        "doc = nlp(text)"
      ],
      "metadata": {
        "id": "WGQWcv6EBIs7"
      },
      "execution_count": 51,
      "outputs": []
    },
    {
      "cell_type": "code",
      "source": [
        "words  = [token.text for token in doc if not token.is_stop and not  token.is_punct]"
      ],
      "metadata": {
        "id": "PZyHukaMBONc"
      },
      "execution_count": 52,
      "outputs": []
    },
    {
      "cell_type": "code",
      "source": [
        "w = Counter(words)"
      ],
      "metadata": {
        "id": "UK-j-B29BZWR"
      },
      "execution_count": 53,
      "outputs": []
    },
    {
      "cell_type": "code",
      "source": [
        "print(w)"
      ],
      "metadata": {
        "colab": {
          "base_uri": "https://localhost:8080/"
        },
        "id": "IpE6JhGGBg2K",
        "outputId": "8efd623c-70be-4247-b14d-4f458db76f9c"
      },
      "execution_count": 54,
      "outputs": [
        {
          "output_type": "stream",
          "name": "stdout",
          "text": [
            "Counter({'Let': 1, 'N.Y': 1, 'city': 1})\n"
          ]
        }
      ]
    },
    {
      "cell_type": "code",
      "source": [
        "w.most_common()"
      ],
      "metadata": {
        "colab": {
          "base_uri": "https://localhost:8080/"
        },
        "id": "900DciLqBir7",
        "outputId": "7a91db1d-a068-45d9-ce37-ace24b3bd298"
      },
      "execution_count": 55,
      "outputs": [
        {
          "output_type": "execute_result",
          "data": {
            "text/plain": [
              "[('Let', 1), ('N.Y', 1), ('city', 1)]"
            ]
          },
          "metadata": {},
          "execution_count": 55
        }
      ]
    },
    {
      "cell_type": "code",
      "source": [
        "from spacy.matcher import Matcher\n",
        "from spacy.tokens import Span"
      ],
      "metadata": {
        "id": "epmWnIMPBmfh"
      },
      "execution_count": 56,
      "outputs": []
    },
    {
      "cell_type": "code",
      "source": [
        "matcher = Matcher(nlp.vocab)"
      ],
      "metadata": {
        "id": "qTgHwOFLCc--"
      },
      "execution_count": 57,
      "outputs": []
    },
    {
      "cell_type": "code",
      "source": [
        "pattern_verb = [{'LOWER':'alice'}\n",
        "                ]"
      ],
      "metadata": {
        "id": "SjBJ-V7PCiH1"
      },
      "execution_count": 58,
      "outputs": []
    },
    {
      "cell_type": "code",
      "source": [
        "matcher.add('Matching',[pattern_verb])\n",
        "text = '''Section 3. Information about the Project Gutenberg Literary\n",
        "Archive Foundation\n",
        "\n",
        "The Project Gutenberg Literary Archive Foundation is a non-profit\n",
        "501(c)(3) educational corporation organized under the laws of the\n",
        "state of Mississippi and granted tax exempt status by the Internal\n",
        "Revenue Service. The Foundation's EIN or federal tax identification\n",
        "number is 64-6221541. Contributions to the Project Gutenberg Literary\n",
        "Archive Foundation are tax deductible to the full extent permitted by\n",
        "U.S. federal laws and your state's laws.\n",
        "\n",
        "The Foundation's business office is located at 809 North 1500 West,\n",
        "Salt Lake City, UT 84116, (801) 596-1887. Email contact links and up\n",
        "to date contact information can be found at the Foundation's website\n",
        "and official page at www.gutenberg.org/contact\n",
        "\n",
        "Section 4. Information about Donations to the Project Gutenberg\n",
        "Literary Archive Foundation\n",
        "\n",
        "Project Gutenberg-tm depends upon and cannot survive without\n",
        "widespread public support and donations to carry out its mission of\n",
        "increasing the number of public domain and licensed works that can be\n",
        "freely distributed in machine-readable form accessible by the widest\n",
        "array of equipment including outdated equipment. Many small donations\n",
        "($1 to $5,000) are particularly important to maintaining tax exempt\n",
        "status with the IRS.\n",
        "\n",
        "The Foundation is committed to complying with the laws regulating\n",
        "charities and charitable donations in all 50 states of the United\n",
        "States. Compliance requirements are not uniform and it takes a\n",
        "considerable effort, much paperwork and many fees to meet and keep up\n",
        "with these requirements. We do not solicit donations in locations\n",
        "where we have not received written confirmation of compliance. To SEND\n",
        "DONATIONS or determine the status of compliance for any particular\n",
        "state visit www.gutenberg.org/donate\n",
        "\n",
        "While we cannot and do not solicit contributions from states where we\n",
        "have not met the solicitation requirements, we know of no prohibition\n",
        "against accepting unsolicited donations from donors in such states who\n",
        "approach us with offers to donate.\n",
        "\n",
        "International donations are gratefully accepted, but we cannot make\n",
        "any statements concerning tax treatment of donations received from\n",
        "outside the United States. U.S. laws alone swamp our small staff.\n",
        "\n",
        "Please check the Project Gutenberg web pages for current donation\n",
        "methods and addresses. Donations are accepted in a number of other\n",
        "ways including checks, online payments and credit card donations. To\n",
        "donate, please visit: www.gutenberg.org/donate\n",
        "\n",
        "Section 5. General Information About Project Gutenberg-tm electronic works\n",
        "\n",
        "Professor Michael S. Hart was the originator of the Project\n",
        "Gutenberg-tm concept of a library of electronic works that could be\n",
        "freely shared with anyone. For forty years, he produced and\n",
        "distributed Project Gutenberg-tm eBooks with only a loose network of\n",
        "volunteer support.\n",
        "\n",
        "Project Gutenberg-tm eBooks are often created from several printed\n",
        "editions, all of which are confirmed as not protected by copyright in\n",
        "the U.S. unless a copyright notice is included. Thus, we do not\n",
        "necessarily keep eBooks in compliance with any particular paper\n",
        "edition.'''"
      ],
      "metadata": {
        "id": "RUkQ80SbC_ow"
      },
      "execution_count": 59,
      "outputs": []
    },
    {
      "cell_type": "code",
      "source": [
        "doc =  nlp(text)"
      ],
      "metadata": {
        "id": "r9lyra0PDfFL"
      },
      "execution_count": 60,
      "outputs": []
    },
    {
      "cell_type": "code",
      "source": [
        "matches = matcher(doc)"
      ],
      "metadata": {
        "id": "yVdN9XzfDjOQ"
      },
      "execution_count": 61,
      "outputs": []
    },
    {
      "cell_type": "code",
      "source": [
        "for match_id,start,end in  matches:\n",
        "  string_id = nlp.vocab.strings[match_id]\n",
        "  span = doc[start:end]\n",
        "  print(match_id, start_id,start,end,span.text)"
      ],
      "metadata": {
        "id": "kb9N4_vHDmKF"
      },
      "execution_count": 62,
      "outputs": []
    },
    {
      "cell_type": "code",
      "source": [
        "text = 'dog cat bird king queen boy man women'"
      ],
      "metadata": {
        "id": "zd0v78So_2UG"
      },
      "execution_count": 64,
      "outputs": []
    },
    {
      "cell_type": "code",
      "source": [
        "print(text)"
      ],
      "metadata": {
        "id": "cXdzrfc7D17X",
        "colab": {
          "base_uri": "https://localhost:8080/"
        },
        "outputId": "c831701a-8d75-43aa-8996-25a07a475b6f"
      },
      "execution_count": 65,
      "outputs": [
        {
          "output_type": "stream",
          "name": "stdout",
          "text": [
            "dog cat bird king queen boy man women\n"
          ]
        }
      ]
    },
    {
      "cell_type": "code",
      "source": [
        "doc = nlp(text)"
      ],
      "metadata": {
        "id": "PaGTH_w5_ypG"
      },
      "execution_count": 66,
      "outputs": []
    },
    {
      "cell_type": "code",
      "source": [
        "for token in doc:\n",
        "  print(token.text,token.vector)"
      ],
      "metadata": {
        "colab": {
          "base_uri": "https://localhost:8080/"
        },
        "id": "PNMYgWMfABQY",
        "outputId": "ab9ca035-2246-4c1c-f2de-38a75163790d"
      },
      "execution_count": 67,
      "outputs": [
        {
          "output_type": "stream",
          "name": "stdout",
          "text": [
            "dog [-0.78205305 -1.1492573  -0.4493946   0.7058298  -0.37037846  0.2953825\n",
            "  0.32097203  1.3477608   0.10806128  0.24610785  0.3758748  -0.11812401\n",
            " -1.2051197  -1.1394407  -0.35023776  0.23862767 -1.1739653  -1.802348\n",
            " -0.8254123  -0.33677286  0.21430504  0.6689144   0.1589225   0.2031845\n",
            "  0.96514785  0.5916543  -0.01742899  0.99509645  0.21598451  0.058415\n",
            "  0.21052083 -1.2743474   0.30621642  0.21852611 -0.82567585 -0.24372637\n",
            "  0.28966728  0.14481555 -0.13355684  0.36743686 -0.5032942   1.1071255\n",
            " -0.14846641  0.6465334  -0.22803444 -0.5855198   0.00725091  0.5452975\n",
            " -0.07210135  0.44007653 -0.46949115 -0.02651834  0.92389107 -0.6897794\n",
            " -0.44242406 -0.14759329  0.48226407 -0.5689097  -0.11417228 -0.05726022\n",
            " -1.2677968  -0.00689751  0.16102119 -1.0856032  -0.27251238 -0.34953815\n",
            "  0.19776914  0.06012964  0.90868896  0.31670746  1.4870965   1.0274343\n",
            "  1.432589   -0.93367314  0.4089162   0.22959778 -0.5036631  -0.2738467\n",
            "  0.57479894 -0.7561945   0.6466062  -0.42535356 -0.6536747  -0.38611412\n",
            "  0.1083256   0.31083995  0.5685779  -0.53639346 -2.1207385   0.9395149\n",
            "  0.15316814 -0.10595283  1.4715471   0.7534177  -0.56634456  0.42293298]\n",
            "cat [ 0.44772032 -0.60995936  0.08776107  0.19888166 -0.6195227  -0.04478708\n",
            "  0.22620279  1.2533246   0.29581225  0.49102175  0.14436325  0.66922265\n",
            " -0.559089   -0.3597437  -0.11880678  1.2397752  -0.87735194 -0.33316058\n",
            " -0.44675457 -0.2227366   0.14417338  0.3734104  -0.21650028  0.21211663\n",
            "  1.3456585   0.3928149  -0.22608493  1.0650735   0.28523135  0.12902743\n",
            " -1.0810963  -0.74946845  0.04726635  0.5976988  -1.3051059  -1.5348436\n",
            "  0.76518476 -0.35811943 -1.0251662  -0.5730791  -0.04699439  0.69030225\n",
            " -0.684289    1.6363492  -0.9711318  -0.93359274  0.35643134  0.3185869\n",
            " -0.21006781  0.27613288 -0.7614915   0.03635746  0.56651473 -0.7904621\n",
            " -0.92534983 -0.02337457  1.2642305   0.64721364 -0.06047606 -0.3811977\n",
            " -0.91585356 -0.44427156  0.07269776 -0.7007972  -1.0971305  -1.354742\n",
            "  0.39131248  0.60124314 -0.16640964 -0.48719883  1.5450671   0.14837123\n",
            "  1.3071873  -1.7122371   0.6661383  -0.3905936  -0.7936093   0.51866525\n",
            "  0.3969627  -1.2652967   0.6222963   0.552816   -0.1485115  -0.3771428\n",
            "  0.5376575  -0.6342767  -0.9662951  -0.2068212  -0.9984921   1.3319321\n",
            " -0.00355611  0.5889123   1.9319342   0.18373302 -0.40748766  0.9419975 ]\n",
            "bird [-0.40307164 -1.5909991   0.12206948 -0.16960636 -0.8942728  -0.7911737\n",
            "  0.01132536  1.5416493  -0.56633246  0.31300867 -0.13625196  0.93059397\n",
            " -0.06316367 -1.1360297  -0.14702666  0.7394264  -0.33868182 -0.45644093\n",
            " -0.18153508 -0.31369215 -0.36422855  0.599406   -0.8880949   0.8084528\n",
            "  0.92207974  0.06224239  0.5443102   0.46598545 -0.02615966  0.37398407\n",
            " -1.0056357  -1.0431651  -0.0358302   1.0897126  -0.37302974 -0.509715\n",
            "  0.3296967   0.16362059 -0.8070822  -0.49687994 -0.82469     0.897156\n",
            " -0.7531102   1.561341   -0.20578298  0.08128998  0.45065114 -0.10689545\n",
            "  0.07345393  0.10412209 -0.40570194 -0.8678285   1.5589125  -0.3663249\n",
            " -1.7180562  -0.85129946  1.2823346   0.03983836 -0.17150632 -0.6677754\n",
            " -0.02766294  0.34521282  0.44069034 -0.44396865 -0.65530604 -0.9621463\n",
            "  0.7381393   0.91697097  0.8898772  -1.1545776   1.1731551   1.8204799\n",
            "  0.95984304 -1.3720433   0.6670243   0.01554143 -0.92689645 -0.1141949\n",
            " -0.06714806 -0.8343905   0.91577756 -0.8098263  -0.22798708 -0.07615775\n",
            " -0.63567024 -0.13381267  0.5607447  -0.01751778 -1.0883557   1.4368291\n",
            " -0.54959106 -0.2325595   0.96844435  1.085803   -0.01136126 -0.76516914]\n",
            "king [-0.529176   -1.1376643  -0.71145403 -0.10752738 -0.50709254  0.06247456\n",
            "  0.54857814  1.059383   -0.29841477  0.8152694   0.9789775   0.88405114\n",
            " -1.159756   -0.91935825 -0.86041397  0.37949455 -0.68903005  0.0230324\n",
            " -0.36443716 -0.59709215 -0.6659286   1.7591081   0.45569324  0.9538203\n",
            "  0.3923921  -0.11075842  0.8035997   0.9231082   0.24801823 -0.16287324\n",
            " -0.8501499  -0.38621336 -0.3865792   0.8893952  -0.81549776 -0.27037644\n",
            "  0.347987    0.29206055 -0.090966   -1.1055316  -0.76402843  0.44713184\n",
            "  0.14470452  0.6850351  -0.48067093 -0.14714837  0.34215912 -0.10438728\n",
            " -0.41621265  0.4656996  -0.9200083  -0.17102315  1.2273127  -0.21471208\n",
            " -1.0820286  -0.09263083  0.7123222  -0.02004713  0.00379103 -0.19636206\n",
            " -0.44818962  0.08527916  0.00745291 -1.2505455  -1.2769232  -0.9224551\n",
            "  0.46311402  1.9415301   0.5331154  -1.0964379   1.1562295   0.43341976\n",
            "  0.846085   -1.0199199   0.5520463  -0.05472527 -0.13203679  0.3153597\n",
            "  0.08289084 -0.74522036  0.55873364 -0.93973064 -0.71019846 -0.27102378\n",
            " -1.0910585  -0.17677283  0.5093431   0.07929747 -2.2858832   1.7868431\n",
            " -0.77782047 -0.15807956  1.3806455   0.5930794   0.0746859  -0.33137843]\n",
            "queen [-0.47639674 -0.9282824   0.32765734  0.54822767 -0.727156   -0.71374196\n",
            " -0.1071496   1.1104707   0.47629273  0.33847758  0.42764863  0.42850983\n",
            " -0.98246044 -2.1389499  -0.975201    0.7188463  -0.95812505 -0.41229832\n",
            " -0.36760384 -0.44357505 -1.6659524   1.0722802   0.28596812  0.6681832\n",
            "  0.5732573   0.04199657  0.68768966  0.63621485 -0.5403566   0.38611105\n",
            " -0.34260973 -0.6977738   0.24788141  0.6867485  -0.1832057   0.7813197\n",
            "  0.05080022 -0.2778658  -1.1551247  -0.55158794 -0.7523918  -0.03881867\n",
            " -0.43119672  0.56092715 -0.7360326  -0.10736513 -0.20772448  0.6239215\n",
            " -0.7085785   0.42053545 -0.87994283 -0.32795465  0.79136217 -0.25996947\n",
            " -1.198397   -0.34250006  1.0167315  -0.36117065  0.17855278  0.5870046\n",
            " -0.5823717  -0.56816876  1.1255708  -1.1493363  -1.1046709  -0.6291405\n",
            "  0.486772    2.0205142   0.5870969  -0.13657187  0.7860186   0.3446123\n",
            "  0.40134525 -1.2474984   0.4426436   0.31798133 -0.79809725 -0.5378824\n",
            "  0.32787293  0.5119299   0.55594355 -0.35572264  0.6834799   0.31106687\n",
            " -1.0808555  -0.018149    0.5028331   0.2685989  -1.9764006   1.1711575\n",
            " -0.06827167 -0.16909602  1.251269    1.0564356   0.22647262  0.47216067]\n",
            "boy [ 4.2984903e-01 -1.2653687e+00 -5.1301867e-01  1.0922986e+00\n",
            " -5.7516664e-02 -1.2221423e-01  1.3502562e-01  1.1895244e+00\n",
            "  3.5732415e-01 -4.6941496e-02  8.3791673e-01 -4.4920206e-02\n",
            " -1.1889234e-01 -1.1589447e+00 -3.4114778e-02 -6.5788627e-02\n",
            " -8.3483678e-01  1.0388047e-03 -1.4143162e+00  2.0826939e-01\n",
            " -7.6198494e-01  5.7324767e-01 -3.6907482e-01  4.1929799e-01\n",
            "  4.3143797e-01 -1.6975880e-02 -4.1297406e-02  3.6689389e-01\n",
            "  6.0566759e-01 -8.4130251e-01 -9.0456265e-01  1.0082523e-01\n",
            " -8.7152994e-01  5.1840580e-01 -2.9301929e-01 -3.7488055e-01\n",
            " -3.5858896e-01  2.4284136e-01 -1.3210435e+00  1.0005124e+00\n",
            " -1.9207859e-01 -3.5380071e-01 -5.4772794e-03  1.5454208e+00\n",
            " -1.3968569e-01 -7.1537852e-01  3.4946534e-01 -6.1261308e-01\n",
            " -2.8419161e-01  3.6588433e-01 -7.6168317e-01 -5.7820964e-01\n",
            "  2.9883182e-01 -3.1713170e-01 -1.5419416e+00 -5.0076467e-01\n",
            "  7.7144158e-01 -4.1108662e-01  3.1308320e-01 -7.6239359e-01\n",
            " -6.6864669e-01  1.0596338e-01  8.2085156e-01 -1.0180304e+00\n",
            " -9.1526806e-01 -1.8613513e-01  7.3863351e-01  8.4296703e-01\n",
            "  1.1239716e+00  9.2600122e-02  5.8675170e-01  7.9759836e-01\n",
            "  9.9490178e-01 -1.4516271e+00  3.2496226e-01 -5.9836823e-01\n",
            " -9.9177754e-01 -2.9838419e-01  1.2278363e+00  6.6509545e-03\n",
            "  1.2198970e+00 -3.0892023e-01 -9.6911812e-01 -9.1941826e-02\n",
            " -6.4364892e-01  7.0136017e-01  9.9162266e-02  4.7387856e-01\n",
            " -5.1781094e-01  1.6008708e+00 -4.6192056e-01  1.0087165e+00\n",
            "  1.6733950e+00  2.0428270e-02 -7.8140515e-01 -2.3633316e-01]\n",
            "man [-0.38062444 -0.89431787 -0.38527372  0.46239    -0.16507035 -0.75329405\n",
            " -0.05958754  1.1741574   0.13454452  0.51658547  0.85760933  0.12143281\n",
            " -0.39389667 -0.5938074  -0.02330017  0.5932917   1.3014786  -0.4868546\n",
            " -0.17249422 -0.04521707  0.3264882   0.6577668  -0.68167317  0.4761179\n",
            "  0.7536968   0.0903639  -0.96883404  0.18019614 -0.12154461 -0.40386677\n",
            " -0.08068874 -0.50297534 -0.4979741   0.5433489  -0.34416685 -0.5089085\n",
            " -0.41852158 -0.4407993  -0.17003399 -0.42527214 -0.63196754 -0.50261045\n",
            " -0.2950233   1.0568616   0.6852506  -0.32822698  0.0412488  -0.3345408\n",
            "  0.19337675  0.0659734  -0.63453555  0.22700334  0.74203455 -0.95444703\n",
            " -0.5469018  -0.5117162   0.791982    0.2476821   0.34571245 -0.28186947\n",
            " -0.05584426  0.7186373  -0.95450497 -1.0267532   0.43167675 -0.5439171\n",
            "  0.60081327  0.8180682   0.30829597 -0.18055812  0.2629599   0.6389131\n",
            "  1.1270356  -1.8332596   0.10911569 -0.2401191  -1.0127835   0.0600943\n",
            " -0.17650637 -0.1126657   1.5111932  -0.61242974 -0.5715553  -0.17588353\n",
            " -0.7804549   0.24733108  0.1476965  -0.22006947 -0.7586631   1.3371952\n",
            " -0.92605364 -0.16595507  1.4817957   0.99952865 -0.95337    -0.02548507]\n",
            "women [-1.1600406   0.8334416  -0.76536804  0.43961093  1.1330299  -1.3886503\n",
            "  1.9204303   1.1172907   1.3829463  -0.7086582  -0.56775445  0.10270638\n",
            "  0.80278504 -0.23473907 -0.68754816  0.25408033 -0.10346393  0.58551306\n",
            "  0.9747759  -0.9268848  -0.3060425  -1.0229675  -1.9150026   0.2316091\n",
            " -0.86764723  0.52268386  0.21901499 -0.7834156  -0.8827614   0.27952102\n",
            " -0.38339126 -0.21403228  0.20595902  0.38513765 -0.22395858 -0.5533944\n",
            "  0.64471626  1.1185124  -0.3509167  -1.3995513  -0.96358144 -0.16377085\n",
            " -0.538007   -0.52931315  0.21431258  0.19912618  0.4693468   0.60065484\n",
            " -0.2649781  -0.4779635   1.321171    0.9387022   1.2536693  -0.5248939\n",
            " -0.3054097  -0.17471553  1.0640154  -0.852083    0.4421084   0.7841655\n",
            "  1.1018952  -0.62525946 -0.45499748  0.02587014  0.6676032   1.497478\n",
            "  0.25604904  0.3590696  -0.71311474  0.10772759 -0.48556986  0.49714997\n",
            "  1.3066669  -0.38793078 -1.1756858  -1.0392394   0.24528778 -0.6490624\n",
            " -1.3780714  -0.9391751  -0.75344807 -0.4330935  -0.02041893 -0.67856354\n",
            " -0.2758023   0.11835575 -0.07623038  1.2776641  -0.5416511  -0.75486654\n",
            " -1.0889096   0.16383079  2.0935862   0.4165345   0.31624246  1.1000654 ]\n"
          ]
        }
      ]
    },
    {
      "cell_type": "code",
      "source": [
        "text1 = 'i like salty fries and hamburgers'\n",
        "text2 = 'fast food taste very good'"
      ],
      "metadata": {
        "id": "JDUE9EBSAH4z"
      },
      "execution_count": 68,
      "outputs": []
    },
    {
      "cell_type": "code",
      "source": [
        "doc1 = nlp(text1)\n",
        "doc2 = nlp(text2)"
      ],
      "metadata": {
        "id": "GgATN869AYHG"
      },
      "execution_count": 69,
      "outputs": []
    },
    {
      "cell_type": "code",
      "source": [
        "print(doc1,\"<>\",doc2,doc2.similarity(doc1))"
      ],
      "metadata": {
        "colab": {
          "base_uri": "https://localhost:8080/"
        },
        "id": "fiK91FJ_AcUX",
        "outputId": "13ac85e5-8aff-4c88-c03a-3998e466f7fb"
      },
      "execution_count": 71,
      "outputs": [
        {
          "output_type": "stream",
          "name": "stdout",
          "text": [
            "i like salty fries and hamburgers <> fast food taste very good 0.1616725047676071\n"
          ]
        },
        {
          "output_type": "stream",
          "name": "stderr",
          "text": [
            "<ipython-input-71-b6a5ce7baeb1>:1: UserWarning: [W007] The model you're using has no word vectors loaded, so the result of the Doc.similarity method will be based on the tagger, parser and NER, which may not give useful similarity judgements. This may happen if you're using one of the small models, e.g. `en_core_web_sm`, which don't ship with word vectors and only use context-sensitive tensors. You can always add your own word vectors, or use one of the larger models instead if available.\n",
            "  print(doc1,\"<>\",doc2,doc2.similarity(doc1))\n"
          ]
        }
      ]
    },
    {
      "cell_type": "code",
      "source": [
        "text1 = 'river bank'\n",
        "text2 = 'bank account'"
      ],
      "metadata": {
        "id": "XUkmphjxAkYv"
      },
      "execution_count": 72,
      "outputs": []
    },
    {
      "cell_type": "code",
      "source": [
        "doc1 = nlp(text1)\n",
        "doc2 = nlp(text2)"
      ],
      "metadata": {
        "id": "iKxmffQZA45I"
      },
      "execution_count": 73,
      "outputs": []
    },
    {
      "cell_type": "code",
      "source": [
        "print(doc1,\"<>\",doc2,doc1.similarity(doc2))"
      ],
      "metadata": {
        "colab": {
          "base_uri": "https://localhost:8080/"
        },
        "id": "0P4m_8HgA7ju",
        "outputId": "a5dfee15-d58b-4e0a-c5ab-124b02b36f59"
      },
      "execution_count": 75,
      "outputs": [
        {
          "output_type": "stream",
          "name": "stdout",
          "text": [
            "river bank <> bank account 0.8463268305094266\n"
          ]
        },
        {
          "output_type": "stream",
          "name": "stderr",
          "text": [
            "<ipython-input-75-50976ab33b41>:1: UserWarning: [W007] The model you're using has no word vectors loaded, so the result of the Doc.similarity method will be based on the tagger, parser and NER, which may not give useful similarity judgements. This may happen if you're using one of the small models, e.g. `en_core_web_sm`, which don't ship with word vectors and only use context-sensitive tensors. You can always add your own word vectors, or use one of the larger models instead if available.\n",
            "  print(doc1,\"<>\",doc2,doc1.similarity(doc2))\n"
          ]
        }
      ]
    },
    {
      "cell_type": "code",
      "source": [],
      "metadata": {
        "id": "orAxFYKOA-UB"
      },
      "execution_count": null,
      "outputs": []
    }
  ]
}