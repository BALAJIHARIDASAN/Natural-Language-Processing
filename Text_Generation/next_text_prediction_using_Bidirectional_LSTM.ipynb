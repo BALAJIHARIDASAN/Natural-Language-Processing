{
  "nbformat": 4,
  "nbformat_minor": 0,
  "metadata": {
    "colab": {
      "provenance": [],
      "authorship_tag": "ABX9TyNEf0HKy1Usby+XTBPYHG6n",
      "include_colab_link": true
    },
    "kernelspec": {
      "name": "python3",
      "display_name": "Python 3"
    },
    "language_info": {
      "name": "python"
    }
  },
  "cells": [
    {
      "cell_type": "markdown",
      "metadata": {
        "id": "view-in-github",
        "colab_type": "text"
      },
      "source": [
        "<a href=\"https://colab.research.google.com/github/BALAJIHARIDASAN/Natural-Language-Processing/blob/main/next_text_prediction_using_Bidirectional_LSTM.ipynb\" target=\"_parent\"><img src=\"https://colab.research.google.com/assets/colab-badge.svg\" alt=\"Open In Colab\"/></a>"
      ]
    },
    {
      "cell_type": "code",
      "source": [
        "text ='''\n",
        "Is Diwali considered the festival of lights in India?\n",
        "Yes, Diwali is considered the festival of lights in India.\n",
        "Is Bharatanatyam a traditional Indian dance form?\n",
        "Yes, Bharatanatyam is a traditional Indian dance form.\n",
        "Is the Taj Mahal considered a symbol of love in Indian culture?\n",
        "Yes, the Taj Mahal is considered a symbol of love in Indian culture.\n",
        "Was Dr. B. R. Ambedkar a key figure in drafting the Indian Constitution?\n",
        "Yes, Dr. B. R. Ambedkar played a significant role in drafting the Indian Constitution.\n",
        "Is Holi celebrated with colors and water in India?\n",
        "Yes, Holi is celebrated with colors and water in India.\n",
        "Is the Lion Capital of Ashoka the national emblem of India?\n",
        "Yes, the Lion Capital of Ashoka is the national emblem of India.\n",
        "Is the saree a traditional attire worn by women in India?\n",
        "Yes, the saree is a traditional attire worn by women in India.\n",
        "Was \"Jana Gana Mana\" written by Rabindranath Tagore?\n",
        "Yes, \"Jana Gana Mana\" was written by Rabindranath Tagore.\n",
        "Is the Mahabharata revered for its philosophical teachings in India?\n",
        "Yes, the Mahabharata is revered for its philosophical teachings in India.\n",
        "Is \"Namaste\" the traditional greeting in India?\n",
        "Yes, \"Namaste\" is the traditional greeting in India.\n",
        "Is Sachin Tendulkar often referred to as the \"God of Cricket\" in India?\n",
        "Yes, Sachin Tendulkar is often referred to as the \"God of Cricket\" in India.\n",
        "Is Field Hockey the national sport of India?\n",
        "Yes, Field Hockey is the national sport of India.\n",
        "Does Sachin Tendulkar hold the record for the most centuries in international cricket?\n",
        "Yes, Sachin Tendulkar holds the record for the most centuries in international cricket.\n",
        "Was Abhinav Bindra the first Indian to win an individual Olympic gold medal?\n",
        "Yes, Abhinav Bindra was the first Indian to win an individual Olympic gold medal.\n",
        "Is the Indian Premier League (IPL) a professional Twenty20 cricket league in India?\n",
        "Yes, the Indian Premier League (IPL) is a professional Twenty20 cricket league in India.\n",
        "Is Milkha Singh known as the \"Flying Sikh\" in Indian sports history?\n",
        "Yes, Milkha Singh is known as the \"Flying Sikh\" in Indian sports history.\n",
        "Has wrestler Sushil Kumar won the most Olympic medals among Indian athletes?\n",
        "Yes, wrestler Sushil Kumar has won the most Olympic medals among Indian athletes.\n",
        "Is Kabaddi a traditional Indian sport with cultural significance?\n",
        "Yes, Kabaddi is a traditional Indian sport with cultural significance.\n",
        "Is Virat Kohli the captain of the Indian men's cricket team as of 2024?\n",
        "Yes, Virat Kohli is the captain of the Indian men's cricket team as of 2024.\n",
        "Does the Nehru Cup promote football and international relations in India?\n",
        "Yes, the Nehru Cup promotes football and international relations in India.\n",
        "Was Jawaharlal Nehru the first Prime Minister of independent India?\n",
        "Yes, Jawaharlal Nehru was the first Prime Minister of independent India.\n",
        "Is the Lok Sabha the lower house of the Parliament of India?\n",
        "Yes, the Lok Sabha is the lower house of the Parliament of India.\n",
        "Is Ram Nath Kovind the current President of India?\n",
        "Yes, Ram Nath Kovind is the current President of India.\n",
        "Was the Indian Emergency of 1975 imposed by then Prime Minister Indira Gandhi?\n",
        "Yes, the Indian Emergency of 1975 was imposed by then Prime Minister Indira Gandhi.\n",
        "Is Indira Gandhi known as the \"Iron Lady of India\" in Indian politics?\n",
        "Yes, Indira Gandhi is known as the \"Iron Lady of India\" in Indian politics.\n",
        "Is the Rajya Sabha the upper house of the Parliament of India?\n",
        "Yes, the Rajya Sabha is the upper house of the Parliament of India.\n",
        "Is Dr. Manmohan Singh credited with being the architect of India's economic reforms in 1991?\n",
        "Yes, Dr. Manmohan Singh is credited with being the architect of India's economic reforms in 1991.\n",
        "Is the Indian National Congress one of the oldest and major political parties in India?\n",
        "Yes, the Indian National Congress is one of the oldest and major political parties in India.\n",
        "Was Indira Gandhi the first female Prime Minister of India?\n",
        "Yes, Indira Gandhi was the first female Prime Minister of India.\n",
        "Is the Chief Justice of India responsible for the administration and supervision of the court system?\n",
        "Yes, the Chief Justice of India is responsible for the administration and supervision of the court system.\n",
        "'''"
      ],
      "metadata": {
        "id": "RA8QNdjgL1bs"
      },
      "execution_count": 29,
      "outputs": []
    },
    {
      "cell_type": "code",
      "source": [
        "import tensorflow as tf\n",
        "from tensorflow.keras.preprocessing.text import Tokenizer"
      ],
      "metadata": {
        "id": "4AbRnMazL17z"
      },
      "execution_count": 30,
      "outputs": []
    },
    {
      "cell_type": "code",
      "source": [
        "tokenizer = Tokenizer()"
      ],
      "metadata": {
        "id": "UyTmXxq2L7lG"
      },
      "execution_count": 31,
      "outputs": []
    },
    {
      "cell_type": "code",
      "source": [
        "tokenizer.fit_on_texts([text])"
      ],
      "metadata": {
        "id": "heRYcYZzL-Ur"
      },
      "execution_count": 32,
      "outputs": []
    },
    {
      "cell_type": "code",
      "source": [
        "\n",
        "input_sequences=[]\n",
        "for sentence in text.split('\\n'):\n",
        "  tokenized_sentence = tokenizer.texts_to_sequences([sentence])[0]\n",
        "  for i in range(1,len(tokenized_sentence)):\n",
        "    input_sequences.append(tokenized_sentence[:i+1])"
      ],
      "metadata": {
        "id": "bsKP1zL1MFxr"
      },
      "execution_count": 33,
      "outputs": []
    },
    {
      "cell_type": "code",
      "source": [
        "max_len = max([len(x) for x in input_sequences])\n",
        "max_len"
      ],
      "metadata": {
        "colab": {
          "base_uri": "https://localhost:8080/"
        },
        "id": "6RzPVBEaPfT4",
        "outputId": "a5ac9e79-b725-4473-a094-780a045e4407"
      },
      "execution_count": 34,
      "outputs": [
        {
          "output_type": "execute_result",
          "data": {
            "text/plain": [
              "17"
            ]
          },
          "metadata": {},
          "execution_count": 34
        }
      ]
    },
    {
      "cell_type": "code",
      "source": [
        "from tensorflow.keras.preprocessing.sequence import pad_sequences\n",
        "padded_input_sequences = pad_sequences(input_sequences, maxlen = max_len, padding='pre')"
      ],
      "metadata": {
        "id": "D1D7WrzSQN9f"
      },
      "execution_count": 35,
      "outputs": []
    },
    {
      "cell_type": "code",
      "source": [
        "padded_input_sequences"
      ],
      "metadata": {
        "colab": {
          "base_uri": "https://localhost:8080/"
        },
        "id": "uKeBg7q3QQtz",
        "outputId": "6139e059-af4d-4c7b-f4af-ce0f5e3e4fc5"
      },
      "execution_count": 36,
      "outputs": [
        {
          "output_type": "execute_result",
          "data": {
            "text/plain": [
              "array([[  0,   0,   0, ...,   0,   2,  39],\n",
              "       [  0,   0,   0, ...,   2,  39,  23],\n",
              "       [  0,   0,   0, ...,  39,  23,   1],\n",
              "       ...,\n",
              "       [  0,   0,   6, ..., 161,   3,   1],\n",
              "       [  0,   6,   1, ...,   3,   1, 162],\n",
              "       [  6,   1, 157, ...,   1, 162, 163]], dtype=int32)"
            ]
          },
          "metadata": {},
          "execution_count": 36
        }
      ]
    },
    {
      "cell_type": "code",
      "source": [
        "X = padded_input_sequences[:,:-1]"
      ],
      "metadata": {
        "id": "Bl6Z7A-tQTIk"
      },
      "execution_count": 37,
      "outputs": []
    },
    {
      "cell_type": "code",
      "source": [
        "y = padded_input_sequences[:,-1]"
      ],
      "metadata": {
        "id": "gvjlABYoQVHa"
      },
      "execution_count": 38,
      "outputs": []
    },
    {
      "cell_type": "code",
      "source": [
        "from tensorflow.keras.utils import to_categorical\n",
        "y = to_categorical(y,num_classes=283)"
      ],
      "metadata": {
        "id": "eOW3uyoRQWpE"
      },
      "execution_count": 39,
      "outputs": []
    },
    {
      "cell_type": "code",
      "source": [
        "from tensorflow.keras.models import Sequential\n",
        "from tensorflow.keras.layers import Embedding, LSTM, Dense,Bidirectional"
      ],
      "metadata": {
        "id": "XdBRJ2aCQY9F"
      },
      "execution_count": 40,
      "outputs": []
    },
    {
      "cell_type": "code",
      "source": [
        "model = Sequential()\n",
        "model.add(Embedding(283, 100, input_length=16))\n",
        "model.add(Bidirectional(LSTM(150)))\n",
        "model.add(Dense(283, activation='softmax'))"
      ],
      "metadata": {
        "id": "LLqqhikJQbRe"
      },
      "execution_count": 41,
      "outputs": []
    },
    {
      "cell_type": "code",
      "source": [
        "model.compile(loss='categorical_crossentropy', optimizer='adam',metrics=['accuracy'])"
      ],
      "metadata": {
        "id": "8yWC583fQdLK"
      },
      "execution_count": 42,
      "outputs": []
    },
    {
      "cell_type": "code",
      "source": [
        "model.summary()"
      ],
      "metadata": {
        "colab": {
          "base_uri": "https://localhost:8080/"
        },
        "id": "q7tbNLDnQiIJ",
        "outputId": "1ccb774e-2e2b-4948-bdd4-64fe248e6271"
      },
      "execution_count": 43,
      "outputs": [
        {
          "output_type": "stream",
          "name": "stdout",
          "text": [
            "Model: \"sequential_1\"\n",
            "_________________________________________________________________\n",
            " Layer (type)                Output Shape              Param #   \n",
            "=================================================================\n",
            " embedding_1 (Embedding)     (None, 16, 100)           28300     \n",
            "                                                                 \n",
            " bidirectional (Bidirection  (None, 300)               301200    \n",
            " al)                                                             \n",
            "                                                                 \n",
            " dense_1 (Dense)             (None, 283)               85183     \n",
            "                                                                 \n",
            "=================================================================\n",
            "Total params: 414683 (1.58 MB)\n",
            "Trainable params: 414683 (1.58 MB)\n",
            "Non-trainable params: 0 (0.00 Byte)\n",
            "_________________________________________________________________\n"
          ]
        }
      ]
    },
    {
      "cell_type": "code",
      "source": [
        "model.fit(X,y,epochs=100)\n"
      ],
      "metadata": {
        "colab": {
          "base_uri": "https://localhost:8080/"
        },
        "id": "EUvAdPXhQjvw",
        "outputId": "03cf9410-4563-4bc5-b120-126d4fab7e42"
      },
      "execution_count": 44,
      "outputs": [
        {
          "output_type": "stream",
          "name": "stdout",
          "text": [
            "Epoch 1/100\n",
            "21/21 [==============================] - 6s 63ms/step - loss: 5.3819 - accuracy: 0.0926\n",
            "Epoch 2/100\n",
            "21/21 [==============================] - 1s 63ms/step - loss: 4.6725 - accuracy: 0.0664\n",
            "Epoch 3/100\n",
            "21/21 [==============================] - 2s 119ms/step - loss: 4.5356 - accuracy: 0.1111\n",
            "Epoch 4/100\n",
            "21/21 [==============================] - 2s 69ms/step - loss: 4.4531 - accuracy: 0.1219\n",
            "Epoch 5/100\n",
            "21/21 [==============================] - 1s 62ms/step - loss: 4.2707 - accuracy: 0.1667\n",
            "Epoch 6/100\n",
            "21/21 [==============================] - 1s 62ms/step - loss: 4.0029 - accuracy: 0.2068\n",
            "Epoch 7/100\n",
            "21/21 [==============================] - 1s 63ms/step - loss: 3.7957 - accuracy: 0.2145\n",
            "Epoch 8/100\n",
            "21/21 [==============================] - 1s 63ms/step - loss: 3.5814 - accuracy: 0.2469\n",
            "Epoch 9/100\n",
            "21/21 [==============================] - 1s 63ms/step - loss: 3.3995 - accuracy: 0.2608\n",
            "Epoch 10/100\n",
            "21/21 [==============================] - 1s 61ms/step - loss: 3.2628 - accuracy: 0.2685\n",
            "Epoch 11/100\n",
            "21/21 [==============================] - 2s 76ms/step - loss: 3.1553 - accuracy: 0.2577\n",
            "Epoch 12/100\n",
            "21/21 [==============================] - 2s 110ms/step - loss: 2.9611 - accuracy: 0.2824\n",
            "Epoch 13/100\n",
            "21/21 [==============================] - 1s 62ms/step - loss: 2.8013 - accuracy: 0.3194\n",
            "Epoch 14/100\n",
            "21/21 [==============================] - 1s 70ms/step - loss: 2.6401 - accuracy: 0.3287\n",
            "Epoch 15/100\n",
            "21/21 [==============================] - 1s 64ms/step - loss: 2.4979 - accuracy: 0.3503\n",
            "Epoch 16/100\n",
            "21/21 [==============================] - 1s 64ms/step - loss: 2.3815 - accuracy: 0.3688\n",
            "Epoch 17/100\n",
            "21/21 [==============================] - 1s 63ms/step - loss: 2.2519 - accuracy: 0.4043\n",
            "Epoch 18/100\n",
            "21/21 [==============================] - 1s 63ms/step - loss: 2.0797 - accuracy: 0.4383\n",
            "Epoch 19/100\n",
            "21/21 [==============================] - 1s 64ms/step - loss: 1.9550 - accuracy: 0.4846\n",
            "Epoch 20/100\n",
            "21/21 [==============================] - 2s 107ms/step - loss: 1.8443 - accuracy: 0.5247\n",
            "Epoch 21/100\n",
            "21/21 [==============================] - 2s 79ms/step - loss: 1.7294 - accuracy: 0.5756\n",
            "Epoch 22/100\n",
            "21/21 [==============================] - 1s 62ms/step - loss: 1.6116 - accuracy: 0.6096\n",
            "Epoch 23/100\n",
            "21/21 [==============================] - 1s 63ms/step - loss: 1.5103 - accuracy: 0.6250\n",
            "Epoch 24/100\n",
            "21/21 [==============================] - 1s 63ms/step - loss: 1.4186 - accuracy: 0.6728\n",
            "Epoch 25/100\n",
            "21/21 [==============================] - 1s 63ms/step - loss: 1.3128 - accuracy: 0.6960\n",
            "Epoch 26/100\n",
            "21/21 [==============================] - 1s 63ms/step - loss: 1.2735 - accuracy: 0.6867\n",
            "Epoch 27/100\n",
            "21/21 [==============================] - 1s 63ms/step - loss: 1.1819 - accuracy: 0.7299\n",
            "Epoch 28/100\n",
            "21/21 [==============================] - 2s 76ms/step - loss: 1.1144 - accuracy: 0.7454\n",
            "Epoch 29/100\n",
            "21/21 [==============================] - 3s 123ms/step - loss: 1.0804 - accuracy: 0.7546\n",
            "Epoch 30/100\n",
            "21/21 [==============================] - 1s 64ms/step - loss: 1.0102 - accuracy: 0.7762\n",
            "Epoch 31/100\n",
            "21/21 [==============================] - 1s 65ms/step - loss: 0.9190 - accuracy: 0.8056\n",
            "Epoch 32/100\n",
            "21/21 [==============================] - 1s 65ms/step - loss: 0.8750 - accuracy: 0.8117\n",
            "Epoch 33/100\n",
            "21/21 [==============================] - 1s 62ms/step - loss: 0.8338 - accuracy: 0.8333\n",
            "Epoch 34/100\n",
            "21/21 [==============================] - 1s 63ms/step - loss: 0.7783 - accuracy: 0.8426\n",
            "Epoch 35/100\n",
            "21/21 [==============================] - 1s 63ms/step - loss: 0.7391 - accuracy: 0.8426\n",
            "Epoch 36/100\n",
            "21/21 [==============================] - 1s 63ms/step - loss: 0.7198 - accuracy: 0.8596\n",
            "Epoch 37/100\n",
            "21/21 [==============================] - 2s 109ms/step - loss: 0.6777 - accuracy: 0.8580\n",
            "Epoch 38/100\n",
            "21/21 [==============================] - 2s 75ms/step - loss: 0.6491 - accuracy: 0.8673\n",
            "Epoch 39/100\n",
            "21/21 [==============================] - 1s 63ms/step - loss: 0.6219 - accuracy: 0.8704\n",
            "Epoch 40/100\n",
            "21/21 [==============================] - 1s 66ms/step - loss: 0.6014 - accuracy: 0.8827\n",
            "Epoch 41/100\n",
            "21/21 [==============================] - 1s 63ms/step - loss: 0.5907 - accuracy: 0.8657\n",
            "Epoch 42/100\n",
            "21/21 [==============================] - 1s 65ms/step - loss: 0.5588 - accuracy: 0.8796\n",
            "Epoch 43/100\n",
            "21/21 [==============================] - 1s 63ms/step - loss: 0.5528 - accuracy: 0.8765\n",
            "Epoch 44/100\n",
            "21/21 [==============================] - 1s 63ms/step - loss: 0.5291 - accuracy: 0.8843\n",
            "Epoch 45/100\n",
            "21/21 [==============================] - 2s 81ms/step - loss: 0.5203 - accuracy: 0.8858\n",
            "Epoch 46/100\n",
            "21/21 [==============================] - 2s 105ms/step - loss: 0.5047 - accuracy: 0.8935\n",
            "Epoch 47/100\n",
            "21/21 [==============================] - 1s 63ms/step - loss: 0.4938 - accuracy: 0.8966\n",
            "Epoch 48/100\n",
            "21/21 [==============================] - 1s 64ms/step - loss: 0.4776 - accuracy: 0.8966\n",
            "Epoch 49/100\n",
            "21/21 [==============================] - 1s 64ms/step - loss: 0.4819 - accuracy: 0.8843\n",
            "Epoch 50/100\n",
            "21/21 [==============================] - 1s 64ms/step - loss: 0.4685 - accuracy: 0.8966\n",
            "Epoch 51/100\n",
            "21/21 [==============================] - 1s 64ms/step - loss: 0.4516 - accuracy: 0.8981\n",
            "Epoch 52/100\n",
            "21/21 [==============================] - 1s 64ms/step - loss: 0.4410 - accuracy: 0.8966\n",
            "Epoch 53/100\n",
            "21/21 [==============================] - 1s 63ms/step - loss: 0.4420 - accuracy: 0.8997\n",
            "Epoch 54/100\n",
            "21/21 [==============================] - 2s 111ms/step - loss: 0.4318 - accuracy: 0.8966\n",
            "Epoch 55/100\n",
            "21/21 [==============================] - 2s 77ms/step - loss: 0.4264 - accuracy: 0.8966\n",
            "Epoch 56/100\n",
            "21/21 [==============================] - 1s 64ms/step - loss: 0.4177 - accuracy: 0.8981\n",
            "Epoch 57/100\n",
            "21/21 [==============================] - 1s 64ms/step - loss: 0.4042 - accuracy: 0.9012\n",
            "Epoch 58/100\n",
            "21/21 [==============================] - 1s 62ms/step - loss: 0.4022 - accuracy: 0.9028\n",
            "Epoch 59/100\n",
            "21/21 [==============================] - 1s 64ms/step - loss: 0.3984 - accuracy: 0.9074\n",
            "Epoch 60/100\n",
            "21/21 [==============================] - 1s 63ms/step - loss: 0.4228 - accuracy: 0.8981\n",
            "Epoch 61/100\n",
            "21/21 [==============================] - 1s 64ms/step - loss: 0.4295 - accuracy: 0.8951\n",
            "Epoch 62/100\n",
            "21/21 [==============================] - 2s 78ms/step - loss: 0.4148 - accuracy: 0.9028\n",
            "Epoch 63/100\n",
            "21/21 [==============================] - 2s 107ms/step - loss: 0.4089 - accuracy: 0.9012\n",
            "Epoch 64/100\n",
            "21/21 [==============================] - 1s 64ms/step - loss: 0.4036 - accuracy: 0.9043\n",
            "Epoch 65/100\n",
            "21/21 [==============================] - 1s 65ms/step - loss: 0.3842 - accuracy: 0.9043\n",
            "Epoch 66/100\n",
            "21/21 [==============================] - 1s 64ms/step - loss: 0.3927 - accuracy: 0.8997\n",
            "Epoch 67/100\n",
            "21/21 [==============================] - 1s 64ms/step - loss: 0.3721 - accuracy: 0.9012\n",
            "Epoch 68/100\n",
            "21/21 [==============================] - 1s 64ms/step - loss: 0.3649 - accuracy: 0.9059\n",
            "Epoch 69/100\n",
            "21/21 [==============================] - 1s 64ms/step - loss: 0.3635 - accuracy: 0.9028\n",
            "Epoch 70/100\n",
            "21/21 [==============================] - 1s 64ms/step - loss: 0.3679 - accuracy: 0.9028\n",
            "Epoch 71/100\n",
            "21/21 [==============================] - 2s 109ms/step - loss: 0.3564 - accuracy: 0.9028\n",
            "Epoch 72/100\n",
            "21/21 [==============================] - 2s 78ms/step - loss: 0.3485 - accuracy: 0.9059\n",
            "Epoch 73/100\n",
            "21/21 [==============================] - 1s 62ms/step - loss: 0.3465 - accuracy: 0.9043\n",
            "Epoch 74/100\n",
            "21/21 [==============================] - 1s 62ms/step - loss: 0.3401 - accuracy: 0.9090\n",
            "Epoch 75/100\n",
            "21/21 [==============================] - 1s 60ms/step - loss: 0.3382 - accuracy: 0.9090\n",
            "Epoch 76/100\n",
            "21/21 [==============================] - 1s 61ms/step - loss: 0.3411 - accuracy: 0.9090\n",
            "Epoch 77/100\n",
            "21/21 [==============================] - 1s 60ms/step - loss: 0.3407 - accuracy: 0.9059\n",
            "Epoch 78/100\n",
            "21/21 [==============================] - 1s 64ms/step - loss: 0.3398 - accuracy: 0.9074\n",
            "Epoch 79/100\n",
            "21/21 [==============================] - 1s 65ms/step - loss: 0.3463 - accuracy: 0.9043\n",
            "Epoch 80/100\n",
            "21/21 [==============================] - 2s 119ms/step - loss: 0.3426 - accuracy: 0.9059\n",
            "Epoch 81/100\n",
            "21/21 [==============================] - 1s 64ms/step - loss: 0.3302 - accuracy: 0.9074\n",
            "Epoch 82/100\n",
            "21/21 [==============================] - 1s 63ms/step - loss: 0.3335 - accuracy: 0.9059\n",
            "Epoch 83/100\n",
            "21/21 [==============================] - 1s 64ms/step - loss: 0.3336 - accuracy: 0.9043\n",
            "Epoch 84/100\n",
            "21/21 [==============================] - 1s 62ms/step - loss: 0.3296 - accuracy: 0.9059\n",
            "Epoch 85/100\n",
            "21/21 [==============================] - 1s 64ms/step - loss: 0.3253 - accuracy: 0.9059\n",
            "Epoch 86/100\n",
            "21/21 [==============================] - 1s 63ms/step - loss: 0.3287 - accuracy: 0.9090\n",
            "Epoch 87/100\n",
            "21/21 [==============================] - 1s 66ms/step - loss: 0.3280 - accuracy: 0.9074\n",
            "Epoch 88/100\n",
            "21/21 [==============================] - 2s 99ms/step - loss: 0.3225 - accuracy: 0.9043\n",
            "Epoch 89/100\n",
            "21/21 [==============================] - 2s 88ms/step - loss: 0.3289 - accuracy: 0.9043\n",
            "Epoch 90/100\n",
            "21/21 [==============================] - 1s 64ms/step - loss: 0.3260 - accuracy: 0.9090\n",
            "Epoch 91/100\n",
            "21/21 [==============================] - 1s 63ms/step - loss: 0.3404 - accuracy: 0.9012\n",
            "Epoch 92/100\n",
            "21/21 [==============================] - 1s 64ms/step - loss: 0.3297 - accuracy: 0.9028\n",
            "Epoch 93/100\n",
            "21/21 [==============================] - 1s 63ms/step - loss: 0.3223 - accuracy: 0.9090\n",
            "Epoch 94/100\n",
            "21/21 [==============================] - 1s 64ms/step - loss: 0.3210 - accuracy: 0.9059\n",
            "Epoch 95/100\n",
            "21/21 [==============================] - 1s 64ms/step - loss: 0.3178 - accuracy: 0.9074\n",
            "Epoch 96/100\n",
            "21/21 [==============================] - 1s 70ms/step - loss: 0.3181 - accuracy: 0.9090\n",
            "Epoch 97/100\n",
            "21/21 [==============================] - 3s 122ms/step - loss: 0.3158 - accuracy: 0.9074\n",
            "Epoch 98/100\n",
            "21/21 [==============================] - 1s 63ms/step - loss: 0.3166 - accuracy: 0.9074\n",
            "Epoch 99/100\n",
            "21/21 [==============================] - 1s 61ms/step - loss: 0.3160 - accuracy: 0.9043\n",
            "Epoch 100/100\n",
            "21/21 [==============================] - 1s 65ms/step - loss: 0.3163 - accuracy: 0.9043\n"
          ]
        },
        {
          "output_type": "execute_result",
          "data": {
            "text/plain": [
              "<keras.src.callbacks.History at 0x789029f17d90>"
            ]
          },
          "metadata": {},
          "execution_count": 44
        }
      ]
    },
    {
      "cell_type": "code",
      "source": [
        "import numpy as np\n",
        "import time\n",
        "text = \"sachin Tendulkar\"\n",
        "\n",
        "for i in range(10):\n",
        "  # tokenize\n",
        "  token_text = tokenizer.texts_to_sequences([text])[0]\n",
        "  # padding\n",
        "  padded_token_text = pad_sequences([token_text], maxlen=16, padding='pre')\n",
        "  # predict\n",
        "  pos = np.argmax(model.predict(padded_token_text))\n",
        "\n",
        "  for word,index in tokenizer.word_index.items():\n",
        "    if index == pos:\n",
        "      text = text + \" \" + word\n",
        "      print(text)\n",
        "      time.sleep(2)"
      ],
      "metadata": {
        "colab": {
          "base_uri": "https://localhost:8080/"
        },
        "id": "Si-uG_IfQ-eJ",
        "outputId": "c3f71fb5-afad-4614-aac4-62b2d011938c"
      },
      "execution_count": 54,
      "outputs": [
        {
          "output_type": "stream",
          "name": "stdout",
          "text": [
            "1/1 [==============================] - 0s 28ms/step\n",
            "sachin Tendulkar hold\n",
            "1/1 [==============================] - 0s 49ms/step\n",
            "sachin Tendulkar hold the\n",
            "1/1 [==============================] - 0s 27ms/step\n",
            "sachin Tendulkar hold the record\n",
            "1/1 [==============================] - 0s 30ms/step\n",
            "sachin Tendulkar hold the record for\n",
            "1/1 [==============================] - 0s 25ms/step\n",
            "sachin Tendulkar hold the record for the\n",
            "1/1 [==============================] - 0s 26ms/step\n",
            "sachin Tendulkar hold the record for the most\n",
            "1/1 [==============================] - 0s 50ms/step\n",
            "sachin Tendulkar hold the record for the most centuries\n",
            "1/1 [==============================] - 0s 37ms/step\n",
            "sachin Tendulkar hold the record for the most centuries in\n",
            "1/1 [==============================] - 0s 27ms/step\n",
            "sachin Tendulkar hold the record for the most centuries in international\n",
            "1/1 [==============================] - 0s 25ms/step\n",
            "sachin Tendulkar hold the record for the most centuries in international cricket\n"
          ]
        }
      ]
    },
    {
      "cell_type": "code",
      "source": [
        "np.argmax(model.predict(padded_token_text))"
      ],
      "metadata": {
        "colab": {
          "base_uri": "https://localhost:8080/"
        },
        "id": "XRJFTUbkRr21",
        "outputId": "e4bf0753-113a-430c-817d-51a5ac2d7f3b"
      },
      "execution_count": 55,
      "outputs": [
        {
          "output_type": "stream",
          "name": "stdout",
          "text": [
            "1/1 [==============================] - 0s 26ms/step\n"
          ]
        },
        {
          "output_type": "execute_result",
          "data": {
            "text/plain": [
              "13"
            ]
          },
          "metadata": {},
          "execution_count": 55
        }
      ]
    },
    {
      "cell_type": "code",
      "source": [
        "tokenizer.word_index.items()"
      ],
      "metadata": {
        "colab": {
          "base_uri": "https://localhost:8080/"
        },
        "id": "h9YhxA2hR6Yn",
        "outputId": "00643cd0-1072-4024-84fa-c216d154038c"
      },
      "execution_count": 56,
      "outputs": [
        {
          "output_type": "execute_result",
          "data": {
            "text/plain": [
              "dict_items([('the', 1), ('is', 2), ('of', 3), ('india', 4), ('in', 5), ('yes', 6), ('indian', 7), ('a', 8), ('was', 9), ('traditional', 10), ('and', 11), ('as', 12), ('cricket', 13), ('with', 14), ('national', 15), ('by', 16), ('for', 17), ('first', 18), ('prime', 19), ('minister', 20), ('indira', 21), ('gandhi', 22), ('considered', 23), ('dr', 24), ('sachin', 25), ('tendulkar', 26), ('to', 27), ('sport', 28), ('most', 29), ('international', 30), ('olympic', 31), ('league', 32), ('singh', 33), ('known', 34), ('nehru', 35), ('sabha', 36), ('house', 37), ('parliament', 38), ('diwali', 39), ('festival', 40), ('lights', 41), ('bharatanatyam', 42), ('dance', 43), ('form', 44), ('taj', 45), ('mahal', 46), ('symbol', 47), ('love', 48), ('culture', 49), ('b', 50), ('r', 51), ('ambedkar', 52), ('drafting', 53), ('constitution', 54), ('holi', 55), ('celebrated', 56), ('colors', 57), ('water', 58), ('lion', 59), ('capital', 60), ('ashoka', 61), ('emblem', 62), ('saree', 63), ('attire', 64), ('worn', 65), ('women', 66), ('jana', 67), ('gana', 68), ('mana', 69), ('written', 70), ('rabindranath', 71), ('tagore', 72), ('mahabharata', 73), ('revered', 74), ('its', 75), ('philosophical', 76), ('teachings', 77), ('namaste', 78), ('greeting', 79), ('often', 80), ('referred', 81), ('god', 82), ('field', 83), ('hockey', 84), ('does', 85), ('record', 86), ('centuries', 87), ('abhinav', 88), ('bindra', 89), ('win', 90), ('an', 91), ('individual', 92), ('gold', 93), ('medal', 94), ('premier', 95), ('ipl', 96), ('professional', 97), ('twenty20', 98), ('milkha', 99), ('flying', 100), ('sikh', 101), ('sports', 102), ('history', 103), ('has', 104), ('wrestler', 105), ('sushil', 106), ('kumar', 107), ('won', 108), ('medals', 109), ('among', 110), ('athletes', 111), ('kabaddi', 112), ('cultural', 113), ('significance', 114), ('virat', 115), ('kohli', 116), ('captain', 117), (\"men's\", 118), ('team', 119), ('2024', 120), ('cup', 121), ('football', 122), ('relations', 123), ('jawaharlal', 124), ('independent', 125), ('lok', 126), ('lower', 127), ('ram', 128), ('nath', 129), ('kovind', 130), ('current', 131), ('president', 132), ('emergency', 133), ('1975', 134), ('imposed', 135), ('then', 136), ('iron', 137), ('lady', 138), ('politics', 139), ('rajya', 140), ('upper', 141), ('manmohan', 142), ('credited', 143), ('being', 144), ('architect', 145), (\"india's\", 146), ('economic', 147), ('reforms', 148), ('1991', 149), ('congress', 150), ('one', 151), ('oldest', 152), ('major', 153), ('political', 154), ('parties', 155), ('female', 156), ('chief', 157), ('justice', 158), ('responsible', 159), ('administration', 160), ('supervision', 161), ('court', 162), ('system', 163), ('key', 164), ('figure', 165), ('played', 166), ('significant', 167), ('role', 168), ('hold', 169), ('holds', 170), ('promote', 171), ('promotes', 172)])"
            ]
          },
          "metadata": {},
          "execution_count": 56
        }
      ]
    },
    {
      "cell_type": "code",
      "source": [
        "text = text + \" \" + word"
      ],
      "metadata": {
        "id": "wBb5axhyR9w9"
      },
      "execution_count": 57,
      "outputs": []
    },
    {
      "cell_type": "code",
      "source": [
        "text"
      ],
      "metadata": {
        "colab": {
          "base_uri": "https://localhost:8080/",
          "height": 36
        },
        "id": "VZUjmL7vSGAN",
        "outputId": "32cebb7b-0cff-41c8-80ed-8c17744fc5ec"
      },
      "execution_count": 58,
      "outputs": [
        {
          "output_type": "execute_result",
          "data": {
            "text/plain": [
              "'sachin Tendulkar hold the record for the most centuries in international cricket promotes'"
            ],
            "application/vnd.google.colaboratory.intrinsic+json": {
              "type": "string"
            }
          },
          "metadata": {},
          "execution_count": 58
        }
      ]
    },
    {
      "cell_type": "code",
      "source": [],
      "metadata": {
        "id": "6GbcGcRySSv1"
      },
      "execution_count": null,
      "outputs": []
    }
  ]
}