{
  "nbformat": 4,
  "nbformat_minor": 0,
  "metadata": {
    "colab": {
      "provenance": []
    },
    "kernelspec": {
      "name": "python3",
      "display_name": "Python 3"
    },
    "language_info": {
      "name": "python"
    }
  },
  "cells": [
    {
      "cell_type": "markdown",
      "source": [
        "1. EDA, Data Pre-Processing\n",
        "\n",
        "    1. Data Profiling\n",
        "\n",
        "    2. Stastical analysis\n",
        "\n",
        "    3. Graphical Analysis\n",
        "\n",
        "    4. Data Cleaning\n",
        "\n",
        "    5. Tokenization\n",
        "\n",
        "    6. Stemming\n",
        "\n",
        "2. All Classification Model\n",
        "\n",
        "    1. Classification Model (Naive bayes, Regression, Tree, Bagging, Boosting and SVM based).\n",
        "\n",
        "    2. Performance metrics for above models.\n",
        "\n",
        "    3. Experiments to improve accuracy and precision score.\n",
        "\n"
      ],
      "metadata": {
        "id": "NV6bvi2pgJzI"
      }
    },
    {
      "cell_type": "markdown",
      "source": [
        "1. Basic data Cleaning and EDA\n",
        "\n",
        "2. Data pre-processing (lowercase, tokenisation, special character removal, stemming)\n",
        "\n",
        "3. Model Building\n",
        "\n",
        "  3.1 Label Encoding\n",
        "\n",
        "  3.2 Text Vectorization (BOW and TF-IDF)\n",
        "\n",
        "  3.3 Models\n",
        "\n",
        "  3.3.1 Naive Bayes Models\n",
        "\n",
        "  Gaussian, Multinomial and Bernoulli Naive Bayes.\n",
        "\n",
        "Multinomial Naive Bayes along with TF-IDF gives best precision score and good accuracy.\n",
        "\n",
        "3.3.2 Other Models\n",
        "\n",
        "  Logistic Regression, \n",
        "\n",
        "  Support Vector Classifier,\n",
        "\n",
        "Decision Tree Classifier,\n",
        " \n",
        "Random Forest Classifier, \n",
        "\n",
        "Random Forest Classifier, \n",
        "\n",
        "Bagging Classifier, \n",
        "\n",
        "Extra Tree Classifier, \n",
        "\n",
        "AdaBoost Classifier, \n",
        "\n",
        "GradientBoost Classifier,\n",
        "\n",
        "K Neighbours Classifier, \n",
        "\n",
        "XGBoost Classifier.\n",
        "\n",
        "Support Vector Classifier gives same precision score as that of Multinomial Naive Bayes\n",
        "\n",
        "3.3.3 Experiments to increase Precision score\n",
        "\n",
        "TF-IDF with max_features hyper-parameter. Here accuracy score of best model increases with max precision score.\n",
        "\n",
        "Voting Classifier on top 3 Models. No significant change in precision score and accuracy score of best model.\n",
        "\n",
        "Using No. of characters column. Accuracy score of best model decreases.\n",
        "\n",
        "3.3.4 Best model\n",
        "\n",
        "Multinomial Naive Bayes along with TF-IDF and max_features equal to 3500."
      ],
      "metadata": {
        "id": "GHF39qyHgtd4"
      }
    },
    {
      "cell_type": "code",
      "source": [
        "### Pandas and Numpy\n",
        "import pandas as pd\n",
        "import numpy as np\n",
        "\n",
        "### Visualisation libraries\n",
        "import seaborn as sns\n",
        "import matplotlib.pyplot as plt\n",
        "%matplotlib inline\n",
        "\n",
        "### To ignore warnings\n",
        "import warnings\n",
        "warnings.filterwarnings('ignore')\n",
        "\n",
        "### Machine Learning libraries\n",
        "import sklearn\n",
        "from sklearn.model_selection import train_test_split\n",
        "from sklearn.preprocessing import LabelEncoder\n",
        "\n",
        "from sklearn.feature_extraction.text import CountVectorizer\n",
        "from sklearn.feature_extraction.text import TfidfVectorizer\n",
        "\n",
        "from sklearn.naive_bayes import GaussianNB, MultinomialNB, BernoulliNB\n",
        "from sklearn.svm import SVC\n",
        "from sklearn.tree import DecisionTreeClassifier, ExtraTreeClassifier\n",
        "from sklearn.ensemble import RandomForestClassifier, BaggingClassifier, ExtraTreesClassifier, VotingClassifier, AdaBoostClassifier, GradientBoostingClassifier\n",
        "from xgboost import XGBClassifier\n",
        "from sklearn.linear_model import LogisticRegression\n",
        "from sklearn.neighbors import KNeighborsClassifier\n",
        "\n",
        "from sklearn.metrics import confusion_matrix, accuracy_score, precision_score, recall_score, roc_auc_score\n",
        "\n",
        "### To check punctuation marks\n",
        "import string\n",
        "\n",
        "### For text preprocessing\n",
        "import nltk\n",
        "from nltk.corpus import stopwords\n",
        "from nltk.stem import PorterStemmer\n",
        "\n",
        "### to visualize most common word in our text\n",
        "from wordcloud import WordCloud\n",
        "\n",
        "### to count most frequent words\n",
        "from collections import Counter\n",
        "\n",
        "### for saving models and other objects\n",
        "import pickle\n",
        "\n",
        "\n",
        "nltk.download('punkt')\n",
        "\n",
        "nltk.download('wordnet')\n",
        "\n",
        "nltk.download('omw-1.4')\n",
        "\n",
        "nltk.download('stopwords')"
      ],
      "metadata": {
        "colab": {
          "base_uri": "https://localhost:8080/"
        },
        "id": "ZrxyFivmgurD",
        "outputId": "445d0bfe-79b5-4dd2-f940-eafe511c2a8f"
      },
      "execution_count": 1,
      "outputs": [
        {
          "output_type": "stream",
          "name": "stderr",
          "text": [
            "[nltk_data] Downloading package punkt to /root/nltk_data...\n",
            "[nltk_data]   Unzipping tokenizers/punkt.zip.\n",
            "[nltk_data] Downloading package wordnet to /root/nltk_data...\n"
          ]
        },
        {
          "output_type": "execute_result",
          "data": {
            "text/plain": [
              "True"
            ]
          },
          "metadata": {},
          "execution_count": 1
        }
      ]
    }
  ]
}