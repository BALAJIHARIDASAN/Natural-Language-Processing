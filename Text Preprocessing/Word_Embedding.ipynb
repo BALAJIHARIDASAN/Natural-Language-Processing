{
  "nbformat": 4,
  "nbformat_minor": 0,
  "metadata": {
    "colab": {
      "provenance": []
    },
    "kernelspec": {
      "name": "python3",
      "display_name": "Python 3"
    },
    "language_info": {
      "name": "python"
    },
    "accelerator": "GPU",
    "gpuClass": "standard"
  },
  "cells": [
    {
      "cell_type": "code",
      "execution_count": 1,
      "metadata": {
        "id": "MppNQ9TsjceC"
      },
      "outputs": [],
      "source": [
        "from keras.datasets import imdb\n",
        "from keras import preprocessing\n",
        "from keras.models import Sequential\n",
        "from keras.layers import Flatten, Dense, Embedding\n",
        "from keras.utils import pad_sequences\n",
        "import keras"
      ]
    },
    {
      "cell_type": "code",
      "source": [
        "max_feature = 10000\n",
        "maxlen = 20\n",
        "\n",
        "\n",
        "(x_train,y_train),(x_test,y_test) = imdb.load_data(num_words = 10000)"
      ],
      "metadata": {
        "colab": {
          "base_uri": "https://localhost:8080/"
        },
        "id": "uCaVizRYjpKr",
        "outputId": "0a02641e-f2e3-4ba6-a0a1-3386f9ce10eb"
      },
      "execution_count": 2,
      "outputs": [
        {
          "output_type": "stream",
          "name": "stdout",
          "text": [
            "Downloading data from https://storage.googleapis.com/tensorflow/tf-keras-datasets/imdb.npz\n",
            "17464789/17464789 [==============================] - 2s 0us/step\n"
          ]
        }
      ]
    },
    {
      "cell_type": "code",
      "source": [
        "x_train = keras.utils.data_utils.pad_sequences (x_train,maxlen= maxlen)\n",
        "x_test = keras.utils.data_utils.pad_sequences (x_test,maxlen= maxlen)"
      ],
      "metadata": {
        "id": "3JdsZnOqj456"
      },
      "execution_count": 3,
      "outputs": []
    },
    {
      "cell_type": "code",
      "source": [
        "model = Sequential()\n",
        "model.add(Embedding(1000,8,input_length=maxlen))\n",
        "model.add(Flatten())\n",
        "model.add(Dense(1,activation= 'sigmoid'))\n",
        "model.summary()"
      ],
      "metadata": {
        "colab": {
          "base_uri": "https://localhost:8080/"
        },
        "id": "X2HzpTXAkHEK",
        "outputId": "0555d09d-82e4-4e07-bae6-9209c4932bf8"
      },
      "execution_count": 4,
      "outputs": [
        {
          "output_type": "stream",
          "name": "stdout",
          "text": [
            "Model: \"sequential\"\n",
            "_________________________________________________________________\n",
            " Layer (type)                Output Shape              Param #   \n",
            "=================================================================\n",
            " embedding (Embedding)       (None, 20, 8)             8000      \n",
            "                                                                 \n",
            " flatten (Flatten)           (None, 160)               0         \n",
            "                                                                 \n",
            " dense (Dense)               (None, 1)                 161       \n",
            "                                                                 \n",
            "=================================================================\n",
            "Total params: 8,161\n",
            "Trainable params: 8,161\n",
            "Non-trainable params: 0\n",
            "_________________________________________________________________\n"
          ]
        }
      ]
    },
    {
      "cell_type": "code",
      "source": [
        "x_train"
      ],
      "metadata": {
        "colab": {
          "base_uri": "https://localhost:8080/"
        },
        "id": "AW_zAgwSlsru",
        "outputId": "23e633f8-4099-4763-f43f-b6b7179c092c"
      },
      "execution_count": 5,
      "outputs": [
        {
          "output_type": "execute_result",
          "data": {
            "text/plain": [
              "array([[  65,   16,   38, ...,   19,  178,   32],\n",
              "       [  23,    4, 1690, ...,   16,  145,   95],\n",
              "       [1352,   13,  191, ...,    7,  129,  113],\n",
              "       ...,\n",
              "       [  11, 1818, 7561, ...,    4, 3586,    2],\n",
              "       [  92,  401,  728, ...,   12,    9,   23],\n",
              "       [ 764,   40,    4, ...,  204,  131,    9]], dtype=int32)"
            ]
          },
          "metadata": {},
          "execution_count": 5
        }
      ]
    },
    {
      "cell_type": "code",
      "source": [
        "x_train[0]"
      ],
      "metadata": {
        "colab": {
          "base_uri": "https://localhost:8080/"
        },
        "id": "zDHxjCsRmcTa",
        "outputId": "48cd0819-58e5-4b7b-9adf-65c20f2456ea"
      },
      "execution_count": 6,
      "outputs": [
        {
          "output_type": "execute_result",
          "data": {
            "text/plain": [
              "array([  65,   16,   38, 1334,   88,   12,   16,  283,    5,   16, 4472,\n",
              "        113,  103,   32,   15,   16, 5345,   19,  178,   32], dtype=int32)"
            ]
          },
          "metadata": {},
          "execution_count": 6
        }
      ]
    },
    {
      "cell_type": "code",
      "source": [],
      "metadata": {
        "id": "LLejbSxOmckJ"
      },
      "execution_count": 6,
      "outputs": []
    },
    {
      "cell_type": "code",
      "source": [
        "y_train"
      ],
      "metadata": {
        "colab": {
          "base_uri": "https://localhost:8080/"
        },
        "id": "BS2lEvdTluYX",
        "outputId": "6901eb27-2e8e-45da-8c40-46137e8d512b"
      },
      "execution_count": 7,
      "outputs": [
        {
          "output_type": "execute_result",
          "data": {
            "text/plain": [
              "array([1, 0, 0, ..., 0, 1, 0])"
            ]
          },
          "metadata": {},
          "execution_count": 7
        }
      ]
    },
    {
      "cell_type": "code",
      "source": [
        "x_test"
      ],
      "metadata": {
        "colab": {
          "base_uri": "https://localhost:8080/"
        },
        "id": "MVLDxi87lwcN",
        "outputId": "1cbc0dc3-c255-409f-9e61-20c35970a720"
      },
      "execution_count": 8,
      "outputs": [
        {
          "output_type": "execute_result",
          "data": {
            "text/plain": [
              "array([[ 286,  170,    8, ...,   14,    6,  717],\n",
              "       [  10,   10,  472, ...,  125,    4, 3077],\n",
              "       [  34,    2,   45, ...,    9,   57,  975],\n",
              "       ...,\n",
              "       [ 226,   20,  272, ...,   21,  846, 5518],\n",
              "       [  55,  117,  212, ..., 2302,    7,  470],\n",
              "       [  19,   14,   20, ...,   34, 2005, 2643]], dtype=int32)"
            ]
          },
          "metadata": {},
          "execution_count": 8
        }
      ]
    },
    {
      "cell_type": "code",
      "source": [
        "y_test"
      ],
      "metadata": {
        "colab": {
          "base_uri": "https://localhost:8080/"
        },
        "id": "InAHHF6blweR",
        "outputId": "c930cc6d-0859-48b5-98b0-051d00c15251"
      },
      "execution_count": 9,
      "outputs": [
        {
          "output_type": "execute_result",
          "data": {
            "text/plain": [
              "array([0, 1, 1, ..., 0, 0, 0])"
            ]
          },
          "metadata": {},
          "execution_count": 9
        }
      ]
    },
    {
      "cell_type": "code",
      "source": [
        "model.compile(optimizer= 'rmsprop',loss = 'binary_crossentropy',metrics = ['accuracy'])\n"
      ],
      "metadata": {
        "id": "hQpofs_uk5eX"
      },
      "execution_count": 10,
      "outputs": []
    },
    {
      "cell_type": "code",
      "source": [
        "model.fit(x_train,y_train,epochs = 15)"
      ],
      "metadata": {
        "colab": {
          "base_uri": "https://localhost:8080/"
        },
        "id": "xcKidqJilpZ4",
        "outputId": "7311b816-0400-40e9-b5ad-e5a061867276"
      },
      "execution_count": 11,
      "outputs": [
        {
          "output_type": "stream",
          "name": "stdout",
          "text": [
            "Epoch 1/15\n",
            "782/782 [==============================] - 5s 3ms/step - loss: 0.6594 - accuracy: 0.6338\n",
            "Epoch 2/15\n",
            "782/782 [==============================] - 3s 3ms/step - loss: 0.5397 - accuracy: 0.7340\n",
            "Epoch 3/15\n",
            "782/782 [==============================] - 3s 3ms/step - loss: 0.4997 - accuracy: 0.7523\n",
            "Epoch 4/15\n",
            "782/782 [==============================] - 3s 3ms/step - loss: 0.4871 - accuracy: 0.7599\n",
            "Epoch 5/15\n",
            "782/782 [==============================] - 3s 3ms/step - loss: 0.4788 - accuracy: 0.7650\n",
            "Epoch 6/15\n",
            "782/782 [==============================] - 3s 3ms/step - loss: 0.4711 - accuracy: 0.7713\n",
            "Epoch 7/15\n",
            "782/782 [==============================] - 2s 3ms/step - loss: 0.4631 - accuracy: 0.7772\n",
            "Epoch 8/15\n",
            "782/782 [==============================] - 3s 4ms/step - loss: 0.4551 - accuracy: 0.7810\n",
            "Epoch 9/15\n",
            "782/782 [==============================] - 3s 4ms/step - loss: 0.4469 - accuracy: 0.7889\n",
            "Epoch 10/15\n",
            "782/782 [==============================] - 3s 3ms/step - loss: 0.4397 - accuracy: 0.7934\n",
            "Epoch 11/15\n",
            "782/782 [==============================] - 3s 3ms/step - loss: 0.4328 - accuracy: 0.7983\n",
            "Epoch 12/15\n",
            "782/782 [==============================] - 3s 3ms/step - loss: 0.4261 - accuracy: 0.8020\n",
            "Epoch 13/15\n",
            "782/782 [==============================] - 3s 3ms/step - loss: 0.4203 - accuracy: 0.8048\n",
            "Epoch 14/15\n",
            "782/782 [==============================] - 3s 3ms/step - loss: 0.4151 - accuracy: 0.8079\n",
            "Epoch 15/15\n",
            "782/782 [==============================] - 3s 3ms/step - loss: 0.4103 - accuracy: 0.8122\n"
          ]
        },
        {
          "output_type": "execute_result",
          "data": {
            "text/plain": [
              "<keras.callbacks.History at 0x7f2aa38a9910>"
            ]
          },
          "metadata": {},
          "execution_count": 11
        }
      ]
    },
    {
      "cell_type": "code",
      "source": [
        "y_pred=model.predict(x_test)"
      ],
      "metadata": {
        "colab": {
          "base_uri": "https://localhost:8080/"
        },
        "id": "CAhL3l1CngTG",
        "outputId": "42b16df8-afc4-4964-cb48-977616c0ccae"
      },
      "execution_count": 13,
      "outputs": [
        {
          "output_type": "stream",
          "name": "stdout",
          "text": [
            "782/782 [==============================] - 1s 1ms/step\n"
          ]
        }
      ]
    },
    {
      "cell_type": "code",
      "source": [
        "import numpy as np\n",
        "y_pred=np.where(y_pred > 0.5, 1,0)"
      ],
      "metadata": {
        "id": "Ckp3nZYkphgk"
      },
      "execution_count": 15,
      "outputs": []
    },
    {
      "cell_type": "code",
      "source": [
        "from sklearn.metrics import confusion_matrix"
      ],
      "metadata": {
        "id": "1_maz3ITplal"
      },
      "execution_count": 16,
      "outputs": []
    },
    {
      "cell_type": "code",
      "source": [
        "confusion_matrix(y_test,y_pred)"
      ],
      "metadata": {
        "colab": {
          "base_uri": "https://localhost:8080/"
        },
        "id": "cCnPAI3Bpq5U",
        "outputId": "982b835e-0347-4e2b-e678-6ad35a337afe"
      },
      "execution_count": 17,
      "outputs": [
        {
          "output_type": "execute_result",
          "data": {
            "text/plain": [
              "array([[8750, 3750],\n",
              "       [3232, 9268]])"
            ]
          },
          "metadata": {},
          "execution_count": 17
        }
      ]
    },
    {
      "cell_type": "code",
      "source": [
        "from sklearn.metrics import accuracy_score\n",
        "accuracy_score(y_test,y_pred)"
      ],
      "metadata": {
        "colab": {
          "base_uri": "https://localhost:8080/"
        },
        "id": "e4e3umUMpsXF",
        "outputId": "7ec3baf8-aeb4-446e-c7f6-ce417499ad17"
      },
      "execution_count": 18,
      "outputs": [
        {
          "output_type": "execute_result",
          "data": {
            "text/plain": [
              "0.72072"
            ]
          },
          "metadata": {},
          "execution_count": 18
        }
      ]
    },
    {
      "cell_type": "code",
      "source": [
        "from sklearn.metrics import classification_report\n",
        "print(classification_report(y_test,y_pred))"
      ],
      "metadata": {
        "colab": {
          "base_uri": "https://localhost:8080/"
        },
        "id": "8ePprnpYpuFE",
        "outputId": "002907c6-f783-40b8-ed7d-d0b10bbf907b"
      },
      "execution_count": 19,
      "outputs": [
        {
          "output_type": "stream",
          "name": "stdout",
          "text": [
            "              precision    recall  f1-score   support\n",
            "\n",
            "           0       0.73      0.70      0.71     12500\n",
            "           1       0.71      0.74      0.73     12500\n",
            "\n",
            "    accuracy                           0.72     25000\n",
            "   macro avg       0.72      0.72      0.72     25000\n",
            "weighted avg       0.72      0.72      0.72     25000\n",
            "\n"
          ]
        }
      ]
    },
    {
      "cell_type": "code",
      "source": [],
      "metadata": {
        "id": "yHbm95iApvhk"
      },
      "execution_count": null,
      "outputs": []
    }
  ]
}