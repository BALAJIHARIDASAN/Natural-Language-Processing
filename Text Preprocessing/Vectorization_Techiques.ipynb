{
  "nbformat": 4,
  "nbformat_minor": 0,
  "metadata": {
    "colab": {
      "provenance": []
    },
    "kernelspec": {
      "name": "python3",
      "display_name": "Python 3"
    },
    "language_info": {
      "name": "python"
    }
  },
  "cells": [
    {
      "cell_type": "markdown",
      "source": [
        "##Bag of words "
      ],
      "metadata": {
        "id": "__dqTzYMJ34H"
      }
    },
    {
      "cell_type": "code",
      "source": [
        "from sklearn.feature_extraction.text import CountVectorizer"
      ],
      "metadata": {
        "id": "0Fl90eHHJkj4"
      },
      "execution_count": 2,
      "outputs": []
    },
    {
      "cell_type": "code",
      "source": [
        "sents = ['coronavirus is a highly infectious disease',\n",
        "   'coronavirus affects older people the most',\n",
        "   'older people are at high risk due to this disease']"
      ],
      "metadata": {
        "id": "aULqDUUjJk8O"
      },
      "execution_count": 3,
      "outputs": []
    },
    {
      "cell_type": "code",
      "source": [
        "cv = CountVectorizer()"
      ],
      "metadata": {
        "id": "l_DpIczIJmje"
      },
      "execution_count": 4,
      "outputs": []
    },
    {
      "cell_type": "code",
      "source": [
        "X = cv.fit_transform(sents)\n",
        "X = X.toarray()"
      ],
      "metadata": {
        "id": "cy4y7Q--JoAu"
      },
      "execution_count": 5,
      "outputs": []
    },
    {
      "cell_type": "code",
      "source": [
        "X"
      ],
      "metadata": {
        "colab": {
          "base_uri": "https://localhost:8080/"
        },
        "id": "LXaF_arqJpge",
        "outputId": "dad46c96-70a0-4294-f08c-978fd12c6d2a"
      },
      "execution_count": 6,
      "outputs": [
        {
          "output_type": "execute_result",
          "data": {
            "text/plain": [
              "array([[0, 0, 0, 1, 1, 0, 0, 1, 1, 1, 0, 0, 0, 0, 0, 0, 0],\n",
              "       [1, 0, 0, 1, 0, 0, 0, 0, 0, 0, 1, 1, 1, 0, 1, 0, 0],\n",
              "       [0, 1, 1, 0, 1, 1, 1, 0, 0, 0, 0, 1, 1, 1, 0, 1, 1]])"
            ]
          },
          "metadata": {},
          "execution_count": 6
        }
      ]
    },
    {
      "cell_type": "code",
      "source": [
        "sorted(cv.vocabulary_.keys())"
      ],
      "metadata": {
        "colab": {
          "base_uri": "https://localhost:8080/"
        },
        "id": "59o3u-p8Jsfe",
        "outputId": "4de3dfa6-3292-4c17-ce06-11d04923e2e0"
      },
      "execution_count": 7,
      "outputs": [
        {
          "output_type": "execute_result",
          "data": {
            "text/plain": [
              "['affects',\n",
              " 'are',\n",
              " 'at',\n",
              " 'coronavirus',\n",
              " 'disease',\n",
              " 'due',\n",
              " 'high',\n",
              " 'highly',\n",
              " 'infectious',\n",
              " 'is',\n",
              " 'most',\n",
              " 'older',\n",
              " 'people',\n",
              " 'risk',\n",
              " 'the',\n",
              " 'this',\n",
              " 'to']"
            ]
          },
          "metadata": {},
          "execution_count": 7
        }
      ]
    },
    {
      "cell_type": "code",
      "source": [
        "cv = CountVectorizer(ngram_range=(2,2))"
      ],
      "metadata": {
        "id": "WHy1BMLDJuEO"
      },
      "execution_count": 8,
      "outputs": []
    },
    {
      "cell_type": "code",
      "source": [
        "X = cv.fit_transform(sents)\n",
        "X = X.toarray()"
      ],
      "metadata": {
        "id": "MGHAHaBrJwUd"
      },
      "execution_count": 9,
      "outputs": []
    },
    {
      "cell_type": "code",
      "source": [
        "sorted(cv.vocabulary_.keys())"
      ],
      "metadata": {
        "colab": {
          "base_uri": "https://localhost:8080/"
        },
        "id": "naB0W5WKJ1Ne",
        "outputId": "9eda7a7a-cf29-4711-aaa5-74591e8e4478"
      },
      "execution_count": 10,
      "outputs": [
        {
          "output_type": "execute_result",
          "data": {
            "text/plain": [
              "['affects older',\n",
              " 'are at',\n",
              " 'at high',\n",
              " 'coronavirus affects',\n",
              " 'coronavirus is',\n",
              " 'due to',\n",
              " 'high risk',\n",
              " 'highly infectious',\n",
              " 'infectious disease',\n",
              " 'is highly',\n",
              " 'older people',\n",
              " 'people are',\n",
              " 'people the',\n",
              " 'risk due',\n",
              " 'the most',\n",
              " 'this disease',\n",
              " 'to this']"
            ]
          },
          "metadata": {},
          "execution_count": 10
        }
      ]
    },
    {
      "cell_type": "code",
      "source": [
        "X"
      ],
      "metadata": {
        "colab": {
          "base_uri": "https://localhost:8080/"
        },
        "id": "BR3QU1AvJ2wt",
        "outputId": "0d7815b9-fec2-4097-8a84-13672386afbe"
      },
      "execution_count": 11,
      "outputs": [
        {
          "output_type": "execute_result",
          "data": {
            "text/plain": [
              "array([[0, 0, 0, 0, 1, 0, 0, 1, 1, 1, 0, 0, 0, 0, 0, 0, 0],\n",
              "       [1, 0, 0, 1, 0, 0, 0, 0, 0, 0, 1, 0, 1, 0, 1, 0, 0],\n",
              "       [0, 1, 1, 0, 0, 1, 1, 0, 0, 0, 1, 1, 0, 1, 0, 1, 1]])"
            ]
          },
          "metadata": {},
          "execution_count": 11
        }
      ]
    },
    {
      "cell_type": "markdown",
      "source": [
        "##TFIDF  - Term frequency and inverse document frequency"
      ],
      "metadata": {
        "id": "0efoTXi7Kkwy"
      }
    },
    {
      "cell_type": "code",
      "source": [
        "from sklearn.feature_extraction.text import TfidfVectorizer"
      ],
      "metadata": {
        "id": "vfKvpIbsKnT8"
      },
      "execution_count": 12,
      "outputs": []
    },
    {
      "cell_type": "code",
      "source": [
        "sents = ['coronavirus is a highly infectious disease',\n",
        "   'coronavirus affects older people the most',\n",
        "   'older people are at high risk due to this disease']"
      ],
      "metadata": {
        "id": "boKCCVwqKvNM"
      },
      "execution_count": 13,
      "outputs": []
    },
    {
      "cell_type": "code",
      "source": [
        "tfidf = TfidfVectorizer()"
      ],
      "metadata": {
        "id": "SQJlCRpOKw0c"
      },
      "execution_count": 14,
      "outputs": []
    },
    {
      "cell_type": "code",
      "source": [
        "transformed = tfidf.fit_transform(sents)"
      ],
      "metadata": {
        "id": "wmBZQtHpKyXM"
      },
      "execution_count": 15,
      "outputs": []
    },
    {
      "cell_type": "code",
      "source": [
        "transformed.toarray()"
      ],
      "metadata": {
        "colab": {
          "base_uri": "https://localhost:8080/"
        },
        "id": "J6svVEKIK4Kq",
        "outputId": "6883e6a9-0820-49da-ed9a-0d001b32dddd"
      },
      "execution_count": 16,
      "outputs": [
        {
          "output_type": "execute_result",
          "data": {
            "text/plain": [
              "array([[0.        , 0.        , 0.        , 0.37302199, 0.37302199,\n",
              "        0.        , 0.        , 0.49047908, 0.49047908, 0.49047908,\n",
              "        0.        , 0.        , 0.        , 0.        , 0.        ,\n",
              "        0.        , 0.        ],\n",
              "       [0.45954803, 0.        , 0.        , 0.34949812, 0.        ,\n",
              "        0.        , 0.        , 0.        , 0.        , 0.        ,\n",
              "        0.45954803, 0.34949812, 0.34949812, 0.        , 0.45954803,\n",
              "        0.        , 0.        ],\n",
              "       [0.        , 0.338348  , 0.338348  , 0.        , 0.25732238,\n",
              "        0.338348  , 0.338348  , 0.        , 0.        , 0.        ,\n",
              "        0.        , 0.25732238, 0.25732238, 0.338348  , 0.        ,\n",
              "        0.338348  , 0.338348  ]])"
            ]
          },
          "metadata": {},
          "execution_count": 16
        }
      ]
    },
    {
      "cell_type": "code",
      "source": [
        "import pandas as pd"
      ],
      "metadata": {
        "id": "7K2XMFvCK0Ht"
      },
      "execution_count": 17,
      "outputs": []
    },
    {
      "cell_type": "code",
      "source": [
        "df = pd.DataFrame(transformed[0].T.todense(),\n",
        "    \tindex=tfidf.get_feature_names(), columns=[\"TF-IDF\"])\n",
        "df = df.sort_values('TF-IDF', ascending=False)"
      ],
      "metadata": {
        "colab": {
          "base_uri": "https://localhost:8080/"
        },
        "id": "J7f83sJwK1t9",
        "outputId": "9f024b6b-6020-4829-eef3-8a605db1d59e"
      },
      "execution_count": 18,
      "outputs": [
        {
          "output_type": "stream",
          "name": "stderr",
          "text": [
            "/usr/local/lib/python3.8/dist-packages/sklearn/utils/deprecation.py:87: FutureWarning: Function get_feature_names is deprecated; get_feature_names is deprecated in 1.0 and will be removed in 1.2. Please use get_feature_names_out instead.\n",
            "  warnings.warn(msg, category=FutureWarning)\n"
          ]
        }
      ]
    },
    {
      "cell_type": "code",
      "source": [
        "df"
      ],
      "metadata": {
        "colab": {
          "base_uri": "https://localhost:8080/",
          "height": 582
        },
        "id": "vNcMx0v4K3A9",
        "outputId": "b4f6ef38-3484-4587-d09e-a9fc87e6557f"
      },
      "execution_count": 19,
      "outputs": [
        {
          "output_type": "execute_result",
          "data": {
            "text/plain": [
              "               TF-IDF\n",
              "infectious   0.490479\n",
              "highly       0.490479\n",
              "is           0.490479\n",
              "coronavirus  0.373022\n",
              "disease      0.373022\n",
              "older        0.000000\n",
              "this         0.000000\n",
              "the          0.000000\n",
              "risk         0.000000\n",
              "people       0.000000\n",
              "affects      0.000000\n",
              "most         0.000000\n",
              "are          0.000000\n",
              "high         0.000000\n",
              "due          0.000000\n",
              "at           0.000000\n",
              "to           0.000000"
            ],
            "text/html": [
              "\n",
              "  <div id=\"df-6ae9212e-7c2f-4246-a105-5a56502d567b\">\n",
              "    <div class=\"colab-df-container\">\n",
              "      <div>\n",
              "<style scoped>\n",
              "    .dataframe tbody tr th:only-of-type {\n",
              "        vertical-align: middle;\n",
              "    }\n",
              "\n",
              "    .dataframe tbody tr th {\n",
              "        vertical-align: top;\n",
              "    }\n",
              "\n",
              "    .dataframe thead th {\n",
              "        text-align: right;\n",
              "    }\n",
              "</style>\n",
              "<table border=\"1\" class=\"dataframe\">\n",
              "  <thead>\n",
              "    <tr style=\"text-align: right;\">\n",
              "      <th></th>\n",
              "      <th>TF-IDF</th>\n",
              "    </tr>\n",
              "  </thead>\n",
              "  <tbody>\n",
              "    <tr>\n",
              "      <th>infectious</th>\n",
              "      <td>0.490479</td>\n",
              "    </tr>\n",
              "    <tr>\n",
              "      <th>highly</th>\n",
              "      <td>0.490479</td>\n",
              "    </tr>\n",
              "    <tr>\n",
              "      <th>is</th>\n",
              "      <td>0.490479</td>\n",
              "    </tr>\n",
              "    <tr>\n",
              "      <th>coronavirus</th>\n",
              "      <td>0.373022</td>\n",
              "    </tr>\n",
              "    <tr>\n",
              "      <th>disease</th>\n",
              "      <td>0.373022</td>\n",
              "    </tr>\n",
              "    <tr>\n",
              "      <th>older</th>\n",
              "      <td>0.000000</td>\n",
              "    </tr>\n",
              "    <tr>\n",
              "      <th>this</th>\n",
              "      <td>0.000000</td>\n",
              "    </tr>\n",
              "    <tr>\n",
              "      <th>the</th>\n",
              "      <td>0.000000</td>\n",
              "    </tr>\n",
              "    <tr>\n",
              "      <th>risk</th>\n",
              "      <td>0.000000</td>\n",
              "    </tr>\n",
              "    <tr>\n",
              "      <th>people</th>\n",
              "      <td>0.000000</td>\n",
              "    </tr>\n",
              "    <tr>\n",
              "      <th>affects</th>\n",
              "      <td>0.000000</td>\n",
              "    </tr>\n",
              "    <tr>\n",
              "      <th>most</th>\n",
              "      <td>0.000000</td>\n",
              "    </tr>\n",
              "    <tr>\n",
              "      <th>are</th>\n",
              "      <td>0.000000</td>\n",
              "    </tr>\n",
              "    <tr>\n",
              "      <th>high</th>\n",
              "      <td>0.000000</td>\n",
              "    </tr>\n",
              "    <tr>\n",
              "      <th>due</th>\n",
              "      <td>0.000000</td>\n",
              "    </tr>\n",
              "    <tr>\n",
              "      <th>at</th>\n",
              "      <td>0.000000</td>\n",
              "    </tr>\n",
              "    <tr>\n",
              "      <th>to</th>\n",
              "      <td>0.000000</td>\n",
              "    </tr>\n",
              "  </tbody>\n",
              "</table>\n",
              "</div>\n",
              "      <button class=\"colab-df-convert\" onclick=\"convertToInteractive('df-6ae9212e-7c2f-4246-a105-5a56502d567b')\"\n",
              "              title=\"Convert this dataframe to an interactive table.\"\n",
              "              style=\"display:none;\">\n",
              "        \n",
              "  <svg xmlns=\"http://www.w3.org/2000/svg\" height=\"24px\"viewBox=\"0 0 24 24\"\n",
              "       width=\"24px\">\n",
              "    <path d=\"M0 0h24v24H0V0z\" fill=\"none\"/>\n",
              "    <path d=\"M18.56 5.44l.94 2.06.94-2.06 2.06-.94-2.06-.94-.94-2.06-.94 2.06-2.06.94zm-11 1L8.5 8.5l.94-2.06 2.06-.94-2.06-.94L8.5 2.5l-.94 2.06-2.06.94zm10 10l.94 2.06.94-2.06 2.06-.94-2.06-.94-.94-2.06-.94 2.06-2.06.94z\"/><path d=\"M17.41 7.96l-1.37-1.37c-.4-.4-.92-.59-1.43-.59-.52 0-1.04.2-1.43.59L10.3 9.45l-7.72 7.72c-.78.78-.78 2.05 0 2.83L4 21.41c.39.39.9.59 1.41.59.51 0 1.02-.2 1.41-.59l7.78-7.78 2.81-2.81c.8-.78.8-2.07 0-2.86zM5.41 20L4 18.59l7.72-7.72 1.47 1.35L5.41 20z\"/>\n",
              "  </svg>\n",
              "      </button>\n",
              "      \n",
              "  <style>\n",
              "    .colab-df-container {\n",
              "      display:flex;\n",
              "      flex-wrap:wrap;\n",
              "      gap: 12px;\n",
              "    }\n",
              "\n",
              "    .colab-df-convert {\n",
              "      background-color: #E8F0FE;\n",
              "      border: none;\n",
              "      border-radius: 50%;\n",
              "      cursor: pointer;\n",
              "      display: none;\n",
              "      fill: #1967D2;\n",
              "      height: 32px;\n",
              "      padding: 0 0 0 0;\n",
              "      width: 32px;\n",
              "    }\n",
              "\n",
              "    .colab-df-convert:hover {\n",
              "      background-color: #E2EBFA;\n",
              "      box-shadow: 0px 1px 2px rgba(60, 64, 67, 0.3), 0px 1px 3px 1px rgba(60, 64, 67, 0.15);\n",
              "      fill: #174EA6;\n",
              "    }\n",
              "\n",
              "    [theme=dark] .colab-df-convert {\n",
              "      background-color: #3B4455;\n",
              "      fill: #D2E3FC;\n",
              "    }\n",
              "\n",
              "    [theme=dark] .colab-df-convert:hover {\n",
              "      background-color: #434B5C;\n",
              "      box-shadow: 0px 1px 3px 1px rgba(0, 0, 0, 0.15);\n",
              "      filter: drop-shadow(0px 1px 2px rgba(0, 0, 0, 0.3));\n",
              "      fill: #FFFFFF;\n",
              "    }\n",
              "  </style>\n",
              "\n",
              "      <script>\n",
              "        const buttonEl =\n",
              "          document.querySelector('#df-6ae9212e-7c2f-4246-a105-5a56502d567b button.colab-df-convert');\n",
              "        buttonEl.style.display =\n",
              "          google.colab.kernel.accessAllowed ? 'block' : 'none';\n",
              "\n",
              "        async function convertToInteractive(key) {\n",
              "          const element = document.querySelector('#df-6ae9212e-7c2f-4246-a105-5a56502d567b');\n",
              "          const dataTable =\n",
              "            await google.colab.kernel.invokeFunction('convertToInteractive',\n",
              "                                                     [key], {});\n",
              "          if (!dataTable) return;\n",
              "\n",
              "          const docLinkHtml = 'Like what you see? Visit the ' +\n",
              "            '<a target=\"_blank\" href=https://colab.research.google.com/notebooks/data_table.ipynb>data table notebook</a>'\n",
              "            + ' to learn more about interactive tables.';\n",
              "          element.innerHTML = '';\n",
              "          dataTable['output_type'] = 'display_data';\n",
              "          await google.colab.output.renderOutput(dataTable, element);\n",
              "          const docLink = document.createElement('div');\n",
              "          docLink.innerHTML = docLinkHtml;\n",
              "          element.appendChild(docLink);\n",
              "        }\n",
              "      </script>\n",
              "    </div>\n",
              "  </div>\n",
              "  "
            ]
          },
          "metadata": {},
          "execution_count": 19
        }
      ]
    },
    {
      "cell_type": "markdown",
      "source": [
        "##WORD2VEC"
      ],
      "metadata": {
        "id": "63tC0-RwLHcK"
      }
    },
    {
      "cell_type": "code",
      "source": [
        "#cbow"
      ],
      "metadata": {
        "id": "jjNRT5CILKJd"
      },
      "execution_count": 20,
      "outputs": []
    },
    {
      "cell_type": "code",
      "source": [
        "from gensim import models"
      ],
      "metadata": {
        "id": "vNjC52brLLzc"
      },
      "execution_count": 21,
      "outputs": []
    },
    {
      "cell_type": "code",
      "source": [
        "import gensim.downloader as api\n",
        "\n",
        "wv = api.load('word2vec-google-news-300')\n"
      ],
      "metadata": {
        "id": "0AIu9HQkLQXM"
      },
      "execution_count": 22,
      "outputs": []
    },
    {
      "cell_type": "code",
      "source": [
        "vect = wv['healthy']"
      ],
      "metadata": {
        "id": "iPJSdOQQLZqL"
      },
      "execution_count": 23,
      "outputs": []
    },
    {
      "cell_type": "code",
      "source": [
        "vect"
      ],
      "metadata": {
        "colab": {
          "base_uri": "https://localhost:8080/"
        },
        "id": "xm8aiQd-OdEX",
        "outputId": "484cec0d-858b-4136-fedd-20a43e050ef2"
      },
      "execution_count": 24,
      "outputs": [
        {
          "output_type": "execute_result",
          "data": {
            "text/plain": [
              "array([-0.14550781,  0.24804688, -0.15136719,  0.24609375, -0.14746094,\n",
              "        0.04296875,  0.03515625, -0.01019287,  0.06103516, -0.12597656,\n",
              "       -0.16796875, -0.078125  ,  0.12792969,  0.21777344, -0.08447266,\n",
              "        0.01904297,  0.1484375 ,  0.13085938, -0.14941406,  0.12451172,\n",
              "        0.18847656,  0.09082031, -0.18359375,  0.14453125, -0.10009766,\n",
              "       -0.07714844, -0.3515625 ,  0.09082031,  0.00494385, -0.02148438,\n",
              "       -0.02270508, -0.07080078,  0.19824219, -0.14648438, -0.11376953,\n",
              "        0.08300781, -0.03857422, -0.15136719, -0.15429688,  0.25195312,\n",
              "        0.12988281, -0.2734375 , -0.14550781,  0.03613281, -0.02441406,\n",
              "       -0.05004883,  0.09667969,  0.05786133,  0.13085938,  0.04296875,\n",
              "       -0.06079102, -0.06347656, -0.20703125,  0.08740234,  0.03466797,\n",
              "       -0.06982422,  0.05371094, -0.31445312, -0.12988281, -0.20507812,\n",
              "       -0.08886719,  0.13476562, -0.33984375,  0.09277344,  0.16210938,\n",
              "        0.03271484, -0.05981445,  0.05297852, -0.03295898,  0.03686523,\n",
              "        0.02001953, -0.07080078,  0.13085938,  0.16210938, -0.08789062,\n",
              "       -0.1640625 ,  0.05761719,  0.0201416 , -0.02990723,  0.23046875,\n",
              "        0.0390625 , -0.19824219,  0.07324219,  0.18457031, -0.11376953,\n",
              "       -0.171875  , -0.03149414,  0.33984375,  0.09423828, -0.00558472,\n",
              "        0.02880859, -0.03515625, -0.03540039, -0.24023438, -0.10644531,\n",
              "       -0.109375  ,  0.18652344,  0.3359375 , -0.06298828, -0.10009766,\n",
              "       -0.171875  ,  0.1015625 ,  0.08203125,  0.25      , -0.01135254,\n",
              "       -0.37304688, -0.15039062, -0.15136719,  0.08886719,  0.02990723,\n",
              "       -0.16503906,  0.01989746, -0.29101562, -0.10888672,  0.0625    ,\n",
              "       -0.19628906,  0.13769531,  0.07275391, -0.17578125,  0.09179688,\n",
              "       -0.17480469, -0.12011719,  0.15234375,  0.05004883, -0.14453125,\n",
              "       -0.09960938,  0.13476562,  0.10595703, -0.05639648,  0.12597656,\n",
              "       -0.19726562,  0.1015625 , -0.07568359,  0.0144043 , -0.12402344,\n",
              "        0.00263977,  0.26367188,  0.21191406,  0.21972656,  0.22851562,\n",
              "        0.04321289,  0.11572266,  0.03198242, -0.08789062, -0.10058594,\n",
              "       -0.2734375 ,  0.05395508,  0.01031494,  0.22265625, -0.11962891,\n",
              "        0.07568359,  0.01177979, -0.23046875,  0.33984375, -0.0189209 ,\n",
              "        0.25390625,  0.1484375 , -0.39648438,  0.17871094,  0.00793457,\n",
              "       -0.16113281,  0.30078125,  0.21386719,  0.14648438,  0.19921875,\n",
              "       -0.1015625 , -0.1796875 ,  0.13964844, -0.07763672, -0.25      ,\n",
              "       -0.4765625 , -0.13085938,  0.04711914,  0.05249023,  0.07568359,\n",
              "        0.14550781,  0.24023438,  0.0201416 , -0.04736328,  0.17675781,\n",
              "       -0.12353516, -0.15917969,  0.23828125, -0.13964844, -0.07617188,\n",
              "       -0.00915527, -0.26171875, -0.19335938, -0.01434326, -0.16015625,\n",
              "       -0.11962891, -0.08349609, -0.03491211, -0.22363281, -0.04760742,\n",
              "        0.00576782, -0.02563477,  0.00643921, -0.19433594, -0.15917969,\n",
              "        0.00077438,  0.03125   ,  0.02893066, -0.16210938, -0.1328125 ,\n",
              "       -0.26367188, -0.0378418 , -0.3203125 ,  0.12011719, -0.24414062,\n",
              "       -0.42578125,  0.23925781, -0.16796875,  0.20800781,  0.09472656,\n",
              "        0.21191406,  0.24609375,  0.04101562, -0.07910156,  0.11376953,\n",
              "        0.24707031,  0.0703125 , -0.04711914, -0.15332031,  0.125     ,\n",
              "       -0.19238281, -0.01611328, -0.24902344, -0.11132812,  0.34375   ,\n",
              "        0.00288391,  0.0043335 ,  0.18261719, -0.10888672, -0.02246094,\n",
              "       -0.078125  ,  0.01452637,  0.18164062, -0.07666016,  0.13378906,\n",
              "        0.10791016,  0.01696777, -0.06982422, -0.1484375 ,  0.13867188,\n",
              "        0.13574219,  0.03295898, -0.12304688, -0.09960938,  0.03222656,\n",
              "       -0.12597656, -0.08203125,  0.27734375, -0.04272461,  0.20800781,\n",
              "       -0.16894531, -0.1640625 , -0.10986328, -0.20898438,  0.13476562,\n",
              "        0.23046875,  0.03198242, -0.04663086,  0.16796875,  0.23632812,\n",
              "        0.17871094, -0.18164062, -0.07128906, -0.00157928,  0.05639648,\n",
              "        0.0010376 ,  0.07666016,  0.16796875, -0.13183594, -0.0559082 ,\n",
              "       -0.03588867, -0.06298828,  0.0027771 ,  0.078125  ,  0.17578125,\n",
              "        0.17480469,  0.08886719, -0.23925781, -0.23242188,  0.06005859,\n",
              "       -0.11767578, -0.02404785, -0.0072937 ,  0.33789062,  0.08496094,\n",
              "       -0.10498047,  0.10205078,  0.02172852, -0.2578125 , -0.10644531,\n",
              "        0.17773438, -0.25195312, -0.00289917,  0.14355469, -0.12792969],\n",
              "      dtype=float32)"
            ]
          },
          "metadata": {},
          "execution_count": 24
        }
      ]
    },
    {
      "cell_type": "code",
      "source": [
        "vect.shape"
      ],
      "metadata": {
        "colab": {
          "base_uri": "https://localhost:8080/"
        },
        "id": "_NUEAm5aQL9n",
        "outputId": "4a683a78-17e8-40c9-cb05-851a405d9235"
      },
      "execution_count": 28,
      "outputs": [
        {
          "output_type": "execute_result",
          "data": {
            "text/plain": [
              "(300,)"
            ]
          },
          "metadata": {},
          "execution_count": 28
        }
      ]
    },
    {
      "cell_type": "code",
      "source": [
        "sents = ['coronavirus is a highly infectious disease',\n",
        "   'coronavirus affects older people the most',\n",
        "   'older people are at high risk due to this disease']"
      ],
      "metadata": {
        "id": "32aC8qv6OiyZ"
      },
      "execution_count": 37,
      "outputs": []
    },
    {
      "cell_type": "code",
      "source": [
        "sents = [sent.split() for sent in sents]"
      ],
      "metadata": {
        "id": "6cKuL65GOk_Z"
      },
      "execution_count": 38,
      "outputs": []
    },
    {
      "cell_type": "code",
      "source": [
        "sents"
      ],
      "metadata": {
        "colab": {
          "base_uri": "https://localhost:8080/"
        },
        "id": "-8eP9BngOmw5",
        "outputId": "ddf2ef7f-3309-45fc-c314-a42555fa33c9"
      },
      "execution_count": 39,
      "outputs": [
        {
          "output_type": "execute_result",
          "data": {
            "text/plain": [
              "[['coronavirus', 'is', 'a', 'highly', 'infectious', 'disease'],\n",
              " ['coronavirus', 'affects', 'older', 'people', 'the', 'most'],\n",
              " ['older',\n",
              "  'people',\n",
              "  'are',\n",
              "  'at',\n",
              "  'high',\n",
              "  'risk',\n",
              "  'due',\n",
              "  'to',\n",
              "  'this',\n",
              "  'disease']]"
            ]
          },
          "metadata": {},
          "execution_count": 39
        }
      ]
    }
  ]
}